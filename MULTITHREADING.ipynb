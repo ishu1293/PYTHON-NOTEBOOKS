{
 "cells": [
  {
   "cell_type": "markdown",
   "metadata": {},
   "source": [
    "## MULTITHREADING\n"
   ]
  },
  {
   "cell_type": "code",
   "execution_count": null,
   "metadata": {},
   "outputs": [],
   "source": [
    "#MULTITASKING\n",
    "\n",
    "# TYPES :\n",
    "# PROCESS BASED MULTITASING : \n",
    "# THREAD BASED MULTITASKING\n",
    "\n",
    "\n",
    "# PROCESS BASED MULTITASING : EXECUTING MULTIPLE TASKS SIMULTNEOUSLY BUT EACH TASK IS SEPRATE AND INDEPENDENT PROCESS\n",
    "# EACH PROCESS IN ITSELF IS A SEPARATE PROGRAM\n",
    "# TYPING A PYTHON PROGRAM IN THE EDITOR \n",
    "# LISTEING AUDIO SONGS FROM THE SAME SYSTEM \n",
    "# DOWNLOADING NEW SONGS FROM THE INTERNET\n",
    "# BEST SUITED AT OS LEVEL\n",
    "\n",
    "\n",
    "# THREAD BASED MUTILTASKING\n",
    "# EACH TAKS IS AN INDEPENDENT PART OF SAME PROGRAM\n",
    "# ONLY IN ONE PROGRAM/PROCESS MULTIPLE PARTS RUN SIMULTANEOUSLY\n",
    " # THREAD:\n",
    "#  A INDEPENDENT PART OF PROGRAM\n",
    "# IT IS A PYTHON OBJECT\n",
    "# A FLOW OF  EXECUTION IS CONSIDERED AS A THREAD,FOR EVERY THRREAD  THERE IS A SEPRATE JOB THAT IS AVAIABLE\n",
    "\n",
    "# EXAMPLE OF MULTITHREADING\n",
    "#  SUPPOSE THERE IS ONE PROGRAM TO BILL TWO CUSTOMER THAT CONTAINS 10000 LINES AND TAKES 15 MIN TO EXECUTE \n",
    "#  IF THEY EXECUTE ONE BY ONE FOR EACH CUSTOMER THEN IT WILL TAKE LOT OF TIME \n",
    "#  SUPPOSE INTIAL 5000 LINES ARE ASSOCIATED WITH CUSTOMER 1 AND  NEXT 5000 LINES ARE ASSCIATED WITH CUTOMER 2\n",
    "# IF WE RUN FIRST 5000 LINES AND NEXT 5000 LINES SIMULTANESLY FOR EACH CUSTOMER THEN IT WILL TAKE LESS TIME\n",
    "# RUNNING FIRST 5000 IN THREAD ONE AND NEXT 5000 IN THREAD 2 IS CALLED MULTITHREADING\n",
    "\n",
    "# MULTIPLE PEOPLE CAN ACCESS GMAIL SERVER BY MULTITHREADING ONLY.THE SERVER CREATED THREAD FOR EACH USER\n",
    "\n",
    "\n",
    "# PYTHON PROVIDE INBUILT MODULE TO CREATE MULTITHREAED PROGRAM\n",
    "#  MODULE NAME ==> \"THREADING\"\n",
    "\n",
    "# EVERY PYTHON PROGTAM BY DEFAULT CONTAINS ONLY ONE THREAD\n",
    "\n",
    "# print(\"statement\")\n",
    "# print(\"statement\")\n",
    "# print(\"statement\")\n",
    "# print(\"statement\")\n",
    "# print(\"statement\")\n",
    "# print(\"statement\")\n",
    "\n",
    "#  ALL THESE PRINT STATEMENT WILL BE PRINTED ONE BY ONE BY \"MAIN\" THREAD THAT IS ONLY AVAILABLE THEREAD FOR THIS PROGRAM \n",
    "# MAIN THREAD IS RESPONSIBLE TO CREATE & STOP CHILD THREAD BUT THERE IS NO  DEPENDENCY\n",
    "#  IF CHILD THREAD STOP MAIN THREAD WILL CONTINUE THE OPERATION IF MAIN THREAD STOP CHILD THREAD WILL COMPLETE ITS ECECTION\n",
    "# THERE ARE 3 WAY TO CREATE THE THREAD\n",
    "\n",
    "# 1. CRATEING A THREAD WITHOUT ANY CLASS\n",
    "# 2. CREATING A THREAD BY EXTENDING THREAD CLASS\n",
    "# 3. CRATING A THRAD WITHOUT EXTENDING THREAD CLASS\n",
    "\n",
    "# BENEFITS :THREAD RUN SIMULTANEOSLY TO IMPROVE THE PERFORMANCE \n",
    "# THERE IS NO ORDER FOR THREAD RUN ONLY THE JOBS SHOULD BE INDEPENDENT AND CHECK IF THE JOB IS COMPLETED \n",
    "# "
   ]
  },
  {
   "cell_type": "code",
   "execution_count": 6,
   "metadata": {},
   "outputs": [
    {
     "name": "stdout",
     "output_type": "stream",
     "text": [
      "THE CURRENT EXECUTING THREAD IS : MainThread\n",
      "statement 1\n",
      "statement 2\n",
      "statement 3\n",
      "statement 4\n",
      "statement 5\n",
      "statement 6\n",
      "statement 7\n",
      "statement 8\n"
     ]
    }
   ],
   "source": [
    "import threading\n",
    "print(\"THE CURRENT EXECUTING THREAD IS :\",threading.current_thread().getName())  # current_thread() function  return the current thread running on this we used getName() method to print  the thread name\n",
    "print(\"statement 1\")\n",
    "print(\"statement 2\")\n",
    "print(\"statement 3\")\n",
    "print(\"statement 4\")\n",
    "print(\"statement 5\")\n",
    "print(\"statement 6\")\n",
    "print(\"statement 7\")\n",
    "print(\"statement 8\")"
   ]
  },
  {
   "cell_type": "code",
   "execution_count": null,
   "metadata": {},
   "outputs": [],
   "source": [
    "# CREATIN THREAD WITHOUT ANY CLASS (FUNCTIONAL PROGRAMING WAY)\n",
    "\n",
    "from  threading  import *\n",
    "\n",
    "def display():                # THIS WILL BE EXECUTED BY  CHILD THREAD\n",
    "    for i in range(10):\n",
    "        print(\"CHILD THREAD \")  \n",
    "        \n",
    "t=Thread(target=display) # creating of thread object to execute display\n",
    "# Thread is the predefined call in the thrading module ,so we are crating the Thread object\n",
    "t.start()\n",
    "\n",
    "for i in range(10):          #THIS WILL BE EXECUTED BY MAIN THREAD\n",
    "    print(\"MAIN THREAD\")\n",
    "\n",
    "# THE OUTPUT IS MIXED CHILD THREAD AND MAIN THREAD BECAUSE BOTH THREAD RUNNING SIMULTANEOUSLY "
   ]
  },
  {
   "cell_type": "code",
   "execution_count": 38,
   "metadata": {},
   "outputs": [
    {
     "name": "stdout",
     "output_type": "stream",
     "text": [
      "child therad name : Thread-36\n",
      "child therad name : Thread-36\n",
      "child therad name : Thread-36\n",
      "child therad name : Thread-36\n",
      "child therad name : Thread-36\n",
      "child therad name : Thread-36\n",
      "child therad name : Thread-36\n",
      "child therad name : Thread-36\n",
      "child therad name : Thread-36\n",
      "child therad name : Thread-36\n",
      "main therad name : MainThread\n",
      "main therad name : MainThread\n",
      "main therad name : MainThread\n",
      "main therad name : MainThread\n",
      "main therad name : MainThread\n",
      "main therad name : MainThread\n",
      "main therad name : MainThread\n",
      "main therad name : MainThread\n",
      "main therad name : MainThread\n",
      "main therad name : MainThread\n"
     ]
    }
   ],
   "source": [
    "# SAME PROGRAM TO CHECK THE THREAD NAME\n",
    "from  threading  import *\n",
    "\n",
    "def display():                # THIS WILL BE EXECUTED BY  CHILD THREAD\n",
    "    for i in range(10):\n",
    "        print(\"child therad name :\",threading.current_thread().getName())  \n",
    "        \n",
    "t=Thread(target=display) # creating of thread object to execute display\n",
    "# Thread is the predefined call in the thrading module ,so we are crating the Thread object\n",
    "t.start()\n",
    "\n",
    "for i in range(10):          #THIS WILL BE EXECUTED BY MAIN THREAD\n",
    "    print(\"main therad name :\",threading.current_thread().getName())\n",
    "\n",
    "# THE OUTPUT IS MIXED CHILD THREAD AND MAIN THREAD BECAUSE BOTH THREAD RUNNING SIMULTANEOUSLY "
   ]
  },
  {
   "cell_type": "code",
   "execution_count": 44,
   "metadata": {},
   "outputs": [
    {
     "name": "stdout",
     "output_type": "stream",
     "text": [
      "CHILD THREADMAIN THREAD\n",
      "MAIN THREAD\n",
      "MAIN THREAD\n",
      "MAIN THREAD\n",
      "MAIN THREAD\n",
      "MAIN THREAD\n",
      "MAIN THREAD\n",
      "MAIN THREAD\n",
      "MAIN THREAD\n",
      "MAIN THREAD\n",
      "\n",
      "CHILD THREAD\n",
      "CHILD THREAD\n",
      "CHILD THREAD\n",
      "CHILD THREAD\n",
      "CHILD THREAD\n",
      "CHILD THREAD\n",
      "CHILD THREAD\n",
      "CHILD THREAD\n",
      "CHILD THREAD\n"
     ]
    }
   ],
   "source": [
    "# OOPS STYLE TO DEFINE THRADING ===> BY DEFINING CALSS\n",
    "\n",
    "from threading import * \n",
    "class mythread(Thread):  # MYTHREAD IS THE CHILD CLASS OF THREAD \n",
    "    def run(self):  # THIS IS USED TO OVERWRITE THE RUN METHOD,IT IS INSTANCE METHOD SO SELF IS REQUIRED\n",
    "# ANY CODE CAN BE WRITTEN HERE AND IT WILL BE EXECUTED BY CHILD THREAD \n",
    "        for i in range(10):\n",
    "            print(\"CHILD THREAD\")\n",
    "\n",
    "t= mythread() # this line executed by main thread\n",
    "t.start() # child thread started by mian thread\n",
    "\n",
    "for i in range(10):\n",
    "    print(\"MAIN THREAD\")"
   ]
  },
  {
   "cell_type": "code",
   "execution_count": 46,
   "metadata": {},
   "outputs": [
    {
     "name": "stdout",
     "output_type": "stream",
     "text": [
      "CHILD THREADMAIN THREAD\n",
      "MAIN THREAD\n",
      "MAIN THREAD\n",
      "MAIN THREAD\n",
      "MAIN THREAD\n",
      "MAIN THREAD\n",
      "MAIN THREAD\n",
      "MAIN THREAD\n",
      "MAIN THREAD\n",
      "MAIN THREAD\n",
      "\n",
      "CHILD THREAD\n",
      "CHILD THREAD\n",
      "CHILD THREAD\n",
      "CHILD THREAD\n",
      "CHILD THREAD\n",
      "CHILD THREAD\n",
      "CHILD THREAD\n",
      "CHILD THREAD\n",
      "CHILD THREAD\n"
     ]
    }
   ],
   "source": [
    "# CREATING OF THREAD WITHOUT EXTENDING  THE THREAD CLASS ANY \n",
    "\n",
    "\n",
    "from threading import * \n",
    "class test:   \n",
    "    def m1(self):\n",
    "        for i in range(10):\n",
    "            print(\"CHILD THREAD\")\n",
    "\n",
    "t=test() # creating test class object without this we can not opearte\n",
    "t=Thread(target=t.m1) #crating the child thread object\n",
    "t.start() # starting the child thread\n",
    "\n",
    "for i in range(10):\n",
    "    print(\"MAIN THREAD\")\n",
    "\n"
   ]
  },
  {
   "cell_type": "code",
   "execution_count": 3,
   "metadata": {},
   "outputs": [
    {
     "name": "stdout",
     "output_type": "stream",
     "text": [
      "Double Value : 2\n",
      "Double Value : 4\n",
      "Double Value : 6\n",
      "Double Value : 8\n",
      "Double Value : 10\n",
      "Double Value : 12\n",
      "square value:  1\n",
      "square value:  4\n",
      "square value:  9\n",
      "square value:  16\n",
      "square value:  25\n",
      "square value:  36\n",
      "total time taken : 12.029567956924438\n"
     ]
    }
   ],
   "source": [
    "# program without multithreading concept\n",
    "import time\n",
    "def doubles(number):\n",
    "    for n in numbers:\n",
    "        time.sleep(1)\n",
    "        print(\"Double Value :\",2*n)\n",
    "        \n",
    "def square(numbers):\n",
    "    for n in numbers:\n",
    "        time.sleep(1)\n",
    "        print(\"square value: \",n*n)\n",
    "        \n",
    "numbers=[1,2,3,4,5,6]\n",
    "begintime=time.time()\n",
    "doubles(numbers)\n",
    "square(numbers)\n",
    "endtime=time.time()\n",
    "print(\"total time taken :\",endtime-begintime)"
   ]
  },
  {
   "cell_type": "code",
   "execution_count": 5,
   "metadata": {},
   "outputs": [
    {
     "name": "stdout",
     "output_type": "stream",
     "text": [
      "Double Value :Double Value : 2\n",
      " 2\n",
      "Double Value :Double Value : 4\n",
      " 4\n",
      "Double Value :Double Value : 6\n",
      " 6\n",
      "Double Value :Double Value : 8\n",
      " 8\n",
      "Double Value :Double Value : 10\n",
      " 10\n",
      "Double Value :Double Value : 12\n",
      " 12\n",
      "total time taken : 6.044004678726196\n"
     ]
    }
   ],
   "source": [
    "# same program with multithreading \n",
    "import time\n",
    "from threading import *\n",
    "def doubles(number):\n",
    "    for n in numbers:\n",
    "        time.sleep(1)\n",
    "        print(\"Double Value :\",2*n)\n",
    "        \n",
    "def square(numbers):\n",
    "    for n in numbers:\n",
    "        time.sleep(1)\n",
    "        print(\"square value: \",n*n)\n",
    "        \n",
    "numbers=[1,2,3,4,5,6]\n",
    "begintime=time.time()\n",
    "double_object=Thread(target=doubles,args=(numbers,))  # args means argumetn of function entered inside a tuple\n",
    "square_object=Thread(target=doubles,args=(numbers,))\n",
    "double_object.start()\n",
    "square_object.start()\n",
    "\n",
    "\n",
    "double_object.join() # this is defined to stop main thread to execute until double object execution completes\n",
    "square_object.join()# this is defined to stop main thread to execute until square object execution completes\n",
    "\n",
    "endtime=time.time()\n",
    "print(\"total time taken :\",endtime-begintime) # this will be printed by main thread so it will print immidiately so it wont print time correctly only zero secod will be shown to coorect that we will define .join()  \n",
    "\n",
    "# here time is reduce to 6 sec from 12 second\n",
    "# whole program is executed by the main thread"
   ]
  },
  {
   "cell_type": "markdown",
   "metadata": {},
   "source": [
    "### GETTING AND SETTING NAME OF THREAD"
   ]
  },
  {
   "cell_type": "code",
   "execution_count": null,
   "metadata": {},
   "outputs": [],
   "source": [
    "# TO GET NAME :\n",
    "# t.getName()  # BY METHOD\n",
    "# t.name        # BY PROPERTY\n",
    "\n",
    "# TO SET NAME :\n",
    "# t.name=\"ishu\" # BY PROPERTY\n",
    "# t.setName(\"ishu\")  # BY METHOD"
   ]
  },
  {
   "cell_type": "code",
   "execution_count": 13,
   "metadata": {},
   "outputs": [
    {
     "name": "stdout",
     "output_type": "stream",
     "text": [
      "ishu thread\n",
      "ishu thread\n"
     ]
    }
   ],
   "source": [
    "from threading import *\n",
    "print(current_thread().getName())\n",
    "current_thread().setName(\"ishu thread\")\n",
    "print(current_thread().getName())"
   ]
  },
  {
   "cell_type": "markdown",
   "metadata": {},
   "source": [
    "### THREAD IDENTIFICATION NUMBER"
   ]
  },
  {
   "cell_type": "code",
   "execution_count": null,
   "metadata": {},
   "outputs": [],
   "source": [
    "# WHENEVER WE CREATE A THEREAD A PARTICULAR IDENTIFICATION IS PROVODED TO THREAD BY PYTHON\n",
    "# ident ==> used to print the identification number"
   ]
  },
  {
   "cell_type": "code",
   "execution_count": 17,
   "metadata": {},
   "outputs": [
    {
     "name": "stdout",
     "output_type": "stream",
     "text": [
      "child threadmain thread ientifiaction number\n",
      " 204\n",
      "child thread ientifiaction number 8484\n"
     ]
    }
   ],
   "source": [
    "from threading import *\n",
    "def test():\n",
    "    print(\"child thread\")\n",
    "t=Thread(target=test)\n",
    "t.start()\n",
    "\n",
    "print(\"main thread ientifiaction number\",current_thread().ident)\n",
    "print(\"child thread ientifiaction number\",t.ident)"
   ]
  },
  {
   "cell_type": "markdown",
   "metadata": {},
   "source": [
    "### TO CHECK EXECUTING THREADS IN THE PROGRAM"
   ]
  },
  {
   "cell_type": "code",
   "execution_count": null,
   "metadata": {},
   "outputs": [],
   "source": [
    "# active_count() ==>THIS METHOD IS USED TO CHECK ACTIVE THREAD IN THE PROGRAM"
   ]
  },
  {
   "cell_type": "code",
   "execution_count": 23,
   "metadata": {},
   "outputs": [
    {
     "name": "stdout",
     "output_type": "stream",
     "text": [
      "THHE NUMBER OF ACTIVE THEREAD IS:  5\n",
      "CHILD-THREAD-1 started.....\n",
      "CHILD-THREAD-1 started.....\n",
      "CHILD-THREAD-1 THE NUMBER OF ACTIVE THEREAD IS: started.....\n",
      " 8\n",
      "CHILD-THREAD-1  ended...\n",
      "CHILD-THREAD-1  ended...\n",
      "CHILD-THREAD-1  ended...\n",
      "THE NUMBER OF ACTIVE THEREAD IS:  5\n"
     ]
    }
   ],
   "source": [
    "from threading import *\n",
    "import time \n",
    "def display():\n",
    "    print(current_thread().name,\"started.....\")\n",
    "    time.sleep(3)\n",
    "    print(current_thread().name,\" ended...\")\n",
    "    \n",
    "print(\"THHE NUMBER OF ACTIVE THEREAD IS: \", active_count())\n",
    "\n",
    "t1=Thread(target=display,name=\"CHILD-THREAD-1\") # WE CAN ALSO GIVE NAME IN THE THREAD CRATING OBJECT\n",
    "t2=Thread(target=display,name=\"CHILD-THREAD-1\")\n",
    "t3=Thread(target=display,name=\"CHILD-THREAD-1\")\n",
    "\n",
    "t1.start()\n",
    "t2.start()\n",
    "t3.start()\n",
    "\n",
    "print(\"THE NUMBER OF ACTIVE THEREAD IS: \",active_count())\n",
    "time.sleep(10)\n",
    "print(\"THE NUMBER OF ACTIVE THEREAD IS: \",active_count())"
   ]
  },
  {
   "cell_type": "markdown",
   "metadata": {},
   "source": [
    "### TO GET LIST OF CURRETN EXECUTING THREAD"
   ]
  },
  {
   "cell_type": "code",
   "execution_count": null,
   "metadata": {},
   "outputs": [],
   "source": [
    "# enumerate() ==> THIS METHOD IS USED TO GET RUNNING THREAD LIST"
   ]
  },
  {
   "cell_type": "code",
   "execution_count": 22,
   "metadata": {},
   "outputs": [
    {
     "name": "stdout",
     "output_type": "stream",
     "text": [
      "THHE NUMBER OF ACTIVE THEREAD IS:  5\n",
      "CHILD-THREAD-1 started.....\n",
      "CHILD-THREAD-2 started.....\n",
      "CHILD-THREAD-3 started.....\n",
      "THE THREAD NAME Thread-10\n",
      "THE THREAD identification numbet 8484\n",
      "\n",
      "THE THREAD NAME Thread-10\n",
      "THE THREAD identification numbet 8484\n",
      "\n",
      "THE THREAD NAME Thread-10\n",
      "THE THREAD identification numbet 8484\n",
      "\n",
      "THE THREAD NAME Thread-10\n",
      "THE THREAD identification numbet 8484\n",
      "\n",
      "THE THREAD NAME Thread-10\n",
      "THE THREAD identification numbet 8484\n",
      "\n",
      "THE THREAD NAME Thread-10\n",
      "THE THREAD identification numbet 8484\n",
      "\n",
      "THE THREAD NAME Thread-10\n",
      "THE THREAD identification numbet 8484\n",
      "\n",
      "THE THREAD NAME Thread-10\n",
      "THE THREAD identification numbet 8484\n",
      "\n",
      "CHILD-THREAD-1  ended...\n",
      "CHILD-THREAD-3CHILD-THREAD-2  ended...\n",
      "  ended...\n"
     ]
    }
   ],
   "source": [
    "from threading import *\n",
    "import time \n",
    "def display():\n",
    "    print(current_thread().name,\"started.....\")\n",
    "    time.sleep(3)\n",
    "    print(current_thread().name,\" ended...\")\n",
    "    \n",
    "print(\"THHE NUMBER OF ACTIVE THEREAD IS: \",active_count())\n",
    "\n",
    "t1=Thread(target=display,name=\"CHILD-THREAD-1\") # WE CAN ALSO GIVE NAME IN THE THREAD CRATING OBJECT\n",
    "t2=Thread(target=display,name=\"CHILD-THREAD-2\")\n",
    "t3=Thread(target=display,name=\"CHILD-THREAD-3\")\n",
    "\n",
    "t1.start()\n",
    "t2.start()\n",
    "t3.start()\n",
    "\n",
    "l=enumerate()\n",
    "for i in l:\n",
    "    print(\"THE THREAD NAME\",t.name)\n",
    "    print(\"THE THREAD identification numbet\",t.ident)\n",
    "    print()"
   ]
  },
  {
   "cell_type": "markdown",
   "metadata": {},
   "source": [
    "### TO CHECK IF THREAD IS ALIVE OR NOT"
   ]
  },
  {
   "cell_type": "code",
   "execution_count": null,
   "metadata": {},
   "outputs": [],
   "source": [
    "# .isAlive()==> this mehtod is used to check if thread is alive or not"
   ]
  },
  {
   "cell_type": "code",
   "execution_count": 29,
   "metadata": {},
   "outputs": [
    {
     "name": "stdout",
     "output_type": "stream",
     "text": [
      "CHILD-THREAD-1CHILD-THREAD-2 started.....\n",
      " CHILD-THREAD-1 is alive  True\n",
      "CHILD-THREAD-2 is alive  True\n",
      "started.....\n",
      "CHILD-THREAD-2CHILD-THREAD-1  ended...\n",
      "  ended...\n",
      "CHILD-THREAD-1 is alive  False\n",
      "\n",
      "CHILD-THREAD-2 is alive  False\n"
     ]
    }
   ],
   "source": [
    "from threading import *\n",
    "import time \n",
    "def display():\n",
    "    print(current_thread().name,\"started.....\")\n",
    "    time.sleep(3)\n",
    "    print(current_thread().name,\" ended...\")\n",
    "    \n",
    "\n",
    "t1=Thread(target=display,name=\"CHILD-THREAD-1\") # WE CAN ALSO GIVE NAME IN THE THREAD CRATING OBJECT\n",
    "t2=Thread(target=display,name=\"CHILD-THREAD-2\")\n",
    "\n",
    "\n",
    "t1.start()\n",
    "t2.start()\n",
    "\n",
    "print(t1.name,\"is alive \",t1.isAlive())\n",
    "print(t2.name,\"is alive \",t2.isAlive())\n",
    "\n",
    "time.sleep(10)\n",
    "\n",
    "print(t1.name,\"is alive \",t1.isAlive())\n",
    "print(t2.name,\"is alive \",t2.isAlive())"
   ]
  },
  {
   "cell_type": "markdown",
   "metadata": {},
   "source": [
    "###  THE JOIN METHOD"
   ]
  },
  {
   "cell_type": "code",
   "execution_count": null,
   "metadata": {},
   "outputs": [],
   "source": [
    "### JOIN()  \n",
    "\n",
    "# IF A THREAD WANTS TO WAIT UNTIL COMPLETION OF OTHER THREAD THEN WE SHOULD GO FOR JOIN METHOD\n",
    "#   IF THERE ARE THREE THREADS:\n",
    "#   T1       T2            T3\n",
    "#          T1.JOIN()      T2.JOIN()\n",
    "\n",
    "# IF I WRITE T1.JOIN() IN CODING OF T2 THEN T2 WILL WAIT TILL T1 IS COMPLTED\n",
    "\n",
    "# THE OTHER T2 AND T3 SEEMS TO BE WAITING FOR T1 AND T2 TO COMPLETE RESPECTIVILY\n",
    "# BUT ACTUALLY THEY ARE NOT WAITING T2 AND T3 ARE EXECTED IN THE SAME TIME BUT DO NOT PRINT THE RESULT TILL THE OTEHR ONE IS COMPLETED\n",
    "# ONCE THE OTHER ONE IS COMPLTETED THE WAITING ONE IMMIDIATELY PRINT ALL THE RESULT WITHOUT ANY DELAY AS ALL CALCUTAION IS DONE IN THE SAME TIME AS THE OTHER FUCNTIONTHEY WERE WAITING FOR TO COMPLETE\n"
   ]
  },
  {
   "cell_type": "code",
   "execution_count": 31,
   "metadata": {},
   "outputs": [
    {
     "name": "stdout",
     "output_type": "stream",
     "text": [
      "Seeta thread\n",
      "Seeta thread\n",
      "Seeta thread\n",
      "Seeta thread\n",
      "Seeta thread\n",
      "Seeta thread\n",
      "Seeta thread\n",
      "Seeta thread\n",
      "Seeta thread\n",
      "Seeta thread\n",
      "Rama Thread\n",
      "Rama Thread\n",
      "Rama Thread\n",
      "Rama Thread\n",
      "Rama Thread\n",
      "Rama Thread\n",
      "Rama Thread\n",
      "Rama Thread\n",
      "Rama Thread\n",
      "Rama Thread\n"
     ]
    }
   ],
   "source": [
    "from threading import *\n",
    "import time\n",
    "def display():\n",
    "    for i in range(10):\n",
    "        print(\"Seeta thread\")\n",
    "        time.sleep(2)\n",
    "t=Thread(target=display)\n",
    "t.start()\n",
    "\n",
    "t.join()\n",
    "for i in range(10): # this is being exectuted along wiht the child thread but wont print along with it\n",
    "    print(\"Rama Thread\") # this will be printed 10 times immidiately as child thread completes its execution\n"
   ]
  },
  {
   "cell_type": "code",
   "execution_count": 32,
   "metadata": {},
   "outputs": [
    {
     "name": "stdout",
     "output_type": "stream",
     "text": [
      "Seeta thread\n",
      "Seeta thread\n",
      "Seeta thread\n",
      "Seeta thread\n",
      "Seeta thread\n",
      "Rama Thread\n",
      "Rama Thread\n",
      "Rama Thread\n",
      "Rama Thread\n",
      "Rama Thread\n",
      "Rama Thread\n",
      "Rama Thread\n",
      "Rama Thread\n",
      "Rama Thread\n",
      "Rama Thread\n",
      "Seeta thread\n",
      "Seeta thread\n",
      "Seeta thread\n",
      "Seeta thread\n",
      "Seeta thread\n"
     ]
    }
   ],
   "source": [
    "# SAME PROGRAM WITH INPUT IN JOIN() METHOD\n",
    "from threading import *\n",
    "import time\n",
    "def display():\n",
    "    for i in range(10):\n",
    "        print(\"Seeta thread\")\n",
    "        time.sleep(2)\n",
    "t=Thread(target=display)\n",
    "t.start()\n",
    "\n",
    "t.join(10)# THIS INPUT WILL PRINT AFTER 10 SECONDS WONT WAIT FOR THE CHILD THREAD EXECUTION TO BE COMPLETED\n",
    "for i in range(10): # this is being exectuted along wiht the child thread but wont print along with it\n",
    "    print(\"Rama Thread\") # this will be printed 10 times immidiately as child thread completes its execution\n"
   ]
  },
  {
   "cell_type": "markdown",
   "metadata": {},
   "source": [
    "### DEMON THREAD,NON-DEMON THERADS"
   ]
  },
  {
   "cell_type": "code",
   "execution_count": null,
   "metadata": {},
   "outputs": [],
   "source": []
  },
  {
   "cell_type": "code",
   "execution_count": null,
   "metadata": {},
   "outputs": [],
   "source": []
  },
  {
   "cell_type": "code",
   "execution_count": null,
   "metadata": {},
   "outputs": [],
   "source": []
  },
  {
   "cell_type": "code",
   "execution_count": null,
   "metadata": {},
   "outputs": [],
   "source": []
  },
  {
   "cell_type": "code",
   "execution_count": null,
   "metadata": {},
   "outputs": [],
   "source": []
  },
  {
   "cell_type": "code",
   "execution_count": null,
   "metadata": {},
   "outputs": [],
   "source": []
  },
  {
   "cell_type": "code",
   "execution_count": null,
   "metadata": {},
   "outputs": [],
   "source": []
  },
  {
   "cell_type": "code",
   "execution_count": null,
   "metadata": {},
   "outputs": [],
   "source": []
  },
  {
   "cell_type": "code",
   "execution_count": null,
   "metadata": {},
   "outputs": [],
   "source": []
  },
  {
   "cell_type": "code",
   "execution_count": null,
   "metadata": {},
   "outputs": [],
   "source": []
  },
  {
   "cell_type": "code",
   "execution_count": null,
   "metadata": {},
   "outputs": [],
   "source": []
  },
  {
   "cell_type": "code",
   "execution_count": null,
   "metadata": {},
   "outputs": [],
   "source": []
  },
  {
   "cell_type": "code",
   "execution_count": null,
   "metadata": {},
   "outputs": [],
   "source": []
  },
  {
   "cell_type": "code",
   "execution_count": null,
   "metadata": {},
   "outputs": [],
   "source": []
  },
  {
   "cell_type": "code",
   "execution_count": null,
   "metadata": {},
   "outputs": [],
   "source": []
  }
 ],
 "metadata": {
  "kernelspec": {
   "display_name": "Python 3",
   "language": "python",
   "name": "python3"
  },
  "language_info": {
   "codemirror_mode": {
    "name": "ipython",
    "version": 3
   },
   "file_extension": ".py",
   "mimetype": "text/x-python",
   "name": "python",
   "nbconvert_exporter": "python",
   "pygments_lexer": "ipython3",
   "version": "3.7.1"
  }
 },
 "nbformat": 4,
 "nbformat_minor": 2
}
