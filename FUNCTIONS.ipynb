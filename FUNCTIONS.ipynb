{
 "cells": [
  {
   "cell_type": "code",
   "execution_count": 4,
   "metadata": {},
   "outputs": [],
   "source": [
    "# function is a group of staements\n",
    "# if any group of statemetnsare repetedly required then i will define them in function and then i will call the function multiple times\n",
    "# biggest advantage of functions is code reusablitiy\n",
    "#\n",
    "## def wish(name):\n",
    "#      print(\"goodmorning:\",name)\n",
    "#      print(\"goodmorning:\",name)\n",
    " #     print(\"goodmorning:\",name)\n",
    "#      print(\"goodmorning:\",name)\n",
    "\n",
    "# wish(\"sunny\")\n",
    "# wish(\"bunny\")\n",
    "# wish(\"nummy\")"
   ]
  },
  {
   "cell_type": "code",
   "execution_count": 96,
   "metadata": {},
   "outputs": [],
   "source": [
    "#def insertemployee(name,age,rmpno,esal,eaddr):\n",
    "#    for e in employee:\n",
    "#        insertemployee(data)\n",
    "#        return x,y,z  # in python return statemetn can ouput multiple values in other programming laguage retun only return one value\n",
    "# we can call it multiple times even i f we\n",
    "\n",
    "#tyeps of functions\n",
    "# 1 inbuilt\n",
    "# 2 user defined\n",
    "\n",
    "\n",
    "## if fuction is defined inside a class it is called methods.\n",
    "## outside class it is only fuciton\n",
    "\n",
    "# PARAMETERS\n",
    "\n",
    "# POSITIONAL PARAMETERS\n",
    "# KEYWORD PARAMETERS\n",
    "# DEFAULT\n",
    "# VARIABLE LENGTH PARAMETERS (var-arg)\n",
    "# *n is used whic shows you can take n number if argumnets\n",
    "# *n only take values \n",
    "# keyword arguments (** kwargs): used to pass multiple pair of values \n",
    "# PYTHON FUNCTIONS CAN RETURN N NUMNER OF VRIABLES\n",
    "# return x,y,z\n",
    "\n",
    "\n",
    "# TYPES OF VARIABLES\n",
    "# GLOBAL \n",
    "# LOCAL \n",
    "\n",
    "#MODULE==> GROUP OF FUNCTIONS\n",
    "#PACKAGE==> GROUP OF MODULE\n",
    "#LIBRARY==> GROUP OF PACKAGES\n",
    "\n",
    "\n",
    "# RECURSISE FUNCTIONS--> A FUCTION THAT CALLS ITSELF\n",
    "# internally calls same function so reduce length of code improve radiablity\n",
    "# we can solve comlex problems also easily\n",
    "\n",
    "\n",
    "# Anonymous functions:\n",
    "# functions without names...nameless functions\n",
    "# requirement is instant use (one time use)\n",
    "# here we use \"lambda\" this is a default keyword and name for synanymous function.\n",
    "# \" lambda input:expression \" --> syntax of lambda funciton\n",
    "#  we can pass function as argument to another function\n",
    "# f1(fucntion,a)\n",
    "\n",
    "# filter()\n",
    "# map()\n",
    "# reduce() # these functions always expecting another fucntion as arguments\n",
    "\n",
    "# 1. filter()-->\n",
    "# based on some condiiton if you want to filter particular group\n",
    "# suppose we have 20 number from these 20 i want to filter only even numbers so we use this\n",
    "# syntax ==> filter(function,list)\n",
    "# for every element it will perform this function\n",
    "\n",
    "# 2. map() ==> input output have same values but appling a fucntion affect ouput\n",
    "# syntax ==> map(function,sequence)\n",
    "\n",
    "# 3, reduce() gives a sigle value output... stored in functools you have to import functools to use this.\n",
    "\n",
    "# fucutin aliasing\n",
    "\n",
    "# NESTED FUCNTIONS --> TO DEFINE FUCNTION SPECIFIC REPEATEDLY REQUIRED FUNCTIONALITY\n",
    "# a  fuction can return another fucntion\n",
    "\n",
    "##  DECORATORS :THEY TAKE INPUT-> A FUNCTION ==>AND RETURN==> A FUNCTION WITH ADDED FUNCTIONALITY\n",
    "## ITSELF IS A FUCTION \n",
    "# IF WE DINT WANT TO CHANGE THE EXISTING FUCNTION AND WANT TO ADD MORE FUCTIONALITY THEN WE USE  DECORATORS\n",
    "# IT MAEKS CODE SHORTER\n",
    "# ANY NAME CAN BE USED  TO DEFINE ANY DECORATOR NO SPECIFIC KEYWORD IS THERE\n",
    "# WE CAN USE MULTIPLE DECORATORS CALLED DECORATOR CHAINING\n",
    "\n",
    "# GENERATORS --> GENERATOR FUNCTION WONT TAKE ANY INPUT\n",
    "# THEY ARE RESPONSIBLE TO GENERATE A SEQUENCE OF VALUES\n",
    "# YILED KEYWORD IS USED HERE TO GENERATE VALUES\n",
    "# why we need generators when a list can also output same thing?\n",
    "# in list you store all elements and call them when neded it take slots of memory but in generators we get elemetns when we watn no need to keep them stored\n",
    "# you dont need to store the elements all the time(list) whenever you need it you can get using generators automtically\n",
    "# memory improvement and peformance improvement by using generators\n",
    "# ADVANTAGE OF GENERATORS:\n",
    "# 1.PERFORMANCE WILL BE IMPROVED\n",
    "# 2.MEMORY UTILIZATION WILL BE IMPROVED\n",
    "# 3. COMAPRED TO NORMAL ITERATORS GENERATORS ARE EASY FOR USE\n",
    "# 4. BEST USED FOR WEB SCRAPING\n",
    "# 5. WHERE HUGE DATA IS REQUIRED WE MUST GO FOR GENERATORS\n",
    "\n",
    "\n",
    "\n",
    "\n",
    "\n",
    "\n"
   ]
  },
  {
   "cell_type": "code",
   "execution_count": 6,
   "metadata": {},
   "outputs": [
    {
     "name": "stdout",
     "output_type": "stream",
     "text": [
      "hello\n",
      "None\n"
     ]
    }
   ],
   "source": [
    "def wish():\n",
    "    print(\"hello\")\n",
    "print(wish())"
   ]
  },
  {
   "cell_type": "code",
   "execution_count": 13,
   "metadata": {},
   "outputs": [
    {
     "name": "stdout",
     "output_type": "stream",
     "text": [
      "150\n",
      "50\n",
      "5000\n",
      "2.0\n"
     ]
    }
   ],
   "source": [
    "def calc(a,b):   # defining function  a,b are positional arguments\n",
    "    sum=a+b\n",
    "    sub=a-b\n",
    "    mul=a*b\n",
    "    div=a/b\n",
    "    return sum,sub,mul,div\n",
    "\n",
    "# calling function with parameters\n",
    "t=calc(100,50)  # positional argument must match\n",
    "for x in t:\n",
    "    print(x)\n",
    "    \n",
    "# keyword arguments\n",
    "# calc(a=100,b=50)  # here order is not important\n",
    "\n",
    "# calc(100,b=50)  #positional argumetns come first so this is right\n",
    "# after keywords argments we cannot take positional arguments\n",
    "\n",
    "#calc(b=50,100) this is invalid\n",
    "\n"
   ]
  },
  {
   "cell_type": "code",
   "execution_count": 4,
   "metadata": {},
   "outputs": [],
   "source": [
    "def wish(msg,name=\"Guest\"):pass "
   ]
  },
  {
   "cell_type": "markdown",
   "metadata": {},
   "source": [
    "Defining variable length argument"
   ]
  },
  {
   "cell_type": "code",
   "execution_count": 17,
   "metadata": {},
   "outputs": [
    {
     "name": "stdout",
     "output_type": "stream",
     "text": [
      "the sum 0\n",
      "the sum 10\n",
      "the sum 30\n",
      "the sum 60\n"
     ]
    }
   ],
   "source": [
    "def add(*n):\n",
    "    sum=0\n",
    "    for x in n:\n",
    "        sum=sum+x\n",
    "    print(\"the sum\",sum)\n",
    "add()\n",
    "add(10)\n",
    "add(10,20)\n",
    "add(10,20,30)\n",
    "\n",
    "# *n is the tuple internally"
   ]
  },
  {
   "cell_type": "code",
   "execution_count": 19,
   "metadata": {},
   "outputs": [
    {
     "name": "stdout",
     "output_type": "stream",
     "text": [
      "the sum by durga : 0\n",
      "the sum by ravi : 10\n",
      "the sum by pawan : 30\n",
      "the sum by shiva : 60\n"
     ]
    }
   ],
   "source": [
    "def add(name,*n):\n",
    "    sum=0\n",
    "    for x in n:\n",
    "        sum=sum+x\n",
    "    print(\"the sum by\",name,\":\",sum)\n",
    "\n",
    "add(\"durga\")\n",
    "add(\"ravi\",10)\n",
    "add(\"pawan\",10,20)\n",
    "add(\"shiva\",10,20,30)\n"
   ]
  },
  {
   "cell_type": "code",
   "execution_count": 20,
   "metadata": {},
   "outputs": [
    {
     "name": "stdout",
     "output_type": "stream",
     "text": [
      "the sum by durga : 0\n",
      "the sum by ravi : 10\n",
      "the sum by pawan : 30\n",
      "the sum by shiva : 60\n"
     ]
    }
   ],
   "source": [
    "def add(*n,name): #  if we change the order we have to pass a keyword in calling \n",
    "    sum=0\n",
    "    for x in n:\n",
    "        sum=sum+x\n",
    "    print(\"the sum by\",name,\":\",sum)\n",
    "\n",
    "add(name=\"durga\")\n",
    "add(10,name=\"ravi\")\n",
    "add(10,20,name=\"pawan\")\n",
    "add(10,20,30,name=\"shiva\")\n"
   ]
  },
  {
   "cell_type": "markdown",
   "metadata": {},
   "source": [
    "Keyword variable lenght areguments *kwargs"
   ]
  },
  {
   "cell_type": "code",
   "execution_count": 25,
   "metadata": {},
   "outputs": [
    {
     "name": "stdout",
     "output_type": "stream",
     "text": [
      "record information:\n",
      "name \t durga\n",
      "marks \t 100\n",
      "age \t 48\n",
      "GF \t sunny\n"
     ]
    }
   ],
   "source": [
    "def display(**kwargs):\n",
    "    print(\"record information:\")\n",
    "    for k,v in kwargs.items():\n",
    "        print(k,\"\\t\",v)\n",
    "        \n",
    "display(name=\"durga\",marks=\"100\",age=48,GF=\"sunny\")        "
   ]
  },
  {
   "cell_type": "code",
   "execution_count": 33,
   "metadata": {},
   "outputs": [
    {
     "name": "stdout",
     "output_type": "stream",
     "text": [
      "10 20 4 8\n",
      "10 20 30 40\n",
      "25 50 4 100\n",
      "3 4 4 2\n"
     ]
    }
   ],
   "source": [
    "def f1(arg1,arg2,arg3=4,arg4=8): # arg3 .arg4 are default argumnets\n",
    "    print(arg1,arg2,arg3,arg4)\n",
    "    \n",
    "f1(10,20)\n",
    "f1(10,20,30,40) # here we will get new values ot default values\n",
    "f1(25,50,arg4=100)\n",
    "f1(arg4=2,arg1=3,arg2=4) # we will get new and sequenced values as defined in functions\n",
    "# f1(4,3,arg2=3)  error arg2 havee 2 values\n",
    "# f1(4,5,arg5=9) no arg5 in definition so error"
   ]
  },
  {
   "cell_type": "markdown",
   "metadata": {},
   "source": [
    "##### RECURSISE FUNCTIONS"
   ]
  },
  {
   "cell_type": "code",
   "execution_count": 45,
   "metadata": {},
   "outputs": [
    {
     "data": {
      "text/plain": [
       "(1, 120)"
      ]
     },
     "execution_count": 45,
     "metadata": {},
     "output_type": "execute_result"
    }
   ],
   "source": [
    "def factorial(n):\n",
    "    if n==0:\n",
    "        result=1\n",
    "    else:\n",
    "        result=n*factorial(n-1)\n",
    "    return result\n",
    "\n",
    "factorial(0),factorial(5)"
   ]
  },
  {
   "cell_type": "markdown",
   "metadata": {},
   "source": [
    "__LAMBDA FUNCTION__"
   ]
  },
  {
   "cell_type": "code",
   "execution_count": 46,
   "metadata": {},
   "outputs": [
    {
     "data": {
      "text/plain": [
       "100"
      ]
     },
     "execution_count": 46,
     "metadata": {},
     "output_type": "execute_result"
    }
   ],
   "source": [
    "def squareIt(n):\n",
    "    return n*n\n",
    "squareIt(10)"
   ]
  },
  {
   "cell_type": "code",
   "execution_count": 48,
   "metadata": {},
   "outputs": [
    {
     "name": "stdout",
     "output_type": "stream",
     "text": [
      "16\n"
     ]
    }
   ],
   "source": [
    "s=lambda n: n*n\n",
    "print(s(4))"
   ]
  },
  {
   "cell_type": "code",
   "execution_count": 52,
   "metadata": {},
   "outputs": [
    {
     "name": "stdout",
     "output_type": "stream",
     "text": [
      "sum of 2 and 4 is : 6\n",
      "sum of 6 and 4 is : 10\n",
      "sum of 200 and 400 is : 600\n"
     ]
    }
   ],
   "source": [
    "s=lambda a,b:a+b\n",
    "print(\"sum of {} and {} is : {}\".format(2,4,s(2,4)))\n",
    "print(\"sum of {} and {} is : {}\".format(6,4,s(6,4)))\n",
    "print(\"sum of {} and {} is : {}\".format(200,400,s(200,400)))"
   ]
  },
  {
   "cell_type": "code",
   "execution_count": 54,
   "metadata": {},
   "outputs": [
    {
     "name": "stdout",
     "output_type": "stream",
     "text": [
      "the biggest of 20 and 10 is: 20\n"
     ]
    }
   ],
   "source": [
    "s= lambda a,b: a if a>b else b # here we used ternery operator\n",
    "# 3 oprators are there so it is ternary oprator\n",
    "print(\"the biggest of {} and {} is: {}\".format(20,10,s(20,10)))"
   ]
  },
  {
   "cell_type": "markdown",
   "metadata": {},
   "source": [
    "#### FILTER() -WITHOUT LAMBDA"
   ]
  },
  {
   "cell_type": "code",
   "execution_count": 58,
   "metadata": {},
   "outputs": [
    {
     "name": "stdout",
     "output_type": "stream",
     "text": [
      "[0, 2, 10, 30, 30]\n"
     ]
    }
   ],
   "source": [
    "def iseven(x):\n",
    "    if x%2==0:\n",
    "        return True\n",
    "    else: \n",
    "        return False\n",
    "l=[0,2,5,10,15,30,30]\n",
    "l1=list(filter(iseven,l)) ## here we used filter\n",
    "print(l1) \n"
   ]
  },
  {
   "cell_type": "markdown",
   "metadata": {},
   "source": [
    "### FILTER WITH LAMBDA"
   ]
  },
  {
   "cell_type": "code",
   "execution_count": 62,
   "metadata": {},
   "outputs": [
    {
     "name": "stdout",
     "output_type": "stream",
     "text": [
      "[0, 2, 10, 30, 30, 88, 70]\n",
      "[5, 15]\n"
     ]
    }
   ],
   "source": [
    "l=[0,2,5,10,15,30,30,88,70]\n",
    "l1=list(filter(lambda n:n%2==0,l)) ## here we used filter\n",
    "print(l1) # return even values\n",
    "\n",
    "l2=list(filter(lambda n:n%2!=0,l))\n",
    "print(l2)  # return odd values"
   ]
  },
  {
   "cell_type": "markdown",
   "metadata": {},
   "source": [
    "### MAP() FUCNTON"
   ]
  },
  {
   "cell_type": "code",
   "execution_count": 63,
   "metadata": {},
   "outputs": [
    {
     "name": "stdout",
     "output_type": "stream",
     "text": [
      "[2, 4, 6, 8, 10, 12, 14]\n"
     ]
    }
   ],
   "source": [
    "def double(x):\n",
    "    return 2*x\n",
    "l=[1,2,3,4,5,6,7]\n",
    "l1=list(map(double,l))\n",
    "print(l1)\n",
    "    "
   ]
  },
  {
   "cell_type": "code",
   "execution_count": 70,
   "metadata": {},
   "outputs": [
    {
     "name": "stdout",
     "output_type": "stream",
     "text": [
      "[10, 40, 90, 160]\n"
     ]
    }
   ],
   "source": [
    "l=[1,2,3,4]\n",
    "l1=[10,20,30,40]\n",
    "l2=list(map(lambda x,y:x*y,l,l1))\n",
    "print(l2)"
   ]
  },
  {
   "cell_type": "code",
   "execution_count": 71,
   "metadata": {},
   "outputs": [
    {
     "name": "stdout",
     "output_type": "stream",
     "text": [
      "[10, 40, 90]\n"
     ]
    }
   ],
   "source": [
    "l=[1,2,3]\n",
    "l1=[10,20,30,40]\n",
    "l2=list(map(lambda x,y:x*y,l,l1))\n",
    "print(l2)  # here only same number are considered as l contain onl 3 elements\n"
   ]
  },
  {
   "cell_type": "markdown",
   "metadata": {},
   "source": [
    "### REDUCE()\n"
   ]
  },
  {
   "cell_type": "code",
   "execution_count": 76,
   "metadata": {},
   "outputs": [
    {
     "name": "stdout",
     "output_type": "stream",
     "text": [
      "The sum of the list elements is : 100\n"
     ]
    }
   ],
   "source": [
    "import functools\n",
    "l1=[10,20,30,40]\n",
    "print (\"The sum of the list elements is : \",end=\"\") \n",
    "print (functools.reduce(lambda a,b : a+b,l1)) "
   ]
  },
  {
   "cell_type": "code",
   "execution_count": 85,
   "metadata": {},
   "outputs": [
    {
     "name": "stdout",
     "output_type": "stream",
     "text": [
      "the sum: 30\n",
      "the average: 20.0\n",
      "\n",
      "the sum: 120\n",
      "the average: 110.0\n",
      "\n"
     ]
    }
   ],
   "source": [
    "def f1():\n",
    "    def inner(a,b):\n",
    "        print(\"the sum:\",a+b)\n",
    "        print(\"the average:\",a+b/2)\n",
    "        print()\n",
    "        \n",
    "    inner(10,20)\n",
    "    inner(100,20)\n",
    "f1()"
   ]
  },
  {
   "cell_type": "code",
   "execution_count": 92,
   "metadata": {},
   "outputs": [
    {
     "name": "stdout",
     "output_type": "stream",
     "text": [
      "outer fuction started\n",
      " outer function can retun another function\n",
      "inner function execution\n"
     ]
    }
   ],
   "source": [
    "def outer():\n",
    "    print(\"outer fuction started\")\n",
    "    def inner():\n",
    "        print(\"inner function execution\")\n",
    "    print(\" outer function can retun another function\")\n",
    "    return inner\n",
    "f1=outer() # here we stored the inner function as outer function output is outer fucntion # here parenthesis is required for function call\n",
    "f1() # this called directly the inner function"
   ]
  },
  {
   "cell_type": "markdown",
   "metadata": {},
   "source": [
    "### DECORATORS()"
   ]
  },
  {
   "cell_type": "code",
   "execution_count": 94,
   "metadata": {},
   "outputs": [
    {
     "name": "stdout",
     "output_type": "stream",
     "text": [
      "hello durga good evening\n"
     ]
    }
   ],
   "source": [
    "def wish(name):\n",
    "    print(\"hello\",name,\"good evening\")\n",
    "wish(\"durga\")"
   ]
  },
  {
   "cell_type": "code",
   "execution_count": 98,
   "metadata": {},
   "outputs": [
    {
     "name": "stdout",
     "output_type": "stream",
     "text": [
      "hello durga good evening\n",
      "hello Sunny bad morning\n"
     ]
    }
   ],
   "source": [
    "def decor(func):\n",
    "    def inner(name):\n",
    "        if name==\"sunny\":\n",
    "            print(\"hello Sunny bad morning\")\n",
    "        else:\n",
    "            func(name)\n",
    "    return inner\n",
    "\n",
    "@decor  \n",
    "def wish(name):\n",
    "    print(\"hello\",name,\"good evening\")\n",
    "wish(\"durga\")\n",
    "wish(\"sunny\")"
   ]
  },
  {
   "cell_type": "markdown",
   "metadata": {},
   "source": [
    "#### explicitly joining decorator and wish function "
   ]
  },
  {
   "cell_type": "code",
   "execution_count": 103,
   "metadata": {},
   "outputs": [
    {
     "name": "stdout",
     "output_type": "stream",
     "text": [
      "hello durga good evening\n",
      "hello sunny good evening\n",
      "hello Sunny bad morning\n"
     ]
    }
   ],
   "source": [
    "def decor(func):\n",
    "    def inner(name):\n",
    "        if name==\"sunny\":\n",
    "            print(\"hello Sunny bad morning\")\n",
    "        else:\n",
    "            func(name)\n",
    "    return inner\n",
    "\n",
    "def wish(name):\n",
    "    print(\"hello\",name,\"good evening\")\n",
    "\n",
    "\n",
    "wish(\"durga\")\n",
    "wish(\"sunny\")\n",
    "\n",
    "\n",
    "decorfunction = decor(wish)  # explicitly we defined the link between decorator and wish function\n",
    "\n",
    "decorfunction(\"sunny\") # calling the decorator"
   ]
  },
  {
   "cell_type": "code",
   "execution_count": 112,
   "metadata": {},
   "outputs": [
    {
     "name": "stdout",
     "output_type": "stream",
     "text": [
      "hello stupid how can we divide with zero\n"
     ]
    }
   ],
   "source": [
    "def smartdivision(func):\n",
    "    def inner(a,b):\n",
    "        if b==0:\n",
    "            print(\"hello stupid how can we divide with zero\")\n",
    "        else:\n",
    "            return func(a,b)\n",
    "    return inner\n",
    "\n",
    "@smartdivision\n",
    "\n",
    "def division(a,b):\n",
    "    return a/b\n",
    "\n",
    "division(10,2)\n",
    "division(10,5)\n",
    "division(10,0)\n"
   ]
  },
  {
   "cell_type": "markdown",
   "metadata": {},
   "source": [
    "### GENERATORS"
   ]
  },
  {
   "cell_type": "code",
   "execution_count": 119,
   "metadata": {},
   "outputs": [
    {
     "name": "stdout",
     "output_type": "stream",
     "text": [
      "<class 'generator'>\n",
      "a\n",
      "b\n",
      "c\n"
     ]
    }
   ],
   "source": [
    "def mygen():\n",
    "    yield \"a\"\n",
    "    yield \"b\"\n",
    "    yield \"c\"\n",
    "g=mygen()\n",
    "print(type(g))\n",
    "print(next(g))\n",
    "print(next(g))\n",
    "print(next(g))\n",
    "# print(next(g)) since we only have 3 values we will get stop iteration error\n"
   ]
  },
  {
   "cell_type": "code",
   "execution_count": null,
   "metadata": {},
   "outputs": [],
   "source": [
    "g=(x*x for x in range(10))\n",
    "while True:\n",
    "    print(next(g))"
   ]
  },
  {
   "cell_type": "markdown",
   "metadata": {},
   "source": [
    "Create a countdonw using generator"
   ]
  },
  {
   "cell_type": "code",
   "execution_count": 2,
   "metadata": {},
   "outputs": [
    {
     "name": "stdout",
     "output_type": "stream",
     "text": [
      "count down starting..\n",
      "5\n",
      "4\n",
      "3\n",
      "2\n",
      "1\n"
     ]
    }
   ],
   "source": [
    "import time\n",
    "def countdown(num):\n",
    "    print(\"count down starting..\")\n",
    "    while num>0:\n",
    "        yield num # keyword yield to generate values\n",
    "        num=num-1\n",
    "values=countdown(5)\n",
    "for x in values:\n",
    "    print(x)\n",
    "    time.sleep(3)"
   ]
  },
  {
   "cell_type": "markdown",
   "metadata": {},
   "source": [
    "To generate first n number"
   ]
  },
  {
   "cell_type": "code",
   "execution_count": 7,
   "metadata": {},
   "outputs": [
    {
     "name": "stdout",
     "output_type": "stream",
     "text": [
      "1\n",
      "2\n",
      "3\n",
      "4\n",
      "5\n",
      "6\n",
      "7\n",
      "8\n",
      "9\n"
     ]
    }
   ],
   "source": [
    "def firstnum(num):\n",
    "    n=1\n",
    "    while n <num:\n",
    "        yield n\n",
    "        n=n+1\n",
    "for x in firstnum(10):\n",
    "    print(x)"
   ]
  },
  {
   "cell_type": "markdown",
   "metadata": {},
   "source": [
    "To generate fibonacci numbers: next element is sum of previous two elements....0,1,1,2,3,5,8...."
   ]
  },
  {
   "cell_type": "code",
   "execution_count": 1,
   "metadata": {},
   "outputs": [],
   "source": [
    "def fib():\n",
    "    a,b=0,1\n",
    "    while True:\n",
    "        yield a\n",
    "        a,b=b,a+b\n",
    "for n in fib():\n",
    "    if n>100:\n",
    "        break\n",
    "        print(n)"
   ]
  },
  {
   "cell_type": "code",
   "execution_count": null,
   "metadata": {},
   "outputs": [],
   "source": []
  },
  {
   "cell_type": "code",
   "execution_count": null,
   "metadata": {},
   "outputs": [],
   "source": []
  },
  {
   "cell_type": "code",
   "execution_count": null,
   "metadata": {},
   "outputs": [],
   "source": []
  },
  {
   "cell_type": "code",
   "execution_count": null,
   "metadata": {},
   "outputs": [],
   "source": []
  },
  {
   "cell_type": "code",
   "execution_count": null,
   "metadata": {},
   "outputs": [],
   "source": []
  },
  {
   "cell_type": "code",
   "execution_count": null,
   "metadata": {},
   "outputs": [],
   "source": []
  }
 ],
 "metadata": {
  "kernelspec": {
   "display_name": "Python 3",
   "language": "python",
   "name": "python3"
  },
  "language_info": {
   "codemirror_mode": {
    "name": "ipython",
    "version": 3
   },
   "file_extension": ".py",
   "mimetype": "text/x-python",
   "name": "python",
   "nbconvert_exporter": "python",
   "pygments_lexer": "ipython3",
   "version": "3.7.1"
  }
 },
 "nbformat": 4,
 "nbformat_minor": 2
}
