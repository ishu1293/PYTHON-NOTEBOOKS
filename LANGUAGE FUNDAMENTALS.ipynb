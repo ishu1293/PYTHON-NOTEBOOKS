{
 "cells": [
  {
   "cell_type": "markdown",
   "metadata": {},
   "source": [
    "# LANGUAGE FUNDAMEMNTALS"
   ]
  },
  {
   "cell_type": "code",
   "execution_count": 28,
   "metadata": {},
   "outputs": [],
   "source": [
    "#EASIEST HIGH LEVEL,GENRAL PURPOSE LANGUAGE........\n",
    "#WE CAN USE IT FOR MULTIPLE PURPOSE DATA ANALYSIS MACHINE LEARNING WEB DEVELOPMENT ETC.\n",
    "#USER UNDERSTANDABLE LANGUAGE\n",
    "#FATHER OF PYTHON : \"GUIDO VAN ROSSAM\" CREATED IT IN 1989 \n",
    "#OFFICIAL DATE OF BIRTH IS 1991 i.e IT WAS AVAIALABLE TO USE IN FEB 20TH 1991\n",
    "#CONSISE CODE\n",
    "## PYTHON IS DYNAMICALLY TYPED LANGUAGE ==>NO NEED TO ASSIGN A TYPE TO A VARIABLE, TYPE ARE ASSIGNED AUTOMATICALLY ACCORDING TO NEED\n",
    "#C,JAVA ARE STATICALLY TYPED LANGUAGE ==> NEED TO DEFINE TYPE OF EVERY VARIABLE BEFORE USING\n",
    "#NO NEED TO USE SEMICOLON (;)\n",
    "#WHY WORD PYTHON ==> MONTY PYTHON CIRCUS 1969 TO 1974  POPULAR BBC TV SHOW THAT GUIDO ROSSAM GAVE TRIBUTE BY USING NAME \"PYTHON\"\n",
    "#GUIDO ROSSAM TOOK \n",
    "#1.FUNCTIONAL PROGRAMMING LANGUAGE FROM C  ==> YOU CAN CREATE ANY FUNCTION WITHOUT CLASS AND CALL IT ANYWHERE.\n",
    "#2.OPPS FROM C++\n",
    "#3.SCRIPTING LANGUAGE FEATURES FORM PERL AND SHELL SCRIPT\n",
    "#4.MODULAR PROGRAMMING FROM MODULA-3==> PROGRAM IS DIVIDED INTO MODULES\n",
    "#5.SYNTAX ARE BORROWED FROM C & ABC LANGUAGE\n",
    "#######################################################################################################################################################\n",
    "#WHERE WE CAN USE PYTHON \n",
    "#1.DESKTOP APPS LIKE CALCUALTOR\n",
    "#2.WEB APPLICATION USING DJANGO & FLASK FRAMEWORK \n",
    "#3.DATABASE APPLICATIONS \n",
    "#4.NETWORKING APPLICATIONS\n",
    "#5.FOR DEVELOPING GAMES\n",
    "#6.FOR DATA ANALYTICS\n",
    "#7.MACHINE LEARNING APPLICATION\n",
    "#8.ARTIFICIAL INTELLEGENCE \n",
    "#9.FOR IOT APPLICATIONS........................................................................................................................\n",
    "\n",
    "#COMPNIES USING PYTHON\n",
    "#GOOGLE #YOUTUBE #DROPBOX #NASA # \n"
   ]
  },
  {
   "cell_type": "code",
   "execution_count": 41,
   "metadata": {},
   "outputs": [],
   "source": [
    "#FEATURE OF PYTHON \n",
    "#1.SIMPLE AND EASY TO LEARN \n",
    "#=>PYTHON HAS 30 KEYWORDS COMPARED TO JAVA WHICH HAS 50\n",
    "#2.VERY LESS CODE NEEDEDE TO WITE A PROGRAM \n",
    "#3.FREEWARE & OPENSOURCE CAN BE INSTALLED IN ANY MACHINE FOR FREE\n",
    "#=>OPENSOURCE ==> IF INTERAL OPTIMAZATION OR FEATURES ARE NOT GOOD ENOUGH I CAN CREATE AND RELEASE MY OWN VERSION OF PYTHON\n",
    "#=>FREEWARWE ==>CAN BE INSTALLED ON ANY COMPUTER FOR FREE\n",
    "#4.HIGH LEVEL PROGRAMMING LANGUAGE ==>HUMAN UNDERSTANDABLE LANGUAGE,NO PROBLEM IN UDERSTNDING THE CODE\n",
    "#=>NO NEED TO WORRY ABOUT LOW LEVEL ACTIVITIES LIKE MEMORY MANGEMENT & SECURITY ETC:AUTOMATICALLY PYTON IS GOIN TO TAKE CARE OF IT\n",
    "#5.PYTHON IS PLATFORM INDEPENDENT==> WRITE A PROGRAM ONCE AND YOU CAN RUN IT ON ANY OS (ANYWHERE) #\"WRITE ONCE RUN ANYWHERE\"\n",
    "#6.PORTABILITY ==>MOVING PYTHON PROGRAM FROM ONE PLATFORM TO ANOTHER PLATFORM WITHOUT ISSUES(MOVING FROM ONE OS TO ANOTHER OS NEED NO CODE CHANGE)\n",
    "#######7.DYNAMICALLY TYPED ==>NO REQUIREMENT TO DEFINE ANY DATATYPE FOR VARIABLE AUTOMATICALLY IT WILL BE DEFINED ACCORDING TO VALUE.\n",
    "#8.PYTHON IS OBJECT ORIENTED ==>WE CAN ENJOY ENCAPSULATION,POLYMORPHISM ETC\n",
    "#9.PYTHON IS PROCEDURE ORIENTED WE WE CAN CALL AND OBJECTS WE CAN CREATE PROGRAM AND FUNCTIONS AND RUN THEM\n",
    "#10.INTERPRITED PTOGRAMING LANGUAGE\n",
    "#WE ARE NOT REQUIRED TO COMPILE THE PROGRAM PYTHON INTERPRITER AUTOMATICALLY DO THIS FOR US\n",
    "#==>INTERPRITER CHECK ALL SYNTAX LINE BY LINE AND THEN RUN THE PROGRAM\n",
    "#11.PYTHON IS EXTESIBLE ==>WE CAN USE ANOTHER PROGRAMING LANGHUAGES IN PYTHON\n",
    "#==>IF WE HAVE 1 LAKH CODE LINE IN JAVA WE DONT NEED TO WRITE THEM AGAIN IN PYHTON WE CAN US THEM.\n",
    "#12.EMBEDDED => HAPPLY WE ARE ALLOWED TO USE WITH OTHER LANGAUE USE ALSO PYTOHON PROGRAM CAN BE EMBEDDED WITH OTER LANGUAGE ALSO \n",
    "#13.EXTENSIVE LIBRARY SIUPPORT."
   ]
  },
  {
   "cell_type": "code",
   "execution_count": null,
   "metadata": {},
   "outputs": [],
   "source": [
    "###LIMITATION ON PYTHON\n",
    "#1.PERFORMANCE WISE PYTHON IS NOT UPTO THE MARK \n",
    "#==>IT IS AN INTERPRETID PROGRAMMING LANGUAGE INTERPRITER INLY SEE ON LINE AT A TIME THEN IT MOVES TO SECOND.\n",
    "#JAVA IS PERFORMANCE IS BETTER BECAUSE IT USES COMPILER WIHICH COMPILES ALL PROGRAM LINE IN SINGLE EXECUTION.\n",
    "#2.MOBILE APPLICATION : STILL NOT USED FOR MOBILE APPLICATION ANDROID AND IOS ARE THE LEADERS.\n",
    "#3.LESS SECURE THAN JAVA"
   ]
  },
  {
   "cell_type": "code",
   "execution_count": null,
   "metadata": {},
   "outputs": [],
   "source": [
    "####MYTH\n",
    "#1.PYTHON IS NOT SUITABLE FOR LARGE SCALE ENTERPRISE APPLICATION "
   ]
  },
  {
   "cell_type": "code",
   "execution_count": null,
   "metadata": {},
   "outputs": [],
   "source": [
    "#FLAVOURS OF PYTHON \n",
    "#1.CPython : USED FOR C APPLCATION\n",
    "#2.JYTHON OR JPYTHON : USED FOR JAVA APPLICATION\n",
    "#3.IRONYTHON: USED FOR CSHRP APPLICATION\n",
    "#4.PYPY:INTERNALLY \"JIT\" COMPILER IS USED (JUST INTIME COMPILER)\n",
    "#5.RUBYPYTON:\n",
    "#6.ANACONDAPYTHON: TO HANDLE BIG DATA\n",
    "#7.STACKLESS(PYTHON FOR CONCURRENCY)(MULTITHREADING OPERATIONS)"
   ]
  },
  {
   "cell_type": "code",
   "execution_count": null,
   "metadata": {},
   "outputs": [],
   "source": [
    "#VARIOUS VERSION OF PYTHON\n",
    "#1.CURRENT VERSION IS 3.7 CAM E IN 2018 \n",
    "#2.PYTHON 1.0 INTRODUCED IN JAN 1994\n",
    "#3.PYTHON 2.0 INTRODUCED IN OCT 2000\n",
    "#4.PYTHON 3.0 INTRODUCED IN DEC 2008\n",
    "#ANY NEW VERSION SHOULD PROVIDE SUPPORT FOR OLD VERSION\n",
    "#IN PYTHON THERE IS NO BACKWAED SUPPORT THERE IS NO GARUNTEE THAT A APYTHON 2 PROGRAM WILL RUN FOR PYTHON 3\n",
    "#SUPPORT FOR PTHON 2 WILL BE THERE TILL 2020\n",
    "#THEY ARE MISSING BACKWORD SUPPORT SO THAT THEY CAN PROVIDE BETTER SUPPORT FOR NEW FEATURES\n",
    "#IN INDIA PYTHON IS SUDDELY GAINING POPULARITY ONLU BEACSUE OF VERSION 3 IN US MARKET IT WAS FAMOUS FOR SEVERAL YEARS\n",
    "#PYTHON 2 WAS NOT THAT MUCH POWERFUL"
   ]
  },
  {
   "cell_type": "code",
   "execution_count": null,
   "metadata": {},
   "outputs": [],
   "source": [
    "#DIFFRERECE IN PYTHON 3 AND 2 \n",
    "#1.IN PYTHON 2 print\"HELLO\" valid in PYTHON 3 print(\"hello\") is valid => PARENTHESIS IS REQUIRED\n",
    "#2.LONG DATA TYPE IN PYTHONO 2 BUT NOT IN PYTHON 3\n",
    "#3.DIVIDE & DOUBLE DIVIDE OPERATOR DIFFERENCE / & // WILL GIVE DIFFERENT OUTPUT.\n"
   ]
  },
  {
   "cell_type": "code",
   "execution_count": 1,
   "metadata": {},
   "outputs": [],
   "source": [
    "#IDENTIFIER\n",
    "#==>NAME IN PYTHON IS CALLED IDENTIFIER \n",
    "#X=10 :HERE X IS THE IDENTIFIER X IS THE NAME OF VARIABLE\n",
    "#def f1() : f1 is IDENTIFIER (FUNCTION NAME)\n",
    "#class Test(Exception) : TEST IS IDENTIFIER (CLASS NAME) \n",
    "#VARIABLE NAME or CLASS NAME or METHOD NAME or FUNCTION NAME\n",
    "###########RULES TO DEFINE IDENTIFIERS IN PYTHON############\n",
    "#1.SYMBOLS WE CAN USE TO NAME IDENTIFIERS ARE:\n",
    "#ALPHBET SYMBOLS(BOTH UPPERCASE AND LOWERCASE)\n",
    "#DIGITS(0-9)\n",
    "#UNDERSCORE SYMBOL(_)\n",
    "#ANYOTHER SYMBOL WE WILL GET A ERROR.WE CAN USE $ SIGN IN JAVA BUT NOT IN PYTHON.# SIGN IS ALSO INVALID IN DEFINING INDENTIFIERS.\n",
    " #CASH=10 --VALID VARIABLE DEFINITION\n",
    " #CA$H=10 --INVALID VARIABLE DEFININTION (WILL GET EOOR DUE TO $ SYMBOL)\n",
    "#2.IDENTIFIERS SHOULD NOT START WITH DIGIT. \n",
    " #TOATAL=10 --- VALID VARIABLE DEFINITION\n",
    " #123TOTAL=10 ----INVALID VARIABLE DEFINITION\n",
    "#3.PYTHON IDNTIFIERS ARE CASE SENSISITIVE\n",
    " # TOTAL=10\n",
    " # total=10 ...both total & TOTAL are different identifiers.   \n",
    "#4.KEYWORDS(RESERVED WORDS) ARE NOT ALLOWED TO BE USED AS IDENTIFIERS\n",
    " #if=10\n",
    " #def=10....both will give error as \"if\" and \"def\" are keywords.   \n",
    "#5 MAXIMUM LENGTH  ALOWED FOR PYTHON IDENTIFIER\n",
    "#===> THERE IS NO LIMIT ON LENGTH OF IDENTIFIERS\n",
    " # XXXXXXXXXXXXX=10 (LENGTHY IDENTIFIER NAME) (NOT RECOMMENDED)\n",
    " # X=10   (SHORT NAME FOR IDENTIFIER )\n",
    "#LENGTHY IDNETIFIER NAME WILL AFFECT THE READABLITY OF CODE\n",
    "######SOME SMALL POINTS#########\n",
    "#IF INENTIFIER STARTS WITH _ SYMBOL ITS IS KNOWN AS PRIVATE \n",
    "#IF INDETIIERS STARTS WITH __ SYMBOL IT IS STRONGLY PRIVATE.\n",
    "#EX=>__main__ ,__name__,__add__"
   ]
  },
  {
   "cell_type": "code",
   "execution_count": null,
   "metadata": {},
   "outputs": [],
   "source": [
    "#RESERVED KEYWORDS\n",
    "#APPLE,BANANA THESE WORDS ARE RESERVED TO REPRESENT FRUITS\n",
    "#CAT DOG THESE WORDS ARE RESERVED TO REPRESENT ANIMAL \n",
    "\n",
    "#SIMILARLY IN PROGRAMMING LANGUAGE SOME WORDS ARE RESERVED TO REPRESENT OR DEFINE SOME FUNCTIONALTY .\n",
    "#PYTHON HAVE 33 RESERVED WORDS ONLY.LEARNING PYTHON IS JUST LEARNING THESE THINGS.\n",
    "# True,False =Boolean words  # None=No value. Equivalent to \"null\" in java\n",
    "# and,or,not,is \n",
    "# if,else,elif\n",
    "# while,for,break,continue,return,in,yield : \"in python \"switch statement\" and \"do-while\" is avaiable\"\n",
    "#try,except,finally,raise\n",
    "#import,from,as(to create alias),def,pass,global(to declare loacal variable),nonlocal,lambda(to create anonymous finctions,del(to delete anything),with(used in file handling)\n",
    "######################################################################################################################################################\n",
    "# NOTE:\n",
    "#1.ONLY ALPHABET SYMBOLS ARE USED IN KEYWORDS\n",
    "#2.EXCEPT(True,False,None) ALL KEYWORDS ARE LOWERCASE WORDS\n",
    "#a=True ,a=False ,a= None ===> VALID DECLARATION\n",
    "#a=true,a=false ,a= none   ===> INVALID DECLARARTION"
   ]
  },
  {
   "cell_type": "code",
   "execution_count": 13,
   "metadata": {},
   "outputs": [],
   "source": [
    "#DATA TYPES:\n",
    "#1.int ===> to represent whole value (without decimal point)\n",
    "# ex: 10,20,30,40\n",
    "#2.float===> to represetn values with decmal point\n",
    "#3.complex ==> to represent complex values (10+2i) used for scientific calculations\n",
    "#4.bool ==> represent true,false values\n",
    "#5.str ==> represnt string value\n",
    "#6.bytes ==>  represent group of byte values\n",
    "#7.bytearray ==> same as bytes but values in arary\n",
    "#8.range ==> to represrent a range of numbers\n",
    "#9.list ==> list of values\n",
    "#10.tuple ==>list of values with some difference from list\n",
    "#11.set==> list of values without duplcates\n",
    "#12.frozenset ==> you can not modify set values\n",
    "#13.dict ===> key-value pairs\n",
    "#14.None ==> to represent null(no value)\n",
    "\n",
    "#IN PYTHON 3 LONG DATA TYPE IS NOT AVAILABLE,IN PYTHON 3 WE CAN REPRESNT LONG WITH INT ITSELF\n",
    "###################################################################################\n",
    "#IN PYTHON EVEYTHING IS AN OBJECT (INCLUDING FUNCTION METHOD FFLOAD INT EVERYTHING)\n",
    "#a=10  ##HERE 10 IS OBJECT AND \"a\" IS \"REFRENCE VARIABLE\" POINTING TO THAT OBJECET. \n",
    "###################################################################################\n",
    "\n",
    "#PYTHON PROVIDES SOME INBUILT FUNCTIONS:\n",
    "#print() ===> TO PRINT VALUE OF OBJECT.\n",
    "#type() ===>TO FIND DATA TYPE OF OBJECT.\n",
    "#id() ===> TO FIND ADDRESS OF OBJECT."
   ]
  },
  {
   "cell_type": "code",
   "execution_count": null,
   "metadata": {},
   "outputs": [],
   "source": [
    "##### INT DATA TYPE#######(NO LONG DATA TYPE IN PYTHON CAN BE DEFINED BY INT ONLY)\n",
    "#THIS DATA TYPE IS USED TO HANDLE INTEGRAL(WHOLE) VALUES.\n",
    "##THERE ARE 4 WAYS TO REPRESENT \"INT\" VALUES\n",
    "#DECIMAL(BASE -10) (0-9)\n",
    "# a=7878 BY DEFAULT WE USE DECIMAL VALUES\n",
    "\n",
    "#BINARY(BASE-2)(0 & 1)\n",
    "# a=1111 ==>THIS IS A DECOMAL VALUE NOT BINARY\n",
    "# TO MAKE ANY NUMBER BINARY WE HEV TO USE \"0B OR 0b\" IN STARTING OF NUMBER\n",
    "#a=0b1111 THIS IS A BINARY NUMBER\n",
    "\n",
    "#Ocatal(base-8)(0-7)\n",
    "#definition : a=0o777 or a=0O777\n",
    "\n",
    "#HEXADECIMAL (BASE-16)(0-9,a-f)(a-f can be used as uppercase or lowercase)\n",
    "#definition : 0X or 0x \n",
    "#a=0xface ,a=0Xbefef\n",
    "\n",
    "#####OUTPUT WILL ONLY BE GIVEN IN DECIMAL FORM############\n",
    "\n",
    "#X=10    \n",
    "#Y=0B10    #INTERNALLY THESE VALUES ARE STORED IN DECIMAL VALUES ONLY.\n",
    "#Z=0O10\n",
    "#A=0X10\n",
    "#print(x)==>10  #OUTPUT WILL BE IN DECIMAL\n",
    "#print(y)==>2   #OUTPUT WILL BE IN DECIMAL\n",
    "#print(z)==>8   #OUTPUT WILL BE IN DECIMAL\n",
    "#print(a)==>16  #OUTPUT WILL BE IN DECIMAL\n",
    "\n",
    "####IF I WANT TO PRINT THE OUTPUT IN DECIMAL,BINARY,OCLAT OR HEXADECIMAL FORM THEN THERE ARE SOME INBUILT FUNCTIONS\n",
    "#1.bin(x) ==> PROVIDE ANY VALUE TO x (DECIMAL,OCATAL,HEXADECIMAL) IT WILL CONVERT INTO BINARY.\n",
    "#2.oct(x) ==> PROVIDE ANY VALUE TO x (DECIMAL,BINARY,HEXADECIMAL) IT WILL CONVERT INTO OCTAL.\n",
    "#3.hex(x) ==> PROVIDE ANY VALUE TO x (DECIMAL,OCATAL,BINARY) IT WILL CONVERT INTO HEXADECIMAL.\n",
    "#EX.bin(15) OUTPUT  ==> '0b1111'\n",
    "#bin(0o777) output  ==> 'ob111111111'\n",
    "#bin(0x1234) OUTPUT ==>'0b1001000110100'\n",
    "\n",
    "\n",
    "#THERE IS NO RANGE FOR INT VALUE IN PYTHON.\n",
    "#INT=8768484868486468484684868644888545845848558\n",
    "#type(int)==> int #OUTPUT WILL BE INT VALUE\n",
    "# IN PYTHON EVERYTHING IS OBJECT SO THERE IS O SIZE ON LIMIT OF INT SIZE."
   ]
  },
  {
   "cell_type": "code",
   "execution_count": null,
   "metadata": {},
   "outputs": [],
   "source": [
    "####FLOAT DATA TYPE ######\n",
    "#THIS DATA TYPE IS USED TO HANDLE/REPRESENT DECIMAL VALUES.\n",
    "#EX. f=1234.56\n",
    "#    type(f)\n",
    "#OUTPUT==> FLOAT\n",
    "###FOR FLOAT ONLY WAY TO DEFINE IS DECIMAL FORM.(BINARY OCALT HEXADECOMAL ARE NOT ALLOWED)\n",
    "#F=0X12321.45 ==>INVALID DEFINITION \n",
    "##FOR FLOAT EXPONENTIAL FORM IS ALLOWED##\n",
    "#F=1.2e3  (equivalent to 1.2*10^3) ==> BIGGER VALUES CAN BE REPRESENTED EASILY EVEN AT MEMORY LEVEL IT USES LESS MEMORY."
   ]
  },
  {
   "cell_type": "code",
   "execution_count": 17,
   "metadata": {},
   "outputs": [],
   "source": [
    "####COMPLEX DATA TYPE######\n",
    "#FORMAT OF COMPLEX NUMBER==> a+bj (a=REAL PART,b =IMAGINARY PART) (j^2=-1)\n",
    "####THE REAL VALUE CAN BE  BINARY OCTAL HEXADECIMAL IMAGINARY PART HAS TO BE DECIMAL ONLY.\n",
    "#EX. A=0B1111+20J  REAL PART IS BINARY IMAGINARY IS DECIMAL.\n",
    "#    A=20+OB1111 ==> INVALID DEFINITION\n",
    "#COMPLEX NUMBER CAN BE ADDED,DIVIED,MULTIPLIED,SUBTRACTED\n",
    "#WE CAN  CAN FIND REAL AND IMAGINARY VALUE OF COMPLES NUMBER BY WRITING CODE\n",
    "# EX. A=10+20J\n",
    "# A.real ==> 10 #OUTPUT WILL BE REAL PART OF COMPLEX NUMBER\n",
    "# A.imag ==> 20.0 #OUTPUL WILL BE COMPLEX\n",
    "\n",
    "# j IS MANDATORY TO REPRESENT COMPLEX TYPE"
   ]
  },
  {
   "cell_type": "code",
   "execution_count": 19,
   "metadata": {},
   "outputs": [],
   "source": [
    "######BOOL DATA TYPE########\n",
    "#ALLOWED VALUES FOR BOOLEAN ARE True & False.\n",
    "# T  of True & F of False SHOULD BE CAPITAL.\n",
    "# B=true ==> INVALID DEFINITION\n",
    "# B=True ==> VALID DEFINITON ==>type(B)==> bool\n",
    "#a,b=10,20\n",
    "#c=a>b \n",
    "#print(c) #OUTPUT==>False  #OUTPUT WILL BE BOOL VALUE\n",
    "#print(type(c))  ==>bool\n",
    "#True+True= 2 ==> OUTPUT IS DECIMAL 2\n",
    "#True+False= 1 ==> OUTPUT IS DECIMAL 1\n",
    "##INTERNALLY IN PYTHON AT MEMORY LEVEL TRUE AND FALSE ARE CONSIDERED AS 1 & 0.\n"
   ]
  },
  {
   "cell_type": "code",
   "execution_count": 20,
   "metadata": {},
   "outputs": [],
   "source": [
    "##### STRING(SRT)DATA TYPE#######(NO DISTINCT CHAR DATA TYPE IN PYTHON,IT IS DEFINED BY STR IN PYTHON)\n",
    "#ANY SEQUENCE OF CHARCATER.\n",
    "#EX.HYDERABAD IS NOT A STRING IN PYTHON \n",
    "#BUT \"HYDERABAD\",'HYDERABAD' WITH DOUBLE QUOTES OR SINGLE QUOTES IS CONSIDERED AS STRING.\n",
    "#EX:  s=\"hyderabad\"  type(s) ===>str\n",
    "#SINGLE QUOTE OR DOUBLE QUOTE CAN ONLY DEFINE STRING IN SINGLE LINE\n",
    "#EX. S=\"HYDERABAD IS GREAT CITY\" ==>VALID DEFINITION\n",
    "#S= \"HYDERBAD\n",
    "#    IS GREAT CITY\"  ==>INVALID DEFINITION 2 LINES ARE USED IN DOUBLE QUOTES.\n",
    "# TO USE MULTI LINE STRING WE USE TRIPLE QUOTES\n",
    "#S= \"\"\"HYDERBAD\n",
    "#    IS GREAT CITY\"\"\" ==> VALID DEFINITION\n",
    "# IT CAN BE TRIPLE SINGLE QUOTE OR TRIPLE DOUBLE QUOTES.\n",
    "#IF WE ALREADY HAVE A QUOTE IN THE STRING WE WANT TO USE THEN IT WILL HANDELED BY USING ->SINGLE OR DOUBLE- TRIPLE QUOTES.\n",
    "#EX: IF WE WANT TO PRINT --> MBA \"PYTHON\" CLASSES ARE REALLY HELPFUL.\n",
    "#THEN WE WILL USE TRIPLE QUOTES\n",
    "# S=\"\"\"MBA \"PYTHON\" CLASSES ARE REALLY HELPFUL\"\"\"\n",
    "# print(S)\n",
    "# STRING HAVE SPECIAL PREFRENCE IN ANY PROGRAMING LANGUAGE.\n",
    "\n",
    "#### NOTICE HOW QUOTES ARE USED TO HANDLE QUOTES IN STRING####\n",
    "#s=\"Python in \\\"Mba\\\" is Good\"\n",
    "#s='Python in \"Mba\" is Good'\n",
    "#s=\"Python in 'Mba' is Good\"\n",
    "#s=\"\"\"Python in \"MBA\" is Good and 'course' is good\"\"\"\n",
    "\n",
    "\n",
    "#######SLICE OPERATOR#### (SLICE MEANS \"PEICE\")\n",
    "# S= \"MBA CLASSES ARE REALLY HELPFUL\"\n",
    "# S[2:8] THIS WILL GIVE SLICE OF STRING S \n",
    "# OUTPUT==>'A CLAS' #WE SELCETED A SUBSTRING\n",
    "# S[BEGIN:END] ==> \"SLICING OPERATOR\"\n",
    "# 2 & 8 ARE INDEX VALUES.FIRST VALUE IS STARTING VALUE SECOND IS ENDING VALUE\n",
    "# ENDING VALUE IS ALWAYS COUNTED UPT0 (N-1) i.e ENDING VALUE WILL BE COUNTED UPTO 7 ONLY.\n",
    "# INDEXING CAN BE BOTH POSITIVE AND NEGATIVE\n",
    "# POSITIVE INDEXING STARTS FROM 0  #COUNTED FROM LEFT TO RIGHT.\n",
    "# NEGATIVE INDEXING STARTS FROM -1 #COUNTED FROM RIGHT TO LEFT.\n",
    "# STARTING VALUE SHOULD BE LOWER AND ENDING SHOULD BE HIGHER. EX:S[-4:-1].\n",
    "# END AND BEGINING ARE OPTIONAL.\n",
    "# WE CAN SLICE BY USING S[BEGIN:] OR S[:END]\n",
    "# EX: S= \"PYTHON\"\n",
    "# S[1:],S[:4],S[-1:-4]\n",
    "#IN SLICE OPERATOR WE DOT GET ERROR\n",
    "\n",
    "####SLICE WITH GAP#####\n",
    "#    S[START:END:STEP]\n",
    "# EX: S= \"PYTHONISGREATLANGUAGE\"\n",
    "#     S[0:10:2] OUTPUT==>'PTOIG' # GAP OF TWO VALUES\n",
    "\n",
    "# WE CAN PRINT SAME STRING MULTIPLE TIME BY USING ULTIPLICATION WITH INTEGER.\n",
    "# EX S='PYTHON'  WITHOUT USING FOR-LOOP WE ARE PRINTING STRING MULTIPLE STRING\n",
    "     print(S*15)\n",
    "#OUTPUT ==> PYTHONPYTHONPYTHONPYTHONPYTHON\n",
    "#WE CA FIND LENGTH OF STRING BY USIN len(S):\n",
    "# S='PYTHON' \n",
    "# len(S) # OUTPUT ==> 6"
   ]
  },
  {
   "cell_type": "code",
   "execution_count": null,
   "metadata": {},
   "outputs": [],
   "source": [
    "#TYPE CASTING OR TYPE COERSION\n",
    "#WE CAN CONVERT THE DATA TYPES \n",
    "#int()\n",
    "#float()\n",
    "#complex()\n",
    "#bool()\n",
    "#str()\n",
    "\n",
    "\n",
    "#EXAMPLE:\n",
    "#int(123.456)==> 123 #OUTPUT ONLY INTEGER VALUE\n",
    "#int(10+20j)==>TYPE ERROR #WE CANNOT CONVERT COMPLEX TO INT.\n",
    "#int(True)==> 1\n",
    "#int(\"10\")==> 10 ,int(10.5)==> 10 #AS ALWAYS IS INT VALUE.\n",
    "#IF WE WANT TO CONVERT STRING INTO INT IT SHOULD BE IN DECIMAL(BASE-10) ONLY.BINALY OCTAL OR HEXADECIMAL ARE NOT ALLOWED\n",
    "#int(ob111)==> VALUE ERROR (BASE-10) NOT PRESENT.\n",
    "\n",
    "\n",
    "# float(10)==> 10.0 #DECIMAL VALUE WILL BE ADDED (.0)\n",
    "# float(10+20j)==> TYPE ERROR #COMPLEX CANT BE CONVERTED TO FLOAT.\n",
    "# float(True)==> 1.0 # True IS CONSIDERED AS 1 AT MEMORY LEVEL IN PYTHON.(DECIMAL VALUE)\n",
    "# float(\"10\")==> 10.0 float(\"10.5\")==> 10.5\n",
    "# float(\"ten\")==> VALUE ARE NOT DECIMAL (BASE-10).\n",
    "# float(0b1111)==> VALUE ERROT ONLY DECIMAL(BASE-10) ARE ALLOWED.\n",
    "\n",
    "# complex(10)==(10+0j),complex(10+.5j)==>(10.5+0j)\n",
    "#complex(True)==>(1+0j),complex(Fasle)==> (0j)\n",
    "#complex(\"10\")==>(10+0j),complex(\"10.5\")==>(10.5+0j)\n",
    "#complex(\"ten\")==> VALUE ERROR\n",
    "\n",
    "#comlex(10,20)==>(10+20j)\n",
    "#complex(True,False)==>(1+0j)\n",
    "#complex(10,20.5)==>(10+20.5j)\n",
    "#complex(\"10\",\"20\")==> WE CANNOT PASS TWO ARGUMENTS WEHN WE TAKE STRING VALUES.\n",
    "\n",
    "#bool(0)==>False\n",
    "#bool(10)==>True #FLASE FOR ZERO TRUE FOR NON ZERO.\n",
    "#bool(-10)==>True\n",
    "#bool(0.0)==>False #BEFORE AND AFTER DECIMAL SHOULD BE ZERO TO GET FALSE.\n",
    "#bool(0.8)==>True #FLASE FOR 0.0 TRUE FOR NON ZERO.\n",
    "#bool(10+20j)==>True #IF BOTH REAL & IMAGINAY PART ARE 0 THEN ONLY WE GET FALSE ELSE WE GET TRUE.\n",
    "#bool(0+0j)==>Flase\n",
    "#bool(0+1j)==>True\n",
    "#bool('')==>False #FOR ONLY EMPTY SRTING WE GET False OR WE GET TRUE\n",
    "#bool(\"python\")==> True\n",
    "#bool(\" \")==> True ==>HERE STRING HAVE ONE SPACE AND EVEN THAT IS CONSIDERED AS CAHRCTER IN PYTHON.\n",
    "\n",
    "\n",
    "#str(10)==>\"10\"\n",
    "#str(10.5)==>\"10.5\"\n",
    "#str(True)==>\"True\"\n",
    "#str(False)==>\"False\"\n",
    "#str(10+20j)==>\"10+20j\"\n",
    "#THERE IS NO RESTRICTION ON str() function."
   ]
  },
  {
   "cell_type": "code",
   "execution_count": 31,
   "metadata": {},
   "outputs": [],
   "source": [
    "#IMMUTABLE VS FUNDAMENTAL DATA TYPES(INT,FLOAT,BOOL,STRING,COMPLEX)\n",
    "# \"ALL FUNDAMENTAL DATA TYEPES ARE IMMUTABLE\"\n",
    "# \"ONCE WE CREATE AN OBJECT WE CAN NOT CHANGE IT\"\n",
    "#IF SOMEBODY IS TRYING TO CAHNE THE VALUE OF THAT OBJECT A NEW OBJECT WITH CHANGED VALUE WILL BE CREATED,BUT THE OLD VALUE WILL NOT CHANGE\"\n",
    "#THIS \"NON-CHANGEABLE\" NATURE IS COSIDERED AS IMMUTABLE.\n",
    "#IF X=10 THEN THE VALUE OF X IS 10 \n",
    "#IF I DO X=11 \n",
    "#THEN WE ARE TRYING TO CHANGE THE OJECT CONTENT,\n",
    "#BUT NOW X WILL POINT TOWARDS 11 AND 10 WILL GO FOR GARBAGE COLLECTION\n",
    "#NEW OBJECT WILL BE CREATED INTERNALLY AND THEN X WILL POINT TO CONTENT VALUE 11.\n",
    "\n",
    "#IF X=10 & Y=10 THEN X & Y BOTH POINT TOWARDS SAME OBJECT 10 TO SAVE MOMORY & IMPROVE PERFORMANCE.\n",
    "id(X),id(Y)=1844997472 #SAME FOR BOTH.\n",
    "#MULTIPLE REFRENCES CAN POINT TOWARD SINGLE CONTENT THATS WHY IMMUTABLITY CONCEPT IS REQUIRED.\n",
    "#IF ANY REFRENCE WANTS NEW VALUE THEN NEW OBJECT WITH NEW VALUE WILL BE CREATED\n",
    "#FOR MEMORY UTILIZATION AND PERFORMANCE IMPROVEMENT IMMUTABLITY IS REQUIRED\n",
    "#EVERYTHING IN PYHTON IS OBJECT.\n",
    "#########################################################\n",
    "\n",
    "#X=10,Y=10\n",
    "#WE WANT TO CHECK IF X IS Y ? (IS OPERATOR IS USED)\n",
    "#ANSWER WILL BE TRUE\n",
    "# Y IS X\n",
    "#ANSWER WILL BE TRUE\n",
    "# SIMILARLY #X=True,Y=True,Z=True \n",
    "#X IS Y ==> TRUE, Y IS X==> TRUE ,Z IS X ==> TRUE\n",
    "\n",
    "######BUT X=257 ,Y=257\n",
    "###### X IS Y ==> False ## BECAUSE REUSING SAME OBJECT IN INT IS VALID FROM 0-256 ONLY.\n",
    "####ID WILL ALSO BE DIFFERENT.\n",
    "##WHY RANGE IS 0 TO 256 BECAUSE IT IS THE COMMONLY USED RANGE.\n",
    "# WE CANNOT MAKE LARGE RANEG BECAUSE WE HAVE TO CREATE TAHT MUCH OBJECTS AT START AND THE PERFORMANCE WILL BE DECREASED.\n",
    "\n",
    "######X=10.0 , Y=10.0\n",
    "######X IS Y ==> Fasle FOR FLOAT REUSEABITY IS NOT AVAILABLE\n",
    "#FOR FLOAT THERE ARE INFINTIE VALUE BETWEEN TWO NUMBER HENCE IT IS IMMOSIBLE TO DEFINE A RANGE .\n",
    "\n",
    "#######X=10+20J,Y=10+20J\n",
    "########X IS Y ==> False\n",
    "#FOR COMPLEX THERE ARE INFINTIE VALUE BETWEEN TWO NUMBER HENCE IT IS IMMOSIBLE TO DEFINE A RANGE .  \n",
    "\n",
    "#FOR STRING SHARING IS AVAIABLE"
   ]
  },
  {
   "cell_type": "code",
   "execution_count": 57,
   "metadata": {},
   "outputs": [],
   "source": [
    "######BYTE DATA TYPE#####\n",
    "#IT IS SOMETHING LIKE AN ARRAY IF WE WANT GROUP OF VALUES THEN WE CAN TAKE BYTES DATA TYPE.\n",
    "\n",
    "#x=[10,20,30,40]\n",
    "#b=byte(X)\n",
    "#b is byte data type which contains 4 objects we can acces the objects by using:\n",
    "#b[1],b[0],[b-1],\n",
    "#b[1:3] ==>SOME RANDOM VALUE(NOT ERROR)\n",
    "\n",
    "#IN BYTES DATA TYPE EVERY VALUE SHOULD BE IN THE RANGE 0-256\n",
    "#X=[20,26,256,258]\n",
    "B=bytes(X) ===> VALUE ERROR VALUES MUST BE IN RANGE 0-256\n",
    "#BYTES DATA TYPE IS IMMUTABLE\n",
    "#X=[10,20,30,40]\n",
    "#B=bytes(X)\n",
    "#b[0]=120 #ITEM ASSIGNMENT IS NOT SUPPORTED"
   ]
  },
  {
   "cell_type": "code",
   "execution_count": null,
   "metadata": {},
   "outputs": [],
   "source": [
    "#####BYTE-ARRAY DATA TYPE######\n",
    "#BOTH BYTES & BYTES-ARRAY ARE SAME ONLY DIFFERENCE IS:\n",
    "#BYTE-ARRAY ARE MUTABLE AND BYTES ARE IMMUTABLE.\n",
    "#x=[10,20,30,40,50]\n",
    "#b=bytearray(x)\n",
    "#b[0]=120 ===>VALID ASSIGNMENT BYTE-ARRAY IS MUTABLE\n",
    "#BYTE ARRAY SHOULD BE IN RANGE 0-256"
   ]
  },
  {
   "cell_type": "code",
   "execution_count": null,
   "metadata": {},
   "outputs": [],
   "source": [
    "#IF OUR REQIUREMENTIS BETWEEN -0-256 THEN WE CAN USE BYTE OR BYTE ARRAY\n",
    "#IF WE WANT TO REPRESENT BINARY DATA LIKE IMAGE AND VIDEO FILES THEN WE USE BYTES AND BYTEARRAY."
   ]
  },
  {
   "cell_type": "code",
   "execution_count": null,
   "metadata": {},
   "outputs": [],
   "source": [
    "#####LIST DATA TYPE#######\n",
    "#IF WE WANT TO REPRESNT A GROUP OF VALUE AS SINGLE ENTITY WHERE INSERTION ORDER IS PRESERVED AND DUPLICATES ARE ALLOWED THEN WE SHOULD GO FOR LIST DATA TYPE.\n",
    "#LIST IS CREATED BY USING SQUARE==> [] BRACKETS.\n",
    "#EX. L=[] #EMPTY LIST.\n",
    "#L.append[10],L.append[20],L.append[30],print(L)\n",
    "##append IS USED TO INSERT VALUE INTO LIST\n",
    "#OUTPUT==> L=[10,20,30] #THE INSERTION ORDER IS PRESERVED.\n",
    "#L.append[None] prit(L)\n",
    "#OUTPUT==> L=[10,20,30,NONE]\n",
    "#IT SUPPORT INDEXING & SLICING.WE CAN EXTRACT OBJECT BY USING INDEXING \n",
    "#### NOTE########\n",
    "#ORDER IS SUPPORTED \n",
    "#DUPLICATES ARE ALLOWED\n",
    "#HETEROGENEOUS DATA TYPES ARE ALLOWED\n",
    "#GROWABLE\n",
    "#LIST IS MUTABLE\n",
    "#VALUES SHOULD BE ENCLOSED WITH []\n",
    "## WE CAN ALSO REMOVE THE VALUES  USING L.remove()\n",
    "#INDEX CN BE +VE(LEFT TO RIGHT) OR -VE(RIGHT TO LEFT)\n",
    "#SLICE OPERATOR IS ALSO APPLICABLE\n",
    "#STAR OPERATOR (*) =>WE CAN ALSO ADD SAME OBJECTS BY MULTIPLYING\n",
    "#L=[20,20,40,\"THE\"]\n",
    "# M=L*2 print(M)\n",
    "#OUTPUT==> [20,20,40,\"THE\",20,20,40,\"THE\"]\n",
    "\n",
    "\n",
    "#IF I WANT IMMUTABLITY THEN I WILL USE TUPLE "
   ]
  },
  {
   "cell_type": "code",
   "execution_count": null,
   "metadata": {},
   "outputs": [],
   "source": [
    "######TUPLE DATA TYPE#######\n",
    "#DIFFERENCE ==> LIST IS IMMUTABLE ,TUPLE IS MUTABLE\n",
    "#ALL OTHER POINTS ARE SAME AS LIST\n",
    "#THERE IS NO VALUE RANGE LIMIT\n",
    "#TUPLE IS REPRESENTED INSIDE PARENTHESIS ()\n",
    "#T=(10,20,30)"
   ]
  },
  {
   "cell_type": "code",
   "execution_count": null,
   "metadata": {},
   "outputs": [],
   "source": [
    "#####RANGE DATA TYPE#####\n",
    "#RANGE REPRESENT A SEQUENCE OF VALUES (NUMBERS)\n",
    "#RANGE DATA TYPE IS ALWAYS IMMUTABLe\n",
    "#RANGE SUPPORT SLICING AND INDEXING.\n",
    "#FORM 1 ==>range(10) ==> IT REPRESENT VALUES FROM 0 TO 9 )(ZERO TO N-1)\n",
    "#R=range(10)\n",
    "#R[0]=777 ===> INVALID BECASUSE RANGE IS IMMUTABLE\n",
    "#FORM 2==> r=range(10,30)\n",
    "#range(start,end) ## END= (N-1)\n",
    "#FORM 3==>r=range(10,50,5)\n",
    "#range(start,end,step)\n",
    "\n",
    "### RANGE IS NOT APPLICABLE FOR FLOAT VALUES\n",
    "# R=range(10.5,50.8)===> VALUE ERROR NOT APPLICABLE ON FLOAT VALUES "
   ]
  },
  {
   "cell_type": "code",
   "execution_count": null,
   "metadata": {},
   "outputs": [],
   "source": [
    "####SET DATA TYPE######\n",
    "# DIFFERENCE BETWEEN SET AND LIST?\n",
    "# LIST=ORDER & DUPLICATE OF VALUES IS ALOWED \n",
    "# SET=\"ORDER\" IS NOT IMPORTANT & \"DUPLICATE\" ARE NOT ALLOWED\n",
    "# IT IS DEFINED IN CURLY BRACES ==> {}\n",
    "\n",
    "#S={10,20,30,10,20,30} ===>VALID DEFINITION BUT OUTPUT WILL BE DIFFERENT\n",
    "#print(S)\n",
    "#OUTPUT==> 10,20,30  \n",
    "\n",
    "#SETS ARE MUTABLE:\n",
    "#S={10,20,30}\n",
    "#S.add(\"python\")\n",
    "#OUTPUT ==> \"10,20,30,python\"\n",
    "\n",
    "# INDEXING  SLICING ARE NOT APPLICABLE IN SETS BECAUSE INTERALLY THERE IS NO INDEXING.\n",
    "#S={10,20,30}\n",
    "#S[0]  ===> TYPE ERROR ,SET DONT SUPORT SLICING\n",
    "#S[1:3]==> TYPE ERROR,SET DONT SUPPORT SLICING\n",
    "\n",
    "#TO CREATE A EMPTY SET WE NEED TO USE\n",
    "#s=set()\n",
    "\n",
    "####NOTE###\n",
    "#INSERTION ORDER IS NOT PRESERVED\n",
    "#DUPLICATES ARE NOT ALLOWED\n",
    "#HETEROGENOUS OBJECTS AR ALLOWED\n",
    "#INDEXING IS NOT ALLOWED\n",
    "#SLICNG IS NOT ALLOWED\n",
    "#SET IS MUTABLE \n",
    "#SET IS GROWABLE\n",
    "\n",
    "#s=(10,20,30,40)'# \n",
    "# fs=frozenset(s)\n",
    "# fs ==> ({40,20,10,30}) ==> ORDER IS NOT MAINTAINED\n",
    "##3 FROZENSET DOES NOT SUPPOR fs.add() or fs.remove()\n",
    "##FROZENSET IS IMMUTABLE\n"
   ]
  },
  {
   "cell_type": "code",
   "execution_count": null,
   "metadata": {},
   "outputs": [],
   "source": [
    "#####DICTONARY DATA TYPE#######\n",
    "#DICTONARY IS GROUP OF KEY VALUE PAIR\n",
    "#DUPLICATE KEYS ARE NOT ALLOWED BUT VALUES ARE ALLOWED\n",
    "#D= {100:\"DURGA\",200:\"SITA\",300:\"MATA\"}\n",
    "#KEY AND VALUE CAN BE ANY TYPE OF OBJECT\n",
    "#D={} ==> IS IT A SET OR DICTONARY?\n",
    "#IT IS BY DEFAULT ALWAYS TREATED AS DICTONARY.\n",
    "\n",
    "#DICTONARY IS MUTABLE WE CAN ADD VALUES IN THE DICTONARY\n",
    "#D= {100:\"DURGA\",200:\"SITA\",300:\"MATA\"}\n",
    "#D[400]=\"PITA\" #THIS VALUE WILL BE ADDED TO DICTONARY D\n",
    "#ORDER IS NOT IMPORTANT IN DICTONARY\n",
    "#IF WE TRY TO INSERT ENTRY WITH DUPLICAE KEY WE DINT GET VALUE BIT THE VALUE IS REPLCED BY NEW VALUE\n",
    "# "
   ]
  },
  {
   "cell_type": "code",
   "execution_count": null,
   "metadata": {},
   "outputs": [],
   "source": [
    "####NONE DATA TYPE#################\n",
    "#NON REPRESET NO VALUE ASSOCIATION OR NO VALUE\n",
    "#def f1():a=10 #FUNCTION f1() IS RETURNING NOTHING SO THE OUTPUT IS \"NONE\"  #NONE IS USED TO HANDLE SUCH SENARIOS\n",
    "print(f1())   #THERE IS NO VALUE SO NONE WILL BE ASSIGNED TO F1()\n",
    "#OUTPUT==> None\n",
    "\n",
    "#def f2():print(\"hello dont be like none\""
   ]
  },
  {
   "cell_type": "code",
   "execution_count": 75,
   "metadata": {},
   "outputs": [],
   "source": [
    "#### ESCAPE CHARACTER#######\n",
    "# \\n,\\t,\\r,\\b,\\f,\\',\\\"\",\\\\,\\\\v.....\n",
    "\n",
    "#######CONSTANT########\n",
    "THERE IS NO WAY TO DEFINE CONSTANT  IN PYTHON\n"
   ]
  },
  {
   "cell_type": "code",
   "execution_count": null,
   "metadata": {},
   "outputs": [],
   "source": []
  },
  {
   "cell_type": "code",
   "execution_count": 21,
   "metadata": {},
   "outputs": [
    {
     "name": "stdout",
     "output_type": "stream",
     "text": [
      "hello world\n"
     ]
    }
   ],
   "source": [
    "print(\"hello world\") #FIRST PROGRAM"
   ]
  },
  {
   "cell_type": "code",
   "execution_count": 3,
   "metadata": {},
   "outputs": [
    {
     "name": "stdout",
     "output_type": "stream",
     "text": [
      "50\n"
     ]
    }
   ],
   "source": [
    "A,B=20,30   #ADDING TWO NUMBERS\n",
    "print(A+B)"
   ]
  },
  {
   "cell_type": "code",
   "execution_count": 43,
   "metadata": {},
   "outputs": [
    {
     "name": "stdout",
     "output_type": "stream",
     "text": [
      "270.5\n"
     ]
    }
   ],
   "source": [
    "a,b,c,d,e,f=20,30.5,40,50,60,70  #adding 6 numbers\n",
    "print(a+b+c+d+e+f)"
   ]
  },
  {
   "cell_type": "markdown",
   "metadata": {},
   "source": [
    "TYPE OF ALL VARIABLES"
   ]
  },
  {
   "cell_type": "code",
   "execution_count": 44,
   "metadata": {},
   "outputs": [
    {
     "data": {
      "text/plain": [
       "(bool, int, int, float, int, int, int)"
      ]
     },
     "execution_count": 44,
     "metadata": {},
     "output_type": "execute_result"
    }
   ],
   "source": [
    "type(A),type(B),type(a),type(b),type(d),type(e),type(f)"
   ]
  },
  {
   "cell_type": "code",
   "execution_count": 18,
   "metadata": {},
   "outputs": [
    {
     "data": {
      "text/plain": [
       "bool"
      ]
     },
     "execution_count": 18,
     "metadata": {},
     "output_type": "execute_result"
    }
   ],
   "source": [
    "A=True  # ASSIGNING BOOLEAN VALUE TO A AND IT WILL NOW BE TREATED A BOOLEAN BEFORE IT WAS \"INT\".\n",
    "type(A) #CHECKING TYPE"
   ]
  },
  {
   "cell_type": "code",
   "execution_count": 24,
   "metadata": {},
   "outputs": [],
   "source": [
    "def f1():print(\"good evening\") #DEFINED FUNCTION f1() TO PRINT \"GOOD EVENING\""
   ]
  },
  {
   "cell_type": "code",
   "execution_count": 25,
   "metadata": {},
   "outputs": [
    {
     "name": "stdout",
     "output_type": "stream",
     "text": [
      "good evening\n"
     ]
    }
   ],
   "source": [
    "f1() "
   ]
  },
  {
   "cell_type": "code",
   "execution_count": 33,
   "metadata": {},
   "outputs": [
    {
     "name": "stdout",
     "output_type": "stream",
     "text": [
      "0\n",
      "1\n",
      "2\n",
      "3\n",
      "4\n",
      "5\n",
      "6\n",
      "7\n",
      "8\n",
      "9\n"
     ]
    }
   ],
   "source": [
    "for i in range(10): #PRINTING 0 TO 9\n",
    "    print(i)"
   ]
  },
  {
   "cell_type": "code",
   "execution_count": 40,
   "metadata": {},
   "outputs": [
    {
     "data": {
      "text/plain": [
       "30"
      ]
     },
     "execution_count": 40,
     "metadata": {},
     "output_type": "execute_result"
    }
   ],
   "source": [
    "a,b=30,50   #DEFINIG VARIABLE USING IF ELSE\n",
    "X=20 if a>b else 30\n",
    "X"
   ]
  },
  {
   "cell_type": "code",
   "execution_count": 42,
   "metadata": {},
   "outputs": [
    {
     "name": "stdout",
     "output_type": "stream",
     "text": [
      "hello\n"
     ]
    }
   ],
   "source": [
    "x=10        \n",
    "if x==10:\n",
    "    print(\"hello\")\n",
    "else:\n",
    "    print(\"yellow\")"
   ]
  },
  {
   "cell_type": "code",
   "execution_count": 1,
   "metadata": {},
   "outputs": [
    {
     "data": {
      "text/plain": [
       "['False',\n",
       " 'None',\n",
       " 'True',\n",
       " 'and',\n",
       " 'as',\n",
       " 'assert',\n",
       " 'async',\n",
       " 'await',\n",
       " 'break',\n",
       " 'class',\n",
       " 'continue',\n",
       " 'def',\n",
       " 'del',\n",
       " 'elif',\n",
       " 'else',\n",
       " 'except',\n",
       " 'finally',\n",
       " 'for',\n",
       " 'from',\n",
       " 'global',\n",
       " 'if',\n",
       " 'import',\n",
       " 'in',\n",
       " 'is',\n",
       " 'lambda',\n",
       " 'nonlocal',\n",
       " 'not',\n",
       " 'or',\n",
       " 'pass',\n",
       " 'raise',\n",
       " 'return',\n",
       " 'try',\n",
       " 'while',\n",
       " 'with',\n",
       " 'yield']"
      ]
     },
     "execution_count": 1,
     "metadata": {},
     "output_type": "execute_result"
    }
   ],
   "source": [
    "import keyword  #importing keyword module\n",
    "keyword.kwlist  #printing keyword list"
   ]
  },
  {
   "cell_type": "code",
   "execution_count": 4,
   "metadata": {},
   "outputs": [
    {
     "name": "stdout",
     "output_type": "stream",
     "text": [
      "10\n"
     ]
    },
    {
     "data": {
      "text/plain": [
       "(int, 94671179453504)"
      ]
     },
     "execution_count": 4,
     "metadata": {},
     "output_type": "execute_result"
    }
   ],
   "source": [
    "a=10     #object is 10,, varibale is a \n",
    "print(a)\n",
    "type(a),id(a) # to check data type & address of object."
   ]
  },
  {
   "cell_type": "code",
   "execution_count": 12,
   "metadata": {},
   "outputs": [
    {
     "name": "stdout",
     "output_type": "stream",
     "text": [
      "1111\n",
      "15\n",
      "-15\n",
      "511\n",
      "64206\n"
     ]
    }
   ],
   "source": [
    "a=1111   #decimal\n",
    "print(a)\n",
    "b=0b1111 #binary \n",
    "print(b)  # (output will be int value)\n",
    "c=-0b1111 # (minus sign before the number)\n",
    "print(c)  # (output will be int value)\n",
    "d=0o777  #octal \n",
    "print(d)  # (output will be int value) \n",
    "e=0xfacE #hexadecimal\n",
    "print(e)  # (output will be int value) "
   ]
  },
  {
   "cell_type": "code",
   "execution_count": 8,
   "metadata": {},
   "outputs": [
    {
     "data": {
      "text/plain": [
       "int"
      ]
     },
     "execution_count": 8,
     "metadata": {},
     "output_type": "execute_result"
    }
   ],
   "source": [
    "INT=8768484868486468484684868644888545845848558\n",
    "type(INT)  # NO LIMIT ON RANGE OF INTEGER COMPARED TO JAVA."
   ]
  },
  {
   "cell_type": "code",
   "execution_count": 11,
   "metadata": {},
   "outputs": [
    {
     "name": "stdout",
     "output_type": "stream",
     "text": [
      "0b1111\n",
      "0b111111111\n",
      "0b1001000110100\n"
     ]
    }
   ],
   "source": [
    "print(bin(15))   #INPUT DECIMAL\n",
    "print(bin(0o777)) #INPUT OCATAL\n",
    "print(bin(0x1234)) #INPUT HEXADECIMAL"
   ]
  },
  {
   "cell_type": "code",
   "execution_count": 14,
   "metadata": {},
   "outputs": [
    {
     "name": "stdout",
     "output_type": "stream",
     "text": [
      "0xa\n",
      "0x4195\n"
     ]
    }
   ],
   "source": [
    "print(hex(10))     #INPUT DECIMAL (10=A)\n",
    "print(hex(16789))  #INPUT DECIMAL"
   ]
  },
  {
   "cell_type": "code",
   "execution_count": 16,
   "metadata": {},
   "outputs": [
    {
     "name": "stdout",
     "output_type": "stream",
     "text": [
      "1200.0\n"
     ]
    }
   ],
   "source": [
    "F=1.2e3\n",
    "print(F)"
   ]
  },
  {
   "cell_type": "code",
   "execution_count": 23,
   "metadata": {},
   "outputs": [
    {
     "name": "stdout",
     "output_type": "stream",
     "text": [
      "False\n",
      "<class 'bool'>\n"
     ]
    }
   ],
   "source": [
    "a,b=10,20\n",
    "c=a>b \n",
    "print(c)        #OUTPUT WILL BE BOOL VALUE\n",
    "print(type(c))"
   ]
  },
  {
   "cell_type": "code",
   "execution_count": 3,
   "metadata": {},
   "outputs": [
    {
     "data": {
      "text/plain": [
       "(2, 1, 1.0, 0.0)"
      ]
     },
     "execution_count": 3,
     "metadata": {},
     "output_type": "execute_result"
    }
   ],
   "source": [
    "True+True,True+False,True/True,False/True "
   ]
  },
  {
   "cell_type": "code",
   "execution_count": 2,
   "metadata": {},
   "outputs": [
    {
     "name": "stdout",
     "output_type": "stream",
     "text": [
      "MBA \"PYTHON\" CLASSES ARE REALLY HELPFUL\n"
     ]
    }
   ],
   "source": [
    "S=\"\"\"MBA \"PYTHON\" CLASSES ARE REALLY HELPFUL\"\"\"  #USE OF TRIPLE QUOTES TO HANDLE QUOTES IN THE STRING.\n",
    "print(S)"
   ]
  },
  {
   "cell_type": "code",
   "execution_count": 12,
   "metadata": {},
   "outputs": [
    {
     "data": {
      "text/plain": [
       "('N', 'O', 'H', 'T', 'Y', 'P', 'YTH', 'TH')"
      ]
     },
     "execution_count": 12,
     "metadata": {},
     "output_type": "execute_result"
    }
   ],
   "source": [
    "S= \"PYTHON\"\n",
    "S[-1],S[-2],S[-3],S[-4],S[-5],S[-6],S[1:4],S[2:4]\n"
   ]
  },
  {
   "cell_type": "code",
   "execution_count": 14,
   "metadata": {},
   "outputs": [
    {
     "data": {
      "text/plain": [
       "('YTHON', 'PYTH', '', 'THO')"
      ]
     },
     "execution_count": 14,
     "metadata": {},
     "output_type": "execute_result"
    }
   ],
   "source": [
    "S= \"PYTHON\"\n",
    "S[1:],S[:4],S[-1:-4],S[-4:-1]"
   ]
  },
  {
   "cell_type": "code",
   "execution_count": 15,
   "metadata": {},
   "outputs": [
    {
     "data": {
      "text/plain": [
       "('', 'THO')"
      ]
     },
     "execution_count": 15,
     "metadata": {},
     "output_type": "execute_result"
    }
   ],
   "source": [
    "S= \"PYTHON\"\n",
    "S[-1:-4],S[-4:-1]"
   ]
  },
  {
   "cell_type": "code",
   "execution_count": 20,
   "metadata": {},
   "outputs": [
    {
     "data": {
      "text/plain": [
       "'PTOIG'"
      ]
     },
     "execution_count": 20,
     "metadata": {},
     "output_type": "execute_result"
    }
   ],
   "source": [
    "S= \"PYTHONISGREATLANGUAGE\"\n",
    "S[0:10:2]"
   ]
  },
  {
   "cell_type": "code",
   "execution_count": 23,
   "metadata": {},
   "outputs": [
    {
     "name": "stdout",
     "output_type": "stream",
     "text": [
      "PYTHONPYTHONPYTHONPYTHONPYTHON\n"
     ]
    }
   ],
   "source": [
    "S='PYTHON'\n",
    "print(S*5)"
   ]
  },
  {
   "cell_type": "code",
   "execution_count": 25,
   "metadata": {},
   "outputs": [
    {
     "data": {
      "text/plain": [
       "6"
      ]
     },
     "execution_count": 25,
     "metadata": {},
     "output_type": "execute_result"
    }
   ],
   "source": [
    "S='PYTHON'\n",
    "len(S)"
   ]
  },
  {
   "cell_type": "code",
   "execution_count": 27,
   "metadata": {},
   "outputs": [
    {
     "data": {
      "text/plain": [
       "(123, 1)"
      ]
     },
     "execution_count": 27,
     "metadata": {},
     "output_type": "execute_result"
    }
   ],
   "source": [
    "int(123.456),int(True)"
   ]
  },
  {
   "cell_type": "code",
   "execution_count": 32,
   "metadata": {},
   "outputs": [
    {
     "data": {
      "text/plain": [
       "1844997472"
      ]
     },
     "execution_count": 32,
     "metadata": {},
     "output_type": "execute_result"
    }
   ],
   "source": [
    "X=10\n",
    "id(X)"
   ]
  },
  {
   "cell_type": "code",
   "execution_count": 33,
   "metadata": {},
   "outputs": [
    {
     "data": {
      "text/plain": [
       "1844997472"
      ]
     },
     "execution_count": 33,
     "metadata": {},
     "output_type": "execute_result"
    }
   ],
   "source": [
    "Y=10\n",
    "id(Y)"
   ]
  },
  {
   "cell_type": "code",
   "execution_count": 36,
   "metadata": {},
   "outputs": [
    {
     "data": {
      "text/plain": [
       "(2807734342856, 2807734342856, 2807734342856)"
      ]
     },
     "execution_count": 36,
     "metadata": {},
     "output_type": "execute_result"
    }
   ],
   "source": [
    "V1=\"PY\"\n",
    "V2=\"PY\"\n",
    "V3=\"PY\"\n",
    "id(V1),id(V2),id(V3) #WE WIL GET SAME ID BECAUSE V1,V2,V3 POINT TOWARD SAME OBJECT"
   ]
  },
  {
   "cell_type": "code",
   "execution_count": 37,
   "metadata": {},
   "outputs": [
    {
     "data": {
      "text/plain": [
       "(2807734342856, 2807734342856, 2807734342856, 2807734341792)"
      ]
     },
     "execution_count": 37,
     "metadata": {},
     "output_type": "execute_result"
    }
   ],
   "source": [
    "V1=\"PY\"\n",
    "V2=\"PY\"\n",
    "V3=\"PY\"\n",
    "V4=\"WHY\"\n",
    "id(V1),id(V2),id(V3),id(V4)#HERE V4 WILL POINT TOWARDS OBJECT \"WHY\".HENCE LOCATION OF V4 WILL BE DIFFERENT."
   ]
  },
  {
   "cell_type": "code",
   "execution_count": 43,
   "metadata": {},
   "outputs": [
    {
     "data": {
      "text/plain": [
       "(True, True)"
      ]
     },
     "execution_count": 43,
     "metadata": {},
     "output_type": "execute_result"
    }
   ],
   "source": [
    "X=10 \n",
    "Y=10\n",
    "X is Y,Y is X"
   ]
  },
  {
   "cell_type": "code",
   "execution_count": 44,
   "metadata": {},
   "outputs": [
    {
     "data": {
      "text/plain": [
       "False"
      ]
     },
     "execution_count": 44,
     "metadata": {},
     "output_type": "execute_result"
    }
   ],
   "source": [
    "X=257  # FOR INT VALUES AFTER 256 ARE NOT ALLOWED FOR REUSABLITY\n",
    "Y=257\n",
    "X is Y"
   ]
  },
  {
   "cell_type": "code",
   "execution_count": 45,
   "metadata": {},
   "outputs": [
    {
     "data": {
      "text/plain": [
       "False"
      ]
     },
     "execution_count": 45,
     "metadata": {},
     "output_type": "execute_result"
    }
   ],
   "source": [
    "X=10+20J\n",
    "Y=10+20J #FOR COMPLEX REUSABILITY IS NIT AVIALABLE\n",
    "X is Y"
   ]
  },
  {
   "cell_type": "code",
   "execution_count": 46,
   "metadata": {},
   "outputs": [
    {
     "data": {
      "text/plain": [
       "False"
      ]
     },
     "execution_count": 46,
     "metadata": {},
     "output_type": "execute_result"
    }
   ],
   "source": [
    "X=10.0 \n",
    "Y=10.0\n",
    "X is Y"
   ]
  },
  {
   "cell_type": "code",
   "execution_count": 4,
   "metadata": {},
   "outputs": [
    {
     "name": "stdout",
     "output_type": "stream",
     "text": [
      "<class 'bytes'>\n"
     ]
    },
    {
     "data": {
      "text/plain": [
       "(10, 40, b'\\n\\x14\\x1e')"
      ]
     },
     "execution_count": 4,
     "metadata": {},
     "output_type": "execute_result"
    }
   ],
   "source": [
    "x=[10,20,30,40]\n",
    "b=bytes(x)\n",
    "print(type(b))\n",
    "b[0],b[-1],b[0:3]"
   ]
  },
  {
   "cell_type": "code",
   "execution_count": 7,
   "metadata": {},
   "outputs": [
    {
     "name": "stdout",
     "output_type": "stream",
     "text": [
      "10\n",
      "20\n",
      "30\n",
      "40\n"
     ]
    }
   ],
   "source": [
    "for x in b :print(x)"
   ]
  },
  {
   "cell_type": "code",
   "execution_count": 14,
   "metadata": {},
   "outputs": [
    {
     "name": "stdout",
     "output_type": "stream",
     "text": [
      "120\n",
      "20\n",
      "30\n",
      "40\n"
     ]
    }
   ],
   "source": [
    "x=[10,20,30,40]\n",
    "b=bytearray(x)\n",
    "b[0]=120    #BYTE ARRAY IS MUTABLE\n",
    "for i in b: print(i)"
   ]
  },
  {
   "cell_type": "code",
   "execution_count": 23,
   "metadata": {},
   "outputs": [
    {
     "name": "stdout",
     "output_type": "stream",
     "text": [
      "None [20, 30, None]\n"
     ]
    }
   ],
   "source": [
    "L=[10,20,30,None]\n",
    "print(L[-1],L[1:5])"
   ]
  },
  {
   "cell_type": "code",
   "execution_count": 27,
   "metadata": {},
   "outputs": [
    {
     "data": {
      "text/plain": [
       "[10, 20, 30, None, 10, 20, 30, None]"
      ]
     },
     "execution_count": 27,
     "metadata": {},
     "output_type": "execute_result"
    }
   ],
   "source": [
    "L=[10,20,30,None]\n",
    "M=L*2   ###STAR OPERATOR IS ALLOWED\n",
    "M"
   ]
  },
  {
   "cell_type": "code",
   "execution_count": 28,
   "metadata": {},
   "outputs": [
    {
     "name": "stdout",
     "output_type": "stream",
     "text": [
      "0\n",
      "1\n",
      "2\n",
      "3\n",
      "4\n",
      "5\n",
      "6\n",
      "7\n",
      "8\n",
      "9\n"
     ]
    }
   ],
   "source": [
    "R=range(10)\n",
    "for i in R: print(i)"
   ]
  },
  {
   "cell_type": "code",
   "execution_count": 29,
   "metadata": {},
   "outputs": [
    {
     "name": "stdout",
     "output_type": "stream",
     "text": [
      "0\n",
      "1\n",
      "2\n",
      "3\n",
      "4\n",
      "5\n",
      "6\n",
      "7\n",
      "8\n",
      "9\n"
     ]
    }
   ],
   "source": [
    "r=range(0,10)\n",
    "for i in r :print(i)"
   ]
  },
  {
   "cell_type": "code",
   "execution_count": 31,
   "metadata": {},
   "outputs": [
    {
     "data": {
      "text/plain": [
       "(0, 3, 5, range(0, 5))"
      ]
     },
     "execution_count": 31,
     "metadata": {},
     "output_type": "execute_result"
    }
   ],
   "source": [
    "r[0],r[3],r[5],r[0:5] ## SLICING OPRATOR ANSERS ARE IN RANGE() FORMAT"
   ]
  },
  {
   "cell_type": "code",
   "execution_count": 34,
   "metadata": {},
   "outputs": [
    {
     "name": "stdout",
     "output_type": "stream",
     "text": [
      "10\n",
      "15\n",
      "20\n",
      "25\n",
      "30\n",
      "35\n",
      "40\n",
      "45\n"
     ]
    }
   ],
   "source": [
    "for i in range(10,50,5):print(i)  # 50 IS NOT PRESENT BECAUSE END IS N-1 =49 IN THIS CASE AND IT IS NOT PRINTED DUE TO GAP OF 5"
   ]
  },
  {
   "cell_type": "code",
   "execution_count": 54,
   "metadata": {},
   "outputs": [
    {
     "ename": "SyntaxError",
     "evalue": "invalid syntax (<ipython-input-54-e78f9b4d481f>, line 1)",
     "output_type": "error",
     "traceback": [
      "\u001b[1;36m  File \u001b[1;32m\"<ipython-input-54-e78f9b4d481f>\"\u001b[1;36m, line \u001b[1;32m1\u001b[0m\n\u001b[1;33m    s=set{}\u001b[0m\n\u001b[1;37m         ^\u001b[0m\n\u001b[1;31mSyntaxError\u001b[0m\u001b[1;31m:\u001b[0m invalid syntax\n"
     ]
    }
   ],
   "source": [
    "s=set()\n",
    "for i in range(10):s.add(i)  \n",
    "print(s)"
   ]
  },
  {
   "cell_type": "code",
   "execution_count": 56,
   "metadata": {},
   "outputs": [
    {
     "name": "stdout",
     "output_type": "stream",
     "text": [
      "{100: 'DURGA', 200: 'SITA', 300: 'MATA'}\n"
     ]
    }
   ],
   "source": [
    "D= {100:\"DURGA\",200:\"SITA\",300:\"MATA\"}\n",
    "print(D)"
   ]
  },
  {
   "cell_type": "code",
   "execution_count": 59,
   "metadata": {},
   "outputs": [
    {
     "name": "stdout",
     "output_type": "stream",
     "text": [
      "{100: 'PITA', 200: 'SITA', 300: 'MATA'}\n"
     ]
    }
   ],
   "source": [
    "D[100]=\"PITA\" #VALUE AT 100 IS REPLACED BY \"PITA\"\n",
    "print(D)"
   ]
  },
  {
   "cell_type": "code",
   "execution_count": 73,
   "metadata": {},
   "outputs": [
    {
     "name": "stdout",
     "output_type": "stream",
     "text": [
      "None\n"
     ]
    }
   ],
   "source": [
    "def f1():a=10  \n",
    "f1()   #FUNCTION f1() IS RETURNING NOTHING SO THE OUTPUT IS \"NONE\"  #NONE IS USED TO HANDLE SUCH SENARIOS\n",
    "print(f1())   #THERE IS NO VALUE SO NONE WILL BE ASSIGNED TO F1()"
   ]
  },
  {
   "cell_type": "code",
   "execution_count": 72,
   "metadata": {
    "scrolled": false
   },
   "outputs": [
    {
     "name": "stdout",
     "output_type": "stream",
     "text": [
      "hello dont be like none\n",
      "hello dont be like none\n",
      "None\n"
     ]
    }
   ],
   "source": [
    "def f2():print(\"hello dont be like none\")\n",
    "f2()\n",
    "print(f2()) #WE GET OUTPUT NONE  BECAUSE F2() IS NOT RETURNING ANYTHING JUST PRINTING ."
   ]
  },
  {
   "cell_type": "code",
   "execution_count": 76,
   "metadata": {},
   "outputs": [],
   "source": [
    "#def f3():  #HERE WE ARE NOT REQUIRED TO USE KEYWORD PASS BECAUSE FUNCTION IS NOT DOING ANYTHING\n",
    "#    pass\n",
    "\n",
    "#if amount>1000:\n",
    "##else:\n",
    "#    pass\n",
    "     "
   ]
  },
  {
   "cell_type": "code",
   "execution_count": 82,
   "metadata": {},
   "outputs": [],
   "source": [
    "s=\"Python in \\\"Mba\\\" is Good\"\n",
    "s='Python in \"Mba\" is Good'\n",
    "s=\"Python in 'Mba' is Good\"\n",
    "s=\"\"\"Python in \"MBA\" is Good and 'course' is good\"\"\"\n"
   ]
  },
  {
   "cell_type": "code",
   "execution_count": 9,
   "metadata": {},
   "outputs": [
    {
     "name": "stdout",
     "output_type": "stream",
     "text": [
      "ENTER FIRST NUMBER::14\n",
      "ENTER SECOND NUMBER::12\n",
      "THE SUM IS: 26\n"
     ]
    }
   ],
   "source": [
    "SUM=print(\"THE SUM IS:\",int(input(\"ENTER FIRST NUMBER::\"))+int(input(\"ENTER SECOND NUMBER::\")))"
   ]
  },
  {
   "cell_type": "code",
   "execution_count": 2,
   "metadata": {},
   "outputs": [
    {
     "name": "stdout",
     "output_type": "stream",
     "text": [
      "enter employee no::12\n",
      "enter employee name::ishu\n",
      "enter employee salary::78968955168\n",
      "enter employee address::756 lmfidsfsdf\n",
      "relationship status:[True|False]True\n",
      "Please Confirm Information::\n",
      "Employee Number::  12\n",
      "employee name::  ishu\n",
      "employee salary::  78968955168.0\n",
      "Employee address::  756 lmfidsfsdf\n",
      "Employee Married? :: True\n"
     ]
    }
   ],
   "source": [
    "# TO READ EMPLOYEE DATA FROM THE KEYBOARD\n",
    "\n",
    "eno=int(input(\"enter employee no::\"))\n",
    "ename=input(\"enter employee name::\")\n",
    "esal=float(input(\"enter employee salary::\"))\n",
    "eadd=input(\"enter employee address::\")\n",
    "married=bool(input(\"relationship status:[True|False]\"))\n",
    "print(\"Please Confirm Information::\")\n",
    "print(\"Employee Number:: \",eno)\n",
    "print(\"employee name:: \",ename)\n",
    "print(\"employee salary:: \",esal)\n",
    "print(\"Employee address:: \",eadd)\n",
    "print(\"Employee Married? ::\",married)"
   ]
  },
  {
   "cell_type": "code",
   "execution_count": null,
   "metadata": {},
   "outputs": [],
   "source": [
    "# READING MULTIPLE VALUES FROM KEYBOARD IN SINGLE LINE\n",
    "# step 1 \n",
    "a,b=[int(x) for x in input(\"Enter 2 numbers\").split()]\n",
    "print('sum is :',a+b)\n",
    "#10 and 20 are strings after splitting thne with int(x we convert into int values)\n",
    "#split use sapce as default operator,enter values by giving sapce between thenm"
   ]
  },
  {
   "cell_type": "code",
   "execution_count": 57,
   "metadata": {},
   "outputs": [
    {
     "name": "stdout",
     "output_type": "stream",
     "text": [
      "enter two float numbers10.5,20.5\n",
      "the sum is:: 61.0\n",
      "enter 4 values10,20,30,40\n",
      "the sum is:: 100\n"
     ]
    }
   ],
   "source": [
    "a,b=[float(x) for x in input(\"enter two float numbers\").split(',')]\n",
    "print(\"the sum is::\",a+c+b)\n",
    "a,b,c,d=[int(x) for x in input(\"enter 4 values\").split(\",\")]\n",
    "print(\"the sum is::\",a+c+b+d)\n",
    "\n",
    "\n",
    "\n",
    "### if we wwant multiple values of dirrernt datatytpe then you need to use multiple sagtatements.\n",
    "\n",
    "## eval():: evaluate function\n",
    "\n",
    "#eval( ) only takes srting as input\n",
    "\n",
    "# eval will automatically convert float to float int to int and str to str but input will always be in string format that is in double quotes\n"
   ]
  },
  {
   "cell_type": "code",
   "execution_count": 5,
   "metadata": {},
   "outputs": [
    {
     "name": "stdout",
     "output_type": "stream",
     "text": [
      "560\n",
      "enter some expression1+2\n",
      "the result is : 3\n"
     ]
    }
   ],
   "source": [
    "ex=eval(\"10+520+30\")\n",
    "print(ex)\n",
    "\n",
    "ex=input(\"enter some expression\")\n",
    "print(\"the result is :\",eval(ex))"
   ]
  },
  {
   "cell_type": "code",
   "execution_count": null,
   "metadata": {},
   "outputs": [],
   "source": [
    "#  argv to take command line input  from sys import argv\n",
    "#itpye is list it also take the file name in input\n",
    "#take input from argv[1:(n-1)]"
   ]
  },
  {
   "cell_type": "code",
   "execution_count": 3,
   "metadata": {},
   "outputs": [
    {
     "name": "stdout",
     "output_type": "stream",
     "text": [
      "\n",
      "hello \n",
      " python\n"
     ]
    }
   ],
   "source": [
    "##OUTPUT SATAEMENTS\n",
    "#form 1 without string\n",
    "print(\"\") #EMPTY OUTPUT\n",
    "# USING ESCAPE CHARACTERS\n",
    "\n",
    "print(\"hello\\npython\")"
   ]
  },
  {
   "cell_type": "code",
   "execution_count": 5,
   "metadata": {},
   "outputs": [
    {
     "name": "stdout",
     "output_type": "stream",
     "text": [
      "hello\tpython\n"
     ]
    }
   ],
   "source": [
    "print(\"hello\\tpython\")"
   ]
  },
  {
   "cell_type": "code",
   "execution_count": 6,
   "metadata": {},
   "outputs": [
    {
     "name": "stdout",
     "output_type": "stream",
     "text": [
      "hellopython\n"
     ]
    }
   ],
   "source": [
    "#form type with string\n",
    "#using concatenation operator '+\"\n",
    "print(\"hello\"+\"python\")  #both arguments should be string only "
   ]
  },
  {
   "cell_type": "code",
   "execution_count": 8,
   "metadata": {},
   "outputs": [
    {
     "name": "stdout",
     "output_type": "stream",
     "text": [
      "hello hello hello hello hello hello hello hello hello \n"
     ]
    }
   ],
   "source": [
    "print(\"hello \"*9)  #one argument should be int type other should be string"
   ]
  },
  {
   "cell_type": "code",
   "execution_count": 12,
   "metadata": {},
   "outputs": [
    {
     "name": "stdout",
     "output_type": "stream",
     "text": [
      "hellopython\n",
      "hello  python\n"
     ]
    }
   ],
   "source": [
    "#form 3\n",
    "print(\"hello\"+\"python\") # here no space will be added between two argumnet\n",
    "print(\"hello \",\"python\") #here space will be added between two argumnets comma will not come in output/\n"
   ]
  },
  {
   "cell_type": "code",
   "execution_count": 13,
   "metadata": {},
   "outputs": [
    {
     "name": "stdout",
     "output_type": "stream",
     "text": [
      "the value is:: 10 20 30\n"
     ]
    }
   ],
   "source": [
    "a,b,c=10,20,30\n",
    "print(\"the value is::\",a,b,c) # for print any no of arguments we can take without problem"
   ]
  },
  {
   "cell_type": "code",
   "execution_count": 15,
   "metadata": {},
   "outputs": [
    {
     "name": "stdout",
     "output_type": "stream",
     "text": [
      "10 20 30\n",
      "10,20,30\n",
      "10*20*30\n"
     ]
    }
   ],
   "source": [
    "# if we want comma in output between values insted of space the we use\n",
    "#sep=\"\"\n",
    "\n",
    "a,b,c=10,20,30\n",
    "print(a,b,c)\n",
    "print(a,b,c,sep=\",\")\n",
    "print(a,b,c,sep=\"*\")"
   ]
  },
  {
   "cell_type": "code",
   "execution_count": 17,
   "metadata": {},
   "outputs": [
    {
     "name": "stdout",
     "output_type": "stream",
     "text": [
      "hello\n",
      "students\n",
      "python isvery easy\n",
      "pthom\n"
     ]
    }
   ],
   "source": [
    "#pyton automatically add ouptput in new line \n",
    "print(\"hello\")\n",
    "print(\"students\")\n",
    "print(\"python isvery easy\")\n",
    "print(\"pthom\")"
   ]
  },
  {
   "cell_type": "code",
   "execution_count": 20,
   "metadata": {},
   "outputs": [
    {
     "name": "stdout",
     "output_type": "stream",
     "text": [
      "hello students python is very easy ramu "
     ]
    }
   ],
   "source": [
    "# if we want to print ouput in single line we use end operator\n",
    "#end=\"\"\n",
    "print(\"hello\",end=\" \")\n",
    "print(\"students\",end=\" \")\n",
    "print(\"python is very easy\",end=\" \")\n",
    "print(\"ramu\",end=\" \")"
   ]
  },
  {
   "cell_type": "code",
   "execution_count": 24,
   "metadata": {},
   "outputs": [
    {
     "name": "stdout",
     "output_type": "stream",
     "text": [
      "10-20-30-40...40/86/76\n"
     ]
    }
   ],
   "source": [
    "#using sep and end together\n",
    "print(10,20,30,40,sep=\"-\",end=\"...\")\n",
    "print(40,86,76,sep=\"/\")"
   ]
  },
  {
   "cell_type": "code",
   "execution_count": 26,
   "metadata": {},
   "outputs": [
    {
     "name": "stdout",
     "output_type": "stream",
     "text": [
      "[10, 20, 30, 40] (10.62, 6874, 6587, 687, 441) {64, 68464, 68468, 634, 6843, 767}\n",
      "[10, 20, 30, 40]...(10.62, 6874, 6587, 687, 441)...{64, 68464, 68468, 634, 6843, 767}\n"
     ]
    }
   ],
   "source": [
    "#with print we can pass any object\n",
    "l=[10,20,30,40]\n",
    "t=(10.62,6874,6587,687,441)\n",
    "s={68464,6843,634,68468,767,64}\n",
    "print(l,t,s)\n",
    "      #or\n",
    "print(l,end=\"...\")\n",
    "print(t,end=\"...\")\n",
    "print(s,)"
   ]
  },
  {
   "cell_type": "code",
   "execution_count": 31,
   "metadata": {},
   "outputs": [],
   "source": [
    "#print formatted string\n",
    "# %i==> int type\n",
    "# %d==> int type\n",
    "# %f==> float\n",
    "# %s==> str type"
   ]
  },
  {
   "cell_type": "code",
   "execution_count": 35,
   "metadata": {},
   "outputs": [
    {
     "name": "stdout",
     "output_type": "stream",
     "text": [
      "a value is 10\n",
      "a value is 10 and b value is 20\n"
     ]
    }
   ],
   "source": [
    "#print(\"formatted string\" %variable)\n",
    "\n",
    "a,b,c,d=10,20,30,40\n",
    "print(\"a value is %i\" %a)\n",
    "print(\"a value is %i and b value is %i\" %(a,b))"
   ]
  },
  {
   "cell_type": "code",
   "execution_count": 36,
   "metadata": {},
   "outputs": [
    {
     "name": "stdout",
     "output_type": "stream",
     "text": [
      "hello python the list is : [10, 20, 50, 40]\n"
     ]
    }
   ],
   "source": [
    "name=\"python\"\n",
    "l=[10,20,50,40]\n",
    "print(\"hello %s the list is : %s\" %(name,l))\n",
    "#no of variale and arguments should match"
   ]
  },
  {
   "cell_type": "code",
   "execution_count": 41,
   "metadata": {},
   "outputs": [
    {
     "name": "stdout",
     "output_type": "stream",
     "text": [
      "hello python your salary is 100000 and wife is sunny waiting\n",
      "hello python your salary is 100000 and wife is sunny waiting\n",
      "hello python your salary is sunny and wife is 100000 waiting\n"
     ]
    }
   ],
   "source": [
    "# print with replacement operator\n",
    "# {}===> replacement opertor\n",
    "## 3 formats \n",
    "name=\"python\"\n",
    "salary=100000\n",
    "wife=\"sunny\"\n",
    "print(\"hello {0} your salary is {1} and wife is {2} waiting\".format(name,salary,wife))\n",
    "print(\"hello {} your salary is {} and wife is {} waiting\".format(name,salary,wife))\n",
    "print(\"hello {z} your salary is {x} and wife is {y} waiting\".format(z=name,y=salary,x=wife))"
   ]
  },
  {
   "cell_type": "code",
   "execution_count": null,
   "metadata": {},
   "outputs": [],
   "source": []
  },
  {
   "cell_type": "code",
   "execution_count": null,
   "metadata": {},
   "outputs": [],
   "source": []
  }
 ],
 "metadata": {
  "kernelspec": {
   "display_name": "Python 3",
   "language": "python",
   "name": "python3"
  },
  "language_info": {
   "codemirror_mode": {
    "name": "ipython",
    "version": 3
   },
   "file_extension": ".py",
   "mimetype": "text/x-python",
   "name": "python",
   "nbconvert_exporter": "python",
   "pygments_lexer": "ipython3",
   "version": "3.7.1"
  }
 },
 "nbformat": 4,
 "nbformat_minor": 2
}
