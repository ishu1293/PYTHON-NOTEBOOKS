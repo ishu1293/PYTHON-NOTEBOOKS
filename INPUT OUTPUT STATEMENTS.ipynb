{
 "cells": [
  {
   "cell_type": "code",
   "execution_count": 1,
   "metadata": {},
   "outputs": [],
   "source": [
    "# MODULE IS GROUP OF FUNCTIONS,VARIABLE,CLASSES"
   ]
  },
  {
   "cell_type": "code",
   "execution_count": 2,
   "metadata": {},
   "outputs": [],
   "source": [
    "# LIBRARY IS A GROUP OF OF MODULES "
   ]
  },
  {
   "cell_type": "code",
   "execution_count": null,
   "metadata": {},
   "outputs": [],
   "source": [
    "# GROUP OF MODULE IS NOTHING BUT LIBRARY."
   ]
  },
  {
   "cell_type": "code",
   "execution_count": 3,
   "metadata": {},
   "outputs": [],
   "source": [
    "# MODULE IS LOW LEVEL COMPONENT LIBRARY IS HIGH LEVEL COMPONET"
   ]
  },
  {
   "cell_type": "markdown",
   "metadata": {},
   "source": [
    "## INPUT OUTPUT STATEMENTS"
   ]
  },
  {
   "cell_type": "code",
   "execution_count": 4,
   "metadata": {},
   "outputs": [],
   "source": [
    "#READ DYNAMIC DATA FROM KEYBOARD\n",
    "# PYHTON 2\n",
    "# raw_input(\"enter some number\")\n",
    "# input( \" enter any number\n",
    "# DIFFERENCE \n",
    "# 1. RAW INPUT IS TREATED AS STRING DATA ONLY,WE ARE REQUIRED TO USE TYPE CASTIMG DATA\n",
    "# 2. INPUR IS NOT CONSIDERED AS STR TYPE. WHAT WE PROVIDE WILL BE TAKEN AS INPUT AS IT IS\n",
    "#   NO TYPECASTING IS REQUIRED\n",
    "#PYTHON 3\n",
    "# IF WE WANT DATA WE WILL TAKE INPUT FROM input() FUNCTION\n",
    "#THIS INPUT FUNCTION IS EQUAL TO RAW INPUT FUNCTION OF PYTHON 2 \n",
    "#SO WE NEED TYPECASTING FUNCTIONS .THE IPUT IS TAKEN AS STRING \n",
    "#EX. int(input(\"enter a number\"))\n",
    "x"
   ]
  },
  {
   "cell_type": "code",
   "execution_count": null,
   "metadata": {},
   "outputs": [],
   "source": [
    "x= input(\"enter a number\")\n",
    "y= input(\"enter a number\")"
   ]
  },
  {
   "cell_type": "code",
   "execution_count": null,
   "metadata": {},
   "outputs": [],
   "source": [
    "print(type(x),type(y)) # OUTPUT WILL BE STRING"
   ]
  },
  {
   "cell_type": "code",
   "execution_count": 9,
   "metadata": {},
   "outputs": [
    {
     "name": "stdout",
     "output_type": "stream",
     "text": [
      "enter some data10.2+123.22\n"
     ]
    },
    {
     "data": {
      "text/plain": [
       "133.42"
      ]
     },
     "execution_count": 9,
     "metadata": {},
     "output_type": "execute_result"
    }
   ],
   "source": [
    "x=eval(input(\"enter some data\"))\n",
    "x"
   ]
  },
  {
   "cell_type": "code",
   "execution_count": 4,
   "metadata": {},
   "outputs": [
    {
     "name": "stdout",
     "output_type": "stream",
     "text": [
      "10\n"
     ]
    }
   ],
   "source": [
    "print(x)"
   ]
  },
  {
   "cell_type": "code",
   "execution_count": null,
   "metadata": {},
   "outputs": [],
   "source": []
  }
 ],
 "metadata": {
  "kernelspec": {
   "display_name": "Python 3",
   "language": "python",
   "name": "python3"
  },
  "language_info": {
   "codemirror_mode": {
    "name": "ipython",
    "version": 3
   },
   "file_extension": ".py",
   "mimetype": "text/x-python",
   "name": "python",
   "nbconvert_exporter": "python",
   "pygments_lexer": "ipython3",
   "version": "3.7.1"
  }
 },
 "nbformat": 4,
 "nbformat_minor": 2
}
