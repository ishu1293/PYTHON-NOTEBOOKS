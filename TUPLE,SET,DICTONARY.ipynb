{
 "cells": [
  {
   "cell_type": "markdown",
   "metadata": {},
   "source": [
    "## TUPLE SET DICTONARY"
   ]
  },
  {
   "cell_type": "code",
   "execution_count": 115,
   "metadata": {},
   "outputs": [],
   "source": [
    "#WE CANNOT CAHNGE THE CONTENTS BECAUSE TUPLE IS IMMUTABLE\n",
    "#T=()\n",
    "#t=(10,)==> we have to use comma to add two elements in tuple\n",
    "#without comma it will be treated as int sinlge value ,with comma it is treated as group of values in parenthesis\n",
    "#t=tuple(sequence)\n",
    "\n",
    "#---access elemets of tuple==\n",
    "#index,slice methods\n",
    "\n",
    "# + , * are allowed to be used\n",
    "\n",
    "# Important functions of tuple\n",
    "# len(t),count(),\n",
    "# index() ==> always show the first occourance index,if element is not present then we get value error t.index(90) 90 not in tuple then error\n",
    "# sorted()==> to sort elements based on natural sorting order=> for nummber ascending order for cahractes alphabetical order.\n",
    "# sorted convert tuple to list and sort elements ,sort does not work because we cannot change the tuple as it is immutable\n",
    "# min(),max()==> can be applies to homogeneous value only ,cannot be applies on heterogeneous values\n",
    "# cmp()=> compare function only aviabel in python 2\n",
    "#<,><<=,>= ==> it alwasys compare first elemetns if they satispy condition then good otherwise no moving forward\n",
    "\n",
    "#tuple packing and unpacking\n",
    "#to pack certain values in tuple and to extract values from tuple\n",
    "# tuple comprehension:\n",
    "#t=(x*x for x in range(1,11))\n",
    "# ==> this is not supported in tuple..even if it works the result will not what we want--> it genraates some generator objects\n",
    "# difference between list and tuple\n",
    "#lsit is a group o comma seprated values within square brackets,square brackets are mandatory\n",
    "#tuple -> a group of values in parenthesis ,parenthesis ae optional\n",
    "\n",
    "#list objects re mutable\n",
    "#tuple is immutable==> t[2]=90 => not allowed\n",
    "# if content is fixed then we can use tuple\n",
    "# if content needed to be changed wer use list\n",
    "\n",
    "# list cannot be used a s keys for dictonary \n",
    "# tuple can be used as keys diconary\n",
    "\n",
    "# comprethension concept is applicable for list\n",
    "# comprehension not aviaable for list\n",
    "\n",
    "## so main difference is just mutable and immutable\n",
    "\n",
    "# list vs set\n",
    "# if order is not importent and we dont want duplicate values then we use sets\n",
    "# set does not support indexing since there is no order\n",
    "#s=set(sequence)\n",
    "# s={} # by deault it is treated as dictonary not null set\n",
    "# to create nullset we use s=set()\n",
    "\n",
    "# important fucntions of set\n",
    "# s.add(newelement)==> we can add  one elements to set\n",
    "# s.add(x)==> only take sinle element to set,[seuqnce are not added by this]\n",
    "# s.add(x)==> it can add whole string to a set\n",
    "# s.update(x) ==> to  any value(set,list,tuple) to set\n",
    "# s.update(x,y,z) ==> we can pass any number of elements to update method\n",
    "# s.update always take seuqnce as input\n",
    "# s.update(\"python\")=> this will sploit the string\n",
    "\n",
    "# copy()==> exact clone if we want we use copy\n",
    "# pop()==> remove and remove an element\n",
    "# pop() does not take any element\n",
    "# some random elemement will be returned as set does not support indexing\n",
    "\n",
    "# remove()==> to remove a particular element,if the element is not specified then it will act as pop() fuction\n",
    "# if we type remove(x) where x is not in set then we get error to avoild error we use discard() fucntiom\n",
    "\n",
    "# discard()==> to remove the particular element but dont gice error if the elemnt is not in set\n",
    "\n",
    "# clear()==> to remove all elments from the set then we can use this\n",
    "\n",
    "# MATHEMATICAL OPERATION ON SET\n",
    "\n",
    "# union()=> this will ad all elements of set1 ,set2 in single set\n",
    "# s1.union(s2) or we can use s1|s2 \n",
    "# intersection()==> this will extreact common elements in new set\n",
    "# s1.intersection(s2) or we can use s1 & s2\n",
    "\n",
    "# differce()==> return the elements present in s1 but not in s2\n",
    "# s1.differce(s2)\n",
    "\n",
    "# symetric differnce ==> extact all elements that are not common in two sets\n",
    "#s1.symmetric_differcen(s2) or we can write s1 ^ s2 \n",
    "\n",
    "# in and not in opeator==> we are allowed to use\n",
    "\n",
    "# set comprehension is allowed in set\n",
    "\n",
    "# DICTONARY\n",
    "# if you want to represnt a group of values in pairs then it is called key value pair\n",
    "# group of key value pairs\n",
    "# \"keys\" can not be duplicate \n",
    "# heterogenos values are allowed for both \"keys\" and values\n",
    "# insertion order is not preserved\n",
    "# indexing slicing is not allwoed in dicotnary\n",
    "# dictonary are mutable and dynamic\n",
    "\n",
    "# d{}==> this is a empty dictonary\n",
    "\n",
    "# to define we can use d=dict{}\n",
    "\n",
    "# to add key and value in dictonary we use\n",
    "# d[key]=value\n",
    "# d[\"maths\"] = 100\n",
    "# d[\"physics\"]= 200\n",
    "\n",
    "# to extract any value from dictonay you must know the key related to that value\n",
    "# d[100]==> 100 is key and value assocaited to it will be printed\n",
    "# if key is avaiable it will change the value if key is not available then will add new key and value\n",
    "# to remove the elements we will use :\n",
    "# del keyword is used\n",
    "# del d[key] # key must be present in dictonary or we will get error\n",
    "\n",
    "# if we want to delete all key values then we use:\n",
    "# d.clear() => all key values will be removed but we can still use the blank dictonary\n",
    "\n",
    "# but with del d ==> we can  not use the black dictonary , everythin will be delete\n",
    "\n",
    "# a key can have multiple values that value can be list set or tuple\n",
    "\n",
    "# importnt functins of dictonary\n",
    "# dict()==> to create empty dictonary\n",
    "# d=dict({100:\"durga\",200:\"ravi}) =>we can also do this but not necessary\n",
    "# with list of tuples we can create dictonary\n",
    "# d=dict([(100,\"durga\"),(200,\"ravi\"),(300:\"shiva\")])\n",
    "# with set of tuples we can create dictonary\n",
    "# d=dict({(100,\"durga\"),(200,\"ravi\"),(300:\"shiva\")})]\n",
    "# with list of tlist we cannot create dictonary\n",
    "# we can also use:\n",
    "#d=dict((100,\"ravi\"))=> this only take one argument\n",
    "\n",
    "#len(d) ==> no of key value in dictonary\n",
    "\n",
    "# .clear()==> to clear all entries\n",
    "# get(key)=> to get a value associated with certain key, if key is not prest then we get error\n",
    "# to avoid error we add second element\n",
    "# get(key,defaultvalue)\n",
    "\n",
    "# pop(key): remove the KEY and value associated with it\n",
    "\n",
    "# popitem(): randomly remove any key\n",
    "\n",
    "# keys(): it will return all keys in the dictonary\n",
    "# d.key()\n",
    "\n",
    "# values()==> it will return both the key and values :\n",
    "# items()==> it will return the [(key,value),(key,value),(key,value)]\n",
    "\n",
    "# copy() => to create the exact clone of existing dictonary \n",
    "\n",
    "# d.setdefault(key,value) ==>\n",
    "# if key is available no replacement of old value\n",
    "# if key is not avialbe add new key and value\n",
    "\n",
    "# update(x)==> merge one dictonary to adnother dictonary\n",
    "# d1.update(d2) # it only take one dictonary ot merge ,multile cannot be merged\n",
    "# we can also pass list of values\n",
    "# same values of d1 will be removed\n",
    "\n",
    "# COMPREHENSION IS AVAILABLE FOR DICTONARY\n",
    "# squares={x:x*x for x in range(1,7)}\n",
    "\n",
    "#property list:         list    tuple  set   dictonary\n",
    "#insertion order     == yes     yes     no    no\n",
    "#duplicate           == yes     yes     no    no \n",
    "#heterogenous objects== yes      yes    yes   yes\n",
    "#immutabel           -- yes      no     yes   yes\n",
    "# indexig            -- yes      yes    no    no"
   ]
  },
  {
   "cell_type": "code",
   "execution_count": 18,
   "metadata": {},
   "outputs": [
    {
     "data": {
      "text/plain": [
       "[10, 20, 30, 40, 50]"
      ]
     },
     "execution_count": 18,
     "metadata": {},
     "output_type": "execute_result"
    }
   ],
   "source": [
    "t=(30,10,50,40,20)\n",
    "l=sorted(t)\n",
    "l"
   ]
  },
  {
   "cell_type": "code",
   "execution_count": 8,
   "metadata": {},
   "outputs": [
    {
     "data": {
      "text/plain": [
       "(10, 50)"
      ]
     },
     "execution_count": 8,
     "metadata": {},
     "output_type": "execute_result"
    }
   ],
   "source": [
    "min(t),max(t)"
   ]
  },
  {
   "cell_type": "code",
   "execution_count": 9,
   "metadata": {},
   "outputs": [
    {
     "name": "stdout",
     "output_type": "stream",
     "text": [
      "False\n"
     ]
    }
   ],
   "source": [
    "t1=(10,20,30)\n",
    "t2=(5.30,10)\n",
    "print(t1<t2) "
   ]
  },
  {
   "cell_type": "code",
   "execution_count": 12,
   "metadata": {},
   "outputs": [
    {
     "name": "stdout",
     "output_type": "stream",
     "text": [
      "(10, 20, 30, 40)\n"
     ]
    }
   ],
   "source": [
    "#TUPLE PACKING\n",
    "a,b,c,d=10,20,30,40\n",
    "t=a,b,c,d\n",
    "print(t)"
   ]
  },
  {
   "cell_type": "code",
   "execution_count": 14,
   "metadata": {},
   "outputs": [
    {
     "name": "stdout",
     "output_type": "stream",
     "text": [
      "10 20 30 40\n"
     ]
    }
   ],
   "source": [
    "#TUPLE UNPACKING\n",
    "t=(10,20,30,40)\n",
    "a,b,c,d=t\n",
    "print(a,b,c,d)"
   ]
  },
  {
   "cell_type": "markdown",
   "metadata": {},
   "source": [
    "both concepts are also available for set"
   ]
  },
  {
   "cell_type": "markdown",
   "metadata": {},
   "source": [
    "take input and input in tuple and print sum and average"
   ]
  },
  {
   "cell_type": "code",
   "execution_count": 16,
   "metadata": {},
   "outputs": [
    {
     "name": "stdout",
     "output_type": "stream",
     "text": [
      "Enter some tuple of numbers:10,20,30\n",
      "the sum is : 60\n",
      "the average is: 20.0\n"
     ]
    }
   ],
   "source": [
    "t=eval(input(\"Enter some tuple of numbers:\"))\n",
    "l= len(t)\n",
    "sum=0\n",
    "for x in t:\n",
    "    sum=sum+x\n",
    "print('the sum is :',sum)\n",
    "print(\"the average is:\",sum/l)"
   ]
  },
  {
   "cell_type": "markdown",
   "metadata": {},
   "source": [
    "## SET"
   ]
  },
  {
   "cell_type": "code",
   "execution_count": 19,
   "metadata": {},
   "outputs": [],
   "source": [
    "s={10,20,30}"
   ]
  },
  {
   "cell_type": "code",
   "execution_count": 21,
   "metadata": {},
   "outputs": [],
   "source": [
    "# s[0] # set does not support indexing"
   ]
  },
  {
   "cell_type": "code",
   "execution_count": 24,
   "metadata": {},
   "outputs": [
    {
     "name": "stdout",
     "output_type": "stream",
     "text": [
      "<class 'set'>\n"
     ]
    }
   ],
   "source": [
    "print(type(s))"
   ]
  },
  {
   "cell_type": "code",
   "execution_count": 26,
   "metadata": {},
   "outputs": [
    {
     "name": "stdout",
     "output_type": "stream",
     "text": [
      "{10, 20, 30}\n",
      "{10, 20, 30}\n",
      "{10, 20, 30}\n"
     ]
    },
    {
     "data": {
      "text/plain": [
       "(None, None, None)"
      ]
     },
     "execution_count": 26,
     "metadata": {},
     "output_type": "execute_result"
    }
   ],
   "source": [
    "print(s)"
   ]
  },
  {
   "cell_type": "code",
   "execution_count": 30,
   "metadata": {},
   "outputs": [],
   "source": [
    "# print(s[0:5]) slicing will not work on set"
   ]
  },
  {
   "cell_type": "code",
   "execution_count": 32,
   "metadata": {},
   "outputs": [
    {
     "data": {
      "text/plain": [
       "{1, 2, 3, 4, 5, 6}"
      ]
     },
     "execution_count": 32,
     "metadata": {},
     "output_type": "execute_result"
    }
   ],
   "source": [
    "s=set(range(1,7))\n",
    "s"
   ]
  },
  {
   "cell_type": "code",
   "execution_count": 34,
   "metadata": {},
   "outputs": [
    {
     "data": {
      "text/plain": [
       "{1, 2, 4, 5}"
      ]
     },
     "execution_count": 34,
     "metadata": {},
     "output_type": "execute_result"
    }
   ],
   "source": [
    "list=[1,2,4,5,5]\n",
    "s=set(list)\n",
    "s \n",
    "# 5 only come once as duplicate value sare not allowed"
   ]
  },
  {
   "cell_type": "code",
   "execution_count": 37,
   "metadata": {},
   "outputs": [
    {
     "data": {
      "text/plain": [
       "set"
      ]
     },
     "execution_count": 37,
     "metadata": {},
     "output_type": "execute_result"
    }
   ],
   "source": [
    "s=set()\n",
    "type(s)"
   ]
  },
  {
   "cell_type": "code",
   "execution_count": 53,
   "metadata": {},
   "outputs": [
    {
     "name": "stdout",
     "output_type": "stream",
     "text": [
      "{10, 20, 39}\n"
     ]
    }
   ],
   "source": [
    "s=set()\n",
    "s.add(10)\n",
    "s.add(20)\n",
    "s.add(39)\n",
    "print(s)"
   ]
  },
  {
   "cell_type": "code",
   "execution_count": 54,
   "metadata": {},
   "outputs": [
    {
     "name": "stdout",
     "output_type": "stream",
     "text": [
      "{34, 12}\n"
     ]
    }
   ],
   "source": [
    "s=set()\n",
    "l=[12,34]\n",
    "s.update(l)\n",
    "print(s)"
   ]
  },
  {
   "cell_type": "code",
   "execution_count": 55,
   "metadata": {},
   "outputs": [
    {
     "name": "stdout",
     "output_type": "stream",
     "text": [
      "{1, 34, 3, 2, 4, 5, 6, 'h', 'u', 'i', 12, 's'}\n"
     ]
    }
   ],
   "source": [
    "s=set()\n",
    "l=[12,34]\n",
    "s.update(l,range(1,7),\"ishu\")\n",
    "print(s)"
   ]
  },
  {
   "cell_type": "code",
   "execution_count": 57,
   "metadata": {},
   "outputs": [
    {
     "data": {
      "text/plain": [
       "{'python'}"
      ]
     },
     "execution_count": 57,
     "metadata": {},
     "output_type": "execute_result"
    }
   ],
   "source": [
    "s=set()\n",
    "l=\"python\"\n",
    "s.add(l)\n",
    "s"
   ]
  },
  {
   "cell_type": "code",
   "execution_count": 59,
   "metadata": {},
   "outputs": [
    {
     "data": {
      "text/plain": [
       "{10, 20, 30}"
      ]
     },
     "execution_count": 59,
     "metadata": {},
     "output_type": "execute_result"
    }
   ],
   "source": [
    "s={10,20,30}\n",
    "s1=s.copy()\n",
    "s1"
   ]
  },
  {
   "cell_type": "code",
   "execution_count": 64,
   "metadata": {},
   "outputs": [
    {
     "data": {
      "text/plain": [
       "(10, 20, 30)"
      ]
     },
     "execution_count": 64,
     "metadata": {},
     "output_type": "execute_result"
    }
   ],
   "source": [
    "s={10,20,30}\n",
    "s.pop(),s.pop(),s.pop()"
   ]
  },
  {
   "cell_type": "code",
   "execution_count": 67,
   "metadata": {},
   "outputs": [
    {
     "name": "stdout",
     "output_type": "stream",
     "text": [
      "{10, 20}\n"
     ]
    }
   ],
   "source": [
    "s={10,20,30}\n",
    "s.remove(30)\n",
    "print(s)"
   ]
  },
  {
   "cell_type": "code",
   "execution_count": 68,
   "metadata": {},
   "outputs": [
    {
     "name": "stdout",
     "output_type": "stream",
     "text": [
      "set()\n"
     ]
    }
   ],
   "source": [
    "s={10,20,30}\n",
    "s.clear()\n",
    "print(s)"
   ]
  },
  {
   "cell_type": "code",
   "execution_count": 72,
   "metadata": {},
   "outputs": [
    {
     "name": "stdout",
     "output_type": "stream",
     "text": [
      "True\n",
      "False\n"
     ]
    }
   ],
   "source": [
    "s=set(\"durga\")\n",
    "print(\"a\" in s)\n",
    "print(\"f\" in s)"
   ]
  },
  {
   "cell_type": "code",
   "execution_count": 74,
   "metadata": {},
   "outputs": [
    {
     "data": {
      "text/plain": [
       "{0, 1, 4, 9, 16, 25, 36, 49, 64, 81, 100, 121, 144, 169, 196, 225}"
      ]
     },
     "execution_count": 74,
     "metadata": {},
     "output_type": "execute_result"
    }
   ],
   "source": [
    "s={x*x for x in range(16)}\n",
    "s"
   ]
  },
  {
   "cell_type": "markdown",
   "metadata": {},
   "source": [
    "To remove duplicates form list two methods"
   ]
  },
  {
   "cell_type": "code",
   "execution_count": 75,
   "metadata": {},
   "outputs": [
    {
     "name": "stdout",
     "output_type": "stream",
     "text": [
      "enter a list:[10,30,30]\n",
      "{10, 30}\n"
     ]
    }
   ],
   "source": [
    "l=eval(input(\"enter a list:\"))\n",
    "s=set(l)\n",
    "print(s)"
   ]
  },
  {
   "cell_type": "code",
   "execution_count": 77,
   "metadata": {},
   "outputs": [
    {
     "name": "stdout",
     "output_type": "stream",
     "text": [
      "enter a list:[10,30,40,50,40,50,40,10,40,80]\n",
      "[10, 30, 40, 50, 80]\n"
     ]
    }
   ],
   "source": [
    "l=eval(input(\"enter a list:\"))\n",
    "l1=[]\n",
    "for x in l:\n",
    "    if x not in l1:\n",
    "        l1.append(x)\n",
    "print(l1)"
   ]
  },
  {
   "cell_type": "code",
   "execution_count": 80,
   "metadata": {},
   "outputs": [
    {
     "name": "stdout",
     "output_type": "stream",
     "text": [
      "enter some word:durgasoft\n",
      "All vowels are : {'u', 'a', 'o'}\n",
      "The number of different are: 3\n"
     ]
    }
   ],
   "source": [
    "w=input(\"enter some word:\")\n",
    "s=set(w)\n",
    "v={'a','e','i','o','u'}\n",
    "d=s.intersection(v)\n",
    "print(\"All vowels are :\" ,d)\n",
    "print(\"The number of different are:\",len(d))"
   ]
  },
  {
   "cell_type": "markdown",
   "metadata": {},
   "source": [
    "## DICTONARY"
   ]
  },
  {
   "cell_type": "code",
   "execution_count": 83,
   "metadata": {},
   "outputs": [
    {
     "name": "stdout",
     "output_type": "stream",
     "text": [
      "{'maths': 100, 'physics': 200}\n"
     ]
    }
   ],
   "source": [
    "d={}\n",
    "d[\"maths\"] = 100\n",
    "d[\"physics\"]= 200\n",
    "print(d)"
   ]
  },
  {
   "cell_type": "code",
   "execution_count": 86,
   "metadata": {},
   "outputs": [
    {
     "data": {
      "text/plain": [
       "('cat', 'moth')"
      ]
     },
     "execution_count": 86,
     "metadata": {},
     "output_type": "execute_result"
    }
   ],
   "source": [
    "d={\"a\":\"cat\",\"b\":\"catterpillar\",\"c\":\"moth\"}\n",
    "d[\"a\"],d[\"c\"]"
   ]
  },
  {
   "cell_type": "code",
   "execution_count": 92,
   "metadata": {},
   "outputs": [
    {
     "name": "stdout",
     "output_type": "stream",
     "text": [
      "enter number of stundents:2\n",
      "enter stundet name:ishu\n",
      "enter % of marks:90\n",
      "enter stundet name:ishu2\n",
      "enter % of marks:10\n",
      "Name of student \t % of marks\n",
      "\t ishu \t\t 90\n",
      "\t ishu2 \t\t 10\n"
     ]
    }
   ],
   "source": [
    "rec={}\n",
    "n=int(input(\"enter number of stundents:\"))\n",
    "i=1\n",
    "while i<=n:\n",
    "    name=input(\"enter stundet name:\")\n",
    "    marks=input(\"enter % of marks:\")\n",
    "    rec[name]=marks\n",
    "    i=i+1\n",
    "print(\"Name of student\",\"\\t\",\"% of marks\")\n",
    "for x in rec:\n",
    "    print(\"\\t\",x,\"\\t\\t\",rec[x])"
   ]
  },
  {
   "cell_type": "markdown",
   "metadata": {},
   "source": [
    "specify multiple values for single key"
   ]
  },
  {
   "cell_type": "code",
   "execution_count": 94,
   "metadata": {
    "scrolled": true
   },
   "outputs": [
    {
     "name": "stdout",
     "output_type": "stream",
     "text": [
      "{100: ['durga', 'ravi', 'tinu']}\n"
     ]
    }
   ],
   "source": [
    "list=[\"durga\",\"ravi\",\"tinu\"]\n",
    "d={100:list}\n",
    "print(d)"
   ]
  },
  {
   "cell_type": "markdown",
   "metadata": {},
   "source": [
    "creating dictonary wiht list of tuple"
   ]
  },
  {
   "cell_type": "code",
   "execution_count": 96,
   "metadata": {},
   "outputs": [
    {
     "name": "stdout",
     "output_type": "stream",
     "text": [
      "{100: 'durga', 200: 'ravi', 300: 'shiva'}\n"
     ]
    }
   ],
   "source": [
    "d=dict([(100,\"durga\"),(200,\"ravi\"),(300,\"shiva\")])\n",
    "print(d)"
   ]
  },
  {
   "cell_type": "markdown",
   "metadata": {},
   "source": [
    "creating dictonary with set of tuples"
   ]
  },
  {
   "cell_type": "code",
   "execution_count": 98,
   "metadata": {},
   "outputs": [
    {
     "name": "stdout",
     "output_type": "stream",
     "text": [
      "{300: 'shiva', 100: 'durga', 200: 'ravi'}\n"
     ]
    }
   ],
   "source": [
    "d=dict({(100,\"durga\"),(200,\"ravi\"),(300,\"shiva\")})\n",
    "print(d)"
   ]
  },
  {
   "cell_type": "code",
   "execution_count": 103,
   "metadata": {},
   "outputs": [
    {
     "data": {
      "text/plain": [
       "'durga'"
      ]
     },
     "execution_count": 103,
     "metadata": {},
     "output_type": "execute_result"
    }
   ],
   "source": [
    "d.get(100)"
   ]
  },
  {
   "cell_type": "code",
   "execution_count": 105,
   "metadata": {},
   "outputs": [
    {
     "data": {
      "text/plain": [
       "'ishu'"
      ]
     },
     "execution_count": 105,
     "metadata": {},
     "output_type": "execute_result"
    }
   ],
   "source": [
    "d.get(500,\"ishu\")"
   ]
  },
  {
   "cell_type": "code",
   "execution_count": null,
   "metadata": {},
   "outputs": [],
   "source": [
    "d=dict({(100,\"durga\"),(200,\"ravi\"),(300,\"shiva\")})"
   ]
  },
  {
   "cell_type": "code",
   "execution_count": 107,
   "metadata": {},
   "outputs": [
    {
     "data": {
      "text/plain": [
       "dict_keys([300, 100, 200])"
      ]
     },
     "execution_count": 107,
     "metadata": {},
     "output_type": "execute_result"
    }
   ],
   "source": [
    "d.keys()"
   ]
  },
  {
   "cell_type": "code",
   "execution_count": 108,
   "metadata": {},
   "outputs": [
    {
     "data": {
      "text/plain": [
       "dict_values(['shiva', 'durga', 'ravi'])"
      ]
     },
     "execution_count": 108,
     "metadata": {},
     "output_type": "execute_result"
    }
   ],
   "source": [
    "d.values()"
   ]
  },
  {
   "cell_type": "code",
   "execution_count": 109,
   "metadata": {},
   "outputs": [
    {
     "data": {
      "text/plain": [
       "dict_items([(300, 'shiva'), (100, 'durga'), (200, 'ravi')])"
      ]
     },
     "execution_count": 109,
     "metadata": {},
     "output_type": "execute_result"
    }
   ],
   "source": [
    "d.items()"
   ]
  },
  {
   "cell_type": "code",
   "execution_count": 111,
   "metadata": {},
   "outputs": [
    {
     "name": "stdout",
     "output_type": "stream",
     "text": [
      "300 ... shiva\n",
      "100 ... durga\n",
      "200 ... ravi\n"
     ]
    }
   ],
   "source": [
    "for k,v in d.items():\n",
    "    print(k,\"...\",v)"
   ]
  },
  {
   "cell_type": "code",
   "execution_count": 113,
   "metadata": {},
   "outputs": [
    {
     "data": {
      "text/plain": [
       "'durga'"
      ]
     },
     "execution_count": 113,
     "metadata": {},
     "output_type": "execute_result"
    }
   ],
   "source": [
    "d.pop(100)"
   ]
  },
  {
   "cell_type": "code",
   "execution_count": 114,
   "metadata": {},
   "outputs": [
    {
     "data": {
      "text/plain": [
       "(200, 'ravi')"
      ]
     },
     "execution_count": 114,
     "metadata": {},
     "output_type": "execute_result"
    }
   ],
   "source": [
    "d.popitem()"
   ]
  },
  {
   "cell_type": "code",
   "execution_count": 118,
   "metadata": {},
   "outputs": [
    {
     "name": "stdout",
     "output_type": "stream",
     "text": [
      "{'A': 'ishu', 'B': 200, 'C': 300, '100': 'cat'}\n"
     ]
    }
   ],
   "source": [
    "d1={\"A\":100,\"B\":200,\"C\":300}\n",
    "d2={\"100\":\"cat\",\"A\":\"ishu\"}\n",
    "d1.update(d2)\n",
    "print(d1)"
   ]
  },
  {
   "cell_type": "markdown",
   "metadata": {},
   "source": [
    "Program to take dictonary from keyboard and prit the sum of values"
   ]
  },
  {
   "cell_type": "code",
   "execution_count": 126,
   "metadata": {},
   "outputs": [
    {
     "name": "stdout",
     "output_type": "stream",
     "text": [
      "Enter dictonary:{\"A\":100,\"V\":200}\n"
     ]
    },
    {
     "ename": "TypeError",
     "evalue": "'int' object is not callable",
     "output_type": "error",
     "traceback": [
      "\u001b[1;31m---------------------------------------------------------------------------\u001b[0m",
      "\u001b[1;31mTypeError\u001b[0m                                 Traceback (most recent call last)",
      "\u001b[1;32m<ipython-input-126-20c4bb26edb2>\u001b[0m in \u001b[0;36m<module>\u001b[1;34m\u001b[0m\n\u001b[0;32m      1\u001b[0m \u001b[0md\u001b[0m\u001b[1;33m=\u001b[0m\u001b[0meval\u001b[0m\u001b[1;33m(\u001b[0m\u001b[0minput\u001b[0m\u001b[1;33m(\u001b[0m\u001b[1;34m\"Enter dictonary:\"\u001b[0m\u001b[1;33m)\u001b[0m\u001b[1;33m)\u001b[0m\u001b[1;33m\u001b[0m\u001b[1;33m\u001b[0m\u001b[0m\n\u001b[1;32m----> 2\u001b[1;33m \u001b[0ms\u001b[0m\u001b[1;33m=\u001b[0m\u001b[0msum\u001b[0m\u001b[1;33m(\u001b[0m\u001b[0md\u001b[0m\u001b[1;33m.\u001b[0m\u001b[0mvalues\u001b[0m\u001b[1;33m(\u001b[0m\u001b[1;33m)\u001b[0m\u001b[1;33m)\u001b[0m\u001b[1;33m\u001b[0m\u001b[1;33m\u001b[0m\u001b[0m\n\u001b[0m\u001b[0;32m      3\u001b[0m \u001b[0mprint\u001b[0m\u001b[1;33m(\u001b[0m\u001b[0ms\u001b[0m\u001b[1;33m)\u001b[0m\u001b[1;33m\u001b[0m\u001b[1;33m\u001b[0m\u001b[0m\n",
      "\u001b[1;31mTypeError\u001b[0m: 'int' object is not callable"
     ]
    }
   ],
   "source": [
    "d=eval(input(\"Enter dictonary:\"))\n",
    "s=sum(d.values())\n",
    "print(s)"
   ]
  },
  {
   "cell_type": "code",
   "execution_count": 129,
   "metadata": {},
   "outputs": [
    {
     "name": "stdout",
     "output_type": "stream",
     "text": [
      "enter some word:missisipi\n",
      "i 4\n",
      "m 1\n",
      "p 1\n",
      "s 3\n"
     ]
    }
   ],
   "source": [
    "word=input(\"enter some word:\")\n",
    "d={}\n",
    "for x in word:\n",
    "    d[x]=d.get(x,0)+1\n",
    "for k,v in sorted(d.items()):\n",
    "    print(k,v)"
   ]
  },
  {
   "cell_type": "code",
   "execution_count": 131,
   "metadata": {},
   "outputs": [
    {
     "name": "stdout",
     "output_type": "stream",
     "text": [
      "enter some word:durgasoftwaremicrosotapple\n",
      "a 26\n",
      "e 26\n",
      "i 26\n",
      "o 26\n",
      "u 26\n"
     ]
    }
   ],
   "source": [
    "word=input(\"enter some word:\")\n",
    "vowels={\"a\",\"e\",\"i\",\"o\",\"u\"}\n",
    "d={}\n",
    "for x in word:\n",
    "    for x in vowels:\n",
    "        d[x]=d.get(x,0)+1\n",
    "for k,v in sorted(d.items()):\n",
    "    print(k,v)"
   ]
  },
  {
   "cell_type": "code",
   "execution_count": 132,
   "metadata": {},
   "outputs": [
    {
     "name": "stdout",
     "output_type": "stream",
     "text": [
      "{1: 1, 2: 4, 3: 9, 4: 16, 5: 25, 6: 36}\n"
     ]
    }
   ],
   "source": [
    "squares={x:x*x for x in range(1,7)}\n",
    "print(squares)"
   ]
  },
  {
   "cell_type": "code",
   "execution_count": null,
   "metadata": {},
   "outputs": [],
   "source": []
  },
  {
   "cell_type": "code",
   "execution_count": null,
   "metadata": {},
   "outputs": [],
   "source": []
  },
  {
   "cell_type": "code",
   "execution_count": null,
   "metadata": {},
   "outputs": [],
   "source": []
  },
  {
   "cell_type": "code",
   "execution_count": null,
   "metadata": {},
   "outputs": [],
   "source": []
  },
  {
   "cell_type": "code",
   "execution_count": null,
   "metadata": {},
   "outputs": [],
   "source": []
  },
  {
   "cell_type": "code",
   "execution_count": null,
   "metadata": {},
   "outputs": [],
   "source": []
  },
  {
   "cell_type": "code",
   "execution_count": null,
   "metadata": {},
   "outputs": [],
   "source": []
  },
  {
   "cell_type": "code",
   "execution_count": null,
   "metadata": {},
   "outputs": [],
   "source": []
  },
  {
   "cell_type": "code",
   "execution_count": null,
   "metadata": {},
   "outputs": [],
   "source": []
  },
  {
   "cell_type": "code",
   "execution_count": null,
   "metadata": {},
   "outputs": [],
   "source": []
  },
  {
   "cell_type": "code",
   "execution_count": null,
   "metadata": {},
   "outputs": [],
   "source": []
  },
  {
   "cell_type": "code",
   "execution_count": null,
   "metadata": {},
   "outputs": [],
   "source": []
  },
  {
   "cell_type": "code",
   "execution_count": null,
   "metadata": {},
   "outputs": [],
   "source": []
  },
  {
   "cell_type": "code",
   "execution_count": null,
   "metadata": {},
   "outputs": [],
   "source": []
  }
 ],
 "metadata": {
  "kernelspec": {
   "display_name": "Python 3",
   "language": "python",
   "name": "python3"
  },
  "language_info": {
   "codemirror_mode": {
    "name": "ipython",
    "version": 3
   },
   "file_extension": ".py",
   "mimetype": "text/x-python",
   "name": "python",
   "nbconvert_exporter": "python",
   "pygments_lexer": "ipython3",
   "version": "3.7.1"
  }
 },
 "nbformat": 4,
 "nbformat_minor": 2
}
