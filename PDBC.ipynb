{
 "cells": [
  {
   "cell_type": "code",
   "execution_count": null,
   "metadata": {},
   "outputs": [],
   "source": [
    "# STANDARD STEPS TO COMMUNICATE WITH DATA\n",
    "# 1.IMPORT THAT DATABASE SPECIFIC MODULE : IT CONNECTS THE PYTHON WITH DATABSE\n",
    "#   FOR ORACLE DATABASE\n",
    "# ==>import cx_Oracle # O is capital\n",
    "#   FOR MYSQL \n",
    "# ==>import pymysql\n",
    "\n",
    "# 2.Establish connection between python program db\n",
    "# CREATE CONNECTION OBJECT\n",
    "# ===>con=cx_Oracle.connect(database information);\n",
    "# ex.... con= cx_Oracle.connect(\"username@localhost\")\n",
    "\n",
    "# 3. CURSOR : TO EXECUTE OUR QUERY AND TO HOLD RESULT SOME SPECAIL OBJECT MUST BE REQUIRED THAT OBJECT IS CURSOR OBJECT\n",
    "# CREATE CURSOR OBJECT\n",
    "# cursor=con.cursor()\n",
    "\n",
    "\n",
    "# 4. EXECUTE THE SQL-QUERY: \n",
    "# ==>cursor.execute(sqlquery)===> a single query\n",
    "# here execute() method is used to execute a single query\n",
    "# ==>cursor.executescript(sqlqueries)==> To execute a string of sql queries separated by semicolumn\n",
    "# ==> cursor.executemany()==> to execute a parameterized query\n",
    "\n",
    "\n",
    "#5. FETCH THE RESULTS:\n",
    "# cursor.fetchone(): to fetch only one row\n",
    "# cursor.fetchall(): to fetch all rows\n",
    "# cursors.fetchmany(n): to fetch n rows\n",
    "\n",
    "#6. COMMIT: TO SAVE THE RESULTS INTO DATABASE AFTER PERFORMING OPERATIONS\n",
    "# ==>commit() ==> \n",
    "#  ROLLBACK : TO GO BACK TO LAST COMMIT\n",
    "# ==> rolback()\n",
    "\n",
    "# CLOSE THE CONNECTION\n",
    "# cursor.close()\n",
    "# con.close()\n",
    "\n",
    "\n",
    "\n",
    "# BEFORE USING THIS CREATE A 'DATABASE' IN MYSQL AND A 'TABLE' OF EMPLOYEE WITH ENO INT,ENAME VARCHAR(25),ESAL DECIMAL(10,2),EADD VARCHAR(25)"
   ]
  },
  {
   "cell_type": "code",
   "execution_count": 28,
   "metadata": {},
   "outputs": [
    {
     "name": "stdout",
     "output_type": "stream",
     "text": [
      "connection established sucessfully\n"
     ]
    }
   ],
   "source": [
    "import pymysql\n",
    "\n",
    "con = pymysql.connect(user='root',password='19ishu93',db='ishu') # CREAING CONNECTION OBJECT\n",
    "\n",
    "if con!=None:\n",
    "    print(\"connection established sucessfully\")\n",
    "    \n",
    "else: \n",
    "    print(\"Not connected\")"
   ]
  },
  {
   "cell_type": "markdown",
   "metadata": {},
   "source": [
    "## CREATING TABLE"
   ]
  },
  {
   "cell_type": "code",
   "execution_count": 36,
   "metadata": {},
   "outputs": [
    {
     "name": "stdout",
     "output_type": "stream",
     "text": [
      "table created sucessfully\n"
     ]
    }
   ],
   "source": [
    "import pymysql\n",
    "try:\n",
    "    query=\"create table employee(eno int,ename varchar(25),esal decimal(10,2),eadd varchar(25))\"\n",
    "    con = pymysql.connect(user='root',password='19ishu93',db='ishu') # CREAING CONNECTION OBJECT\n",
    "    cursor = con.cursor() # CREATING CURSOR OBJECT\n",
    "    cursor.execute(query)\n",
    "    print(\"table created sucessfully\")\n",
    "except pymysql.DatabaseError as e:\n",
    "    if con!= None:\n",
    "        con.rollback()\n",
    "        print(\"there is a problem:\",e)\n",
    "finally:# this block wilL run even if the execption is raised\n",
    "    if cursor:\n",
    "        cursor.close()\n",
    "    if con:\n",
    "        con.close()"
   ]
  },
  {
   "cell_type": "markdown",
   "metadata": {},
   "source": [
    "## INSERTING INTO TABLE"
   ]
  },
  {
   "cell_type": "code",
   "execution_count": 42,
   "metadata": {},
   "outputs": [
    {
     "name": "stdout",
     "output_type": "stream",
     "text": [
      "Record inserted sucessfully\n"
     ]
    }
   ],
   "source": [
    "import pymysql\n",
    "try:\n",
    "    query=\"insert into employee values (10,'ishu',1000,'Dewas')\"\n",
    "    con = pymysql.connect(user='root',password='19ishu93',db='ishu') # CREAING CONNECTION OBJECT\n",
    "    cursor = con.cursor() # CREATING CURSOR OBJECT\n",
    "    cursor.execute(query) #  here data will not be save in database \n",
    "    con.commit() # after commit data will be saved\n",
    "    print(\"Record inserted sucessfully\")\n",
    "except pymysql.DatabaseError as e:\n",
    "    if con:\n",
    "        con.rollback()\n",
    "        print(\"There is a problem:\",e)\n",
    "finally:\n",
    "    if cursor:\n",
    "        cursor.close()\n",
    "    if con:\n",
    "        con.close()"
   ]
  },
  {
   "cell_type": "markdown",
   "metadata": {},
   "source": [
    "## INSERT MULTIPLE RECORDS(PARAMETERISED QUERY)"
   ]
  },
  {
   "cell_type": "code",
   "execution_count": 55,
   "metadata": {},
   "outputs": [
    {
     "name": "stdout",
     "output_type": "stream",
     "text": [
      "Record inserted sucessfully\n"
     ]
    }
   ],
   "source": [
    "import pymysql\n",
    "try:\n",
    "    query=\"insert into employee(eno,ename,esal,eadd) values (%s,%s,%s,%s)\"\n",
    "    con = pymysql.connect(user='root',password='19ishu93',db='ishu')\n",
    "    cursor = con.cursor()\n",
    "    records=[(200,\"sunny\",2000,\"mum\"),(300,\"miini\",3000,\"hyd\"),(500,\"chinu\",4000,\"blr\")]\n",
    "    cursor.executemany(query,records) #  here data will not be save in database \n",
    "    con.commit() # after commit data will be saved\n",
    "    print(\"Record inserted sucessfully\")\n",
    "except pymysql.DatabaseError as e:\n",
    "    if con:\n",
    "        con.rollback()\n",
    "        print(\"There is a problem:\",e)\n",
    "finally:\n",
    "    if cursor:\n",
    "        cursor.close()\n",
    "    if con:\n",
    "        con.close()"
   ]
  },
  {
   "cell_type": "markdown",
   "metadata": {},
   "source": [
    "## DYNAMIC INPUT FROM KEYBOARD"
   ]
  },
  {
   "cell_type": "code",
   "execution_count": 67,
   "metadata": {},
   "outputs": [
    {
     "name": "stdout",
     "output_type": "stream",
     "text": [
      "enter employee number: 100\n",
      "enter emloyee name: microsoft\n",
      "enter employee salary:9099\n",
      "enter the employee address: blr\n",
      "Record inserted sucessfully\n",
      "Do you want to insert one more record 'yes' or 'no'no\n"
     ]
    },
    {
     "ename": "NameError",
     "evalue": "name 'no' is not defined",
     "output_type": "error",
     "traceback": [
      "\u001b[1;31m---------------------------------------------------------------------------\u001b[0m",
      "\u001b[1;31mNameError\u001b[0m                                 Traceback (most recent call last)",
      "\u001b[1;32m<ipython-input-67-f3a9cfba425a>\u001b[0m in \u001b[0;36m<module>\u001b[1;34m\u001b[0m\n\u001b[0;32m     13\u001b[0m         \u001b[0mprint\u001b[0m\u001b[1;33m(\u001b[0m\u001b[1;34m\"Record inserted sucessfully\"\u001b[0m\u001b[1;33m)\u001b[0m\u001b[1;33m\u001b[0m\u001b[1;33m\u001b[0m\u001b[0m\n\u001b[0;32m     14\u001b[0m         \u001b[0moption\u001b[0m\u001b[1;33m=\u001b[0m\u001b[0minput\u001b[0m\u001b[1;33m(\u001b[0m\u001b[1;34m\"Do you want to insert one more record 'yes' or 'no'\"\u001b[0m\u001b[1;33m)\u001b[0m\u001b[1;33m\u001b[0m\u001b[1;33m\u001b[0m\u001b[0m\n\u001b[1;32m---> 15\u001b[1;33m         \u001b[1;32mif\u001b[0m \u001b[0moption\u001b[0m\u001b[1;33m==\u001b[0m \u001b[0mno\u001b[0m\u001b[1;33m:\u001b[0m\u001b[1;33m\u001b[0m\u001b[1;33m\u001b[0m\u001b[0m\n\u001b[0m\u001b[0;32m     16\u001b[0m             \u001b[1;32mbreak\u001b[0m\u001b[1;33m\u001b[0m\u001b[1;33m\u001b[0m\u001b[0m\n\u001b[0;32m     17\u001b[0m \u001b[1;33m\u001b[0m\u001b[0m\n",
      "\u001b[1;31mNameError\u001b[0m: name 'no' is not defined"
     ]
    }
   ],
   "source": [
    "import pymysql\n",
    "try:\n",
    "    con = pymysql.connect(user='root',password='19ishu93',db='ishu')\n",
    "    cursor = con.cursor()\n",
    "    while True:\n",
    "        eno=int(input(\"enter employee number: \"))\n",
    "        ename=input(\"enter emloyee name: \")\n",
    "        esal=int(input(\"enter employee salary:\"))\n",
    "        eadd=input(\"enter the employee address: \")\n",
    "        query=\"insert into employee(eno,ename,esal,eadd) values (%s,'%s',%s,'%s')\"\n",
    "        cursor.execute(query %(eno,ename,esal,eadd))\n",
    "        con.commit()\n",
    "        print(\"Record inserted sucessfully\")\n",
    "        option=input(\"Do you want to insert one more record 'yes' or 'no'\")\n",
    "        if option== no: # this will show error but actually it is braking the loop if we type no\n",
    "            break\n",
    "                   \n",
    "except pymysql.DatabaseError as e:\n",
    "    if con:\n",
    "        con.rollback()\n",
    "        print(\"There is a problem:\",e)\n",
    "finally:\n",
    "    if cursor:\n",
    "        cursor.close()\n",
    "    if con:\n",
    "        con.close()"
   ]
  },
  {
   "cell_type": "markdown",
   "metadata": {},
   "source": [
    "## INCREASE EMPLOYEES SALARY BY 144 Rs WHOSE SALARY ARE LESS THAN 5000 Rs"
   ]
  },
  {
   "cell_type": "code",
   "execution_count": 70,
   "metadata": {},
   "outputs": [
    {
     "name": "stdout",
     "output_type": "stream",
     "text": [
      "ENTER AMOUNT TO INCREASE IN SALARY: 144\n",
      "ENTER SALARY RANGE: 5000\n",
      "Record inserted sucessfully\n"
     ]
    }
   ],
   "source": [
    "import pymysql\n",
    "try:\n",
    "    con = pymysql.connect(user='root',password='19ishu93',db='ishu')\n",
    "    cursor = con.cursor()\n",
    "    increase_amount=float(input(\"ENTER AMOUNT TO INCREASE IN SALARY: \"))\n",
    "    salary_range=float(input(\"ENTER SALARY RANGE: \"))\n",
    "    query=\"UPDATE employee SET esal=esal+%f WHERE esal< %f\"\n",
    "    cursor.execute(query %(increase_amount,salary_range))\n",
    "    con.commit()\n",
    "    print(\"Record updated sucessfully\")\n",
    "                   \n",
    "except pymysql.DatabaseError as e:\n",
    "    if con:\n",
    "        con.rollback()\n",
    "        print(\"There is a problem:\",e)\n",
    "finally:\n",
    "    if cursor:\n",
    "        cursor.close()\n",
    "    if con:\n",
    "        con.close()"
   ]
  },
  {
   "cell_type": "markdown",
   "metadata": {},
   "source": [
    "## DELETE OPERATION"
   ]
  },
  {
   "cell_type": "code",
   "execution_count": 71,
   "metadata": {},
   "outputs": [
    {
     "name": "stdout",
     "output_type": "stream",
     "text": [
      "ENTER SALARY RANGE: 5000\n",
      "Record inserted sucessfully\n"
     ]
    }
   ],
   "source": [
    "import pymysql\n",
    "try:\n",
    "    con = pymysql.connect(user='root',password='19ishu93',db='ishu')\n",
    "    cursor = con.cursor()\n",
    "    cutoff_salary_range=float(input(\"ENTER SALARY RANGE: \"))\n",
    "    query=\"DELETE FROM employee WHERE esal> %f\"\n",
    "    cursor.execute(query %(cutoff_salary_range))\n",
    "    con.commit()\n",
    "    print(\"Records DELETED sucessfully\")\n",
    "                   \n",
    "except pymysql.DatabaseError as e:\n",
    "    if con:\n",
    "        con.rollback()\n",
    "        print(\"There is a problem:\",e)\n",
    "finally:\n",
    "    if cursor:\n",
    "        cursor.close()\n",
    "    if con:\n",
    "        con.close()"
   ]
  },
  {
   "cell_type": "markdown",
   "metadata": {},
   "source": [
    "## SELECT OPERATION\n"
   ]
  },
  {
   "cell_type": "markdown",
   "metadata": {},
   "source": [
    "__1.fetchone()__"
   ]
  },
  {
   "cell_type": "code",
   "execution_count": 72,
   "metadata": {},
   "outputs": [
    {
     "name": "stdout",
     "output_type": "stream",
     "text": [
      "(10, 'ishu', Decimal('1144.00'), 'Dewas')\n",
      "(500, 'chinu', Decimal('4144.00'), 'blr')\n",
      "(200, 'sunny', Decimal('2144.00'), 'mum')\n",
      "(300, 'miini', Decimal('3144.00'), 'hyd')\n",
      "(500, 'chinu', Decimal('4144.00'), 'blr')\n",
      "Records selected sucessfully\n"
     ]
    }
   ],
   "source": [
    "import pymysql\n",
    "try:\n",
    "    con = pymysql.connect(user='root',password='19ishu93',db='ishu')\n",
    "    cursor = con.cursor()\n",
    "    query=\"SELECT * FROM employee\"\n",
    "    cursor.execute(query)\n",
    "    row=cursor.fetchone() # fetch 1st record \n",
    "    while row is not None:# with while loop we select a;; record entries\n",
    "        print(row)\n",
    "        row=cursor.fetchone() # after one iteration move to second iteration and keep on going till last record       \n",
    "   \n",
    "    print(\"Records selected sucessfully\")\n",
    "                   \n",
    "except pymysql.DatabaseError as e:\n",
    "    if con:\n",
    "        con.rollback()\n",
    "        print(\"There is a problem:\",e)\n",
    "finally:\n",
    "    if cursor:\n",
    "        cursor.close()\n",
    "    if con:\n",
    "        con.close()"
   ]
  },
  {
   "cell_type": "markdown",
   "metadata": {},
   "source": [
    "__2.fetchall()__"
   ]
  },
  {
   "cell_type": "code",
   "execution_count": 79,
   "metadata": {},
   "outputs": [
    {
     "name": "stdout",
     "output_type": "stream",
     "text": [
      "EMPLOYEE NUMBER 10\n",
      "EMPLOYEE NAME ishu\n",
      "EMPLOYEE SALARY 1144.00\n",
      "EMPLOYEE ADDRESS Dewas\n",
      "\n",
      "EMPLOYEE NUMBER 500\n",
      "EMPLOYEE NAME chinu\n",
      "EMPLOYEE SALARY 4144.00\n",
      "EMPLOYEE ADDRESS blr\n",
      "\n",
      "EMPLOYEE NUMBER 200\n",
      "EMPLOYEE NAME sunny\n",
      "EMPLOYEE SALARY 2144.00\n",
      "EMPLOYEE ADDRESS mum\n",
      "\n",
      "EMPLOYEE NUMBER 300\n",
      "EMPLOYEE NAME miini\n",
      "EMPLOYEE SALARY 3144.00\n",
      "EMPLOYEE ADDRESS hyd\n",
      "\n",
      "EMPLOYEE NUMBER 500\n",
      "EMPLOYEE NAME chinu\n",
      "EMPLOYEE SALARY 4144.00\n",
      "EMPLOYEE ADDRESS blr\n",
      "\n",
      "ALL RECORD SELECTED SUCESSFULLY\n"
     ]
    }
   ],
   "source": [
    "import pymysql\n",
    "try:\n",
    "    con = pymysql.connect(user='root',password='19ishu93',db='ishu')\n",
    "    cursor = con.cursor()\n",
    "    query=\"SELECT * FROM employee\"\n",
    "    cursor.execute(query)\n",
    "    data=cursor.fetchall() # fetch all record in one go\n",
    "    #print(data) # output will be list of tuples so we use for loop\n",
    "    for row in data:\n",
    "        print(\"EMPLOYEE NUMBER\",row[0])\n",
    "        print(\"EMPLOYEE NAME\",row[1])\n",
    "        print(\"EMPLOYEE SALARY\",row[2])\n",
    "        print(\"EMPLOYEE ADDRESS\",row[3])\n",
    "        print() # blank print to give vertical spacein output\n",
    "    \n",
    "    print(\"ALL RECORD SELECTED SUCESSFULLY\")\n",
    "                   \n",
    "except pymysql.DatabaseError as e:\n",
    "    if con:\n",
    "        con.rollback()\n",
    "        print(\"There is a problem:\",e)\n",
    "finally:\n",
    "    if cursor:\n",
    "        cursor.close()\n",
    "    if con:\n",
    "        con.close()"
   ]
  },
  {
   "cell_type": "markdown",
   "metadata": {},
   "source": [
    "__3.fetchmany(n)__"
   ]
  },
  {
   "cell_type": "code",
   "execution_count": 81,
   "metadata": {},
   "outputs": [
    {
     "name": "stdout",
     "output_type": "stream",
     "text": [
      "enter the number of rows: 1\n",
      "EMPLOYEE NUMBER 10\n",
      "EMPLOYEE NAME ishu\n",
      "EMPLOYEE SALARY 1144.00\n",
      "EMPLOYEE ADDRESS Dewas\n",
      "\n",
      "ALL RECORD SELECTED SUCESSFULLY\n"
     ]
    }
   ],
   "source": [
    "import pymysql\n",
    "try:\n",
    "    con = pymysql.connect(user='root',password='19ishu93',db='ishu')\n",
    "    cursor = con.cursor()\n",
    "    query=\"SELECT * FROM employee\"\n",
    "    cursor.execute(query)\n",
    "    n=int(input(\"enter the number of rows: \"))\n",
    "    data=cursor.fetchmany(n) # fetch all record in one go\n",
    "    #print(data) # output will be list of tuples so we use for loop\n",
    "    for row in data:\n",
    "        print(\"EMPLOYEE NUMBER\",row[0])\n",
    "        print(\"EMPLOYEE NAME\",row[1])\n",
    "        print(\"EMPLOYEE SALARY\",row[2])\n",
    "        print(\"EMPLOYEE ADDRESS\",row[3])\n",
    "        print() # blank print to give vertical spacein output\n",
    "    \n",
    "    print(\"ALL RECORD SELECTED SUCESSFULLY\")\n",
    "                   \n",
    "except pymysql.DatabaseError as e:\n",
    "    if con:\n",
    "        con.rollback()\n",
    "        print(\"There is a problem:\",e)\n",
    "finally:\n",
    "    if cursor:\n",
    "        cursor.close()\n",
    "    if con:\n",
    "        con.close()"
   ]
  },
  {
   "cell_type": "markdown",
   "metadata": {},
   "source": [
    "## WRITING RECORDS TO TEXT FILE"
   ]
  },
  {
   "cell_type": "code",
   "execution_count": 84,
   "metadata": {},
   "outputs": [
    {
     "name": "stdout",
     "output_type": "stream",
     "text": [
      "enter the number of rows: 1\n",
      "SELECTED RECORDS SAVED SUCESSFULLY\n"
     ]
    }
   ],
   "source": [
    "import pymysql\n",
    "try:\n",
    "    con = pymysql.connect(user='root',password='19ishu93',db='ishu')\n",
    "    cursor = con.cursor()\n",
    "    query=\"SELECT * FROM employee\"\n",
    "    cursor.execute(query)\n",
    "    n=int(input(\"enter the number of rows: \"))\n",
    "    data=cursor.fetchmany(n) # fetch all record in one go\n",
    "    #print(data) # output will be list of tuples so we use for loop\n",
    "    f=open(\"dbresults.txt\",\"w\") # THIS WILL CREATE A TEXT FILE\n",
    "    f.write(str(data)) #THIS  WILL AD DATA INTO TEXT FILE AND WRITE() METHOS NEED STRING FORMAT DATA TO WRITE IN FILE SO WE USED STR(DATA)\n",
    "    print(\"SELECTED RECORDS SAVED SUCESSFULLY TO 'DBRESULTS.TXT' FILE\")\n",
    "                   \n",
    "except pymysql.DatabaseError as e:\n",
    "    if con:\n",
    "        con.rollback()\n",
    "        print(\"There is a problem:\",e)\n",
    "finally:\n",
    "    if cursor:\n",
    "        cursor.close()\n",
    "    if con:\n",
    "        con.close()"
   ]
  },
  {
   "cell_type": "markdown",
   "metadata": {},
   "source": [
    "## ADDING THE SELCTED DATA INTO DATAFRAME"
   ]
  },
  {
   "cell_type": "code",
   "execution_count": 99,
   "metadata": {},
   "outputs": [
    {
     "name": "stdout",
     "output_type": "stream",
     "text": [
      "   eno  ename    esal   eadd\n",
      "0   10   ishu  1144.0  Dewas\n",
      "1  500  chinu  4144.0    blr\n",
      "2  200  sunny  2144.0    mum\n",
      "3  300  miini  3144.0    hyd\n",
      "4  500  chinu  4144.0    blr\n",
      "ALL RECORDS SAVED TO DARTAFRAME SUCESSFULLY\n"
     ]
    }
   ],
   "source": [
    "import pandas as pd\n",
    "import pymysql\n",
    "\n",
    "connection = pymysql.connect(user='root',password='19ishu93',db='ishu')\n",
    "cursor = con.cursor()\n",
    "query=\"SELECT * FROM employee\"\n",
    "df=pd.read_sql(query,connection) #df=pd.read_sql(query,connection,index_col='eno')  \n",
    "print(df)\n",
    "print(\"ALL RECORDS SAVED TO DARTAFRAME SUCESSFULLY\")\n",
    "                   "
   ]
  },
  {
   "cell_type": "code",
   "execution_count": null,
   "metadata": {},
   "outputs": [],
   "source": []
  },
  {
   "cell_type": "code",
   "execution_count": null,
   "metadata": {},
   "outputs": [],
   "source": []
  },
  {
   "cell_type": "code",
   "execution_count": null,
   "metadata": {},
   "outputs": [],
   "source": []
  },
  {
   "cell_type": "code",
   "execution_count": null,
   "metadata": {},
   "outputs": [],
   "source": []
  },
  {
   "cell_type": "code",
   "execution_count": null,
   "metadata": {},
   "outputs": [],
   "source": []
  },
  {
   "cell_type": "code",
   "execution_count": null,
   "metadata": {},
   "outputs": [],
   "source": []
  },
  {
   "cell_type": "code",
   "execution_count": null,
   "metadata": {},
   "outputs": [],
   "source": []
  },
  {
   "cell_type": "code",
   "execution_count": null,
   "metadata": {},
   "outputs": [],
   "source": []
  },
  {
   "cell_type": "code",
   "execution_count": null,
   "metadata": {},
   "outputs": [],
   "source": []
  },
  {
   "cell_type": "code",
   "execution_count": null,
   "metadata": {},
   "outputs": [],
   "source": []
  },
  {
   "cell_type": "code",
   "execution_count": null,
   "metadata": {},
   "outputs": [],
   "source": []
  },
  {
   "cell_type": "code",
   "execution_count": null,
   "metadata": {},
   "outputs": [],
   "source": []
  },
  {
   "cell_type": "code",
   "execution_count": null,
   "metadata": {},
   "outputs": [],
   "source": []
  },
  {
   "cell_type": "code",
   "execution_count": null,
   "metadata": {},
   "outputs": [],
   "source": []
  },
  {
   "cell_type": "code",
   "execution_count": null,
   "metadata": {},
   "outputs": [],
   "source": []
  },
  {
   "cell_type": "code",
   "execution_count": null,
   "metadata": {},
   "outputs": [],
   "source": []
  },
  {
   "cell_type": "code",
   "execution_count": null,
   "metadata": {},
   "outputs": [],
   "source": []
  },
  {
   "cell_type": "code",
   "execution_count": null,
   "metadata": {},
   "outputs": [],
   "source": []
  },
  {
   "cell_type": "code",
   "execution_count": null,
   "metadata": {},
   "outputs": [],
   "source": []
  },
  {
   "cell_type": "code",
   "execution_count": null,
   "metadata": {},
   "outputs": [],
   "source": []
  },
  {
   "cell_type": "code",
   "execution_count": null,
   "metadata": {},
   "outputs": [],
   "source": []
  },
  {
   "cell_type": "code",
   "execution_count": null,
   "metadata": {},
   "outputs": [],
   "source": []
  },
  {
   "cell_type": "code",
   "execution_count": null,
   "metadata": {},
   "outputs": [],
   "source": []
  },
  {
   "cell_type": "code",
   "execution_count": null,
   "metadata": {},
   "outputs": [],
   "source": []
  },
  {
   "cell_type": "code",
   "execution_count": null,
   "metadata": {},
   "outputs": [],
   "source": []
  },
  {
   "cell_type": "code",
   "execution_count": null,
   "metadata": {},
   "outputs": [],
   "source": []
  },
  {
   "cell_type": "code",
   "execution_count": null,
   "metadata": {},
   "outputs": [],
   "source": []
  },
  {
   "cell_type": "code",
   "execution_count": null,
   "metadata": {},
   "outputs": [],
   "source": []
  },
  {
   "cell_type": "code",
   "execution_count": null,
   "metadata": {},
   "outputs": [],
   "source": []
  },
  {
   "cell_type": "code",
   "execution_count": null,
   "metadata": {},
   "outputs": [],
   "source": []
  },
  {
   "cell_type": "code",
   "execution_count": null,
   "metadata": {},
   "outputs": [],
   "source": []
  },
  {
   "cell_type": "code",
   "execution_count": null,
   "metadata": {},
   "outputs": [],
   "source": []
  },
  {
   "cell_type": "code",
   "execution_count": null,
   "metadata": {},
   "outputs": [],
   "source": []
  },
  {
   "cell_type": "code",
   "execution_count": null,
   "metadata": {},
   "outputs": [],
   "source": []
  },
  {
   "cell_type": "code",
   "execution_count": null,
   "metadata": {},
   "outputs": [],
   "source": []
  },
  {
   "cell_type": "code",
   "execution_count": null,
   "metadata": {},
   "outputs": [],
   "source": []
  },
  {
   "cell_type": "code",
   "execution_count": null,
   "metadata": {},
   "outputs": [],
   "source": []
  },
  {
   "cell_type": "code",
   "execution_count": null,
   "metadata": {},
   "outputs": [],
   "source": []
  },
  {
   "cell_type": "code",
   "execution_count": null,
   "metadata": {},
   "outputs": [],
   "source": []
  },
  {
   "cell_type": "code",
   "execution_count": null,
   "metadata": {},
   "outputs": [],
   "source": []
  },
  {
   "cell_type": "code",
   "execution_count": null,
   "metadata": {},
   "outputs": [],
   "source": []
  }
 ],
 "metadata": {
  "kernelspec": {
   "display_name": "Python 3",
   "language": "python",
   "name": "python3"
  },
  "language_info": {
   "codemirror_mode": {
    "name": "ipython",
    "version": 3
   },
   "file_extension": ".py",
   "mimetype": "text/x-python",
   "name": "python",
   "nbconvert_exporter": "python",
   "pygments_lexer": "ipython3",
   "version": "3.7.1"
  }
 },
 "nbformat": 4,
 "nbformat_minor": 2
}
