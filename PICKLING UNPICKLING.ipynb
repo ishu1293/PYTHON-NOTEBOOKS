{
 "cells": [
  {
   "cell_type": "markdown",
   "metadata": {},
   "source": [
    "## PICKLING UNPICKLING"
   ]
  },
  {
   "cell_type": "code",
   "execution_count": null,
   "metadata": {},
   "outputs": [],
   "source": [
    "# PICKLING -- THE PROCESS OF WRITING STATE OF A OBJECT (VALUE OF INSTANCE VARIBALE) TO A FILE\n",
    "# UNPICKLING -- THE PROCESS OF READING STATE OF A OBJECT IS CALLED UNPICKING\n",
    "\n",
    "# pickle module is used for pickiling\n",
    "# pickle.dump(object,file)  == > this write to a specified object to file\n",
    "\n",
    "# unpicling is done by :\n",
    "# pickle.load(file)\n",
    "\n",
    "# we are wrtitng the data becaus ewe want to use that data multipe times\n"
   ]
  },
  {
   "cell_type": "markdown",
   "metadata": {},
   "source": [
    "### EXAMPLE"
   ]
  },
  {
   "cell_type": "code",
   "execution_count": 8,
   "metadata": {},
   "outputs": [
    {
     "name": "stdout",
     "output_type": "stream",
     "text": [
      "Pickling of employee object completed\n",
      "employee information after unpickling\n",
      "100 \t ishu \t 1000 \t blr\n",
      "<__main__.employee object at 0x0000027D0BDF42B0>\n"
     ]
    }
   ],
   "source": [
    "import pickle\n",
    "class employee:\n",
    "    def __init__(self,eno,ename,esal,eaddr):\n",
    "        self.eno=eno\n",
    "        self.ename=ename\n",
    "        self.esal=esal\n",
    "        self.eaddr=eaddr\n",
    "    def display(self):\n",
    "        print(self.eno,\"\\t\",self.ename,\"\\t\",self.esal,\"\\t\",self.eaddr)\n",
    "\n",
    "# PICKLING        \n",
    "with open(\"emp.dat\",\"wb\") as f:\n",
    "    e=employee(100,\"ishu\",1000,\"blr\")\n",
    "    pickle.dump(e,f)\n",
    "    print(\"Pickling of employee object completed\")\n",
    "\n",
    "# UNPICKLING\n",
    "with open(\"emp.dat\",\"rb\") as f:\n",
    "    obj=pickle.load(f)\n",
    "    print(\"employee information after unpickling\")\n",
    "    obj.display()"
   ]
  },
  {
   "cell_type": "markdown",
   "metadata": {},
   "source": [
    "### PICKLIING EMPLYEE OBJECTS"
   ]
  },
  {
   "cell_type": "code",
   "execution_count": 2,
   "metadata": {},
   "outputs": [
    {
     "name": "stdout",
     "output_type": "stream",
     "text": [
      "Enter no. of employees: 2\n",
      "Enter Employee number: 01\n",
      "Enter Employee name: ishu\n",
      "Enter employee salary: 700000\n",
      "Enter Employee address: blr\n",
      "Pickling is completed\n",
      "Enter Employee number: 2\n",
      "Enter Employee name: vishu\n",
      "Enter employee salary: 00302\n",
      "Enter Employee address: sadd\n",
      "Pickling is completed\n"
     ]
    }
   ],
   "source": [
    "import emp,pickle  # emp is saved as py file whcih we can import ( employee class)\n",
    "f=open(\"emp.dat\",\"wb\")\n",
    "n=int(input(\"Enter no. of employees: \"))\n",
    "for i in range(n):\n",
    "    eno=int(input(\"Enter Employee number: \"))\n",
    "    ename=input(\"Enter Employee name: \")\n",
    "    esal=int(input(\"Enter employee salary: \"))\n",
    "    eaddr=input(\"Enter Employee address: \")\n",
    "    e=emp.employee(eno,ename,esal,eaddr)\n",
    "    pickle.dump(e,f)\n",
    "    print(\"Pickling is completed\")"
   ]
  },
  {
   "cell_type": "markdown",
   "metadata": {},
   "source": [
    "## UNPICKING EMPLOYEE OBJECTS"
   ]
  },
  {
   "cell_type": "code",
   "execution_count": 3,
   "metadata": {},
   "outputs": [
    {
     "name": "stdout",
     "output_type": "stream",
     "text": [
      "Employee details are: \n",
      "1 \t ishu \t 700000 \t blr\n",
      "\n",
      "2 \t vishu \t 302 \t sadd\n",
      "\n",
      "All employess Completed\n"
     ]
    }
   ],
   "source": [
    "import emp,pickle\n",
    "f=open(\"emp.dat\",\"rb\")\n",
    "print(\"Employee details are: \")\n",
    "while True:\n",
    "    try:\n",
    "        obj =pickle.load(f)\n",
    "        obj.display()\n",
    "        print()\n",
    "    except EOFError:\n",
    "        print(\"All employess Completed\")\n",
    "        break\n",
    "f.close()"
   ]
  },
  {
   "cell_type": "code",
   "execution_count": null,
   "metadata": {},
   "outputs": [],
   "source": []
  }
 ],
 "metadata": {
  "kernelspec": {
   "display_name": "Python 3",
   "language": "python",
   "name": "python3"
  },
  "language_info": {
   "codemirror_mode": {
    "name": "ipython",
    "version": 3
   },
   "file_extension": ".py",
   "mimetype": "text/x-python",
   "name": "python",
   "nbconvert_exporter": "python",
   "pygments_lexer": "ipython3",
   "version": "3.7.1"
  }
 },
 "nbformat": 4,
 "nbformat_minor": 2
}
