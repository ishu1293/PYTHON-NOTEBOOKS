{
 "cells": [
  {
   "cell_type": "markdown",
   "metadata": {},
   "source": [
    "## FILE HANDLING"
   ]
  },
  {
   "cell_type": "code",
   "execution_count": 46,
   "metadata": {},
   "outputs": [],
   "source": [
    "# PART -1 \n",
    "# As the part of programming reqirement we need to store our data permanently fot the future purpose\n",
    "# for this requirement we should use file handling concept\n",
    "# temporarily i need to store my program data somewhere and after program run the data is deleted from memory for that we use temporary storage\n",
    "# if we store our data in list,set,tuple,dictonary it is known as temporary data\n",
    "# temprory data will be stored in PVM as a part of heap memory\n",
    "\n",
    "# Permanent storage is files and database,bigdata\n",
    "# If we want to store small information then we should use files , for big info we must use database\n",
    "\n",
    "#  FILES TYPE \n",
    "# 1 Text file  ==> text data like name of students , marks of students etc \n",
    "# 2 Binary file ==> images ,video , audio files etc\n",
    "\n",
    "# TO READ WRITE THE DATA INTO A FILE WE FIRST NEED TO OPEN IT \n",
    "# to open a file we use open(filename,mode) fucntion . mode represent what you want to perform on file read write etc\n",
    "# the allowed mode in python:\n",
    "# 1) r ==> read mode\n",
    "# ----------------------------------\n",
    "# open an exisiting file for read operation\n",
    "# file pointer positioned at beginning of file\n",
    "# if the specified is not avaiable then we will get file not found error\n",
    "# the default mode is always read mode only \n",
    "# f=open(\"abc.txt\",\"r\")  ==> file name should contain expension\n",
    "\n",
    "\n",
    "# 2) w ==> write\n",
    "#-----------------------------------------------------------\n",
    "#open a file for  write operation\n",
    "# if the specified file is not aviabale it will create that file \n",
    "# this creation of file is only aviaable in write function\n",
    "# if file already contains data ,it will perform overwrite operation, existing data will be gone \n",
    "\n",
    "\n",
    "# 3) a ==> append\n",
    "# -------------------------------------------\n",
    "# if the specified file is not aviabale it will create that file \n",
    "# if the data is avaiable in file then it will not perform overwrite operation\n",
    "# new data will be added after old data\n",
    "# cursor position is last, in the end\n",
    "\n",
    "\n",
    "# 4) r+ ==> read and write\n",
    "#----------------------------------------------------\n",
    "# to read and then write \n",
    "# existing data will not be deleted\n",
    "# the pointer is always poinitng art the beginning of file\n",
    "\n",
    "\n",
    "# 5) w+ ==> write and read\n",
    "#----------------------------------------------------\n",
    "# to write and then read the file\n",
    "# it will overwrite the existing data data\n",
    "\n",
    "\n",
    "# 6) a+ ==> append and read\n",
    "# -------------------------------------------------\n",
    "# first append then read the existing data\n",
    "# it wont overwrite exsiting data\n",
    "\n",
    "\n",
    "# 7) x ==> exclusive\n",
    "# ---------------------------------------------------\n",
    "# it is exactly same as write operation\n",
    "# \n",
    "\n",
    "# f=open(\"abc.txt\",\"w\") ==> if the file exist then write to exisitng file and overwrite the data\n",
    "# if the file is not available then create new file\n",
    "\n",
    "# f= open(\"abc.txt\",\"x\") ==> the data is written only to exculsive (new file) \n",
    "# if the specified file exsits then we will get error ==> file already exisits\n",
    "\n",
    "\n",
    "# THESE 7 MODES ARE ONLY AVAILABLE FOR TEXT FILES\n",
    "# FOR THE BINARY FILE WE ALSO HAE 7 MODES\n",
    "\n",
    "# rb,wb,ab,r+b,w+b,a+b,x+b  ==> every mode neds with \"b\"\n",
    "# the mode names are case sensisitve.(always in small letters)\n",
    "\n",
    "\n",
    "# STEPS OF OPERATION\n",
    "\n",
    "# file = open(\"abc.txt\",\"r\")\n",
    "#  ....perform required operation\n",
    "# file.close() ==> close will release the system resources after completing the operations\n",
    "\n",
    "\n",
    "\n",
    "# VARIOUS PROPERTIES OF FILE\n",
    "# file.name     = THIS IS A VARIABLE\n",
    "# file.mode     = THIS IS A VARIABLE\n",
    "# file.closed   = THIS IS A VARIABLE\n",
    "# f.readable() ==> return boolean value  ,THIS IS A METHOD\n",
    "# f.writeable() ==> return boolean value  , THIS IS A METHOD\n",
    "\n",
    "\n",
    "# FILE OPERATIONS\n",
    "#---------------------------------\n",
    "# WRITING DATA TO FILE\n",
    "# 1. file.write(str)\n",
    "# 2. file.writelines(list of lines) ==> python list is used here \n",
    "# list signifies multiple strings written in list form \n",
    "# insted of wrting string one by one we use writelines to write all lines at once using list\n",
    "\n",
    "# READING DATA TO A FILE\n",
    "# f.read() ==> to read total data from file \n",
    "# f.read(n) ==> to read n characters from the file\n",
    "# f.readline() => to read only one line  or line by line\n",
    "# f.readlines() => to read lines in form of list\n",
    "\n",
    "\n",
    "# WITH STATEMENT\n",
    "# THE FILE IS AUTOMATICALLY CLOSED WITH WITH SATAEMANT\n",
    "\n",
    "# with open(\"abc.txt\",\"w\") as f:\n",
    "#    ......operation1\n",
    "#    ......operation2\n",
    "#    ......operation3\n",
    "# FILE IS AUTOMATICALLY CLOSED AFTER OPERATION\n",
    "\n",
    "#----------------------------------------------------------------------------------\n",
    "\n",
    "# PART 2 \n",
    "# tell()  & seek() \n",
    "\n",
    "# 1. tell() ==> it tells the current posiiton of the cusror from begining of the file\n",
    "# 2. first position is always at zero place or zero index of character in text file\n",
    "\n",
    "# seek() ==> to move cursor to specified position\n",
    "# f.seek()\n",
    "\n",
    "# f.seek(-12) ==> seek dooes not accept neative index, it will always start with begining of the file\n",
    "\n",
    "# ------------------------------------------------------------------------------------\n",
    "# THE OS MODULE HAVE A METHOD \n",
    "# isfile() ==> to check if certain file exist or not\n",
    "# -------------------------------------------------------------------------------------------\n",
    "\n",
    "# \n",
    "\n",
    "\n",
    "\n"
   ]
  },
  {
   "cell_type": "code",
   "execution_count": 1,
   "metadata": {},
   "outputs": [
    {
     "name": "stdout",
     "output_type": "stream",
     "text": [
      "enter no. of values: 2\n",
      "enter the values: a\n",
      "enter the values: b\n",
      "['a', 'b']\n"
     ]
    }
   ],
   "source": [
    "l=[]\n",
    "n=int(input(\"enter no. of values: \"))\n",
    "for i in range(n):\n",
    "    x= input(\"enter the values: \")\n",
    "    l.append(x)\n",
    "print(l)"
   ]
  },
  {
   "cell_type": "markdown",
   "metadata": {},
   "source": [
    "### EXAMPLE OF MODES"
   ]
  },
  {
   "cell_type": "code",
   "execution_count": 6,
   "metadata": {},
   "outputs": [
    {
     "name": "stdout",
     "output_type": "stream",
     "text": [
      "file name:  abc.txt\n",
      "file mode:  r\n",
      "is file writeable?  False\n",
      "is file readable?  True\n",
      "is file closed?  False\n",
      "is file closed?  True\n"
     ]
    }
   ],
   "source": [
    "f=open(\"abc.txt\")\n",
    "print(\"file name: \",f.name)\n",
    "print(\"file mode: \",f.mode)\n",
    "print(\"is file writeable? \",f.writable())\n",
    "print(\"is file readable? \",f.readable())\n",
    "print(\"is file closed? \",f.closed)\n",
    "f.close()\n",
    "print(\"is file closed? \",f.closed)\n"
   ]
  },
  {
   "cell_type": "code",
   "execution_count": 7,
   "metadata": {},
   "outputs": [
    {
     "name": "stdout",
     "output_type": "stream",
     "text": [
      "file name:  abc.txt\n",
      "file mode:  w\n",
      "is file writeable?  True\n",
      "is file readable?  False\n",
      "is file closed?  False\n",
      "is file closed?  True\n"
     ]
    }
   ],
   "source": [
    "f=open(\"abc.txt\",\"w\")\n",
    "print(\"file name: \",f.name)\n",
    "print(\"file mode: \",f.mode)\n",
    "print(\"is file writeable? \",f.writable())\n",
    "print(\"is file readable? \",f.readable())\n",
    "print(\"is file closed? \",f.closed)\n",
    "f.close()\n",
    "print(\"is file closed? \",f.closed)"
   ]
  },
  {
   "cell_type": "code",
   "execution_count": 8,
   "metadata": {},
   "outputs": [
    {
     "ename": "FileExistsError",
     "evalue": "[Errno 17] File exists: 'abc.txt'",
     "output_type": "error",
     "traceback": [
      "\u001b[0;31m---------------------------------------------------------------------------\u001b[0m",
      "\u001b[0;31mFileExistsError\u001b[0m                           Traceback (most recent call last)",
      "\u001b[0;32m<ipython-input-8-3439426e3a0b>\u001b[0m in \u001b[0;36m<module>\u001b[0;34m()\u001b[0m\n\u001b[0;32m----> 1\u001b[0;31m \u001b[0mf\u001b[0m\u001b[0;34m=\u001b[0m\u001b[0mopen\u001b[0m\u001b[0;34m(\u001b[0m\u001b[0;34m\"abc.txt\"\u001b[0m\u001b[0;34m,\u001b[0m\u001b[0;34m\"x\"\u001b[0m\u001b[0;34m)\u001b[0m\u001b[0;34m\u001b[0m\u001b[0m\n\u001b[0m\u001b[1;32m      2\u001b[0m \u001b[0mprint\u001b[0m\u001b[0;34m(\u001b[0m\u001b[0;34m\"file name: \"\u001b[0m\u001b[0;34m,\u001b[0m\u001b[0mf\u001b[0m\u001b[0;34m.\u001b[0m\u001b[0mname\u001b[0m\u001b[0;34m)\u001b[0m\u001b[0;34m\u001b[0m\u001b[0m\n\u001b[1;32m      3\u001b[0m \u001b[0mprint\u001b[0m\u001b[0;34m(\u001b[0m\u001b[0;34m\"file mode: \"\u001b[0m\u001b[0;34m,\u001b[0m\u001b[0mf\u001b[0m\u001b[0;34m.\u001b[0m\u001b[0mmode\u001b[0m\u001b[0;34m)\u001b[0m\u001b[0;34m\u001b[0m\u001b[0m\n\u001b[1;32m      4\u001b[0m \u001b[0mprint\u001b[0m\u001b[0;34m(\u001b[0m\u001b[0;34m\"is file writeable? \"\u001b[0m\u001b[0;34m,\u001b[0m\u001b[0mf\u001b[0m\u001b[0;34m.\u001b[0m\u001b[0mwritable\u001b[0m\u001b[0;34m(\u001b[0m\u001b[0;34m)\u001b[0m\u001b[0;34m)\u001b[0m\u001b[0;34m\u001b[0m\u001b[0m\n\u001b[1;32m      5\u001b[0m \u001b[0mprint\u001b[0m\u001b[0;34m(\u001b[0m\u001b[0;34m\"is file readable? \"\u001b[0m\u001b[0;34m,\u001b[0m\u001b[0mf\u001b[0m\u001b[0;34m.\u001b[0m\u001b[0mreadable\u001b[0m\u001b[0;34m(\u001b[0m\u001b[0;34m)\u001b[0m\u001b[0;34m)\u001b[0m\u001b[0;34m\u001b[0m\u001b[0m\n",
      "\u001b[0;31mFileExistsError\u001b[0m: [Errno 17] File exists: 'abc.txt'"
     ]
    }
   ],
   "source": [
    "f=open(\"abc.txt\",\"x\")\n",
    "print(\"file name: \",f.name)\n",
    "print(\"file mode: \",f.mode)\n",
    "print(\"is file writeable? \",f.writable())\n",
    "print(\"is file readable? \",f.readable())\n",
    "print(\"is file closed? \",f.closed)\n",
    "f.close()\n",
    "print(\"is file closed? \",f.closed)\n",
    "\n",
    "# here we will get error since abc.txt already exists"
   ]
  },
  {
   "cell_type": "code",
   "execution_count": 12,
   "metadata": {},
   "outputs": [
    {
     "name": "stdout",
     "output_type": "stream",
     "text": [
      "file name:  abc2.txt\n",
      "file mode:  x\n",
      "is file writeable?  True\n",
      "is file readable?  False\n",
      "is file closed?  False\n",
      "is file closed?  True\n"
     ]
    }
   ],
   "source": [
    "f=open(\"abc2.txt\",\"x\")\n",
    "print(\"file name: \",f.name)\n",
    "print(\"file mode: \",f.mode)\n",
    "print(\"is file writeable? \",f.writable())\n",
    "print(\"is file readable? \",f.readable())\n",
    "print(\"is file closed? \",f.closed)\n",
    "f.close()\n",
    "print(\"is file closed? \",f.closed)\n",
    "\n",
    "# here we will get error since abc.txt already exists"
   ]
  },
  {
   "cell_type": "markdown",
   "metadata": {},
   "source": [
    "### WRITNG DATA TO FILE"
   ]
  },
  {
   "cell_type": "code",
   "execution_count": 58,
   "metadata": {},
   "outputs": [
    {
     "name": "stdout",
     "output_type": "stream",
     "text": [
      "operation completed\n",
      "all students are stupids\n"
     ]
    }
   ],
   "source": []
  },
  {
   "cell_type": "code",
   "execution_count": 16,
   "metadata": {},
   "outputs": [
    {
     "name": "stdout",
     "output_type": "stream",
     "text": [
      "write operation is completed\n"
     ]
    }
   ],
   "source": [
    "f=open(\"abc.txt\",\"w\")\n",
    "f.write(\"ISHU\\n\")\n",
    "f.write(\"IS\\n\")\n",
    "f.write(\"GOOD IN COOKING\\n\")\n",
    "f.close()\n",
    "print(\"write operation is completed\")"
   ]
  },
  {
   "cell_type": "markdown",
   "metadata": {},
   "source": [
    "APPEND TO PREVENT OVERWRITING OF DATA"
   ]
  },
  {
   "cell_type": "code",
   "execution_count": 24,
   "metadata": {},
   "outputs": [
    {
     "name": "stdout",
     "output_type": "stream",
     "text": [
      "write operation is completed\n"
     ]
    }
   ],
   "source": [
    "f=open(\"abc.txt\",\"a\")\n",
    "f.write(\"ISHU\\n\")\n",
    "f.write(\"IS\\n\")\n",
    "f.write(\"GOOD IN COOKING\\n\")\n",
    "f.close()\n",
    "print(\"write operation is completed\")\n",
    "\n",
    "# the number of times we execute it will have data that many time"
   ]
  },
  {
   "cell_type": "code",
   "execution_count": 26,
   "metadata": {},
   "outputs": [
    {
     "name": "stdout",
     "output_type": "stream",
     "text": [
      "write operation is completed\n"
     ]
    }
   ],
   "source": [
    "f=open(\"abc.txt\",\"a\")\n",
    "l=[\"buuny\\n\",\"sunny\\n\",\"chinny\\n\",\"minny\\n\"]\n",
    "f.writelines(l)\n",
    "f.close()\n",
    "print(\"write operation is completed\")"
   ]
  },
  {
   "cell_type": "markdown",
   "metadata": {},
   "source": [
    "### PROGRAM EXAMPLE"
   ]
  },
  {
   "cell_type": "code",
   "execution_count": 30,
   "metadata": {},
   "outputs": [
    {
     "name": "stdout",
     "output_type": "stream",
     "text": [
      "ENTER THE FILE NAMEishu.txt\n",
      "enter the feebvack: kkskdad\n",
      "operation completed\n"
     ]
    }
   ],
   "source": [
    "fname=input(\"ENTER THE FILE NAME\")\n",
    "f=open(\"~Desktop\\\\\"+fname,\"w\")\n",
    "feedback=input(\"enter the feebvack: \")\n",
    "f.write(feedback)\n",
    "f.close()\n",
    "print(\"operation completed\")"
   ]
  },
  {
   "cell_type": "markdown",
   "metadata": {},
   "source": [
    "### READING OPERATIONS"
   ]
  },
  {
   "cell_type": "markdown",
   "metadata": {},
   "source": [
    "READ WHOLE FILE"
   ]
  },
  {
   "cell_type": "code",
   "execution_count": 32,
   "metadata": {},
   "outputs": [
    {
     "name": "stdout",
     "output_type": "stream",
     "text": [
      "ISHU\n",
      "IS\n",
      "GOOD IN COOKING\n",
      "ISHU\n",
      "IS\n",
      "GOOD IN COOKING\n",
      "ISHU\n",
      "IS\n",
      "GOOD IN COOKING\n",
      "ISHU\n",
      "IS\n",
      "GOOD IN COOKING\n",
      "ISHU\n",
      "IS\n",
      "GOOD IN COOKING\n",
      "ISHU\n",
      "IS\n",
      "GOOD IN COOKING\n",
      "ISHU\n",
      "IS\n",
      "GOOD IN COOKING\n",
      "ISHU\n",
      "IS\n",
      "GOOD IN COOKING\n",
      "ISHU\n",
      "IS\n",
      "GOOD IN COOKING\n",
      "buunysunnychinnyminnybuuny\n",
      "sunny\n",
      "chinny\n",
      "minny\n",
      "\n"
     ]
    }
   ],
   "source": [
    "f=open(\"abc.txt\")\n",
    "data= f.read()  # without using data variable the escape character will also be read\n",
    "print(data)"
   ]
  },
  {
   "cell_type": "markdown",
   "metadata": {},
   "source": [
    "READ FEW CHARACTERS"
   ]
  },
  {
   "cell_type": "code",
   "execution_count": 36,
   "metadata": {},
   "outputs": [
    {
     "name": "stdout",
     "output_type": "stream",
     "text": [
      "ISHU\n",
      "IS\n",
      "GO\n"
     ]
    }
   ],
   "source": [
    "f=open(\"abc.txt\")\n",
    "data= f.read(10)  # without using data variable the escape character will also be read\n",
    "print(data)"
   ]
  },
  {
   "cell_type": "markdown",
   "metadata": {},
   "source": [
    "READLINE "
   ]
  },
  {
   "cell_type": "code",
   "execution_count": 38,
   "metadata": {},
   "outputs": [
    {
     "name": "stdout",
     "output_type": "stream",
     "text": [
      "ISHU\n"
     ]
    }
   ],
   "source": [
    "f=open(\"abc.txt\")\n",
    "data= f.readline()  # without using data variable the escape character will also be read\n",
    "print(data,end=\"\")  # print(data) gicves extra space in output so we use end=\"\" to remove that sapce"
   ]
  },
  {
   "cell_type": "markdown",
   "metadata": {},
   "source": [
    "READ ALL THE LINES "
   ]
  },
  {
   "cell_type": "code",
   "execution_count": 43,
   "metadata": {},
   "outputs": [
    {
     "name": "stdout",
     "output_type": "stream",
     "text": [
      "['ISHU\\n', 'IS\\n', 'GOOD IN COOKING\\n', 'ISHU\\n', 'IS\\n', 'GOOD IN COOKING\\n', 'ISHU\\n', 'IS\\n', 'GOOD IN COOKING\\n', 'ISHU\\n', 'IS\\n', 'GOOD IN COOKING\\n', 'ISHU\\n', 'IS\\n', 'GOOD IN COOKING\\n', 'ISHU\\n', 'IS\\n', 'GOOD IN COOKING\\n', 'ISHU\\n', 'IS\\n', 'GOOD IN COOKING\\n', 'ISHU\\n', 'IS\\n', 'GOOD IN COOKING\\n', 'ISHU\\n', 'IS\\n', 'GOOD IN COOKING\\n', 'buunysunnychinnyminnybuuny\\n', 'sunny\\n', 'chinny\\n', 'minny\\n']\n",
      "ISHU\n",
      "IS\n",
      "GOOD IN COOKING\n",
      "ISHU\n",
      "IS\n",
      "GOOD IN COOKING\n",
      "ISHU\n",
      "IS\n",
      "GOOD IN COOKING\n",
      "ISHU\n",
      "IS\n",
      "GOOD IN COOKING\n",
      "ISHU\n",
      "IS\n",
      "GOOD IN COOKING\n",
      "ISHU\n",
      "IS\n",
      "GOOD IN COOKING\n",
      "ISHU\n",
      "IS\n",
      "GOOD IN COOKING\n",
      "ISHU\n",
      "IS\n",
      "GOOD IN COOKING\n",
      "ISHU\n",
      "IS\n",
      "GOOD IN COOKING\n",
      "buunysunnychinnyminnybuuny\n",
      "sunny\n",
      "chinny\n",
      "minny\n"
     ]
    }
   ],
   "source": [
    "f=open(\"abc.txt\")\n",
    "data= f.readlines()  # without using data variable the escape character will also be read\n",
    "print(data)\n",
    "for line in data:\n",
    "    print(line,end=\"\")"
   ]
  },
  {
   "cell_type": "markdown",
   "metadata": {},
   "source": [
    "### INPUT OF ONE FILE AND OUTPUT IN NEW FILE"
   ]
  },
  {
   "cell_type": "code",
   "execution_count": 45,
   "metadata": {},
   "outputs": [
    {
     "name": "stdout",
     "output_type": "stream",
     "text": [
      "OPERATION COMPLETED\n"
     ]
    }
   ],
   "source": [
    "f1=open(\"abc.txt\")\n",
    "f2=open(\"output.txt\",\"w\")\n",
    "f2.write(f1.read())\n",
    "f1.close()\n",
    "f2.close()\n",
    "print(\"OPERATION COMPLETED\")"
   ]
  },
  {
   "cell_type": "markdown",
   "metadata": {},
   "source": [
    "### WITH STATEMENT"
   ]
  },
  {
   "cell_type": "code",
   "execution_count": 50,
   "metadata": {},
   "outputs": [
    {
     "name": "stdout",
     "output_type": "stream",
     "text": [
      " Is file is closed?  True\n"
     ]
    }
   ],
   "source": [
    "with open(\"new.txt\",\"w\") as f:\n",
    "    f.write(\"ISHU\\n\")\n",
    "    f.write(\"is\\n\")\n",
    "    f.write(\"learning python\\n\")\n",
    "print(\" Is file is closed? \",f.closed) # with statemetn automatically closed the file"
   ]
  },
  {
   "cell_type": "markdown",
   "metadata": {},
   "source": [
    "### TELL() & SEEK()"
   ]
  },
  {
   "cell_type": "code",
   "execution_count": 53,
   "metadata": {},
   "outputs": [
    {
     "name": "stdout",
     "output_type": "stream",
     "text": [
      "0\n",
      "IS\n",
      "2\n",
      "HU\n",
      "IS\n",
      "7\n"
     ]
    }
   ],
   "source": [
    "f=open(\"abc.txt\")\n",
    "print(f.tell())\n",
    "print(f.read(2))\n",
    "print(f.tell())\n",
    "print(f.read(5))\n",
    "print(f.tell())"
   ]
  },
  {
   "cell_type": "markdown",
   "metadata": {},
   "source": [
    "### READING WRITING SIMULTANEOUSLY & SEEK() , TELL()"
   ]
  },
  {
   "cell_type": "code",
   "execution_count": 68,
   "metadata": {},
   "outputs": [
    {
     "name": "stdout",
     "output_type": "stream",
     "text": [
      "operation completed\n",
      "all students are STUPIDS!!!\n",
      "The current cursor position is :  27\n",
      "The current cursor position is :  17\n",
      "The current cursor position is :  24\n",
      "all students are GEMS!!!!!!\n"
     ]
    }
   ],
   "source": [
    "# writing data\n",
    "data= \"all students are STUPIDS!!!\"\n",
    "f=open(\"new2.txt\",\"w\")\n",
    "f.write(data)\n",
    "f.close()\n",
    "print(\"operation completed\")\n",
    "\n",
    "#reading data\n",
    "with open(\"new2.txt\",\"r+\") as f:  # same name f is used\n",
    "    text=f.read()\n",
    "    print(text)\n",
    "    print(\"The current cursor position is : \",f.tell())\n",
    "    f.seek(17)\n",
    "    print(\"The current cursor position is : \",f.tell())\n",
    "    f.write(\"GEMS!!!\") # STUPID WORD IS OVERWRITTEN WITH GEMS!!!\n",
    "    print(\"The current cursor position is : \",f.tell())\n",
    "    f.seek(0)\n",
    "    text=f.read()\n",
    "    print(text)"
   ]
  },
  {
   "cell_type": "markdown",
   "metadata": {},
   "source": [
    "### TO CHECK THE GIVEN FILE EXIST OR NOT"
   ]
  },
  {
   "cell_type": "code",
   "execution_count": 75,
   "metadata": {},
   "outputs": [
    {
     "name": "stdout",
     "output_type": "stream",
     "text": [
      "enter the filename: abc.txt\n",
      "file exists\n",
      "the content of file is \n",
      "ISHU\n",
      "IS\n",
      "GOOD IN COOKING\n",
      "ISHU\n",
      "IS\n",
      "GOOD IN COOKING\n",
      "ISHU\n",
      "IS\n",
      "GOOD IN COOKING\n",
      "ISHU\n",
      "IS\n",
      "GOOD IN COOKING\n",
      "ISHU\n",
      "IS\n",
      "GOOD IN COOKING\n",
      "ISHU\n",
      "IS\n",
      "GOOD IN COOKING\n",
      "ISHU\n",
      "IS\n",
      "GOOD IN COOKING\n",
      "ISHU\n",
      "IS\n",
      "GOOD IN COOKING\n",
      "ISHU\n",
      "IS\n",
      "GOOD IN COOKING\n",
      "buunysunnychinnyminnybuuny\n",
      "sunny\n",
      "chinny\n",
      "minny\n",
      "\n"
     ]
    }
   ],
   "source": [
    "import os\n",
    "\n",
    "fname=input(\"enter the filename: \")\n",
    "if os.path.isfile(fname):\n",
    "    print(\"file exists\")\n",
    "    f=open(fname,\"r\")\n",
    "    print(\"the content of file is \")\n",
    "    print(f.read())\n",
    "else:\n",
    "    print(\"file does not exist\")"
   ]
  },
  {
   "cell_type": "code",
   "execution_count": null,
   "metadata": {},
   "outputs": [],
   "source": []
  },
  {
   "cell_type": "code",
   "execution_count": null,
   "metadata": {},
   "outputs": [],
   "source": []
  },
  {
   "cell_type": "code",
   "execution_count": null,
   "metadata": {},
   "outputs": [],
   "source": []
  },
  {
   "cell_type": "code",
   "execution_count": null,
   "metadata": {},
   "outputs": [],
   "source": []
  },
  {
   "cell_type": "code",
   "execution_count": null,
   "metadata": {},
   "outputs": [],
   "source": []
  },
  {
   "cell_type": "code",
   "execution_count": null,
   "metadata": {},
   "outputs": [],
   "source": []
  },
  {
   "cell_type": "code",
   "execution_count": null,
   "metadata": {},
   "outputs": [],
   "source": []
  },
  {
   "cell_type": "code",
   "execution_count": null,
   "metadata": {},
   "outputs": [],
   "source": []
  },
  {
   "cell_type": "code",
   "execution_count": null,
   "metadata": {},
   "outputs": [],
   "source": []
  },
  {
   "cell_type": "code",
   "execution_count": null,
   "metadata": {},
   "outputs": [],
   "source": []
  },
  {
   "cell_type": "code",
   "execution_count": null,
   "metadata": {},
   "outputs": [],
   "source": []
  },
  {
   "cell_type": "code",
   "execution_count": null,
   "metadata": {},
   "outputs": [],
   "source": []
  },
  {
   "cell_type": "code",
   "execution_count": null,
   "metadata": {},
   "outputs": [],
   "source": []
  },
  {
   "cell_type": "code",
   "execution_count": null,
   "metadata": {},
   "outputs": [],
   "source": []
  },
  {
   "cell_type": "code",
   "execution_count": null,
   "metadata": {},
   "outputs": [],
   "source": []
  },
  {
   "cell_type": "code",
   "execution_count": null,
   "metadata": {},
   "outputs": [],
   "source": []
  },
  {
   "cell_type": "code",
   "execution_count": null,
   "metadata": {},
   "outputs": [],
   "source": []
  },
  {
   "cell_type": "code",
   "execution_count": null,
   "metadata": {},
   "outputs": [],
   "source": []
  },
  {
   "cell_type": "code",
   "execution_count": null,
   "metadata": {},
   "outputs": [],
   "source": []
  },
  {
   "cell_type": "code",
   "execution_count": null,
   "metadata": {},
   "outputs": [],
   "source": []
  },
  {
   "cell_type": "code",
   "execution_count": null,
   "metadata": {},
   "outputs": [],
   "source": []
  },
  {
   "cell_type": "code",
   "execution_count": null,
   "metadata": {},
   "outputs": [],
   "source": []
  },
  {
   "cell_type": "code",
   "execution_count": null,
   "metadata": {},
   "outputs": [],
   "source": []
  },
  {
   "cell_type": "code",
   "execution_count": null,
   "metadata": {},
   "outputs": [],
   "source": []
  },
  {
   "cell_type": "code",
   "execution_count": null,
   "metadata": {},
   "outputs": [],
   "source": []
  },
  {
   "cell_type": "code",
   "execution_count": null,
   "metadata": {},
   "outputs": [],
   "source": []
  },
  {
   "cell_type": "code",
   "execution_count": null,
   "metadata": {},
   "outputs": [],
   "source": []
  },
  {
   "cell_type": "code",
   "execution_count": null,
   "metadata": {},
   "outputs": [],
   "source": []
  },
  {
   "cell_type": "code",
   "execution_count": null,
   "metadata": {},
   "outputs": [],
   "source": []
  },
  {
   "cell_type": "code",
   "execution_count": null,
   "metadata": {},
   "outputs": [],
   "source": []
  },
  {
   "cell_type": "code",
   "execution_count": null,
   "metadata": {},
   "outputs": [],
   "source": []
  },
  {
   "cell_type": "code",
   "execution_count": null,
   "metadata": {},
   "outputs": [],
   "source": []
  },
  {
   "cell_type": "code",
   "execution_count": null,
   "metadata": {},
   "outputs": [],
   "source": []
  },
  {
   "cell_type": "code",
   "execution_count": null,
   "metadata": {},
   "outputs": [],
   "source": []
  },
  {
   "cell_type": "code",
   "execution_count": null,
   "metadata": {},
   "outputs": [],
   "source": []
  },
  {
   "cell_type": "code",
   "execution_count": null,
   "metadata": {},
   "outputs": [],
   "source": []
  },
  {
   "cell_type": "code",
   "execution_count": null,
   "metadata": {},
   "outputs": [],
   "source": []
  },
  {
   "cell_type": "code",
   "execution_count": null,
   "metadata": {},
   "outputs": [],
   "source": []
  },
  {
   "cell_type": "code",
   "execution_count": null,
   "metadata": {},
   "outputs": [],
   "source": []
  },
  {
   "cell_type": "code",
   "execution_count": null,
   "metadata": {},
   "outputs": [],
   "source": []
  },
  {
   "cell_type": "code",
   "execution_count": null,
   "metadata": {},
   "outputs": [],
   "source": []
  },
  {
   "cell_type": "code",
   "execution_count": null,
   "metadata": {},
   "outputs": [],
   "source": []
  },
  {
   "cell_type": "code",
   "execution_count": null,
   "metadata": {},
   "outputs": [],
   "source": []
  },
  {
   "cell_type": "code",
   "execution_count": null,
   "metadata": {},
   "outputs": [],
   "source": []
  },
  {
   "cell_type": "code",
   "execution_count": null,
   "metadata": {},
   "outputs": [],
   "source": []
  },
  {
   "cell_type": "code",
   "execution_count": null,
   "metadata": {},
   "outputs": [],
   "source": []
  },
  {
   "cell_type": "code",
   "execution_count": null,
   "metadata": {},
   "outputs": [],
   "source": []
  },
  {
   "cell_type": "code",
   "execution_count": null,
   "metadata": {},
   "outputs": [],
   "source": []
  },
  {
   "cell_type": "code",
   "execution_count": null,
   "metadata": {},
   "outputs": [],
   "source": []
  },
  {
   "cell_type": "code",
   "execution_count": null,
   "metadata": {},
   "outputs": [],
   "source": []
  },
  {
   "cell_type": "code",
   "execution_count": null,
   "metadata": {},
   "outputs": [],
   "source": []
  },
  {
   "cell_type": "code",
   "execution_count": null,
   "metadata": {},
   "outputs": [],
   "source": []
  },
  {
   "cell_type": "code",
   "execution_count": null,
   "metadata": {},
   "outputs": [],
   "source": []
  },
  {
   "cell_type": "code",
   "execution_count": null,
   "metadata": {},
   "outputs": [],
   "source": []
  },
  {
   "cell_type": "code",
   "execution_count": null,
   "metadata": {},
   "outputs": [],
   "source": []
  },
  {
   "cell_type": "code",
   "execution_count": null,
   "metadata": {},
   "outputs": [],
   "source": []
  },
  {
   "cell_type": "code",
   "execution_count": null,
   "metadata": {},
   "outputs": [],
   "source": []
  },
  {
   "cell_type": "code",
   "execution_count": null,
   "metadata": {},
   "outputs": [],
   "source": []
  },
  {
   "cell_type": "code",
   "execution_count": null,
   "metadata": {},
   "outputs": [],
   "source": []
  }
 ],
 "metadata": {
  "kernelspec": {
   "display_name": "Python 3",
   "language": "python",
   "name": "python3"
  },
  "language_info": {
   "codemirror_mode": {
    "name": "ipython",
    "version": 3
   },
   "file_extension": ".py",
   "mimetype": "text/x-python",
   "name": "python",
   "nbconvert_exporter": "python",
   "pygments_lexer": "ipython3",
   "version": "3.7.1"
  }
 },
 "nbformat": 4,
 "nbformat_minor": 2
}
