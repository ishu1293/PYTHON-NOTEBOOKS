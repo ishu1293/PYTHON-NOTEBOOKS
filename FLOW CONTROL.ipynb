{
 "cells": [
  {
   "cell_type": "markdown",
   "metadata": {},
   "source": [
    "## FLOW CONTROL"
   ]
  },
  {
   "cell_type": "code",
   "execution_count": null,
   "metadata": {},
   "outputs": [],
   "source": [
    "#AT RUNTIME IN WHICH ORDER THE STATEMENTS ARE GOING TO BE EXECUTED ARE DEFINED BY FLOW CONTROL\n",
    "\n",
    "# IN PYTHON FLOW CONTROL ARE DIVIDED INTO THREE TYPES\n",
    "\n",
    "#1. CONDITIONAL STATEMENTS/ SELECTION STATEMENT\n",
    "\n",
    "##  if x\n",
    " #   option-1\n",
    "##  else\n",
    "#     option 2\n",
    "    \n",
    "## if x\n",
    "#    action-1\n",
    "##  elif \n",
    "#    action-2\n",
    "## elif \n",
    "#    action-3\n",
    "    \n",
    "# how many conditional statements    \n",
    "# if \n",
    "# if-else\n",
    "# if-elif-else\n",
    "\n",
    "# 2. sometime a grop of satemetns are required to execute iteratively so we use iterative statement  something like loops\n",
    "\n",
    "# for loop \n",
    "# while loop\n",
    "\n",
    "## do-while is not avalbale in python\n",
    "## switch statemetn is not availble in python\n",
    "\n",
    "#3. Transfer statemetns\n",
    "#break\n",
    "#continue \n",
    "#pass\n",
    "\n",
    "## retuen is availble but only for functions and methods\n",
    "\n",
    "#for x in l:\n",
    "#    baded on some condition\n",
    "#    break the loop|pass"
   ]
  },
  {
   "cell_type": "code",
   "execution_count": 1,
   "metadata": {},
   "outputs": [
    {
     "name": "stdout",
     "output_type": "stream",
     "text": [
      "enter the name:: PYTHON\n",
      "adsad\n"
     ]
    }
   ],
   "source": [
    "## condiitonal staemetns\n",
    "\n",
    "\n",
    "name=input(\"enter the name:: \")\n",
    "if name==\"python\": # colon is required at end\n",
    "    print(\"hello world\")  # this statemetn is under if condition because of indentation\n",
    "print(\"adsad\") # this is not under if conditon"
   ]
  },
  {
   "cell_type": "code",
   "execution_count": 2,
   "metadata": {},
   "outputs": [
    {
     "name": "stdout",
     "output_type": "stream",
     "text": [
      "enter the name:: SUNNY\n"
     ]
    }
   ],
   "source": [
    "name=input(\"enter the name:: \")\n",
    "if name==\"python\":\n",
    "    print(\"hello world\") # no output"
   ]
  },
  {
   "cell_type": "code",
   "execution_count": 3,
   "metadata": {},
   "outputs": [
    {
     "name": "stdout",
     "output_type": "stream",
     "text": [
      "enter the name:: SUNNY\n",
      "hello python\n"
     ]
    }
   ],
   "source": [
    "# second format\n",
    "name=input(\"enter the name:: \")\n",
    "if name==\"python\":  #if this is true then it will execute all stemetn uder it otherwise it wil switch to else condition\n",
    "    print(\"hello world\")\n",
    "else:   # in else we dont give condition \n",
    "    print(\"hello python\")"
   ]
  },
  {
   "cell_type": "code",
   "execution_count": 4,
   "metadata": {},
   "outputs": [
    {
     "name": "stdout",
     "output_type": "stream",
     "text": [
      "enter the number 10 12\n",
      "hello python\n"
     ]
    }
   ],
   "source": [
    "# 3rd type\n",
    "a,b=[eval(x) for x in input(\"enter the number \").split()]\n",
    "if a==b:\n",
    "    print(\"hello world\")\n",
    "elif a/b==0.5:\n",
    "    print(\"hello python\")\n",
    "elif a+b==50:    \n",
    "    print(\"helloooo\")\n",
    "else:   \n",
    "    print(\"hello python\")"
   ]
  },
  {
   "cell_type": "code",
   "execution_count": 5,
   "metadata": {},
   "outputs": [],
   "source": [
    "#### note #####\n",
    "#1. ELSE IS ALWAYS OPTIONAL"
   ]
  },
  {
   "cell_type": "code",
   "execution_count": 6,
   "metadata": {},
   "outputs": [
    {
     "name": "stdout",
     "output_type": "stream",
     "text": [
      "enter the number 12 20\n",
      "bigger is b 20\n"
     ]
    }
   ],
   "source": [
    "# PROGRAM TO FIND THE BIGGEST OF TWO NUMBERS\n",
    "a,b=[eval(x) for x in input(\"enter the number \").split()]\n",
    "if a>b:\n",
    "    print(\"bigger is a\",a)\n",
    "else :\n",
    "    print(\"bigger is b\",b)"
   ]
  },
  {
   "cell_type": "code",
   "execution_count": 7,
   "metadata": {},
   "outputs": [
    {
     "name": "stdout",
     "output_type": "stream",
     "text": [
      "enter three number::10 20 30\n",
      "biggest number is  30\n"
     ]
    }
   ],
   "source": [
    "# find biggest of three number\n",
    "a,b,c=[eval(x) for x in input(\"enter three number::\").split()]\n",
    "if a>b and a>c:\n",
    "    print(\"biggest number is \",a)\n",
    "elif b>c:\n",
    "    print(\"biggest number is \",b)\n",
    "else:\n",
    "    print(\"biggest number is \",c)\n",
    "\n",
    "# we used eval in unput because thhe input can be either strig float or int"
   ]
  },
  {
   "cell_type": "code",
   "execution_count": 8,
   "metadata": {},
   "outputs": [
    {
     "name": "stdout",
     "output_type": "stream",
     "text": [
      "enter three number::\"SHIVA\" \"RAM\" \"RAVI\"\n",
      "biggest number is  SHIVA\n"
     ]
    }
   ],
   "source": [
    "# if we enter string input in same program\n",
    "a,b,c=[eval(x) for x in input(\"enter three number::\").split()]\n",
    "if a>b and a>c:\n",
    "    print(\"biggest number is \",a)\n",
    "elif b>c:\n",
    "    print(\"biggest number is \",b)\n",
    "else:\n",
    "    print(\"biggest number is \",c)\n",
    "# we have to provide values in quotes as str type for program to work"
   ]
  },
  {
   "cell_type": "code",
   "execution_count": null,
   "metadata": {},
   "outputs": [],
   "source": [
    "# To cheack weather the given number the given number is in between 1 and 100\n",
    "\n",
    "n =int(input(\"Enter any number\"))\n",
    "if n>=1 or n<=100:\n",
    "    print(\"number is between 1-100\")\n",
    "else:\n",
    "    print(\"number is not between 1-100\")"
   ]
  },
  {
   "cell_type": "code",
   "execution_count": 1,
   "metadata": {},
   "outputs": [
    {
     "name": "stdout",
     "output_type": "stream",
     "text": [
      "enter any number10\n",
      "the number is between 1-100\n"
     ]
    }
   ],
   "source": [
    "n=int(input(\"enter any number\"))\n",
    "if 1<n<100:\n",
    "    print(\"the number is between 1-100\")\n",
    "else:\n",
    "    print(\"the number is not betwwn 1-100\")"
   ]
  },
  {
   "cell_type": "code",
   "execution_count": 1,
   "metadata": {},
   "outputs": [
    {
     "name": "stdout",
     "output_type": "stream",
     "text": [
      "input number between 1 - 191\n",
      "ONE\n"
     ]
    }
   ],
   "source": [
    "n=int(input(\"input number between 1 - 9\"))\n",
    "if n==1:\n",
    "    print(\"ONE\")\n",
    "elif n==2:\n",
    "    print(\"TWO\")\n",
    "elif n==3:\n",
    "    print(\"THREE\")\n",
    "elif n==4:\n",
    "    print(\"FOUR\")\n",
    "elif n==5:\n",
    "    print(\"FIVE\")\n",
    "elif n==6:\n",
    "    print(\"SIX\")\n",
    "elif n==7:\n",
    "    print(\"SEVEN\")\n",
    "elif n==8:\n",
    "    print(\"EIGHT\")\n",
    "elif n==9:\n",
    "    print(\"NINE\")\n",
    "else:\n",
    "    print(\"PLEASE ENTER NUMBER BETWEEN 1 - 9\")"
   ]
  },
  {
   "cell_type": "code",
   "execution_count": null,
   "metadata": {},
   "outputs": [],
   "source": [
    "# 2 ITERATIVE STATEMENTS\n",
    "\n",
    "### LOOPS #########\n",
    "\n",
    "#FOR LOOP \n",
    "#WHILE LOOP\n",
    "\n",
    "#1. FOR LOOP \n",
    "# for each element in sequence\n",
    "#    do some action\n",
    "\n",
    "## sequence can be  sring,list,range,tuple,set any type of data is allowed here\n",
    "\n"
   ]
  },
  {
   "cell_type": "code",
   "execution_count": 8,
   "metadata": {},
   "outputs": [
    {
     "name": "stdout",
     "output_type": "stream",
     "text": [
      "h e l l o   w o r l d the number of characters are:: 11\n"
     ]
    }
   ],
   "source": [
    "s=\"hello world\"\n",
    "count=0\n",
    "for x in s:   #colon is important\n",
    "    count+=1 #we can also write count=count+1\n",
    "    print(x,end=\" \")\n",
    "print(\"the number of characters are::\",count)"
   ]
  },
  {
   "cell_type": "code",
   "execution_count": 7,
   "metadata": {},
   "outputs": [
    {
     "name": "stdout",
     "output_type": "stream",
     "text": [
      "ENTER SOME STRINGpython\n",
      "the characater present at index  0 is  p\n",
      "the characater present at index  1 is  y\n",
      "the characater present at index  2 is  t\n",
      "the characater present at index  3 is  h\n",
      "the characater present at index  4 is  o\n",
      "the characater present at index  5 is  n\n"
     ]
    }
   ],
   "source": [
    "s=input(\"ENTER SOME STRING \")   #i++ is not allowed in python\n",
    "i=0\n",
    "for x in s:   #x to print the string values & i to print index\n",
    "    print(\"the characater present at index \",i,\"is \",x)\n",
    "    i+=1\n"
   ]
  },
  {
   "cell_type": "code",
   "execution_count": 13,
   "metadata": {},
   "outputs": [
    {
     "name": "stdout",
     "output_type": "stream",
     "text": [
      "hello\n",
      "hello\n",
      "hello\n",
      "hello\n",
      "hello\n",
      "hello\n",
      "hello\n",
      "hello\n",
      "hello\n",
      "hello\n",
      "hello\n"
     ]
    }
   ],
   "source": [
    "# print hello 10 times in each different line\n",
    "for x in range(11):\n",
    "    print(\"hello\")"
   ]
  },
  {
   "cell_type": "code",
   "execution_count": 20,
   "metadata": {},
   "outputs": [
    {
     "name": "stdout",
     "output_type": "stream",
     "text": [
      "0\n",
      "1\n",
      "2\n",
      "3\n",
      "4\n",
      "5\n",
      "6\n",
      "7\n",
      "8\n",
      "9\n",
      "10\n"
     ]
    }
   ],
   "source": [
    "#  display number 1 to 10\n",
    "for x in range(11):\n",
    "    print(x)"
   ]
  },
  {
   "cell_type": "code",
   "execution_count": 22,
   "metadata": {},
   "outputs": [
    {
     "name": "stdout",
     "output_type": "stream",
     "text": [
      "1\n",
      "3\n",
      "5\n",
      "7\n",
      "9\n",
      "11\n",
      "13\n",
      "15\n",
      "17\n",
      "19\n"
     ]
    }
   ],
   "source": [
    "# display odd number between 1 - 21\n",
    "for x in range(21):\n",
    "    if x%2!=0:  #if remainder is not 0 then it is odd number \n",
    "        print(x)\n"
   ]
  },
  {
   "cell_type": "code",
   "execution_count": 25,
   "metadata": {},
   "outputs": [
    {
     "name": "stdout",
     "output_type": "stream",
     "text": [
      "1\n",
      "3\n",
      "5\n",
      "7\n",
      "9\n",
      "11\n",
      "13\n",
      "15\n",
      "17\n",
      "19\n"
     ]
    }
   ],
   "source": [
    "# METHOD 2\n",
    "# display odd number between 1 - 21\n",
    "for x in range(1,21,2):\n",
    "    print(x)\n"
   ]
  },
  {
   "cell_type": "code",
   "execution_count": 26,
   "metadata": {},
   "outputs": [
    {
     "name": "stdout",
     "output_type": "stream",
     "text": [
      "10\n",
      "9\n",
      "8\n",
      "7\n",
      "6\n",
      "5\n",
      "4\n",
      "3\n",
      "2\n",
      "1\n"
     ]
    }
   ],
   "source": [
    "# PRINT 10 TO 1 IN DESCENDING ORDER\n",
    "\n",
    "for x in range(10,0,-1):\n",
    "    print(x)"
   ]
  },
  {
   "cell_type": "code",
   "execution_count": 32,
   "metadata": {},
   "outputs": [
    {
     "name": "stdout",
     "output_type": "stream",
     "text": [
      "enter some list [10,20,30]\n",
      "the sum is  60\n"
     ]
    }
   ],
   "source": [
    "# READ A LIST FROM KEYBOARD AND PRINT THEIR SUM\n",
    "l=eval(input(\"enter some list \"))\n",
    "sum=0\n",
    "for x in l:\n",
    "    sum+=x\n",
    "print(\"the sum is \",sum)"
   ]
  },
  {
   "cell_type": "code",
   "execution_count": 33,
   "metadata": {},
   "outputs": [],
   "source": [
    "## WHILE LOOP###\n",
    "\n",
    "##FOR EACH ELEMENT PRESENT IN GIVEN SEQUENCEWE WANT TO PERFORM SOME ACTION\n",
    "#THEN WE GO FOR FOR LOOP\n",
    "\n",
    "#### IF WE KNOW THE NUMBER OF ITERATIONS THEN WE SHOULD GO FOR FOR LOOP\n",
    "\n",
    "# IF WE DONT KNOW NUMBER OF STATEMENT IN ADVANCE THEN WE SHOULD GO FOR WHILE LOOP\n",
    "#AS LONG IS SOME CONDITION IS TRUE\n",
    "\n",
    "\n",
    "#SYNTAX\n",
    "\n",
    "# WHILE CONDIITON:\n",
    "#    BODY\n"
   ]
  },
  {
   "cell_type": "code",
   "execution_count": 3,
   "metadata": {},
   "outputs": [
    {
     "name": "stdout",
     "output_type": "stream",
     "text": [
      "1\n",
      "2\n",
      "3\n",
      "4\n",
      "5\n",
      "6\n",
      "7\n",
      "8\n",
      "9\n",
      "10\n"
     ]
    }
   ],
   "source": [
    "x=1\n",
    "while x<=10:   #if this condition is true then only it will execute\n",
    "    print(x)\n",
    "    x+=1"
   ]
  },
  {
   "cell_type": "code",
   "execution_count": 5,
   "metadata": {},
   "outputs": [
    {
     "name": "stdout",
     "output_type": "stream",
     "text": [
      "enter some number 5\n",
      "15\n"
     ]
    }
   ],
   "source": [
    "# find sum of first n numbers\n",
    "# if input is 4 then 1+2+3+4=10\n",
    "\n",
    "n=int(input(\"enter some number \"))\n",
    "s=0\n",
    "i=1 \n",
    "while i<=n:\n",
    "    s+=i\n",
    "    i+=1\n",
    "print(s)"
   ]
  },
  {
   "cell_type": "code",
   "execution_count": 6,
   "metadata": {},
   "outputs": [
    {
     "name": "stdout",
     "output_type": "stream",
     "text": [
      "enter some namepyhon\n",
      "enter the name againpython\n",
      "python\n"
     ]
    }
   ],
   "source": [
    "s=input(\"enter some name\")\n",
    "if s==\"durga\":\n",
    "    print(\"the name is durga\")\n",
    "else:\n",
    "    print(input(\"enter the name again\")) "
   ]
  },
  {
   "cell_type": "code",
   "execution_count": 7,
   "metadata": {},
   "outputs": [
    {
     "name": "stdout",
     "output_type": "stream",
     "text": [
      "enter the name:sunny\n",
      "enter the name:monty\n",
      "enter the name:pony\n",
      "enter the name:bunny\n",
      "enter the name:shinna\n",
      "enter the name:ina\n",
      "enter the name:mina\n",
      "enter the name:tina\n",
      "enter the name:ravi\n",
      "enter the name:shiva\n",
      "enter the name:ishu\n",
      "hello ishu thanks for conformation\n"
     ]
    }
   ],
   "source": [
    "name=\"\"  #EMPTY\n",
    "while name!=\"ishu\":\n",
    "    name=input(\"enter the name:\")\n",
    "print(\"hello ishu thanks for conformation\")\n"
   ]
  },
  {
   "cell_type": "code",
   "execution_count": null,
   "metadata": {},
   "outputs": [
    {
     "name": "stdout",
     "output_type": "stream",
     "text": [
      "enter the name:ihdsiahd\n",
      "enter the password1321\n",
      "enter the name:adas \n",
      "enter the password245423\n",
      "enter the name:ishu\n",
      "enter the password234\n"
     ]
    }
   ],
   "source": [
    "name=\"\" \n",
    "pwd=\"\"\n",
    "while (name!=\"ishu\") & (pwd!=\"python\"):\n",
    "    name=input(\"enter the name:\")\n",
    "    pwd=input(\"enter the password\") \n",
    "print(\"hello ishu thanks for conformation\")"
   ]
  },
  {
   "cell_type": "code",
   "execution_count": null,
   "metadata": {},
   "outputs": [],
   "source": [
    "#infinite loop \n",
    "i=0\n",
    "while True:\n",
    "    i=i+1\n",
    "    print(\"hello\",i)"
   ]
  },
  {
   "cell_type": "code",
   "execution_count": null,
   "metadata": {},
   "outputs": [],
   "source": [
    "#nested loops\n",
    "#LOPP INSIDE ANOTHER LOOP\n",
    "\n",
    "for i in range(4):\n",
    "    for j in range(4):\n",
    "        print(\"i={} and j={}\".format(i,j))"
   ]
  },
  {
   "cell_type": "code",
   "execution_count": 10,
   "metadata": {},
   "outputs": [
    {
     "name": "stdout",
     "output_type": "stream",
     "text": [
      "enter no of rows::5\n",
      "* \n",
      "* * \n",
      "* * * \n",
      "* * * * \n",
      "* * * * * \n"
     ]
    }
   ],
   "source": [
    "#patterns\n",
    "\n",
    "n=int(input(\"enter no of rows::\"))\n",
    "for i in range(1,n+1):# i is rwo count\n",
    "    for j in range(1,i+1):# j represent the no of stars in row\n",
    "        print(\"*\",end=\" \")\n",
    "    print()"
   ]
  },
  {
   "cell_type": "code",
   "execution_count": 16,
   "metadata": {},
   "outputs": [
    {
     "name": "stdout",
     "output_type": "stream",
     "text": [
      "enter the no of rows:: 5\n",
      "* * * * * \n",
      "* * * * * \n",
      "* * * * * \n",
      "* * * * * \n",
      "* * * * * \n"
     ]
    }
   ],
   "source": [
    "n=int(input(\"enter the no of rows:: \"))\n",
    "for i in range(n):  # i means row count\n",
    "    for j in range(n): #j means no of star\n",
    "        print(\"*\",end=\" \")\n",
    "    print()"
   ]
  },
  {
   "cell_type": "code",
   "execution_count": 28,
   "metadata": {},
   "outputs": [
    {
     "name": "stdout",
     "output_type": "stream",
     "text": [
      "enter tno of rows: 5\n",
      "* ***\n",
      "** ***\n",
      "*** ***\n",
      "**** ***\n",
      "***** ***\n"
     ]
    }
   ],
   "source": [
    "n=int(input(\"enter tno of rows: \"))\n",
    "for i in range(1,n+1):\n",
    "    print(\"*\"*i,end=\"\")\n",
    "    print()"
   ]
  },
  {
   "cell_type": "code",
   "execution_count": 30,
   "metadata": {},
   "outputs": [
    {
     "name": "stdout",
     "output_type": "stream",
     "text": [
      "hell0\n",
      "hell0\n",
      "hell0\n",
      "hell0\n",
      "hell0\n"
     ]
    }
   ],
   "source": [
    "i=0\n",
    "while 1:\n",
    "    print(\"hell0\")\n",
    "    i+=1\n",
    "    if i==5:\n",
    "        break"
   ]
  },
  {
   "cell_type": "code",
   "execution_count": 32,
   "metadata": {},
   "outputs": [
    {
     "name": "stdout",
     "output_type": "stream",
     "text": [
      "0\n",
      "1\n",
      "2\n",
      "3\n",
      "4\n",
      "5\n",
      "6\n",
      "procession is enough please break\n"
     ]
    }
   ],
   "source": [
    "#Transfer statements\n",
    "#1.break\n",
    "#2.continue\n",
    "#3.pass\n",
    "\n",
    "\n",
    "# break means break the loop and come out of that\n",
    "#base don some condition of we want to break the loop exection\n",
    "#for that purpose we use break statemetn\n",
    "\n",
    "\n",
    "\n",
    "for i in range(10):\n",
    "    if i==7:\n",
    "        print(\"procession is enough please break\")\n",
    "        break\n",
    "    print(i)"
   ]
  },
  {
   "cell_type": "code",
   "execution_count": 34,
   "metadata": {},
   "outputs": [
    {
     "name": "stdout",
     "output_type": "stream",
     "text": [
      "processing item 10\n",
      "processing item 20\n",
      "sorry we cant process this order..insurance must be requied\n"
     ]
    }
   ],
   "source": [
    "cart=[10,20,600,60,70,90]\n",
    "for item in cart:\n",
    "    if item>500:\n",
    "        print(\"sorry we cant process this order..insurance must be requied\")\n",
    "        break\n",
    "    print(\"processing item\",item)"
   ]
  },
  {
   "cell_type": "code",
   "execution_count": 2,
   "metadata": {},
   "outputs": [
    {
     "name": "stdout",
     "output_type": "stream",
     "text": [
      "processing item 10\n",
      "processing item 20\n",
      "processing item 60\n",
      "processing item 70\n",
      "processing item 90\n"
     ]
    }
   ],
   "source": [
    "cart=[10,20,60,70,90]\n",
    "for item in cart:\n",
    "    if item>500:\n",
    "        print(\"sorry we cant process this order..insurance must be requied\")\n",
    "        break\n",
    "    print(\"processing item\",item)"
   ]
  },
  {
   "cell_type": "code",
   "execution_count": null,
   "metadata": {},
   "outputs": [],
   "source": [
    "#2 continue used to skip current iteration\n",
    "while condiiton:\n",
    "    body\n",
    "    body\n",
    "    body\n",
    "    body\n",
    "    continue\n",
    "    body \n",
    "    body\n",
    "    "
   ]
  },
  {
   "cell_type": "code",
   "execution_count": 36,
   "metadata": {},
   "outputs": [
    {
     "name": "stdout",
     "output_type": "stream",
     "text": [
      "1\n",
      "3\n",
      "5\n",
      "7\n",
      "9\n"
     ]
    }
   ],
   "source": [
    "for i in range(10):\n",
    "    if i%2==0: #if this condition stify then skip the iteration other wise print the value\n",
    "        continue\n",
    "    print(i)"
   ]
  },
  {
   "cell_type": "code",
   "execution_count": 3,
   "metadata": {},
   "outputs": [
    {
     "name": "stdout",
     "output_type": "stream",
     "text": [
      "100/10=10.0\n",
      "100/20=5.0\n",
      "hey how can we divide with zero..pagal hogya\n",
      "100/30=3.3333333333333335\n",
      "hey how can we divide with zero..pagal hogya\n",
      "100/50=2.0\n"
     ]
    }
   ],
   "source": [
    "number=[10,20,0,30,0,50]\n",
    "for n in number:\n",
    "    if n==0:\n",
    "        print(\"hey how can we divide with zero..pagal hogya\")\n",
    "        continue\n",
    "    print(\"100/{}={}\".format(n,100/n))"
   ]
  },
  {
   "cell_type": "code",
   "execution_count": null,
   "metadata": {},
   "outputs": [],
   "source": [
    "# else can be used with loops concet\n",
    "#for-else is possible\n",
    "#while else is possible\n",
    "#try-except-else-finally\n",
    "\n",
    "#loop(while-for loop): # if break is not executed then else part will be executed\n",
    "     body\n",
    "     body\n",
    "     break\n",
    "     body\n",
    "     body\n",
    "     body\n",
    "     body\n",
    " else:  # else means loop without break \n",
    "     body\n",
    "     body\n",
    "     body"
   ]
  },
  {
   "cell_type": "code",
   "execution_count": 4,
   "metadata": {},
   "outputs": [
    {
     "name": "stdout",
     "output_type": "stream",
     "text": [
      "processing item 10\n",
      "processing item 20\n",
      "processing item 30\n",
      "processing item 60\n",
      "processing item 70\n",
      "processing item 90\n",
      "congrats all items processed sucessfully\n"
     ]
    }
   ],
   "source": [
    "#for else loop\n",
    "cart=[10,20,30,60,70,90]\n",
    "for item in cart:         \n",
    "    if item>500:\n",
    "        print(\"sorry we cant process this order..insurance must be requied\")\n",
    "        break\n",
    "    print(\"processing item\",item)\n",
    "else:\n",
    "    print(\"congrats all items processed sucessfully\")"
   ]
  },
  {
   "cell_type": "code",
   "execution_count": 4,
   "metadata": {},
   "outputs": [
    {
     "name": "stdout",
     "output_type": "stream",
     "text": [
      "processing item 10\n",
      "processing item 20\n",
      "sorry we cant process this order..insurance must be requied\n"
     ]
    }
   ],
   "source": [
    "cart=[10,20,600,30,60,70,90]\n",
    "for item in cart:\n",
    "    if item>500:\n",
    "        print(\"sorry we cant process this order..insurance must be requied\")\n",
    "        break\n",
    "    print(\"processing item\",item)\n",
    "else:\n",
    "    print(\"congrats all items processed sucessfully\")"
   ]
  },
  {
   "cell_type": "code",
   "execution_count": null,
   "metadata": {},
   "outputs": [],
   "source": [
    "## for loop and while loop ?\n",
    "\n",
    "#execute body for every item in the given sequence ===> for \n",
    "#for x in range (10):\n",
    "#    body\n",
    "\n",
    "#    execeute body as long as some contiton is true==>while\n",
    "    \n",
    "#    while condiiton:\n",
    "#        body\n",
    "\n",
    "\n",
    "\n",
    "\n",
    "#how to exite from the loop?\n",
    "# break statement\n",
    "\n",
    "#how to skip current iteration and continue for the next iteration?\n",
    "\n",
    "# continue\n",
    "\n",
    "# when else part will be executed?\n",
    "# if loop executed without break \n",
    "\n"
   ]
  },
  {
   "cell_type": "code",
   "execution_count": 6,
   "metadata": {},
   "outputs": [
    {
     "name": "stdout",
     "output_type": "stream",
     "text": [
      "hello\n"
     ]
    }
   ],
   "source": [
    "# pass statement\n",
    "\n",
    "#pass is a keyword in python\n",
    "#in our programming syntectically if a block is required that is never going to do any action then we define empty blok with pass keyword.\n",
    "\n",
    "if True:pass  # empty block no use so we used pass statement\n",
    "else:\n",
    "    print(\"hello\")   \n",
    "# IT IS AN EMPTY STATEMENT\n",
    "#IT IS A NULL STETEMTEN\n",
    "# IT WONT DO ANYTHING\n",
    " \n",
    "def f1():\n",
    "    print(\"hello\")\n",
    "    \n",
    "def f2():  # herer we defined an empty statement so we used pass\n",
    "    pass\n",
    "\n",
    "f1()\n",
    "f2()\n",
    "    "
   ]
  },
  {
   "cell_type": "code",
   "execution_count": 11,
   "metadata": {},
   "outputs": [
    {
     "name": "stdout",
     "output_type": "stream",
     "text": [
      "0\n",
      "10\n",
      "20\n",
      "30\n",
      "40\n",
      "50\n",
      "60\n",
      "70\n",
      "80\n",
      "90\n"
     ]
    }
   ],
   "source": [
    "for i in range(100):\n",
    "    if i%10==0:\n",
    "        print(i)\n",
    "    else:\n",
    "        pass"
   ]
  },
  {
   "cell_type": "code",
   "execution_count": 15,
   "metadata": {},
   "outputs": [],
   "source": [
    "# del statement\n",
    "\n",
    "#del is a keyword in python\n",
    "#after using a variable it is recomened to delete thet variable if it is no longer used\n",
    "\n",
    "#s1=\"ishu\"\n",
    "#s2=\"ravi\"\n",
    "#..........\n",
    "#s1crore=\"shiv\"\n",
    "#if we keep on creating variable then we will get memory problem\n",
    "\n",
    "#garbage colletion is availavle in python \n",
    "\n",
    "#if we watn to delete a variable then we will use del keyword\n",
    "\n",
    "#del s1 will deltet the referecne variable s1 permanently and corrosponding object will be available for garbage collection \n",
    "\n",
    "#ex. \n",
    "#x=10\n",
    "#print(x) ==> o/p here is 10 \n",
    "#del(x)\n",
    "#print(x)  o/p==> name 'x' is not defined\n",
    "\n",
    "#  s=\"durga\"\n",
    "   \n",
    "#  since string is immutable so we cannot delete its particular items\n",
    "#ex \n",
    "#del s[1] ==> str object does not support item deletion\n",
    "\n",
    "# x=10\n",
    "#work with x is completed\n",
    "#then we del x \n",
    "#since space in memeory is very important so we use del keyword to make space in memeory \n",
    "#memory utilization will be improved\n",
    "\n",
    "#after delete we are not allowed to use that variable\n",
    "#x=10\n",
    "#y=20\n",
    "#del x,y\n",
    "#print(x,y) ==>o/p name 'x' is not defined\n",
    "\n",
    "# there are two refrecenvariavale s & s1 and two corrosponding variable \n",
    "\n",
    "# DEL AND NONE\n",
    "# if i want to delte the varible s and corrosponding variable then i will use del s happily\n",
    "#after del s we are not allowed to use s\n",
    "#if we want to delete corrosponding obect of s1 but want to use s1 reference variale for some other object then we can go for s1=none\n",
    "\n",
    "#s1=none \n",
    "# then the corrosponding object will be deleted but the refrence varibale will stay\n",
    "#\n",
    "# if there are multiplpe varibale pointiing towards samw object an dwe delete one of them del(S1) then the object will not be deleted becuse the s2 and s3 are also using that onject but only the refrence variable s1 will be delete we will not be able to use s1\n",
    "\n"
   ]
  },
  {
   "cell_type": "code",
   "execution_count": 25,
   "metadata": {},
   "outputs": [
    {
     "name": "stdout",
     "output_type": "stream",
     "text": [
      "1527934304 1527934304 1527934304\n",
      "10\n",
      "10\n"
     ]
    }
   ],
   "source": [
    "s1=10\n",
    "s2=10\n",
    "s3=10\n",
    "print(id(s1),id(s2),id(s3))\n",
    "del(s1)   #after this s1 is not allowd to use\n",
    "print(s2)\n",
    "print(s3)"
   ]
  },
  {
   "cell_type": "code",
   "execution_count": 23,
   "metadata": {},
   "outputs": [
    {
     "name": "stdout",
     "output_type": "stream",
     "text": [
      "None\n"
     ]
    }
   ],
   "source": [
    "x=10\n",
    "y=20\n",
    "del(x)\n",
    "#print(x)  #==> O/P==> name 'x' is not defined\n",
    "y=None\n",
    "print(y)  #==> o/p ==> none"
   ]
  },
  {
   "cell_type": "code",
   "execution_count": null,
   "metadata": {},
   "outputs": [],
   "source": []
  }
 ],
 "metadata": {
  "kernelspec": {
   "display_name": "Python 3",
   "language": "python",
   "name": "python3"
  },
  "language_info": {
   "codemirror_mode": {
    "name": "ipython",
    "version": 3
   },
   "file_extension": ".py",
   "mimetype": "text/x-python",
   "name": "python",
   "nbconvert_exporter": "python",
   "pygments_lexer": "ipython3",
   "version": "3.7.1"
  }
 },
 "nbformat": 4,
 "nbformat_minor": 2
}
