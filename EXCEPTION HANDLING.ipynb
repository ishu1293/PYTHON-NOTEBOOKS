{
 "cells": [
  {
   "cell_type": "markdown",
   "metadata": {},
   "source": [
    "## EXCEPTION HANDLING"
   ]
  },
  {
   "cell_type": "markdown",
   "metadata": {},
   "source": [
    "#### NESTED TRY EXCEOT FINALLY"
   ]
  },
  {
   "cell_type": "code",
   "execution_count": 48,
   "metadata": {},
   "outputs": [
    {
     "ename": "IndentationError",
     "evalue": "unexpected indent (<ipython-input-48-dae7ccb79666>, line 17)",
     "output_type": "error",
     "traceback": [
      "\u001b[1;36m  File \u001b[1;32m\"<ipython-input-48-dae7ccb79666>\"\u001b[1;36m, line \u001b[1;32m17\u001b[0m\n\u001b[1;33m    ...\u001b[0m\n\u001b[1;37m    ^\u001b[0m\n\u001b[1;31mIndentationError\u001b[0m\u001b[1;31m:\u001b[0m unexpected indent\n"
     ]
    }
   ],
   "source": [
    "# nested try except finally\n",
    "\n",
    "# 1. try:\n",
    "#        .....\n",
    "#        .....\n",
    "#        try:  #  to cehck too much risky code\n",
    "#            ...\n",
    "#            ... #  if in this line we have error the inner try block will handle the error\n",
    "#            ...\n",
    "#        except: to handle errors of the inner try so taht remaining code can work,if this dont work outer except will work\n",
    "#           .. ..\n",
    "#           ....\n",
    "#        .....\n",
    "#        .....\n",
    "#except:\n",
    "#      ...\n",
    "#      ...\n",
    "    \n",
    "    \n",
    "# TYPES OF EXCEPTIONS\n",
    "# PREDEFINED EXCEPTION/INBUILT EXCEPTION\n",
    "# USERDEFINED EXCEPTIONS/CUSTOMIZED EXCEPTIONS\n",
    "\n",
    "# PREDEFINED EXCEPTION: EXCEPTION RAISED AUTOMATICALLY BY PYTHON WHENEVER A PARTICULAR EVENT OCCOUS\n",
    "# Eg: print(10/0) ==> python raise zero division error\n",
    "# print(int(\"ten\"))===> Value error\n",
    "\n",
    "# USERDEFINED EXCEPTIONS: we define such exection according to programming requirements\n",
    "# eg: \n",
    "# def recharge(number):\n",
    "#    if number is not valid:\n",
    "#        raise invalid_coupan_code_exception\n",
    "\n",
    "# HOW TO DEFINE AND RAISE USER BASED EXCEPTION\n"
   ]
  },
  {
   "cell_type": "code",
   "execution_count": 5,
   "metadata": {},
   "outputs": [
    {
     "name": "stdout",
     "output_type": "stream",
     "text": [
      "outer try block\n",
      "\n",
      "inner try block\n",
      "\n",
      "inner except block,error handled\n",
      "\n",
      "inner finnaly block\n",
      "\n",
      "outer finally block\n"
     ]
    }
   ],
   "source": [
    "try:\n",
    "    print(\"outer try block\")\n",
    "    print()\n",
    "    try:\n",
    "        print(\"inner try block\")\n",
    "        print()\n",
    "        print(10/0)\n",
    "    except ZeroDivisionError:\n",
    "        print(\"inner except block,error handled\")\n",
    "        print()\n",
    "    finally:\n",
    "        print(\"inner finnaly block\")\n",
    "        print()\n",
    "except:  # this wont handle as inner except block handles the error\n",
    "    print(\"outer except block\")\n",
    "finally: # this will execute anyhow\n",
    "    print(\"outer finally block\")"
   ]
  },
  {
   "cell_type": "markdown",
   "metadata": {},
   "source": [
    "CONTROL FLOW"
   ]
  },
  {
   "cell_type": "code",
   "execution_count": null,
   "metadata": {},
   "outputs": [],
   "source": [
    "try: # in case of no error\n",
    "    stm1 # executed\n",
    "    stm2 # executed\n",
    "    stm3 #executed\n",
    "    try:\n",
    "        stm4 # executed\n",
    "        stm5 #executed\n",
    "        stm6 #executed\n",
    "    except xxx:  # not executed as there is no error\n",
    "        stm7\n",
    "    finally: #executed anyhow\n",
    "        stm8 #executed\n",
    "    stm9 # this present inside outer try block #executed\n",
    "except yyy:# nt executed\n",
    "    stm10 # not executed\n",
    "finally: #executed anyhow\n",
    "    stm11 #executed\n",
    "stm12 #executed"
   ]
  },
  {
   "cell_type": "markdown",
   "metadata": {},
   "source": [
    "EXCEPTION AT STM2"
   ]
  },
  {
   "cell_type": "code",
   "execution_count": null,
   "metadata": {},
   "outputs": [],
   "source": [
    "try: \n",
    "    stm1 # executed\n",
    "    stm2 # excecption occoured switch control to outer except\n",
    "    stm3 \n",
    "    try: # after error, control does not enter this try block\n",
    "        stm4 \n",
    "        stm5 \n",
    "        stm6 \n",
    "    except xxx: # this is inner except this will not handle stm2 exception\n",
    "        stm7\n",
    "    finally: # since it didint entered the inner try block so it wont be executed\n",
    "        stm8 #executed\n",
    "    stm9 # this present inside outer try block #executed\n",
    "except yyy:# this will handle error of stm2 as it comes in outer try statement\n",
    "    stm10 # executed\n",
    "finally: #executed anyhow\n",
    "    stm11 #executed\n",
    "stm12 #executed "
   ]
  },
  {
   "cell_type": "markdown",
   "metadata": {},
   "source": [
    "EXCEPTON IN STM2 AND CORROSPONDING EXCEPT BLOCK DOD NOT MATCH "
   ]
  },
  {
   "cell_type": "code",
   "execution_count": null,
   "metadata": {},
   "outputs": [],
   "source": [
    "try: \n",
    "    stm1 # executed\n",
    "    stm2 # excecption occoured switch control to outer except\n",
    "    stm3 \n",
    "    try: # after error, control does not enter this try block\n",
    "        stm4 \n",
    "        stm5 \n",
    "        stm6 \n",
    "    except xxx: # this is inner except this will not handle stm2 exception\n",
    "        stm7\n",
    "    finally: # since it didint entered the inner try block so it wont be executed\n",
    "        stm8 #executed\n",
    "    stm9 # this present inside outer try block #executed\n",
    "except yyy:# this will NOT MATCH SO NOT EXECUTED AND WE GET ABORMAL TERMINATION ERROR\n",
    "    stm10 # NOT executed\n",
    "finally: #executed anyhow\n",
    "    stm11 #executed\n",
    "stm12 #executed"
   ]
  },
  {
   "cell_type": "markdown",
   "metadata": {},
   "source": [
    "EXCEPTION AT STM5"
   ]
  },
  {
   "cell_type": "code",
   "execution_count": null,
   "metadata": {},
   "outputs": [],
   "source": [
    "try: \n",
    "    stm1 # executed\n",
    "    stm2 # executed\n",
    "    try: # executed\n",
    "        stm4 # executed\n",
    "        stm5 # ## EXCEPTION ####\n",
    "        stm6 # not executed\n",
    "    except xxx: #handle exception of stm5 here\n",
    "        stm7 # executed\n",
    "    finally: # executed\n",
    "        stm8 # executed\n",
    "    stm9 #executed\n",
    "except yyy:# this will NOT be EXECUTED As inner error handled by inner except\n",
    "    stm10 # NOT executed\n",
    "finally: #executed anyhow\n",
    "    stm11 #executed\n",
    "stm12 #executed"
   ]
  },
  {
   "cell_type": "markdown",
   "metadata": {},
   "source": [
    "EXCEPTION AT STM5,INNER EXCEPT DONT MATCH OUTER MATCH"
   ]
  },
  {
   "cell_type": "code",
   "execution_count": null,
   "metadata": {},
   "outputs": [],
   "source": [
    "try: \n",
    "    stm1 # executed\n",
    "    stm2 # executed\n",
    "    try: # executed\n",
    "        stm4 # executed\n",
    "        stm5 # ## EXCEPTION ####\n",
    "        stm6 # not executed\n",
    "    except xxx: # CANNOT handle exception of stm5 here AS IT DOES NOT MATCH\n",
    "        stm7 # NOT executed\n",
    "    finally: # executed # BEFOR GING TO OUTER EXCEPT BLOCK THE FINALLY WILL BE EXECUTED \n",
    "        stm8 # executed\n",
    "    stm9 # NOT executed\n",
    "except yyy:#  EXECUTED TO HANDLE STM5\n",
    "    stm10 #  executed\n",
    "finally: #executed anyhow\n",
    "    stm11 #executed\n",
    "stm12 #executed"
   ]
  },
  {
   "cell_type": "markdown",
   "metadata": {},
   "source": [
    "EXCEPTION AT STM5 BOTH EXCEPT DONT MATHC"
   ]
  },
  {
   "cell_type": "code",
   "execution_count": null,
   "metadata": {},
   "outputs": [],
   "source": [
    "try: \n",
    "    stm1 # executed\n",
    "    stm2 # executed\n",
    "    try: # executed\n",
    "        stm4 # executed\n",
    "        stm5 # ## EXCEPTION ####\n",
    "        stm6 # not executed\n",
    "    except xxx: # CANNOT handle exception of stm5 here AS IT DOES NOT MATCH\n",
    "        stm7 # NOT executed\n",
    "    finally: # executed # BEFOR GING TO OUTER EXCEPT BLOCK THE FINALLY WILL BE EXECUTED \n",
    "        stm8 # executed\n",
    "    stm9 # NOT executed\n",
    "except yyy:#  CANNOT HANDLE STM5 EXCEPTION\n",
    "    stm10 #  NOT executed\n",
    "finally: #executed anyhow\n",
    "    stm11 #executed\n",
    "stm12 # NOT executed"
   ]
  },
  {
   "cell_type": "markdown",
   "metadata": {},
   "source": [
    "SUPPOSE IF CONTROL MOVES TO INNER EXCEPT BLOCK BUT DUE TO SOME PROBLEM IT CANNOT EXECUTE SO THE CONTROL WILL MOVE TO OUTER EXCEPT BLOCK AND BOTH INNER AND OUTER FINALLY WILL BE EXECUTED AND WE ALSO GET ABNORMAL TERMINATION"
   ]
  },
  {
   "cell_type": "markdown",
   "metadata": {},
   "source": [
    "IF EXEPTION RAISE AT STM8 AND EXCEPT BLOCK MATCH"
   ]
  },
  {
   "cell_type": "code",
   "execution_count": null,
   "metadata": {},
   "outputs": [],
   "source": [
    "try: \n",
    "    stm1 # executed\n",
    "    stm2 # executed\n",
    "    try: # executed\n",
    "        stm4 # executed\n",
    "        stm5 # ## EXCEPTION ####\n",
    "        stm6 # not executed\n",
    "    except xxx: #  handle exception of stm5 here\n",
    "    finally: # executed \n",
    "        stm8 ####  EXCEPTION ####\n",
    "    stm9 # NOT executed\n",
    "except yyy:#  HANDLE STM8 EXCEPTION\n",
    "    stm10 #  executed\n",
    "finally: #executed anyhow\n",
    "    stm11 # executed\n",
    "stm12 # executed"
   ]
  },
  {
   "cell_type": "raw",
   "metadata": {},
   "source": [
    "ERROR AT STM8 AND EXCEPT DOES NOT MATCH"
   ]
  },
  {
   "cell_type": "code",
   "execution_count": null,
   "metadata": {},
   "outputs": [],
   "source": [
    "try: \n",
    "    stm1 # executed\n",
    "    stm2 # executed\n",
    "    try: # executed\n",
    "        stm4 # executed\n",
    "        stm5 # ## EXCEPTION ####\n",
    "        stm6 # not executed\n",
    "    except xxx: #  handle exception of stm5 here\n",
    "    finally: # executed \n",
    "        stm8 ####  EXCEPTION ####\n",
    "    stm9 # NOT executed\n",
    "except yyy:#  CANNOT HANDLE STM8 EXCEPTION\n",
    "    stm10 #  NOT executed\n",
    "finally: #executed anyhow\n",
    "    stm11 # executed # ABNORMAL TERMINATION\n",
    "stm12 # NOT executed"
   ]
  },
  {
   "cell_type": "markdown",
   "metadata": {},
   "source": [
    "EXCEPTION AT STM9 AND EXCEPTION BLOCK MATCH"
   ]
  },
  {
   "cell_type": "code",
   "execution_count": null,
   "metadata": {},
   "outputs": [],
   "source": [
    "try: \n",
    "    stm1 # executed\n",
    "    stm2 # executed\n",
    "    try: # executed\n",
    "        stm4 # executed\n",
    "        stm5 # ## EXCEPTION ####\n",
    "        stm6 # not executed\n",
    "    except xxx: #  handle exception of stm5 here\n",
    "    finally: # executed \n",
    "        stm8# WITHOUT EXECUTNG THIS THE CONTROL WILL NOT GO TO STM9 FOR EXCEPTION AT STM8 IT WILL MOVE TO OUTER FINALLY\n",
    "    stm9 # EXCEPTION\n",
    "except yyy:#  HANDLE STM9 EXCEPTION\n",
    "    stm10 #  executed\n",
    "finally: #executed anyhow\n",
    "    stm11 # executed # NORMAL TERMINATION\n",
    "stm12 #  executed"
   ]
  },
  {
   "cell_type": "markdown",
   "metadata": {},
   "source": [
    "EXCEPTION AT STM10"
   ]
  },
  {
   "cell_type": "code",
   "execution_count": null,
   "metadata": {},
   "outputs": [],
   "source": [
    "try: \n",
    "    stm1 # executed\n",
    "    stm2 # executed\n",
    "    try: # executed\n",
    "        stm4 # executed\n",
    "        stm5 # ## EXCEPTION ####\n",
    "        stm6 # not executed\n",
    "    except xxx: #  handle exception of stm5 here\n",
    "    finally: # executed \n",
    "        stm8# EXECUTED\n",
    "    stm9 # EXEPCTION\n",
    "except yyy:\n",
    "    stm10 #  ## EXECPTION ##\n",
    "finally: #executed anyhow\n",
    "    stm11 # executed # ABNORMAL TERMINATION\n",
    "stm12 #  executed"
   ]
  },
  {
   "cell_type": "markdown",
   "metadata": {},
   "source": [
    "EXCEPTION AT STM11 OR 12"
   ]
  },
  {
   "cell_type": "code",
   "execution_count": null,
   "metadata": {},
   "outputs": [],
   "source": [
    "try: \n",
    "    stm1 # executed\n",
    "    stm2 # executed\n",
    "    try: # executed\n",
    "        stm4 # executed\n",
    "        stm5 # ## EXCEPTION ####\n",
    "        stm6 # not executed\n",
    "    except xxx: #  handle exception of stm5 here\n",
    "    finally: # executed \n",
    "        stm8# EXECUTED\n",
    "    stm9 # EXEPCTION\n",
    "except yyy:\n",
    "    stm10 #  ## EXECPTION ##\n",
    "finally: # EXCEPTION\n",
    "    stm11 #EXCEPTION # ABNORMAL TERMINATION\n",
    "stm12 #  EXCEPTION"
   ]
  },
  {
   "cell_type": "markdown",
   "metadata": {},
   "source": [
    "### ELSE BLOCK WITH TRY EXCEPT FINALLY"
   ]
  },
  {
   "cell_type": "code",
   "execution_count": null,
   "metadata": {},
   "outputs": [],
   "source": [
    "# IT WILL BE EXECUTED IF ANY ONLY IF THERE IS NO EXCEPTION \n",
    "# EXCEPT VS FINALLY : FINALLY WILL BE EXECUTED EVEN IF THERE IS AN EXCEPTION\n",
    "# try:\n",
    "#   risky code\n",
    "# except:\n",
    "#   will be executed if exeption in try\n",
    "# else:\n",
    "#   will be executed if no exception in try\n",
    "# finally:\n",
    "#   will be executed always weather exception raised or not raised\n",
    "#   and handledd or not handled"
   ]
  },
  {
   "cell_type": "code",
   "execution_count": 12,
   "metadata": {},
   "outputs": [
    {
     "name": "stdout",
     "output_type": "stream",
     "text": [
      "TRY BLOCK STARTED\n",
      "\n",
      "EXCEPTION OCCOURED IN TRY\n",
      "\n",
      "FINALLY BLOCK ALWAYS RUN NO MATTER WHAT HAPPENS\n"
     ]
    }
   ],
   "source": [
    "try:\n",
    "    print(\"TRY BLOCK STARTED\")\n",
    "    print()\n",
    "    print(10/0)\n",
    "    \n",
    "except:\n",
    "    print(\"EXCEPTION OCCOURED IN TRY\")\n",
    "    print()\n",
    "else:\n",
    "    print(\"ELSE STATEMENT RUNNING DUE TO EXCEPTION IN TRY BLOCK\")\n",
    "finally:\n",
    "    print(\"FINALLY BLOCK ALWAYS RUN NO MATTER WHAT HAPPENS\")"
   ]
  },
  {
   "cell_type": "code",
   "execution_count": 16,
   "metadata": {},
   "outputs": [
    {
     "name": "stdout",
     "output_type": "stream",
     "text": [
      "TRY BLOCK STARTED\n",
      "HERE WE HAVE NO EXCEPTION\n",
      "\n",
      "ELSE STATEMENT RUNNING DUE TO EXCEPTION IN TRY BLOCK\n",
      "\n",
      "FINALLY BLOCK ALWAYS RUN NO MATTER WHAT HAPPENS\n"
     ]
    }
   ],
   "source": [
    "try:\n",
    "    print(\"TRY BLOCK STARTED\")\n",
    "    print(\"HERE WE HAVE NO EXCEPTION\")\n",
    "    print()\n",
    "      \n",
    "except:\n",
    "    print(\"EXCEPTION OCCOURED IN TRY\")\n",
    "    print()\n",
    "else:\n",
    "    print(\"ELSE STATEMENT RUNNING DUE TO EXCEPTION IN TRY BLOCK\")\n",
    "    print()\n",
    "finally:\n",
    "    print(\"FINALLY BLOCK ALWAYS RUN NO MATTER WHAT HAPPENS\")"
   ]
  },
  {
   "cell_type": "markdown",
   "metadata": {},
   "source": [
    "### VARIOUS COMBINATION OF TRY EXCEPT ELSE FINALLY"
   ]
  },
  {
   "cell_type": "code",
   "execution_count": 18,
   "metadata": {},
   "outputs": [],
   "source": [
    "# without except or finally block we cannot use try block\n",
    "# try:\n",
    "#    print(\"try\")"
   ]
  },
  {
   "cell_type": "code",
   "execution_count": 20,
   "metadata": {},
   "outputs": [],
   "source": [
    "# without try we cannot use except\n",
    "# except:\n",
    "#    print(\"except\")\n",
    "    "
   ]
  },
  {
   "cell_type": "code",
   "execution_count": 21,
   "metadata": {},
   "outputs": [
    {
     "ename": "SyntaxError",
     "evalue": "invalid syntax (<ipython-input-21-aa1c6419e71f>, line 1)",
     "output_type": "error",
     "traceback": [
      "\u001b[1;36m  File \u001b[1;32m\"<ipython-input-21-aa1c6419e71f>\"\u001b[1;36m, line \u001b[1;32m1\u001b[0m\n\u001b[1;33m    else:\u001b[0m\n\u001b[1;37m       ^\u001b[0m\n\u001b[1;31mSyntaxError\u001b[0m\u001b[1;31m:\u001b[0m invalid syntax\n"
     ]
    }
   ],
   "source": [
    "# this is not valid \n",
    "#else:\n",
    "#    print(\"hello\")"
   ]
  },
  {
   "cell_type": "code",
   "execution_count": 23,
   "metadata": {},
   "outputs": [],
   "source": [
    "# can not use finally without try\n",
    "#finally:\n",
    " #   print(\"hello\")"
   ]
  },
  {
   "cell_type": "code",
   "execution_count": 25,
   "metadata": {},
   "outputs": [
    {
     "name": "stdout",
     "output_type": "stream",
     "text": [
      "try\n"
     ]
    }
   ],
   "source": [
    "# try with except\n",
    "try:\n",
    "    print(\"try\")\n",
    "except:\n",
    "    print(\"except\")"
   ]
  },
  {
   "cell_type": "code",
   "execution_count": 26,
   "metadata": {},
   "outputs": [
    {
     "name": "stdout",
     "output_type": "stream",
     "text": [
      "try\n",
      "finally\n"
     ]
    }
   ],
   "source": [
    "# try with finally :\n",
    "try: # chance of exception,and we dont know how to handle and we get abnormal termination\n",
    "    print(\"try\")\n",
    "finally: # used to close the database connection befor abnormal termination\n",
    "    print(\"finally\")"
   ]
  },
  {
   "cell_type": "code",
   "execution_count": 27,
   "metadata": {},
   "outputs": [
    {
     "name": "stdout",
     "output_type": "stream",
     "text": [
      "try\n",
      "finally\n"
     ]
    },
    {
     "ename": "ZeroDivisionError",
     "evalue": "division by zero",
     "output_type": "error",
     "traceback": [
      "\u001b[1;31m---------------------------------------------------------------------------\u001b[0m",
      "\u001b[1;31mZeroDivisionError\u001b[0m                         Traceback (most recent call last)",
      "\u001b[1;32m<ipython-input-27-634200e6aadb>\u001b[0m in \u001b[0;36m<module>\u001b[1;34m\u001b[0m\n\u001b[0;32m      1\u001b[0m \u001b[1;32mtry\u001b[0m\u001b[1;33m:\u001b[0m\u001b[1;33m\u001b[0m\u001b[1;33m\u001b[0m\u001b[0m\n\u001b[0;32m      2\u001b[0m     \u001b[0mprint\u001b[0m\u001b[1;33m(\u001b[0m\u001b[1;34m\"try\"\u001b[0m\u001b[1;33m)\u001b[0m\u001b[1;33m\u001b[0m\u001b[1;33m\u001b[0m\u001b[0m\n\u001b[1;32m----> 3\u001b[1;33m     \u001b[0mprint\u001b[0m\u001b[1;33m(\u001b[0m\u001b[1;36m10\u001b[0m\u001b[1;33m/\u001b[0m\u001b[1;36m0\u001b[0m\u001b[1;33m)\u001b[0m\u001b[1;33m\u001b[0m\u001b[1;33m\u001b[0m\u001b[0m\n\u001b[0m\u001b[0;32m      4\u001b[0m \u001b[1;32mfinally\u001b[0m\u001b[1;33m:\u001b[0m\u001b[1;33m\u001b[0m\u001b[1;33m\u001b[0m\u001b[0m\n\u001b[0;32m      5\u001b[0m     \u001b[0mprint\u001b[0m\u001b[1;33m(\u001b[0m\u001b[1;34m\"finally\"\u001b[0m\u001b[1;33m)\u001b[0m\u001b[1;33m\u001b[0m\u001b[1;33m\u001b[0m\u001b[0m\n",
      "\u001b[1;31mZeroDivisionError\u001b[0m: division by zero"
     ]
    }
   ],
   "source": [
    "try:\n",
    "    print(\"try\")\n",
    "    print(10/0)\n",
    "finally:\n",
    "    print(\"finally\")\n",
    "# try \n",
    "# finally\n",
    "# abnormal termination"
   ]
  },
  {
   "cell_type": "code",
   "execution_count": 28,
   "metadata": {},
   "outputs": [
    {
     "name": "stdout",
     "output_type": "stream",
     "text": [
      "try\n",
      "else\n"
     ]
    }
   ],
   "source": [
    "# TRY EXCEPT ELSE\n",
    "try:\n",
    "    print(\"try\")\n",
    "except:\n",
    "    print(\"except\")\n",
    "else:\n",
    "    print(\"else\")"
   ]
  },
  {
   "cell_type": "code",
   "execution_count": 30,
   "metadata": {},
   "outputs": [
    {
     "name": "stdout",
     "output_type": "stream",
     "text": [
      "try\n",
      "else\n"
     ]
    }
   ],
   "source": [
    "# TRY ELSE : this is invalid, for else to be used cumpulsary except block should be there\n",
    "#try:\n",
    "#    print(\"try\")\n",
    "#else:\n",
    "#    print(\"else\")\n",
    "\n",
    "try:\n",
    "    print(\"try\")\n",
    "except:\n",
    "    print(\"except\")\n",
    "else:\n",
    "    print(\"else\")"
   ]
  },
  {
   "cell_type": "code",
   "execution_count": 33,
   "metadata": {},
   "outputs": [],
   "source": [
    "# TRY-ELSE-FINALLY: INVALID SYNTAX ,TO USE ELSE EXCEPT IS NEEDED\n",
    "#try:\n",
    "#    print(\"try\")\n",
    "#else:\n",
    "#    print(\"else\")\n",
    "#    print(\"hello\")\n"
   ]
  },
  {
   "cell_type": "code",
   "execution_count": null,
   "metadata": {},
   "outputs": [],
   "source": [
    "#TRY -MULTIPLE EXCEPT BLCOCK: IT IS VALID\n",
    "#try:\n",
    "#    print(\"try\")\n",
    "# except xxx:\n",
    "#    print(\"except-1\")\n",
    "# except yyy:\n",
    "#    print(\"except-2\")"
   ]
  },
  {
   "cell_type": "code",
   "execution_count": null,
   "metadata": {},
   "outputs": [],
   "source": [
    "# TRY-EXCEPT-MULTIPLE ELSE: invalid\n",
    "# WE CAN TAKE MULTIPLE EXCEPT FOR SINGLE TRY BUT NO MULTIPLE ELSE\n",
    "#try:\n",
    "#    print(\"try\")\n",
    "# except xxx:\n",
    "#    print(\"except-1\")\n",
    "# esle :\n",
    "#    print(\"else-2\")\n",
    "# else :\n",
    "#    print(\"else-2\")"
   ]
  },
  {
   "cell_type": "code",
   "execution_count": null,
   "metadata": {},
   "outputs": [],
   "source": [
    "# TRY EXCEPT - MULTIPLE FINALLY : INVALID ONYL ONE FINALLY IS ALLOWED\n",
    "#try:\n",
    "#    print(\"try\")\n",
    "# except xxx:\n",
    "#    print(\"except-1\")\n",
    "# finally :\n",
    "#    print(\"finally-1\")\n",
    "# finally :\n",
    "#    print(\"finally-2\")"
   ]
  },
  {
   "cell_type": "code",
   "execution_count": null,
   "metadata": {},
   "outputs": [],
   "source": [
    "# TRY-RANDOM STATEMETN-EXCEPT: INVALID A RANDOM STATEMETN SEPARATED TRY AND EXCEPT\n",
    "#try:\n",
    "#    print(\"try\")\n",
    "# pritn(\"hello\")\n",
    "# except xxx:\n",
    "#    print(\"except-1\")"
   ]
  },
  {
   "cell_type": "code",
   "execution_count": null,
   "metadata": {},
   "outputs": [],
   "source": [
    "# try-except-random statement-except-block: invalid\n",
    "# try:\n",
    "#    print(\"try\")\n",
    "# except xxx:\n",
    "#    print(\"except-1\")\n",
    "# print(\"hello\") # cannot use independet statements between two except statemetns \n",
    "# except yyy:\n",
    "#    print(\"except-2\")"
   ]
  },
  {
   "cell_type": "code",
   "execution_count": null,
   "metadata": {},
   "outputs": [],
   "source": [
    "# try-except-radom statement-finally: invalid\n",
    "# try:\n",
    "#    print(\"try\")\n",
    "# except xxx:\n",
    "#    print(\"except-1\")\n",
    "# print(\"hello\") # cannot use independet statements between two except statemetns \n",
    "# finally:\n",
    "#    print(\"finally\")"
   ]
  },
  {
   "cell_type": "code",
   "execution_count": 34,
   "metadata": {},
   "outputs": [
    {
     "name": "stdout",
     "output_type": "stream",
     "text": [
      "try\n",
      "try\n",
      "finally\n"
     ]
    }
   ],
   "source": [
    "#try-except-try-finally:valid code\n",
    "try:\n",
    "    print(\"try\")\n",
    "except xxx:\n",
    "    print(\"except-1\")\n",
    "try:\n",
    "    print(\"try\")\n",
    "finally:\n",
    "    print(\"finally\")"
   ]
  },
  {
   "cell_type": "code",
   "execution_count": 35,
   "metadata": {},
   "outputs": [
    {
     "name": "stdout",
     "output_type": "stream",
     "text": [
      "try-1\n",
      "try-2\n"
     ]
    }
   ],
   "source": [
    "#try execpt- try -except : valid code\n",
    "try:\n",
    "    print(\"try-1\")\n",
    "except xxx:\n",
    "    print(\"except-1\")\n",
    "try:\n",
    "    print(\"try-2\")\n",
    "except:\n",
    "    print(\"except-2\")"
   ]
  },
  {
   "cell_type": "markdown",
   "metadata": {},
   "source": [
    "NESTING TRY EXCEPT FINALLY"
   ]
  },
  {
   "cell_type": "code",
   "execution_count": 39,
   "metadata": {},
   "outputs": [
    {
     "name": "stdout",
     "output_type": "stream",
     "text": [
      "try-outer\n",
      "try-inner\n",
      "inner finally\n"
     ]
    }
   ],
   "source": [
    "try:\n",
    "    print(\"try-outer\")\n",
    "    try:\n",
    "        print(\"try-inner\")\n",
    "    except:\n",
    "        print(\"inner except\")\n",
    "    finally:\n",
    "        print(\"inner finally\")\n",
    "except:\n",
    "    print(\"outer except\")"
   ]
  },
  {
   "cell_type": "code",
   "execution_count": 41,
   "metadata": {},
   "outputs": [
    {
     "name": "stdout",
     "output_type": "stream",
     "text": [
      "try-outer\n"
     ]
    }
   ],
   "source": [
    "try:\n",
    "    print(\"try-outer\")\n",
    "    \n",
    "except:\n",
    "    print(\"outer except\")\n",
    "    try:\n",
    "        print(\"try-inner\")\n",
    "    except:\n",
    "        print(\"inner except\")\n",
    "    finally:\n",
    "        print(\"inner finally\")"
   ]
  },
  {
   "cell_type": "code",
   "execution_count": 42,
   "metadata": {},
   "outputs": [
    {
     "name": "stdout",
     "output_type": "stream",
     "text": [
      "try-outer\n",
      "try-inner\n",
      "inner finally\n"
     ]
    }
   ],
   "source": [
    "try:\n",
    "    print(\"try-outer\")\n",
    "    \n",
    "except:\n",
    "    print(\"outer except\")\n",
    "finally:\n",
    "    try:\n",
    "        print(\"try-inner\")\n",
    "    except:\n",
    "        print(\"inner except\")\n",
    "    finally:\n",
    "        print(\"inner finally\")"
   ]
  },
  {
   "cell_type": "code",
   "execution_count": 47,
   "metadata": {},
   "outputs": [],
   "source": [
    "# try-except-try-else :invalid\n",
    "#try:\n",
    "#    print(\"try-outer\")\n",
    "    \n",
    "#except:\n",
    "#    print(\"except\")\n",
    "#try:\n",
    "#    print(\"try\")\n",
    "#else:\n",
    "#    print(\"else\")"
   ]
  },
  {
   "cell_type": "code",
   "execution_count": 46,
   "metadata": {},
   "outputs": [],
   "source": [
    "#try-nested try-except-finally\n",
    "#try:\n",
    "#    print(\"try\")\n",
    "#    try: # we dont have except block to this try\n",
    "#        print(\"try\")\n",
    "#except:\n",
    "#    print(\"except\")\n",
    "#finally:\n",
    "#    print(\"Finally\")"
   ]
  },
  {
   "cell_type": "markdown",
   "metadata": {},
   "source": [
    "### TYPES OF EXCEPTIONS"
   ]
  },
  {
   "cell_type": "code",
   "execution_count": 52,
   "metadata": {},
   "outputs": [
    {
     "name": "stdout",
     "output_type": "stream",
     "text": [
      "ENTER AGE: 50\n",
      "THANKS FOR REGISTRATION.... YOU WILL GET MATCH  DETAILS SOON\n"
     ]
    }
   ],
   "source": [
    "# HOW TO DEFINE USER BASED EXCEPTION\n",
    "class too_young_exception(Exception):\n",
    "    def __inint__(self,arg): # CONSTRUCTOR\n",
    "        self.msg=arg  #msg is description\n",
    "class too_old_exception(Exception):\n",
    "    def __inint__(self,arg):\n",
    "        self.msg=arg \n",
    "age=int(input(\"ENTER AGE: \"))\n",
    "if age > 60:\n",
    "    raise too_old_exception(\" YOUR AGE FOR MARRAIGE IS OVER\")\n",
    "elif age < 18 :\n",
    "    raise too_young_exception(\"YOUR AGE IS LESS WAIT FOR MARRAIGE\")\n",
    "else:\n",
    "    print(\"THANKS FOR REGISTRATION.... YOU WILL GET MATCH  DETAILS SOON\")\n",
    "    "
   ]
  },
  {
   "cell_type": "code",
   "execution_count": null,
   "metadata": {},
   "outputs": [],
   "source": []
  },
  {
   "cell_type": "code",
   "execution_count": null,
   "metadata": {},
   "outputs": [],
   "source": []
  },
  {
   "cell_type": "code",
   "execution_count": null,
   "metadata": {},
   "outputs": [],
   "source": []
  },
  {
   "cell_type": "code",
   "execution_count": null,
   "metadata": {},
   "outputs": [],
   "source": []
  },
  {
   "cell_type": "code",
   "execution_count": null,
   "metadata": {},
   "outputs": [],
   "source": []
  },
  {
   "cell_type": "code",
   "execution_count": null,
   "metadata": {},
   "outputs": [],
   "source": []
  },
  {
   "cell_type": "code",
   "execution_count": null,
   "metadata": {},
   "outputs": [],
   "source": []
  },
  {
   "cell_type": "code",
   "execution_count": null,
   "metadata": {},
   "outputs": [],
   "source": []
  },
  {
   "cell_type": "code",
   "execution_count": null,
   "metadata": {},
   "outputs": [],
   "source": []
  },
  {
   "cell_type": "code",
   "execution_count": null,
   "metadata": {},
   "outputs": [],
   "source": []
  },
  {
   "cell_type": "code",
   "execution_count": null,
   "metadata": {},
   "outputs": [],
   "source": []
  },
  {
   "cell_type": "code",
   "execution_count": null,
   "metadata": {},
   "outputs": [],
   "source": []
  },
  {
   "cell_type": "code",
   "execution_count": null,
   "metadata": {},
   "outputs": [],
   "source": []
  },
  {
   "cell_type": "code",
   "execution_count": null,
   "metadata": {},
   "outputs": [],
   "source": []
  },
  {
   "cell_type": "code",
   "execution_count": null,
   "metadata": {},
   "outputs": [],
   "source": []
  },
  {
   "cell_type": "code",
   "execution_count": null,
   "metadata": {},
   "outputs": [],
   "source": []
  },
  {
   "cell_type": "code",
   "execution_count": null,
   "metadata": {},
   "outputs": [],
   "source": []
  },
  {
   "cell_type": "code",
   "execution_count": null,
   "metadata": {},
   "outputs": [],
   "source": []
  },
  {
   "cell_type": "code",
   "execution_count": null,
   "metadata": {},
   "outputs": [],
   "source": []
  },
  {
   "cell_type": "code",
   "execution_count": null,
   "metadata": {},
   "outputs": [],
   "source": []
  },
  {
   "cell_type": "code",
   "execution_count": null,
   "metadata": {},
   "outputs": [],
   "source": []
  },
  {
   "cell_type": "code",
   "execution_count": null,
   "metadata": {},
   "outputs": [],
   "source": []
  },
  {
   "cell_type": "code",
   "execution_count": null,
   "metadata": {},
   "outputs": [],
   "source": []
  },
  {
   "cell_type": "code",
   "execution_count": null,
   "metadata": {},
   "outputs": [],
   "source": []
  },
  {
   "cell_type": "code",
   "execution_count": null,
   "metadata": {},
   "outputs": [],
   "source": []
  },
  {
   "cell_type": "code",
   "execution_count": null,
   "metadata": {},
   "outputs": [],
   "source": []
  },
  {
   "cell_type": "code",
   "execution_count": null,
   "metadata": {},
   "outputs": [],
   "source": []
  },
  {
   "cell_type": "code",
   "execution_count": null,
   "metadata": {},
   "outputs": [],
   "source": []
  },
  {
   "cell_type": "code",
   "execution_count": null,
   "metadata": {},
   "outputs": [],
   "source": []
  },
  {
   "cell_type": "code",
   "execution_count": null,
   "metadata": {},
   "outputs": [],
   "source": []
  },
  {
   "cell_type": "code",
   "execution_count": null,
   "metadata": {},
   "outputs": [],
   "source": []
  },
  {
   "cell_type": "code",
   "execution_count": null,
   "metadata": {},
   "outputs": [],
   "source": []
  },
  {
   "cell_type": "code",
   "execution_count": null,
   "metadata": {},
   "outputs": [],
   "source": []
  },
  {
   "cell_type": "code",
   "execution_count": null,
   "metadata": {},
   "outputs": [],
   "source": []
  },
  {
   "cell_type": "code",
   "execution_count": null,
   "metadata": {},
   "outputs": [],
   "source": []
  },
  {
   "cell_type": "code",
   "execution_count": null,
   "metadata": {},
   "outputs": [],
   "source": []
  },
  {
   "cell_type": "code",
   "execution_count": null,
   "metadata": {},
   "outputs": [],
   "source": []
  },
  {
   "cell_type": "code",
   "execution_count": null,
   "metadata": {},
   "outputs": [],
   "source": []
  },
  {
   "cell_type": "code",
   "execution_count": null,
   "metadata": {},
   "outputs": [],
   "source": []
  },
  {
   "cell_type": "code",
   "execution_count": null,
   "metadata": {},
   "outputs": [],
   "source": []
  },
  {
   "cell_type": "code",
   "execution_count": null,
   "metadata": {},
   "outputs": [],
   "source": []
  },
  {
   "cell_type": "code",
   "execution_count": null,
   "metadata": {},
   "outputs": [],
   "source": []
  },
  {
   "cell_type": "code",
   "execution_count": null,
   "metadata": {},
   "outputs": [],
   "source": []
  },
  {
   "cell_type": "code",
   "execution_count": null,
   "metadata": {},
   "outputs": [],
   "source": []
  },
  {
   "cell_type": "code",
   "execution_count": null,
   "metadata": {},
   "outputs": [],
   "source": []
  },
  {
   "cell_type": "code",
   "execution_count": null,
   "metadata": {},
   "outputs": [],
   "source": []
  },
  {
   "cell_type": "code",
   "execution_count": null,
   "metadata": {},
   "outputs": [],
   "source": []
  },
  {
   "cell_type": "code",
   "execution_count": null,
   "metadata": {},
   "outputs": [],
   "source": []
  },
  {
   "cell_type": "code",
   "execution_count": null,
   "metadata": {},
   "outputs": [],
   "source": []
  },
  {
   "cell_type": "code",
   "execution_count": null,
   "metadata": {},
   "outputs": [],
   "source": []
  },
  {
   "cell_type": "code",
   "execution_count": null,
   "metadata": {},
   "outputs": [],
   "source": []
  },
  {
   "cell_type": "code",
   "execution_count": null,
   "metadata": {},
   "outputs": [],
   "source": []
  }
 ],
 "metadata": {
  "kernelspec": {
   "display_name": "Python 3",
   "language": "python",
   "name": "python3"
  },
  "language_info": {
   "codemirror_mode": {
    "name": "ipython",
    "version": 3
   },
   "file_extension": ".py",
   "mimetype": "text/x-python",
   "name": "python",
   "nbconvert_exporter": "python",
   "pygments_lexer": "ipython3",
   "version": "3.7.1"
  }
 },
 "nbformat": 4,
 "nbformat_minor": 2
}
