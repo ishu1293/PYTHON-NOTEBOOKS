{
 "cells": [
  {
   "cell_type": "markdown",
   "metadata": {},
   "source": [
    "### REGULAR EXPRESSIONS"
   ]
  },
  {
   "cell_type": "code",
   "execution_count": 9,
   "metadata": {},
   "outputs": [],
   "source": [
    "# REGULAR EXPRESSION \n",
    "# IF YOU WANT TO REPRESENT A GROUP IF STRING ACCORDING TO A PARTICULAR PATTERN THEN WE SHOULD GO FOR REGUALR EXPRESSIONS\n",
    "# EXAMPLE ALL EMAIL ID FOLLOW A PARTICULAR PATTERN \n",
    "\n",
    "# IMPORTANT APPLICATION AREAS OF REGULAR EXPRESSION\n",
    "# VALIDATION \n",
    "# PATTERN MATCHING APPLICATIONS\n",
    "# TO DEVELOP TRANSLATORS LIKE COMPILES ,INTERPRETERS,ASSEMBLERS\n",
    "# TO DEVELOP DIGITAL CIRCUITS \n",
    "# COMMUNICATIONS PROTOCOLS TCP/IP \n",
    "\n",
    "# PYTON CONTAIN REGULAR EXPRESSION MODULE TO CRETAE APPLICATONS \n",
    "# MODULE NAME ==> \"re\"\n",
    "\n",
    "# PROCESS TO USE RE\n",
    "#  1.COMPILE() : TO CREATE PATTERN OBJECT\n",
    "#  3.FINDITER() : RETURN AN ITERATOR OBJECT \n",
    "\n",
    "# 1.START(): start index of the match \n",
    "# 2. end(): end+1 index of the match \n",
    "# 3. group(): returns matched string\n",
    "\n",
    "#  CHARACTER CLASSES :TO SEARCH FOR ANY CHARACTER OR ANY DIGIT WE USE THIS\n",
    "\n",
    "#[ABC]=> WE WANT TO SEARCH EITHER A OR B OR C\n",
    "# [^ABC] => ECXEPT A ,B ,C WE WANT TO SEARCH :: ^ SHOWS EXCEPT THIS\n",
    "# [a-z]=>  SEARCH FOR ANY LOWECASE ALPHABET SYMBOLS\n",
    "# [A-Z]==> SEARCH FOR ANY UPPERCASE SYMBOL\n",
    "# [A-Za-A]==> SEARCH FOR ANY ALPHABET\n",
    "# [0-9]==> SEARCH ANY DIGIT\n",
    "# [A-Za-Z0-9]==> SEARCH ANY ALPHABET AND DIGIT\n",
    "# [^A-Za-Z0-9]==> SEARCH EXCEPT ALPHABET AND DIGIT\n",
    "\n",
    "# PREDEFINED CHARACTERS CLASS:\n",
    "# \\s ===> search space character\n",
    "# \\S ==> search everything except space character\n",
    "# \\d==> any digit [0-9]\n",
    "# \\D ==> except digits\n",
    "# \\w => any word (alphanumeic character)\n",
    "# \\W ==> any charcter except word( special characters)\n",
    "\n",
    "# . ----> dot shows every chracter \n",
    "\n",
    "# QUANTIFIERS : THE NUMBER OF OCCOURANCES\n",
    "#  \"a\"==> SEARCH FOR EXACLTY ONE A IN STRING\n",
    "# \"a+\" ==> PLUS SHOWS ATLEAST ONE A\n",
    "#  \"a*\" == > any number of a's including zero number also\n",
    "#  \"a?\" ==> atmost one a  either one a or zero number of a\n",
    "# a{n} ==> exactly n number of a \n",
    "# a{m,n} ==> Minimum m number of a's and maximum n number of a's \n",
    "# a{n}a* ==> minimum n number of a after that take any number of a\n",
    "\n",
    "# [^a] ==> search except a\n",
    "# ^a ==> to check weather the target string starts with a or not\n",
    "# a$ ==> check weather the target string the ends with a or not\n",
    "\n",
    "# IMPORTANT FUNCTIONS OF re module:\n",
    "# match():TO CHECK IF THE  PATTERN IS AVAIABLE AT BEGINING OF STRING OR NOT\n",
    "# fullmatch():TO CHECK IF THE TARGET STRING MATCH THE INPUT STRING\n",
    "# search() : MATCH OBJECT OF FIRST OCCOURANCE\n",
    "# findall() : to find all occourances and return a list\n",
    "# finditer() : return iterator of found objects\n",
    "# sub(): SUBTITUTION :: SEARCH FOR SOMETHING IF FOUND REPLACE IT WITH NEW THING\n",
    "#  re.sub(\"regex\",\"replacement\",\"target string\")\n",
    "# return type is string\n",
    "# subn() : (n means no of replacemetns) to know the number of replacemetn also\n",
    "# return type is tuple (resultstring,no of replaement)\n",
    "#  t[1] --> retunn the changed string\n",
    "# t[0] --> show no of replacement\n",
    "# split() : split the given string according to certain pattern\n",
    "# TO SPLIT WITH . WE USE \\. \n",
    "#RETURN TYPE LIS LIST\n",
    "# complie() :\n",
    "\n",
    "#SYMBOL ^ ANS $ \n",
    "# ^ IS USED TO SEARCH WEATHER THE STRING STARTSWITH ANY GIVEN STRING\n",
    "# $ IS USED TO SEARCH WEATHER THE STRING ENDSWITH ANY GIVEN STRING\n",
    "\n",
    "# HOW TO WRITE A REGULAR EXPRESSION: EXAMPLE\n",
    "# WRITE A REGULAR EXPRESSION WHERE ALLWOED CAHRACTERS ARE:ALPHABETS DIGITS #\n",
    "# FIRST CHARACTER SHOULD BE LOWERCASE ALPHABET SYMBOL FROM A TO K\n",
    "# SECOND CHARCTER SHOULD BE A DIGIT DIVISBLE BY 3\n",
    "# LENGTH OF IDENTIFIER SHOULD BE ATLEAST 2\n",
    "\n",
    "# [a-k] ==> alphabet digits from a to k\n",
    "# [0369] ==> single digit divisble by 3 so 0 ,3,6,9 not 15, 21 beacuse we use single digit only\n",
    "# [a-zA-z0-9#]* ===> this shows the length as we must have atleast 2 we can go maximum after 2 so we used all digit alphabet and # cahrcter defined in question \n",
    "# and *  SHOWS ANY NUMBER OF [a-zA-z0-9#] \n",
    "# ==> sp regular expression is [a-k][0369][a-zA-z0-9#]*\n",
    "\n",
    "# WRITE A REGULAR EXPRESSION TO REPRESET ALL 10 DIGIT MOBILE NUMBERS:\n",
    "#[6789]\\d{9}\n",
    "#11 digit with 0 before the number and 12 digit with 91 befor number and 13 digit with +91 before number\n",
    "#===> expression is (0|91|\\+91)?[6789]\\d{9}\n",
    "#\n",
    "\n",
    "\n",
    "\n",
    "\n",
    "\n",
    "\n",
    "\n",
    "\n"
   ]
  },
  {
   "cell_type": "markdown",
   "metadata": {},
   "source": [
    "CREATING PATTERN OBJECT (REGEX OBJECT)"
   ]
  },
  {
   "cell_type": "code",
   "execution_count": 2,
   "metadata": {},
   "outputs": [
    {
     "name": "stdout",
     "output_type": "stream",
     "text": [
      "<class 're.Pattern'>\n"
     ]
    }
   ],
   "source": [
    "pattern=re.compile(\"python\")\n",
    "print(type(pattern)) # pattern object"
   ]
  },
  {
   "cell_type": "markdown",
   "metadata": {},
   "source": [
    "CREATE ITERATING OBJECT"
   ]
  },
  {
   "cell_type": "code",
   "execution_count": null,
   "metadata": {},
   "outputs": [],
   "source": [
    "matcher=pattern.finditer(\"learning python is easy\")"
   ]
  },
  {
   "cell_type": "markdown",
   "metadata": {},
   "source": [
    "TO CHECK WEATHER A PARTICULAR PATTERN IS AVAIABLE OR NOT,HOW MANY TIME IT OCCOUR,WHERE IT OCCUR"
   ]
  },
  {
   "cell_type": "code",
   "execution_count": 6,
   "metadata": {},
   "outputs": [
    {
     "name": "stdout",
     "output_type": "stream",
     "text": [
      "The number of occourances: 0\n"
     ]
    }
   ],
   "source": [
    "import re\n",
    "count=0\n",
    "pattern=re.compile(\"bb\")\n",
    "matcher=pattern.finditer(\"abaababa\")\n",
    "for match in matcher:\n",
    "    count+=1\n",
    "    print(\"match is avaiable at start:\",match.start())\n",
    "print(\"The number of occourances:\",count)\n"
   ]
  },
  {
   "cell_type": "code",
   "execution_count": 11,
   "metadata": {},
   "outputs": [
    {
     "name": "stdout",
     "output_type": "stream",
     "text": [
      "start:0,end:2,group:ab\n",
      "start:3,end:5,group:ab\n",
      "start:5,end:7,group:ab\n",
      "The number of occourances: 3\n"
     ]
    }
   ],
   "source": [
    "import re\n",
    "count=0\n",
    "pattern=re.compile(\"ab\")\n",
    "matcher=pattern.finditer(\"abaababa\")\n",
    "for m in matcher:\n",
    "    count+=1\n",
    "    print(\"start:{},end:{},group:{}\".format(m.start(),m.end(),m.group()))\n",
    "print(\"The number of occourances:\",count)\n"
   ]
  },
  {
   "cell_type": "markdown",
   "metadata": {},
   "source": [
    "SHORT METHOD ::  re.finder(\"string to find\",given string\") ==> it creates a callable iterator"
   ]
  },
  {
   "cell_type": "code",
   "execution_count": 13,
   "metadata": {},
   "outputs": [
    {
     "name": "stdout",
     "output_type": "stream",
     "text": [
      "start:0,end:2,group:ab\n",
      "start:3,end:5,group:ab\n",
      "start:5,end:7,group:ab\n",
      "The number of occourances: 3\n"
     ]
    }
   ],
   "source": [
    "import re\n",
    "count=0\n",
    "matcher=re.finditer(\"ab\",\"abaababa\")\n",
    "for m in matcher:\n",
    "    count+=1\n",
    "    print(\"start:{},end:{},group:{}\".format(m.start(),m.end(),m.group()))\n",
    "print(\"The number of occourances:\",count)"
   ]
  },
  {
   "cell_type": "code",
   "execution_count": 24,
   "metadata": {},
   "outputs": [
    {
     "name": "stdout",
     "output_type": "stream",
     "text": [
      "0 ... a\n",
      "2 ... b\n"
     ]
    }
   ],
   "source": [
    "import re\n",
    "matcher=re.finditer(\"[abc]\",\"a7b@k9z\")\n",
    "for m in matcher:\n",
    "    print(m.start(),\"...\",m.group())"
   ]
  },
  {
   "cell_type": "code",
   "execution_count": 25,
   "metadata": {},
   "outputs": [
    {
     "name": "stdout",
     "output_type": "stream",
     "text": [
      "1 ... 7\n",
      "3 ... @\n",
      "4 ... k\n",
      "5 ... 9\n",
      "6 ... z\n"
     ]
    }
   ],
   "source": [
    "import re\n",
    "matcher=re.finditer(\"[^abc]\",\"a7b@k9z\")\n",
    "for m in matcher:\n",
    "    print(m.start(),\"...\",m.group())"
   ]
  },
  {
   "cell_type": "code",
   "execution_count": 26,
   "metadata": {},
   "outputs": [
    {
     "name": "stdout",
     "output_type": "stream",
     "text": [
      "0 ... a\n",
      "2 ... b\n",
      "4 ... k\n",
      "6 ... z\n"
     ]
    }
   ],
   "source": [
    "import re\n",
    "matcher=re.finditer(\"[a-z]\",\"a7b@k9z\")\n",
    "for m in matcher:\n",
    "    print(m.start(),\"...\",m.group())"
   ]
  },
  {
   "cell_type": "code",
   "execution_count": 28,
   "metadata": {},
   "outputs": [
    {
     "name": "stdout",
     "output_type": "stream",
     "text": [
      "0 ... a\n",
      "1 ... 7\n",
      "2 ... b\n",
      "4 ... k\n",
      "5 ... 9\n",
      "6 ... z\n"
     ]
    }
   ],
   "source": [
    "import re\n",
    "matcher=re.finditer(\"[a-zA-Z0-9]\",\"a7b@k9z\")\n",
    "for m in matcher:\n",
    "    print(m.start(),\"...\",m.group())"
   ]
  },
  {
   "cell_type": "code",
   "execution_count": 34,
   "metadata": {},
   "outputs": [
    {
     "name": "stdout",
     "output_type": "stream",
     "text": [
      "1 ...  \n"
     ]
    }
   ],
   "source": [
    "import re\n",
    "matcher=re.finditer(\"\\s\",\"a 7b@k9z\")\n",
    "for m in matcher:\n",
    "    print(m.start(),\"...\",m.group())"
   ]
  },
  {
   "cell_type": "code",
   "execution_count": 35,
   "metadata": {},
   "outputs": [
    {
     "name": "stdout",
     "output_type": "stream",
     "text": [
      "0 ... a\n",
      "1 ... 7\n",
      "2 ... b\n",
      "4 ... k\n",
      "5 ... 9\n",
      "6 ... z\n"
     ]
    }
   ],
   "source": [
    "import re\n",
    "matcher=re.finditer(\"\\w\",\"a7b@k9z\")\n",
    "for m in matcher:\n",
    "    print(m.start(),\"...\",m.group())"
   ]
  },
  {
   "cell_type": "code",
   "execution_count": 36,
   "metadata": {},
   "outputs": [
    {
     "name": "stdout",
     "output_type": "stream",
     "text": [
      "1 ... 7\n",
      "5 ... 9\n"
     ]
    }
   ],
   "source": [
    "import re\n",
    "matcher=re.finditer(\"\\d\",\"a7b@k9z\")\n",
    "for m in matcher:\n",
    "    print(m.start(),\"...\",m.group())"
   ]
  },
  {
   "cell_type": "code",
   "execution_count": 37,
   "metadata": {},
   "outputs": [
    {
     "name": "stdout",
     "output_type": "stream",
     "text": [
      "0 ... a\n",
      "1 ... 7\n",
      "2 ... b\n",
      "3 ... @\n",
      "4 ... k\n",
      "5 ... 9\n",
      "6 ... z\n"
     ]
    }
   ],
   "source": [
    "import re\n",
    "matcher=re.finditer(\".\",\"a7b@k9z\")\n",
    "for m in matcher:\n",
    "    print(m.start(),\"...\",m.group())"
   ]
  },
  {
   "cell_type": "markdown",
   "metadata": {},
   "source": [
    "SEARCHING FOR EXACTLY ONE A"
   ]
  },
  {
   "cell_type": "code",
   "execution_count": 38,
   "metadata": {},
   "outputs": [
    {
     "name": "stdout",
     "output_type": "stream",
     "text": [
      "0 ... a\n",
      "1 ... a\n",
      "3 ... a\n",
      "5 ... a\n",
      "6 ... a\n",
      "8 ... a\n"
     ]
    }
   ],
   "source": [
    "import re\n",
    "matcher=re.finditer(\"a\",\"aababaabab\")\n",
    "for m in matcher:\n",
    "    print(m.start(),\"...\",m.group())"
   ]
  },
  {
   "cell_type": "markdown",
   "metadata": {},
   "source": [
    "SEARCHING EITHER ONE OR MORE THAN ONE A"
   ]
  },
  {
   "cell_type": "code",
   "execution_count": 42,
   "metadata": {},
   "outputs": [
    {
     "name": "stdout",
     "output_type": "stream",
     "text": [
      "0 ... aa\n",
      "3 ... a\n",
      "5 ... aaaaaaa\n",
      "13 ... a\n"
     ]
    }
   ],
   "source": [
    "import re\n",
    "matcher=re.finditer(\"a+\",\"aababaaaaaaabab\")\n",
    "for m in matcher:\n",
    "    print(m.start(),\"...\",m.group())"
   ]
  },
  {
   "cell_type": "code",
   "execution_count": 43,
   "metadata": {},
   "outputs": [
    {
     "name": "stdout",
     "output_type": "stream",
     "text": [
      "0 ... aa\n",
      "2 ... \n",
      "3 ... a\n",
      "4 ... \n",
      "5 ... aaaaaaa\n",
      "12 ... \n",
      "13 ... a\n",
      "14 ... \n",
      "15 ... \n"
     ]
    }
   ],
   "source": [
    "import re\n",
    "matcher=re.finditer(\"a*\",\"aababaaaaaaabab\")\n",
    "for m in matcher:\n",
    "    print(m.start(),\"...\",m.group())"
   ]
  },
  {
   "cell_type": "code",
   "execution_count": 44,
   "metadata": {},
   "outputs": [
    {
     "name": "stdout",
     "output_type": "stream",
     "text": [
      "5 ... aaa\n",
      "8 ... aaa\n"
     ]
    }
   ],
   "source": [
    "import re\n",
    "matcher=re.finditer(\"a{3}\",\"aababaaaaaaabab\")\n",
    "for m in matcher:\n",
    "    print(m.start(),\"...\",m.group())"
   ]
  },
  {
   "cell_type": "code",
   "execution_count": 47,
   "metadata": {},
   "outputs": [
    {
     "name": "stdout",
     "output_type": "stream",
     "text": [
      "0 ... aa\n",
      "3 ... a\n",
      "5 ... aaaaa\n",
      "10 ... aa\n",
      "13 ... a\n"
     ]
    }
   ],
   "source": [
    "import re\n",
    "matcher=re.finditer(\"a{1,5}\",\"aababaaaaaaabab\")\n",
    "for m in matcher:\n",
    "    print(m.start(),\"...\",m.group())"
   ]
  },
  {
   "cell_type": "code",
   "execution_count": 50,
   "metadata": {},
   "outputs": [
    {
     "name": "stdout",
     "output_type": "stream",
     "text": [
      "0 ... aa\n",
      "5 ... aaaaaaa\n"
     ]
    }
   ],
   "source": [
    "import re\n",
    "matcher=re.finditer(\"a{2}a*\",\"aababaaaaaaabab\")\n",
    "for m in matcher:\n",
    "    print(m.start(),\"...\",m.group())"
   ]
  },
  {
   "cell_type": "code",
   "execution_count": 56,
   "metadata": {},
   "outputs": [
    {
     "name": "stdout",
     "output_type": "stream",
     "text": [
      "Enter any string: aa\n",
      "Match is available at start\n",
      "0 ... 2\n"
     ]
    }
   ],
   "source": [
    "import re\n",
    "s=input(\"Enter any string: \")\n",
    "matcher=re.match(s,\"aababaaaaaaabab\")\n",
    "if matcher!= None:\n",
    "    print(\"Match is available at start\")\n",
    "    print(matcher.start(),\"...\",matcher.end())\n",
    "else:\n",
    "    print(\"Match is not available at the beginning at the string or not\")\n",
    "\n"
   ]
  },
  {
   "cell_type": "code",
   "execution_count": 57,
   "metadata": {},
   "outputs": [
    {
     "name": "stdout",
     "output_type": "stream",
     "text": [
      "Enter any string: aababaaaaaaabab\n",
      "FULL STRING MATCEHD\n",
      "0 ... 15\n"
     ]
    }
   ],
   "source": [
    "import re\n",
    "s=input(\"Enter any string: \")\n",
    "matcher=re.fullmatch(s,\"aababaaaaaaabab\")\n",
    "if matcher!= None:\n",
    "    print(\"FULL STRING MATCEHD\")\n",
    "    print(matcher.start(),\"...\",matcher.end())\n",
    "else:\n",
    "    print(\"Match is not available at the beginning at the string or not\")\n"
   ]
  },
  {
   "cell_type": "code",
   "execution_count": 59,
   "metadata": {},
   "outputs": [
    {
     "name": "stdout",
     "output_type": "stream",
     "text": [
      "Enter any string: aa\n",
      "Ffirst match found\n",
      "0 ... 2\n"
     ]
    }
   ],
   "source": [
    "import re\n",
    "s=input(\"Enter any string: \")\n",
    "matcher=re.search(s,\"aababaaaaaaabab\")\n",
    "if matcher!= None:\n",
    "    print(\"Match is avaiable\")\n",
    "    print(matcher.start(),\"...\",matcher.end())\n",
    "else:\n",
    "    print(\"Match is not available at the beginning at the string or not\")\n"
   ]
  },
  {
   "cell_type": "code",
   "execution_count": 63,
   "metadata": {},
   "outputs": [
    {
     "name": "stdout",
     "output_type": "stream",
     "text": [
      "['7', '9', '7', '6', '9']\n"
     ]
    }
   ],
   "source": [
    "import re\n",
    "l=re.findall(\"[0-9]\",\"a7b976ssdd9\")\n",
    "print(l)"
   ]
  },
  {
   "cell_type": "code",
   "execution_count": 65,
   "metadata": {},
   "outputs": [
    {
     "name": "stdout",
     "output_type": "stream",
     "text": [
      "5 ... 6 ... 4\n",
      "6 ... 7 ... 5\n",
      "7 ... 8 ... 8\n",
      "8 ... 9 ... 9\n",
      "9 ... 10 ... 2\n",
      "12 ... 13 ... 2\n",
      "13 ... 14 ... 9\n",
      "14 ... 15 ... 8\n",
      "15 ... 16 ... 3\n",
      "18 ... 19 ... 4\n",
      "19 ... 20 ... 3\n",
      "20 ... 21 ... 2\n"
     ]
    }
   ],
   "source": [
    "import re\n",
    "matcher=re.finditer(\"\\d\",\"aabab45892fn2983hr432orbaaabab\")\n",
    "for m in matcher:\n",
    "    print(m.start(),\"...\",m.end(),\"...\",m.group())"
   ]
  },
  {
   "cell_type": "code",
   "execution_count": 67,
   "metadata": {},
   "outputs": [
    {
     "name": "stdout",
     "output_type": "stream",
     "text": [
      "aababishuaaabab\n"
     ]
    }
   ],
   "source": [
    "import re\n",
    "matcher=re.sub(\"aaaa\",\"ishu\",\"aababaaaaaaabab\")\n",
    "print(matcher)"
   ]
  },
  {
   "cell_type": "code",
   "execution_count": null,
   "metadata": {},
   "outputs": [],
   "source": [
    "import re\n",
    "matcher=re.subn(\"aaaa\",\"ishu\",\"aababaaaaaaabab\")\n",
    "print(matcher)"
   ]
  },
  {
   "cell_type": "code",
   "execution_count": 71,
   "metadata": {},
   "outputs": [
    {
     "name": "stdout",
     "output_type": "stream",
     "text": [
      "('aababishuaaabab', 1)\n"
     ]
    },
    {
     "data": {
      "text/plain": [
       "(1, 'aababishuaaabab')"
      ]
     },
     "execution_count": 71,
     "metadata": {},
     "output_type": "execute_result"
    }
   ],
   "source": [
    "import re\n",
    "t=re.subn(\"aaaa\",\"ishu\",\"aababaaaaaaabab\")\n",
    "print(matcher)\n",
    "t[1],t[0]"
   ]
  },
  {
   "cell_type": "code",
   "execution_count": 72,
   "metadata": {},
   "outputs": [
    {
     "name": "stdout",
     "output_type": "stream",
     "text": [
      "['10', '20', '30', '40', '50', '90']\n"
     ]
    }
   ],
   "source": [
    "import re\n",
    "l=re.split(\",\",\"10,20,30,40,50,90\")\n",
    "print(l)"
   ]
  },
  {
   "cell_type": "markdown",
   "metadata": {},
   "source": [
    "SPLITTING WITH RESPECT TO DOT . AS DOT MEANS ALL VALUES  \n",
    "HERE WE USE BACKSLASHDOT \"\\.\""
   ]
  },
  {
   "cell_type": "code",
   "execution_count": 75,
   "metadata": {},
   "outputs": [
    {
     "name": "stdout",
     "output_type": "stream",
     "text": [
      "['www', 'ishu', 'com']\n"
     ]
    }
   ],
   "source": [
    "\n",
    "import re\n",
    "l=re.split(\"\\.\",\"www.ishu.com\")\n",
    "print(l)"
   ]
  },
  {
   "cell_type": "code",
   "execution_count": 4,
   "metadata": {},
   "outputs": [
    {
     "name": "stdout",
     "output_type": "stream",
     "text": [
      "Enter any string: Learning python\n",
      "STRING STARTS WITH LEARN\n"
     ]
    }
   ],
   "source": [
    "import re\n",
    "s=input(\"Enter any string: \")\n",
    "matcher=re.search(\"^Learn\",s)\n",
    "if matcher!= None:\n",
    "    print(\"STRING STARTS WITH LEARN\")    \n",
    "else:\n",
    "    print(\"DOES NOT START WITH LEARNING\")\n"
   ]
  },
  {
   "cell_type": "code",
   "execution_count": 6,
   "metadata": {},
   "outputs": [
    {
     "name": "stdout",
     "output_type": "stream",
     "text": [
      "Enter any string: LEARN9N IS easy\n",
      "ENDSWITH EASY \n"
     ]
    }
   ],
   "source": [
    "import re\n",
    "s=input(\"Enter any string: \")\n",
    "matcher=re.search(\"easy$\",s)\n",
    "if matcher!= None:\n",
    "    print(\"ENDSWITH EASY \")    \n",
    "else:\n",
    "    print(\"DOES NOT ENDSWITH EASY\")\n"
   ]
  },
  {
   "cell_type": "markdown",
   "metadata": {},
   "source": [
    "TO IGNORE THE UPPER OF LOWERCASE WE USE IGNORE CASE"
   ]
  },
  {
   "cell_type": "code",
   "execution_count": null,
   "metadata": {},
   "outputs": [],
   "source": [
    "import re\n",
    "s=input(\"Enter any string: \")\n",
    "matcher=re.search(\"easy$\",s,re.IGNORECASE)\n",
    "if matcher!= None:\n",
    "    print(\"ENDSWITH EASY \")    \n",
    "else:\n",
    "    print(\"DOES NOT ENDSWITH EASY\")\n"
   ]
  },
  {
   "cell_type": "markdown",
   "metadata": {},
   "source": [
    "TO VALIDATE THE IDENTIFIER"
   ]
  },
  {
   "cell_type": "code",
   "execution_count": 10,
   "metadata": {},
   "outputs": [
    {
     "name": "stdout",
     "output_type": "stream",
     "text": [
      "Enter any IDENTIFIER TO VALIDATEAFSAF32123##\n",
      "NOT VALID IDENTIFIER\n"
     ]
    }
   ],
   "source": [
    "import re\n",
    "s=input(\"Enter any IDENTIFIER TO VALIDATE\")\n",
    "match=re.fullmatch(\"[a-k][0369][a-zA-z0-9#]*\",s)\n",
    "if match!= None:\n",
    "    print(\"THE IDENTIFIER IS VALID IDENTIFIER\")\n",
    "else:\n",
    "    print(\"NOT VALID IDENTIFIER\")"
   ]
  },
  {
   "cell_type": "code",
   "execution_count": 11,
   "metadata": {},
   "outputs": [
    {
     "name": "stdout",
     "output_type": "stream",
     "text": [
      "Enter any IDENTIFIER TO VALIDATE[a-k][0369][a-zA-z0-9#]*\n",
      "NOT VALID IDENTIFIER\n"
     ]
    }
   ],
   "source": [
    "import re\n",
    "s=input(\"Enter any IDENTIFIER TO VALIDATE\")\n",
    "match=re.fullmatch(\"[a-k][0369][a-zA-z0-9#]*\",s)\n",
    "if match!= None:\n",
    "    print(\"THE IDENTIFIER IS VALID IDENTIFIER\")\n",
    "else:\n",
    "    print(\"NOT VALID IDENTIFIER\")"
   ]
  },
  {
   "cell_type": "markdown",
   "metadata": {},
   "source": [
    "TO VALIDATE A MOBILE NUMBER"
   ]
  },
  {
   "cell_type": "code",
   "execution_count": 3,
   "metadata": {},
   "outputs": [
    {
     "name": "stdout",
     "output_type": "stream",
     "text": [
      "ENTER ANY MOBILE NUMBER TO VALIDATE9402587413\n",
      "THE MOBILE NUMBER IS VALID\n"
     ]
    }
   ],
   "source": [
    "import re\n",
    "s=input(\"ENTER ANY MOBILE NUMBER TO VALIDATE\")\n",
    "match=re.fullmatch(\"[6-9]\\d{9}\",s)\n",
    "if match!= None:\n",
    "    print(\"THE MOBILE NUMBER IS VALID\")\n",
    "else:\n",
    "    print(\"NOT VALID NUMBER\")"
   ]
  },
  {
   "cell_type": "markdown",
   "metadata": {},
   "source": [
    "TO VALIDATE AN EMAIL"
   ]
  },
  {
   "cell_type": "code",
   "execution_count": 8,
   "metadata": {},
   "outputs": [
    {
     "name": "stdout",
     "output_type": "stream",
     "text": [
      "ENTER ANY EMAIL TO VALIDATE: jagannath123@gmail.com\n",
      "THE EMAIL IS VALID\n"
     ]
    }
   ],
   "source": [
    "import re\n",
    "s=input(\"ENTER ANY EMAIL TO VALIDATE: \")\n",
    "match=re.fullmatch(\"\\w[a-zA-Z0-9_.]*@(gmail|reddif)[.][a-z]+\",s)\n",
    "if match!= None:\n",
    "    print(\"THE EMAIL IS VALID\")\n",
    "else:\n",
    "    print(\"EMAIL IS NOT VALID\")"
   ]
  },
  {
   "cell_type": "code",
   "execution_count": null,
   "metadata": {},
   "outputs": [],
   "source": []
  },
  {
   "cell_type": "code",
   "execution_count": null,
   "metadata": {},
   "outputs": [],
   "source": []
  },
  {
   "cell_type": "code",
   "execution_count": null,
   "metadata": {},
   "outputs": [],
   "source": []
  },
  {
   "cell_type": "code",
   "execution_count": null,
   "metadata": {},
   "outputs": [],
   "source": []
  },
  {
   "cell_type": "code",
   "execution_count": null,
   "metadata": {},
   "outputs": [],
   "source": []
  },
  {
   "cell_type": "code",
   "execution_count": null,
   "metadata": {},
   "outputs": [],
   "source": []
  },
  {
   "cell_type": "code",
   "execution_count": null,
   "metadata": {},
   "outputs": [],
   "source": []
  },
  {
   "cell_type": "code",
   "execution_count": null,
   "metadata": {},
   "outputs": [],
   "source": []
  },
  {
   "cell_type": "code",
   "execution_count": null,
   "metadata": {},
   "outputs": [],
   "source": []
  },
  {
   "cell_type": "code",
   "execution_count": null,
   "metadata": {},
   "outputs": [],
   "source": []
  },
  {
   "cell_type": "code",
   "execution_count": null,
   "metadata": {},
   "outputs": [],
   "source": []
  },
  {
   "cell_type": "code",
   "execution_count": null,
   "metadata": {},
   "outputs": [],
   "source": []
  },
  {
   "cell_type": "code",
   "execution_count": null,
   "metadata": {},
   "outputs": [],
   "source": []
  },
  {
   "cell_type": "code",
   "execution_count": null,
   "metadata": {},
   "outputs": [],
   "source": []
  },
  {
   "cell_type": "code",
   "execution_count": null,
   "metadata": {},
   "outputs": [],
   "source": []
  },
  {
   "cell_type": "code",
   "execution_count": null,
   "metadata": {},
   "outputs": [],
   "source": []
  },
  {
   "cell_type": "code",
   "execution_count": null,
   "metadata": {},
   "outputs": [],
   "source": []
  },
  {
   "cell_type": "code",
   "execution_count": null,
   "metadata": {},
   "outputs": [],
   "source": []
  },
  {
   "cell_type": "code",
   "execution_count": null,
   "metadata": {},
   "outputs": [],
   "source": []
  },
  {
   "cell_type": "code",
   "execution_count": null,
   "metadata": {},
   "outputs": [],
   "source": []
  },
  {
   "cell_type": "code",
   "execution_count": null,
   "metadata": {},
   "outputs": [],
   "source": []
  },
  {
   "cell_type": "code",
   "execution_count": null,
   "metadata": {},
   "outputs": [],
   "source": []
  },
  {
   "cell_type": "code",
   "execution_count": null,
   "metadata": {},
   "outputs": [],
   "source": []
  },
  {
   "cell_type": "code",
   "execution_count": null,
   "metadata": {},
   "outputs": [],
   "source": []
  },
  {
   "cell_type": "code",
   "execution_count": null,
   "metadata": {},
   "outputs": [],
   "source": []
  },
  {
   "cell_type": "code",
   "execution_count": null,
   "metadata": {},
   "outputs": [],
   "source": []
  },
  {
   "cell_type": "code",
   "execution_count": null,
   "metadata": {},
   "outputs": [],
   "source": []
  },
  {
   "cell_type": "code",
   "execution_count": null,
   "metadata": {},
   "outputs": [],
   "source": []
  },
  {
   "cell_type": "code",
   "execution_count": null,
   "metadata": {},
   "outputs": [],
   "source": []
  },
  {
   "cell_type": "code",
   "execution_count": null,
   "metadata": {},
   "outputs": [],
   "source": []
  },
  {
   "cell_type": "code",
   "execution_count": null,
   "metadata": {},
   "outputs": [],
   "source": []
  },
  {
   "cell_type": "code",
   "execution_count": null,
   "metadata": {},
   "outputs": [],
   "source": []
  },
  {
   "cell_type": "code",
   "execution_count": null,
   "metadata": {},
   "outputs": [],
   "source": []
  },
  {
   "cell_type": "code",
   "execution_count": null,
   "metadata": {},
   "outputs": [],
   "source": []
  },
  {
   "cell_type": "code",
   "execution_count": null,
   "metadata": {},
   "outputs": [],
   "source": []
  },
  {
   "cell_type": "code",
   "execution_count": null,
   "metadata": {},
   "outputs": [],
   "source": []
  },
  {
   "cell_type": "code",
   "execution_count": null,
   "metadata": {},
   "outputs": [],
   "source": []
  },
  {
   "cell_type": "code",
   "execution_count": null,
   "metadata": {},
   "outputs": [],
   "source": []
  },
  {
   "cell_type": "code",
   "execution_count": null,
   "metadata": {},
   "outputs": [],
   "source": []
  },
  {
   "cell_type": "code",
   "execution_count": null,
   "metadata": {},
   "outputs": [],
   "source": []
  },
  {
   "cell_type": "code",
   "execution_count": null,
   "metadata": {},
   "outputs": [],
   "source": []
  },
  {
   "cell_type": "code",
   "execution_count": null,
   "metadata": {},
   "outputs": [],
   "source": []
  },
  {
   "cell_type": "code",
   "execution_count": null,
   "metadata": {},
   "outputs": [],
   "source": []
  },
  {
   "cell_type": "code",
   "execution_count": null,
   "metadata": {},
   "outputs": [],
   "source": []
  },
  {
   "cell_type": "code",
   "execution_count": null,
   "metadata": {},
   "outputs": [],
   "source": []
  },
  {
   "cell_type": "code",
   "execution_count": null,
   "metadata": {},
   "outputs": [],
   "source": []
  },
  {
   "cell_type": "code",
   "execution_count": null,
   "metadata": {},
   "outputs": [],
   "source": []
  },
  {
   "cell_type": "code",
   "execution_count": null,
   "metadata": {},
   "outputs": [],
   "source": []
  },
  {
   "cell_type": "code",
   "execution_count": null,
   "metadata": {},
   "outputs": [],
   "source": []
  },
  {
   "cell_type": "code",
   "execution_count": null,
   "metadata": {},
   "outputs": [],
   "source": []
  },
  {
   "cell_type": "code",
   "execution_count": null,
   "metadata": {},
   "outputs": [],
   "source": []
  },
  {
   "cell_type": "code",
   "execution_count": null,
   "metadata": {},
   "outputs": [],
   "source": []
  },
  {
   "cell_type": "code",
   "execution_count": null,
   "metadata": {},
   "outputs": [],
   "source": []
  },
  {
   "cell_type": "code",
   "execution_count": null,
   "metadata": {},
   "outputs": [],
   "source": []
  },
  {
   "cell_type": "code",
   "execution_count": null,
   "metadata": {},
   "outputs": [],
   "source": []
  },
  {
   "cell_type": "code",
   "execution_count": null,
   "metadata": {},
   "outputs": [],
   "source": []
  },
  {
   "cell_type": "code",
   "execution_count": null,
   "metadata": {},
   "outputs": [],
   "source": []
  },
  {
   "cell_type": "code",
   "execution_count": null,
   "metadata": {},
   "outputs": [],
   "source": []
  },
  {
   "cell_type": "code",
   "execution_count": null,
   "metadata": {},
   "outputs": [],
   "source": []
  },
  {
   "cell_type": "code",
   "execution_count": null,
   "metadata": {},
   "outputs": [],
   "source": []
  },
  {
   "cell_type": "code",
   "execution_count": null,
   "metadata": {},
   "outputs": [],
   "source": []
  },
  {
   "cell_type": "code",
   "execution_count": null,
   "metadata": {},
   "outputs": [],
   "source": []
  },
  {
   "cell_type": "code",
   "execution_count": null,
   "metadata": {},
   "outputs": [],
   "source": []
  },
  {
   "cell_type": "code",
   "execution_count": null,
   "metadata": {},
   "outputs": [],
   "source": []
  },
  {
   "cell_type": "code",
   "execution_count": null,
   "metadata": {},
   "outputs": [],
   "source": []
  },
  {
   "cell_type": "code",
   "execution_count": null,
   "metadata": {},
   "outputs": [],
   "source": []
  },
  {
   "cell_type": "code",
   "execution_count": null,
   "metadata": {},
   "outputs": [],
   "source": []
  },
  {
   "cell_type": "code",
   "execution_count": null,
   "metadata": {},
   "outputs": [],
   "source": []
  },
  {
   "cell_type": "code",
   "execution_count": null,
   "metadata": {},
   "outputs": [],
   "source": []
  },
  {
   "cell_type": "code",
   "execution_count": null,
   "metadata": {},
   "outputs": [],
   "source": []
  },
  {
   "cell_type": "code",
   "execution_count": null,
   "metadata": {},
   "outputs": [],
   "source": []
  },
  {
   "cell_type": "code",
   "execution_count": null,
   "metadata": {},
   "outputs": [],
   "source": []
  },
  {
   "cell_type": "code",
   "execution_count": null,
   "metadata": {},
   "outputs": [],
   "source": []
  },
  {
   "cell_type": "code",
   "execution_count": null,
   "metadata": {},
   "outputs": [],
   "source": []
  },
  {
   "cell_type": "code",
   "execution_count": null,
   "metadata": {},
   "outputs": [],
   "source": []
  },
  {
   "cell_type": "code",
   "execution_count": null,
   "metadata": {},
   "outputs": [],
   "source": []
  },
  {
   "cell_type": "code",
   "execution_count": null,
   "metadata": {},
   "outputs": [],
   "source": []
  },
  {
   "cell_type": "code",
   "execution_count": null,
   "metadata": {},
   "outputs": [],
   "source": []
  },
  {
   "cell_type": "code",
   "execution_count": null,
   "metadata": {},
   "outputs": [],
   "source": []
  },
  {
   "cell_type": "code",
   "execution_count": null,
   "metadata": {},
   "outputs": [],
   "source": []
  },
  {
   "cell_type": "code",
   "execution_count": null,
   "metadata": {},
   "outputs": [],
   "source": []
  },
  {
   "cell_type": "code",
   "execution_count": null,
   "metadata": {},
   "outputs": [],
   "source": []
  },
  {
   "cell_type": "code",
   "execution_count": null,
   "metadata": {},
   "outputs": [],
   "source": []
  },
  {
   "cell_type": "code",
   "execution_count": null,
   "metadata": {},
   "outputs": [],
   "source": []
  },
  {
   "cell_type": "code",
   "execution_count": null,
   "metadata": {},
   "outputs": [],
   "source": []
  },
  {
   "cell_type": "code",
   "execution_count": null,
   "metadata": {},
   "outputs": [],
   "source": []
  },
  {
   "cell_type": "code",
   "execution_count": null,
   "metadata": {},
   "outputs": [],
   "source": []
  },
  {
   "cell_type": "code",
   "execution_count": null,
   "metadata": {},
   "outputs": [],
   "source": []
  },
  {
   "cell_type": "code",
   "execution_count": null,
   "metadata": {},
   "outputs": [],
   "source": []
  },
  {
   "cell_type": "code",
   "execution_count": null,
   "metadata": {},
   "outputs": [],
   "source": []
  },
  {
   "cell_type": "code",
   "execution_count": null,
   "metadata": {},
   "outputs": [],
   "source": []
  },
  {
   "cell_type": "code",
   "execution_count": null,
   "metadata": {},
   "outputs": [],
   "source": []
  },
  {
   "cell_type": "code",
   "execution_count": null,
   "metadata": {},
   "outputs": [],
   "source": []
  },
  {
   "cell_type": "code",
   "execution_count": null,
   "metadata": {},
   "outputs": [],
   "source": []
  },
  {
   "cell_type": "code",
   "execution_count": null,
   "metadata": {},
   "outputs": [],
   "source": []
  },
  {
   "cell_type": "code",
   "execution_count": null,
   "metadata": {},
   "outputs": [],
   "source": []
  },
  {
   "cell_type": "code",
   "execution_count": null,
   "metadata": {},
   "outputs": [],
   "source": []
  },
  {
   "cell_type": "code",
   "execution_count": null,
   "metadata": {},
   "outputs": [],
   "source": []
  },
  {
   "cell_type": "code",
   "execution_count": null,
   "metadata": {},
   "outputs": [],
   "source": []
  },
  {
   "cell_type": "code",
   "execution_count": null,
   "metadata": {},
   "outputs": [],
   "source": []
  },
  {
   "cell_type": "code",
   "execution_count": null,
   "metadata": {},
   "outputs": [],
   "source": []
  },
  {
   "cell_type": "code",
   "execution_count": null,
   "metadata": {},
   "outputs": [],
   "source": []
  },
  {
   "cell_type": "code",
   "execution_count": null,
   "metadata": {},
   "outputs": [],
   "source": []
  },
  {
   "cell_type": "code",
   "execution_count": null,
   "metadata": {},
   "outputs": [],
   "source": []
  },
  {
   "cell_type": "code",
   "execution_count": null,
   "metadata": {},
   "outputs": [],
   "source": []
  },
  {
   "cell_type": "code",
   "execution_count": null,
   "metadata": {},
   "outputs": [],
   "source": []
  },
  {
   "cell_type": "code",
   "execution_count": null,
   "metadata": {},
   "outputs": [],
   "source": []
  },
  {
   "cell_type": "code",
   "execution_count": null,
   "metadata": {},
   "outputs": [],
   "source": []
  },
  {
   "cell_type": "code",
   "execution_count": null,
   "metadata": {},
   "outputs": [],
   "source": []
  },
  {
   "cell_type": "code",
   "execution_count": null,
   "metadata": {},
   "outputs": [],
   "source": []
  },
  {
   "cell_type": "code",
   "execution_count": null,
   "metadata": {},
   "outputs": [],
   "source": []
  },
  {
   "cell_type": "code",
   "execution_count": null,
   "metadata": {},
   "outputs": [],
   "source": []
  },
  {
   "cell_type": "code",
   "execution_count": null,
   "metadata": {},
   "outputs": [],
   "source": []
  },
  {
   "cell_type": "code",
   "execution_count": null,
   "metadata": {},
   "outputs": [],
   "source": []
  },
  {
   "cell_type": "code",
   "execution_count": null,
   "metadata": {},
   "outputs": [],
   "source": []
  },
  {
   "cell_type": "code",
   "execution_count": null,
   "metadata": {},
   "outputs": [],
   "source": []
  },
  {
   "cell_type": "code",
   "execution_count": null,
   "metadata": {},
   "outputs": [],
   "source": []
  },
  {
   "cell_type": "code",
   "execution_count": null,
   "metadata": {},
   "outputs": [],
   "source": []
  },
  {
   "cell_type": "code",
   "execution_count": null,
   "metadata": {},
   "outputs": [],
   "source": []
  },
  {
   "cell_type": "code",
   "execution_count": null,
   "metadata": {},
   "outputs": [],
   "source": []
  },
  {
   "cell_type": "code",
   "execution_count": null,
   "metadata": {},
   "outputs": [],
   "source": []
  },
  {
   "cell_type": "code",
   "execution_count": null,
   "metadata": {},
   "outputs": [],
   "source": []
  },
  {
   "cell_type": "code",
   "execution_count": null,
   "metadata": {},
   "outputs": [],
   "source": []
  },
  {
   "cell_type": "code",
   "execution_count": null,
   "metadata": {},
   "outputs": [],
   "source": []
  },
  {
   "cell_type": "code",
   "execution_count": null,
   "metadata": {},
   "outputs": [],
   "source": []
  },
  {
   "cell_type": "code",
   "execution_count": null,
   "metadata": {},
   "outputs": [],
   "source": []
  },
  {
   "cell_type": "code",
   "execution_count": null,
   "metadata": {},
   "outputs": [],
   "source": []
  },
  {
   "cell_type": "code",
   "execution_count": null,
   "metadata": {},
   "outputs": [],
   "source": []
  },
  {
   "cell_type": "code",
   "execution_count": null,
   "metadata": {},
   "outputs": [],
   "source": []
  },
  {
   "cell_type": "code",
   "execution_count": null,
   "metadata": {},
   "outputs": [],
   "source": []
  },
  {
   "cell_type": "code",
   "execution_count": null,
   "metadata": {},
   "outputs": [],
   "source": []
  },
  {
   "cell_type": "code",
   "execution_count": null,
   "metadata": {},
   "outputs": [],
   "source": []
  },
  {
   "cell_type": "code",
   "execution_count": null,
   "metadata": {},
   "outputs": [],
   "source": []
  },
  {
   "cell_type": "code",
   "execution_count": null,
   "metadata": {},
   "outputs": [],
   "source": []
  },
  {
   "cell_type": "code",
   "execution_count": null,
   "metadata": {},
   "outputs": [],
   "source": []
  },
  {
   "cell_type": "code",
   "execution_count": null,
   "metadata": {},
   "outputs": [],
   "source": []
  },
  {
   "cell_type": "code",
   "execution_count": null,
   "metadata": {},
   "outputs": [],
   "source": []
  },
  {
   "cell_type": "code",
   "execution_count": null,
   "metadata": {},
   "outputs": [],
   "source": []
  },
  {
   "cell_type": "code",
   "execution_count": null,
   "metadata": {},
   "outputs": [],
   "source": []
  },
  {
   "cell_type": "code",
   "execution_count": null,
   "metadata": {},
   "outputs": [],
   "source": []
  },
  {
   "cell_type": "code",
   "execution_count": null,
   "metadata": {},
   "outputs": [],
   "source": []
  },
  {
   "cell_type": "code",
   "execution_count": null,
   "metadata": {},
   "outputs": [],
   "source": []
  },
  {
   "cell_type": "code",
   "execution_count": null,
   "metadata": {},
   "outputs": [],
   "source": []
  },
  {
   "cell_type": "code",
   "execution_count": null,
   "metadata": {},
   "outputs": [],
   "source": []
  },
  {
   "cell_type": "code",
   "execution_count": null,
   "metadata": {},
   "outputs": [],
   "source": []
  },
  {
   "cell_type": "code",
   "execution_count": null,
   "metadata": {},
   "outputs": [],
   "source": []
  },
  {
   "cell_type": "code",
   "execution_count": null,
   "metadata": {},
   "outputs": [],
   "source": []
  },
  {
   "cell_type": "code",
   "execution_count": null,
   "metadata": {},
   "outputs": [],
   "source": []
  }
 ],
 "metadata": {
  "kernelspec": {
   "display_name": "Python 3",
   "language": "python",
   "name": "python3"
  },
  "language_info": {
   "codemirror_mode": {
    "name": "ipython",
    "version": 3
   },
   "file_extension": ".py",
   "mimetype": "text/x-python",
   "name": "python",
   "nbconvert_exporter": "python",
   "pygments_lexer": "ipython3",
   "version": "3.7.1"
  }
 },
 "nbformat": 4,
 "nbformat_minor": 2
}
