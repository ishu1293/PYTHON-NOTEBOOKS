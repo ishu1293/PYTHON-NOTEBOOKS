{
 "cells": [
  {
   "cell_type": "markdown",
   "metadata": {},
   "source": [
    "### OBJECT ORIENTED PROGRAMMING"
   ]
  },
  {
   "cell_type": "code",
   "execution_count": null,
   "metadata": {},
   "outputs": [],
   "source": [
    "#waht is class?\n",
    "\n",
    "\n",
    "\n",
    "# CALSS TO OBJECT ONE TO MANY REALTIONSHIP ONE CLASS HAS MANY OBJECT\n",
    "# OBJECT TO REFRENCE VARIABLE HAVE ONE TO ONE &  MANY TO MANY RELATIONSHIP ,MULTIPLE VARIABLE CAN HAVE MULTIPLE REFENCE TO AN OBJECT\n",
    "\n",
    "# SELF VARIABLE\n",
    "# self is a refrence variable always pointing to current object.\n",
    "#within python class to refer current object we should use self variable\n",
    "# the first argument to constructor and instance method is self\n",
    "# python virtual missin is responsible to provide value for self self argument and we are not required to provide expilicitly\n",
    "# by using self we can declare instance variable \n",
    "# by using self we can access isntance variable\n",
    "\n",
    "# insted of self we can use any other name but should be used before defining arguments to idetify curretn object\n",
    "\n",
    "\n",
    "\n",
    "#--------------------- CONSTRUCTOR--------------------------------- \n",
    "#  THE NAME OF CONSTRUCTOR IS ALWAYS __init__()\n",
    "#  WHEN EVER WE ARE CREATING OBJECT CONSTRUCTOR WILL BE EXECTUED AUTOMATICALLY ,WE ARE NOT REQUIRED TO CALL EXPLICITLY\n",
    "#  THE MAIN OBJECTIVE OF CNSTRUCTOR IS TO DECLARE AND INITIALIZE INSTANCE  VARIABLE RELATED TO OBJECT WE ARE CREATING\n",
    "#  CONSTRUCTOR WILL EXECUTE FOR EVERY OBJECT ONLY ONCE\n",
    "#  EVER CONSTRUCTOR SHOULD TAKE ALTEST ONE ARGUMENT THAT IS SELF AFTER TAHT YOU CAN USE ANY NUMBER OF ARGUMENTS\n",
    "#  IF WE DONT WRITE THE CONSTRUCTOR THEN PYTHON BY DEAFAULT WILL PROVIDE THE CONSTRUCTOR\n",
    "#  "
   ]
  },
  {
   "cell_type": "markdown",
   "metadata": {},
   "source": [
    "#### CLASS STUDENT"
   ]
  },
  {
   "cell_type": "code",
   "execution_count": 7,
   "metadata": {},
   "outputs": [
    {
     "name": "stdout",
     "output_type": "stream",
     "text": [
      "Sunny\n",
      "100\n",
      "Hello my name is : Sunny\n",
      "Hello my roll number is : 100\n",
      "Hello my name is : Bunny\n",
      "Hello my roll number is : 500\n",
      "Hello my name is : Chinny\n",
      "Hello my roll number is : 600\n"
     ]
    }
   ],
   "source": [
    "# definig class\n",
    "\n",
    "class student:  \n",
    "    \"student calss this class is developed by ishu\" # description about class also known as doc string (documnetation string)\n",
    "    def __init__(self,rollno,name):\n",
    "        self.name=name\n",
    "        self.rollno=rollno\n",
    "    def talk(self):\n",
    "        print(\"Hello my name is :\",self.name)\n",
    "        print(\"Hello my roll number is :\",self.rollno)  \n",
    "\n",
    "# defining objects        \n",
    "\n",
    "s = student(100,\"Sunny\") # object creation with refrence variable s pointing to it # we can create multiple objects\n",
    "print(s.name)\n",
    "print(s.rollno)\n",
    "s.talk()\n",
    "\n",
    "s1 = student(500,\"Bunny\")\n",
    "s1.talk()\n",
    "\n",
    "s2 = student(600,\"Chinny\")\n",
    "s2.talk()"
   ]
  },
  {
   "cell_type": "markdown",
   "metadata": {},
   "source": [
    "#### CLASS EMPLOYEE"
   ]
  },
  {
   "cell_type": "code",
   "execution_count": 28,
   "metadata": {},
   "outputs": [
    {
     "name": "stdout",
     "output_type": "stream",
     "text": [
      "100\n",
      "700000\n",
      "******************************\n",
      "Employee number is:   100\n",
      "Employee name is:     bunny\n",
      "Employee salary is:   700000\n",
      "Employee address is:  Indore\n",
      "******************************\n",
      "This is employee class created by Ishu\n",
      "Help on class employee in module __main__:\n",
      "\n",
      "class employee(builtins.object)\n",
      " |  employee(eno, ename, esal, eadd)\n",
      " |  \n",
      " |  This is employee class created by Ishu\n",
      " |  \n",
      " |  Methods defined here:\n",
      " |  \n",
      " |  __init__(self, eno, ename, esal, eadd)\n",
      " |      Initialize self.  See help(type(self)) for accurate signature.\n",
      " |  \n",
      " |  info(self)\n",
      " |  \n",
      " |  ----------------------------------------------------------------------\n",
      " |  Data descriptors defined here:\n",
      " |  \n",
      " |  __dict__\n",
      " |      dictionary for instance variables (if defined)\n",
      " |  \n",
      " |  __weakref__\n",
      " |      list of weak references to the object (if defined)\n",
      "\n"
     ]
    }
   ],
   "source": [
    "class employee:\n",
    "    \n",
    "    \"This is employee class created by Ishu\"\n",
    "    \n",
    "# careatig values\n",
    "    \n",
    "    def __init__(self,eno,ename,esal,eadd):\n",
    "        self.eno=eno   # this shows current value of eno is\n",
    "        self.ename=ename  # this shows current value of ename is\n",
    "        self.esal=esal   # this shows current value of esal is\n",
    "        self.eadd=eadd  # this shows current value of eadd is\n",
    "    \n",
    "#work\n",
    "    def info(self):\n",
    "        print(\"*\"*30)\n",
    "        print(\"Employee number is:  \",self.eno) # when e1 called this then here self defines current object e1 is using info to connect e1 with infos self is used  \n",
    "        print(\"Employee name is:    \",self.ename) # if we dont use self and define value here onlu like name=ishu and self.name is not sed only name is used then it will become local vatiable and ojlu it will come in output \n",
    "        print(\"Employee salary is:  \",self.esal)\n",
    "        print(\"Employee address is: \",self.eadd)\n",
    "        print(\"*\"*30)\n",
    "#defining objects\n",
    "\n",
    "e1=employee(100,\"bunny\",\"700000\",\"Indore\") # THIS IS THE OBJECT\n",
    "# the sequence in which you enter value in object will be defined in squence with constructor arguments\n",
    "print(e1.eno)\n",
    "print(e1.esal)\n",
    "e1.info() # here we are calling property of function info which will not work until we add self.variable before every variale in info class\n",
    "# here we didint passed any argument in info() still its execting?\n",
    "# this happens because python virtual mission is passing self argument to the info() call\n",
    "print(employee.__doc__)\n",
    "help(employee)"
   ]
  },
  {
   "cell_type": "code",
   "execution_count": 24,
   "metadata": {},
   "outputs": [
    {
     "name": "stdout",
     "output_type": "stream",
     "text": [
      "2410123768664\n",
      "2410123770288\n",
      "2410123600112\n",
      "2410123600112\n"
     ]
    }
   ],
   "source": [
    "class student:\n",
    "    def __init__(self):  # __init__ is a constructor whenver we careate an object this constructor execute automatically\n",
    "        print(id(self))\n",
    "s1=student() #student is object and s is refrence variable\n",
    "print(id(s))\n",
    "# id of self and s variable is same because both are refrence variable\n",
    "\n",
    "s2=student() # when refence variable is created for variable s2 then at that time self will be pointing towards s2 object\n",
    "print(id(s2)) # the value of id for self has changed and pointing towards s2 object"
   ]
  },
  {
   "cell_type": "code",
   "execution_count": 1,
   "metadata": {},
   "outputs": [
    {
     "name": "stdout",
     "output_type": "stream",
     "text": [
      "CONSTRUCTOR EXECUTION\n"
     ]
    }
   ],
   "source": [
    "class test:\n",
    "    def __init__(self):\n",
    "        print(\"CONSTRUCTOR EXECUTION\")\n",
    "t=test()\n",
    "# to perform intitalization the  constructor will be executed"
   ]
  },
  {
   "cell_type": "code",
   "execution_count": 4,
   "metadata": {},
   "outputs": [
    {
     "ename": "TypeError",
     "evalue": "__init__() missing 1 required positional argument: 'x'",
     "output_type": "error",
     "traceback": [
      "\u001b[1;31m---------------------------------------------------------------------------\u001b[0m",
      "\u001b[1;31mTypeError\u001b[0m                                 Traceback (most recent call last)",
      "\u001b[1;32m<ipython-input-4-b596400b3bc1>\u001b[0m in \u001b[0;36m<module>\u001b[1;34m\u001b[0m\n\u001b[0;32m      4\u001b[0m     \u001b[1;32mdef\u001b[0m \u001b[0m__init__\u001b[0m\u001b[1;33m(\u001b[0m\u001b[0mself\u001b[0m\u001b[1;33m,\u001b[0m\u001b[0mx\u001b[0m\u001b[1;33m)\u001b[0m\u001b[1;33m:\u001b[0m\u001b[1;33m\u001b[0m\u001b[1;33m\u001b[0m\u001b[0m\n\u001b[0;32m      5\u001b[0m         \u001b[0mprint\u001b[0m\u001b[1;33m(\u001b[0m\u001b[1;34m\"ONE ARGUMENT\"\u001b[0m\u001b[1;33m)\u001b[0m\u001b[1;33m\u001b[0m\u001b[1;33m\u001b[0m\u001b[0m\n\u001b[1;32m----> 6\u001b[1;33m \u001b[0mt1\u001b[0m\u001b[1;33m=\u001b[0m\u001b[0mtest\u001b[0m\u001b[1;33m(\u001b[0m\u001b[1;33m)\u001b[0m\u001b[1;33m\u001b[0m\u001b[1;33m\u001b[0m\u001b[0m\n\u001b[0m\u001b[0;32m      7\u001b[0m \u001b[0mt2\u001b[0m\u001b[1;33m=\u001b[0m\u001b[0mtest\u001b[0m\u001b[1;33m(\u001b[0m\u001b[1;36m10\u001b[0m\u001b[1;33m)\u001b[0m\u001b[1;33m\u001b[0m\u001b[1;33m\u001b[0m\u001b[0m\n\u001b[0;32m      8\u001b[0m \u001b[1;33m\u001b[0m\u001b[0m\n",
      "\u001b[1;31mTypeError\u001b[0m: __init__() missing 1 required positional argument: 'x'"
     ]
    }
   ],
   "source": [
    "class test:\n",
    "    def __init__(self):\n",
    "        print(\"NO ARGUMENTS\")\n",
    "    def __init__(self,x):\n",
    "        print(\"ONE ARGUMENT\")\n",
    "t1=test()\n",
    "t2=test(10)\n",
    "\n",
    "# HERE WE HAVE TWO METHODS __INTIT__ WITH SAME NAME BUT WITH DIFFERENT ARGUMENTS THATS CALLED CONSTRUCTOR OVERLOADING\n",
    "#IN PYTHON METHOD OVERLOADING,CONSTRUCTOR OVERLOADING NOT PRESENT IT WILL CREATE ERROR\n",
    "# WHENEVER WE DEFINED THE SECOND METHOD WITH SAME NAME ONE FIRST ONE WILL BE NO MORE \n",
    "# WE CAN DEFINE N NUMBER OF CONSTRUCOT BUT ONLY LAST CONSTRUCTOR IS CONSIDERED\n",
    "# HERE WE GOT ERROR BECAUSE THE SECOND CONSTRUTOR WILL BE SEEN AS ONLY CONSTRUCTOR AND IT CONSTAINS ONE ARGUEMENT WHIL IS NOT SUPPLIES IN T1 AND SUPPLIED IN T2"
   ]
  },
  {
   "cell_type": "markdown",
   "metadata": {},
   "source": [
    "NOW PROVIDING THE ARGUEMNT IN T1=TEST(20)"
   ]
  },
  {
   "cell_type": "code",
   "execution_count": 5,
   "metadata": {},
   "outputs": [
    {
     "name": "stdout",
     "output_type": "stream",
     "text": [
      "ONE ARGUMENT\n",
      "ONE ARGUMENT\n"
     ]
    }
   ],
   "source": [
    "class test:\n",
    "    def __init__(self):\n",
    "        print(\"NO ARGUMENTS\")\n",
    "    def __init__(self,x):   # ONLY THIS IS CONSIDERED AND EXECUTED ,NO CONSTRUTOR OVELOADING ,ONLY LAST CONSTRUCTOR IS CONSIDERED\n",
    "        print(\"ONE ARGUMENT\")\n",
    "t1=test(20)\n",
    "t2=test(10)\n"
   ]
  },
  {
   "cell_type": "code",
   "execution_count": 12,
   "metadata": {},
   "outputs": [
    {
     "name": "stdout",
     "output_type": "stream",
     "text": [
      "......Constructor Execution.....\n",
      "........Method execution........\n",
      "hello my roll no is : ishu\n",
      "my roll no is :  30\n"
     ]
    }
   ],
   "source": [
    "class student:\n",
    "    def __init__(self,name,rollno):\n",
    "        print(\"......Constructor Execution.....\")\n",
    "        self.name=name\n",
    "        self.rollno=rollno\n",
    "    \n",
    "    def display(self):\n",
    "        print(\"........Method execution........\")\n",
    "        print(\"hello my roll no is :\",self.name) # inside a class we can access istance vatiable by self so we write self.name\n",
    "        print(\"my roll no is : \",self.rollno)\n",
    "        \n",
    "#object ceration\n",
    "\n",
    "s1=student(\"ishu\",30) # here constutor will be executed not the display function\n",
    "# cosntructor will only be executed once even if you create 100 objects\n",
    "\n",
    "s1.display() # here we have called disply method on the object s1 \n",
    "# method will be executed n number of time\n",
    "\n",
    "\n",
    " "
   ]
  },
  {
   "cell_type": "markdown",
   "metadata": {},
   "source": [
    "### DIFFERENCE BETWEEN CONSTRUCTOR AND METHOD"
   ]
  },
  {
   "cell_type": "code",
   "execution_count": null,
   "metadata": {},
   "outputs": [],
   "source": [
    "# 1.CONSTRUTOR IS USED TO DECLARE AND INITIALIZE INSTANCE VARIABLE\n",
    "# 1.METHOD MAIN PURPOSE IS TO PERFORM SOME BUSINESS LOGIC\n",
    "\n",
    "# 2.CONSTRUCTOR WILL BE EXECUTED ONLY ONCE FOR OBJECT AND WILL BE EXECITED AUTOMATICALLY\n",
    "# 2.PER OBJECT METHOD CAN BE CALLED MANY TIMES ,WILL BE EXECUTED ONLY IF WE CALL\n",
    "\n",
    "# 3.METHOD NAME CAN BE ANYTHING\n",
    "# 3.CONSTRUCTOR NAME SHOULD BE __INIT__\n",
    "\n",
    "# "
   ]
  },
  {
   "cell_type": "markdown",
   "metadata": {},
   "source": [
    "### TYPES OF VARIABLE"
   ]
  },
  {
   "cell_type": "code",
   "execution_count": 14,
   "metadata": {},
   "outputs": [],
   "source": [
    "#1.INSTANCE VARIABLE :\n",
    "\n",
    "# If the values of varible varies from object to object such varables are callaed instance variable or object level variables\n",
    "# ex: a class of students with 100 students will have different roll no and diffrent names so the values are costantly changing so h they are stored in instancce variables\n",
    "# DECLARED  inside the __init__ constructor using self\n",
    "# DECLARED inside  INSTANCE METHOD BY USING SELF\n",
    "# DECLARED from outside of the calss by using onject refrance\n",
    "# Variable created with self.name,self.rollno these are isntance variable starting with self.\n",
    "# FOR EVERY OBJECT A SEPARATE COPY WILL BE CREATED\n",
    "# HOW TO ACCESS ISNTANCE VARIBLE:\n",
    "# INSIDE CLASS ==> USING SELF \n",
    "# OUTSIDE CLASS ==> BY USING OBJECT REFRENCE\n",
    "\n",
    "#  \n",
    "\n",
    "#2. LOCAL VARIABLE: variables that are inside a method or constructr \" without self. \" \"without cls \" or without classanme\" for temporay requiremet purpose\n",
    "# these should be used inside the method only ,after execution it will be gone\n",
    "# also known as method variable \n",
    "\n",
    "# GLOBAL VARIABLE : THE VARIABLE THAT ARE PRESENT EVERYWHERE,OUTSIDE THE CLASS AND WE CAN ACCESS THEM INSIDE THE CLASS\n",
    "# we can also define global variable inside the class using global variable\n",
    "\n",
    "#3. STATIC VARIABLE\n",
    "# All the students study in same college and for all students the name of college is fixed so we will create a static variable and that will be shared with all objects OF CLASS\n",
    "# DECLARED AT CLASS LEVEL,ONLY ONE COPY IS MAINTAINED AT CLASS LEVEL AND SHARED WITH EVERY INSTANCE VARIABLE\n",
    "# DECLARED INSIDE CONSTRUCTOR USING CLASS NAME\n",
    "# DECLARED INSIDE ISNTANCE METHOD USING CLASS NAME\n",
    "# DECLARED INSIDE @CLASSMETHOD USING CLS VARIABLE OR CLASS NAME\n",
    "# INSIDE @STATICMETHOD USING CLASS  NAME\n",
    "# if we want to acces class inside class anywhere we can access using class name but insode @classmethod we can also use class name\n",
    "# we can access satitc variable using class name ot by object refrance\n",
    "# within the class  --> classname,self,cls\n",
    "# outside the class --> object refrence,classname\n",
    "# we decalare this variable before constructor and not in  any method ot in the cllass directly it is also a class level variable\n",
    "\n",
    "# MODIFYING STATIC VARIABLE\n",
    "# INSIDE CLASS==> WITHIN TH ECLASS WE SHOULD USE CLASSNAME OR CLS VARIABLE\n",
    "# FROM OUTSIDE CLASS == > ONLY CLASSNAME\n",
    "\n",
    "\n",
    "# HOW TO DELTE STATIC VARIABLES\n",
    "# WITH IN THE CLASSS WE SHOULD USE EITHER CLASS NAME OR CLS VARIABLE\n",
    "\n",
    "# OUSIDE OF THE CLASS WE SHOULD USE ONLY CLASSNAME"
   ]
  },
  {
   "cell_type": "markdown",
   "metadata": {},
   "source": [
    "### BASIC IDEA OF DIFFERENT VARIABLES"
   ]
  },
  {
   "cell_type": "code",
   "execution_count": 13,
   "metadata": {},
   "outputs": [
    {
     "name": "stdout",
     "output_type": "stream",
     "text": [
      "......Constructor Execution.....\n",
      "........Method execution........\n",
      "hello my roll no is : ishu\n",
      "my roll no is :  30\n",
      "SDSF\n"
     ]
    }
   ],
   "source": [
    "class student:\n",
    "    college=\"SDSF\"  # this is the static varibale\n",
    "    def __init__(self,name,rollno):\n",
    "        print(\"......Constructor Execution.....\")\n",
    "        self.name=name\n",
    "        self.rollno=rollno\n",
    "    \n",
    "    def display(self):\n",
    "        print(\"........Method execution........\")\n",
    "        print(\"hello my roll no is :\",self.name) # inside a class we can access istance vatiable by self so we write self.name\n",
    "        print(\"my roll no is : \",self.rollno)\n",
    "        \n",
    "#object ceration\n",
    "\n",
    "s1=student(\"ishu\",30) # here constutor will be executed not the display function\n",
    "# cosntructor will only be executed once even if you create 100 objects\n",
    "\n",
    "s1.display() # here we have called disply method on the object s1 \n",
    "# method will be executed n number of time\n",
    "\n",
    "print(s1.college) # static variable used in this object"
   ]
  },
  {
   "cell_type": "markdown",
   "metadata": {},
   "source": [
    "### DECLARING INSTANCE VARIABLE"
   ]
  },
  {
   "cell_type": "code",
   "execution_count": 27,
   "metadata": {},
   "outputs": [
    {
     "name": "stdout",
     "output_type": "stream",
     "text": [
      "{'name': 'ishu', 'rollno': 101}\n",
      "{'name': 'ishu', 'rollno': 101, 'marks': 60}\n",
      "{'name': 'ishu', 'rollno': 101, 'marks': 60, 'wife': 'Renu'}\n"
     ]
    }
   ],
   "source": [
    "class student:\n",
    "    def __init__(self,name,rollno): # THESE ARE LOCAL VARIABLES WITH \"SELF\" OF \"CLS\" USE \n",
    "        self.name=name  # self.name is a instance variable\n",
    "        self.rollno= rollno  # self.roll no is a instance variable\n",
    "    \n",
    "    def info(self):\n",
    "        self.marks=60 # this is a instance variable\n",
    "        x=10 # this is a local varible(variable which are delared iside a method with out self or cls)\n",
    "        \n",
    "s1=student(\"ishu\",101)\n",
    "print(s1.__dict__) # till this point only two  instance variable are created beacise we didnt called info() method on s1 object\n",
    "s1.info()\n",
    "print(s1.__dict__) # here we have three instance variable after calling info() method on s1\n",
    "s1.wife=\"Renu\"  # here we defined a insatance variable  wife which can be declared outside the class with refrnce to object variable\n",
    "print(s1.__dict__)"
   ]
  },
  {
   "cell_type": "markdown",
   "metadata": {},
   "source": [
    "###  CREATION OF INSTANCE VARIABLE FOR DIFF OBJECT"
   ]
  },
  {
   "cell_type": "code",
   "execution_count": 30,
   "metadata": {},
   "outputs": [
    {
     "name": "stdout",
     "output_type": "stream",
     "text": [
      "{'a': 10, 'b': 20, 'c': 30, 'd': 40}\n",
      "{'a': 10, 'b': 20, 'c': 30, 'e': 50, 'x': 100, 'y': 300}\n"
     ]
    }
   ],
   "source": [
    "class test:\n",
    "    def __init__(self):\n",
    "        self.a=10\n",
    "        self.b=20\n",
    "        self.c=30\n",
    "    def m1(self):\n",
    "        self.d=40\n",
    "    def m2(self):\n",
    "        self.e=50\n",
    "        \n",
    "t1=test() # here 3 instance variable a,b,c will be created by the consructor ,it wont go down after that\n",
    "t1.m1() # here 1 instance varibale d will be created by instance method m1\n",
    "t2=test() # here 3 instance variable will be created a,b,c for t2 by constructor\n",
    "t2.m2()# because of m2 one isntance variable is coming\n",
    "t2.x=100 # new instance varibale declared for t2 outside class\n",
    "t2.y=300 # new instance varibale declared for t2 outside class\n",
    "\n",
    "\n",
    "print(t1.__dict__) # total 4 isntance variable for t1\n",
    "print(t2.__dict__)# totla 6  instance variable for t2 "
   ]
  },
  {
   "cell_type": "markdown",
   "metadata": {},
   "source": [
    "### ACCESSING INSTANCE VARIBALE"
   ]
  },
  {
   "cell_type": "code",
   "execution_count": 31,
   "metadata": {},
   "outputs": [
    {
     "name": "stdout",
     "output_type": "stream",
     "text": [
      "hello my roll no is : ishu\n",
      "my roll no is :  30\n",
      "ishu 30\n"
     ]
    }
   ],
   "source": [
    "class student:\n",
    "    def __init__(self,name,rollno):\n",
    "        self.name=name\n",
    "        self.rollno=rollno\n",
    "    \n",
    "    def display(self):\n",
    "        print(\"hello my roll no is :\",self.name) \n",
    "        print(\"my roll no is : \",self.rollno)\n",
    "        \n",
    "\n",
    "s1=student(\"ishu\",30)\n",
    "\n",
    "# ACCESSING THE INSTANCE VARIABLE INSIDE THE CLASS\n",
    "\n",
    "s1.display() # since display contain self or instance object we get to use isntance variable directly\n",
    "\n",
    "# ACCESSING THE INSTANCE VARIABLE OUTSIDE THE CLASS\n",
    "\n",
    "print(s1.name,s1.rollno)  # CALLING INSTANCE VARIABLE BY REFRENCE"
   ]
  },
  {
   "cell_type": "markdown",
   "metadata": {},
   "source": [
    "### DELETIG INSATANCE VARIABLE"
   ]
  },
  {
   "cell_type": "code",
   "execution_count": 38,
   "metadata": {},
   "outputs": [
    {
     "name": "stdout",
     "output_type": "stream",
     "text": [
      "{'a': 10}\n",
      "{}\n",
      "\n",
      "\n",
      "output for example 2\n",
      "{'b': 20, 'c': 30}\n",
      "{'b': 20, 'c': 30}\n"
     ]
    }
   ],
   "source": [
    "class test:\n",
    "    def __init__(self):\n",
    "        self.a=10\n",
    "        self.b=20\n",
    "        self.c=30\n",
    "    def delete(self):\n",
    "        del self.b,self.c\n",
    "#       del self # this will delete the variable self which show current object but object will not be delted      \n",
    "t1=test()\n",
    "t1.delete()   #  inside the class we deleted the isntance variable in this way\n",
    "print(t1.__dict__)\n",
    "\n",
    "del t1.a  # outside the class this is how we deleted the isntance variable\n",
    "print(t1.__dict__)\n",
    "\n",
    "\n",
    "\n",
    "\n",
    "# example 2\n",
    "class test:\n",
    "    def __init__(self):\n",
    "        self.a=10\n",
    "        self.b=20\n",
    "        self.c=30\n",
    "        \n",
    "t1=test() # here we created three instance variable for t1\n",
    "t2=test() # here we wcreated theree isntance variable for t2\n",
    "del t1.a  # here we deleted a for t1\n",
    "del t2.a  # here we delted a for t2 \n",
    "print()\n",
    "print()\n",
    "print(\"output for example 2\")\n",
    "print(t1.__dict__)\n",
    "print(t2.__dict__)\n",
    "# NOW BOTH T1 AND T2 HAVE ONLY 2 INSTANCE VARIABLES \n",
    "\n",
    "# this happends because every object hads iots own copy of isntance avaribales\n"
   ]
  },
  {
   "cell_type": "code",
   "execution_count": 43,
   "metadata": {},
   "outputs": [
    {
     "name": "stdout",
     "output_type": "stream",
     "text": [
      "{'a': 999, 'b': 888}\n",
      "{'a': 10, 'b': 20}\n"
     ]
    }
   ],
   "source": [
    "#example 3\n",
    "\n",
    "class test:\n",
    "    def __init__(self):\n",
    "        self.a=10\n",
    "        self.b=20\n",
    "        \n",
    "t1=test()\n",
    "t2=test()\n",
    "t1.a=999\n",
    "t1.b=888\n",
    "print(t1.__dict__)\n",
    "print(t2.__dict__)"
   ]
  },
  {
   "cell_type": "markdown",
   "metadata": {},
   "source": [
    "### STATIC VARIABLE EXAMPLE"
   ]
  },
  {
   "cell_type": "code",
   "execution_count": 48,
   "metadata": {},
   "outputs": [
    {
     "name": "stdout",
     "output_type": "stream",
     "text": [
      "ishu 101 SDSF\n",
      "tinku 102 SDSF\n"
     ]
    }
   ],
   "source": [
    "class student:\n",
    "    cname=\"SDSF\"  # static variable DECLARED INSIDE CLASS DIRECTLY\n",
    "    \n",
    "    def __init__(self,name,rollno):\n",
    "        self.name=name        # INSTANCE VARIABLE INSIDE CONSTRUCTOR\n",
    "        self.rollno=rollno    # INSTANCE VARIABLE INSIDE CONSTRUCTOR\n",
    "    \n",
    "s1=student(\"ishu\",101)   #OBJECCT 1\n",
    "s2=student(\"tinku\",102)  # OBJECT 2\n",
    "print(s1.name,s1.rollno,s1.cname)   #CALLING BY OBJECT REFRENCE\n",
    "print(s2.name,s2.rollno,s2.cname)   # CALLING BY OBJECT REFRENCE"
   ]
  },
  {
   "cell_type": "markdown",
   "metadata": {},
   "source": [
    "### STATIC VARIABLE DEFINED AT DIFFERNT LEVELS"
   ]
  },
  {
   "cell_type": "code",
   "execution_count": 56,
   "metadata": {},
   "outputs": [
    {
     "name": "stdout",
     "output_type": "stream",
     "text": [
      "{'__module__': '__main__', 'a': 10, '__init__': <function test.__init__ at 0x000001FEA43B5B70>, 'm1': <function test.m1 at 0x000001FEA43B5D90>, 'm2': <classmethod object at 0x000001FEA455B160>, 'm3': <staticmethod object at 0x000001FEA455B048>, '__dict__': <attribute '__dict__' of 'test' objects>, '__weakref__': <attribute '__weakref__' of 'test' objects>, '__doc__': None, 'b': 20, 'g': 60, 'c': 30, 'd': 40, 'e': 50, 'f': 40}\n"
     ]
    }
   ],
   "source": [
    "class test:\n",
    "    a=10\n",
    "    def __init__(self):\n",
    "        test.b=20    # BY USING CLASS NAME\n",
    "        \n",
    "    def m1(self):\n",
    "        test.c=30   # BY USING CLASS NAME\n",
    "   \n",
    "    @classmethod\n",
    "    def m2(cls):\n",
    "        cls.d=40  # usig cls variable\n",
    "        test.e=50 # using class name\n",
    "        \n",
    "    @staticmethod\n",
    "    def m3():\n",
    "        test.f=40\n",
    "\n",
    "t=test()\n",
    "test.g=60 # outside the class using class name refrance\n",
    "t.m1()\n",
    "test.m2()\n",
    "test.m3()\n",
    "print(test.__dict__) # here we have called all the static variables"
   ]
  },
  {
   "cell_type": "markdown",
   "metadata": {},
   "source": [
    "### ACCESSING STATIC VARIABLE"
   ]
  },
  {
   "cell_type": "code",
   "execution_count": 57,
   "metadata": {},
   "outputs": [
    {
     "name": "stdout",
     "output_type": "stream",
     "text": [
      "10\n",
      "10\n"
     ]
    }
   ],
   "source": [
    "class test:\n",
    "    a=10\n",
    "    def __init__(self):\n",
    "        print(test.a)  # printing static variable \"a\" defined outside constructor\n",
    "        print(self.a)  # \n",
    "\n",
    "t=test()"
   ]
  },
  {
   "cell_type": "code",
   "execution_count": 3,
   "metadata": {
    "scrolled": true
   },
   "outputs": [
    {
     "name": "stdout",
     "output_type": "stream",
     "text": [
      "inside constructor\n",
      "10\n",
      "10\n",
      "inside instance method\n",
      "10\n",
      "10\n",
      "inside classmethod\n",
      "10\n",
      "10\n",
      "inside static method\n",
      "10\n",
      "from outside the class\n",
      "10\n",
      "10\n"
     ]
    }
   ],
   "source": [
    "class test:\n",
    "    a=10\n",
    "    def __init__(self):\n",
    "        print(\"inside constructor\")\n",
    "        print(test.a)  # printing static variable a defined outside constructor\n",
    "        print(self.a)  # \n",
    "    def m1(self):\n",
    "        print(\"inside instance method\")\n",
    "        print(test.a)\n",
    "        print(self.a)\n",
    "    @classmethod\n",
    "    def m2(cls):\n",
    "        print(\"inside classmethod\")\n",
    "        print(test.a)\n",
    "        print(cls.a)  # we can use cls variable here to access static variable\n",
    "    @staticmethod\n",
    "    def m3():\n",
    "        print(\"inside static method\")\n",
    "        print(test.a) # here we have only one way to use class name \n",
    "        \n",
    "t=test()\n",
    "t.m1()\n",
    "t.m2()\n",
    "t.m3()\n",
    "\n",
    "# accesing static varaible outside the class usnig class name and object refrence\n",
    "print(\"from outside the class\")\n",
    "print(test.a)\n",
    "print(t.a)"
   ]
  },
  {
   "cell_type": "markdown",
   "metadata": {},
   "source": [
    "### MODIFYING STATIC VARIABLE"
   ]
  },
  {
   "cell_type": "code",
   "execution_count": 7,
   "metadata": {},
   "outputs": [
    {
     "name": "stdout",
     "output_type": "stream",
     "text": [
      "10\n",
      "20\n"
     ]
    }
   ],
   "source": [
    "# wrong modification\n",
    "class test:\n",
    "    a=10\n",
    "    def __init__(self):\n",
    "        self.a=20 # here a will become instance varable we have not modified the static varivable\n",
    "t=test()\n",
    "print(test.a)\n",
    "print(t.a)"
   ]
  },
  {
   "cell_type": "code",
   "execution_count": 8,
   "metadata": {},
   "outputs": [
    {
     "name": "stdout",
     "output_type": "stream",
     "text": [
      "20\n",
      "20\n"
     ]
    }
   ],
   "source": [
    "# CORRECT MODIFIATON\n",
    "class test:\n",
    "    a=10\n",
    "    def __init__(self):\n",
    "        test.a=20 # here a will become 20 ww have  modified the static varivable\n",
    "t=test()\n",
    "print(test.a)\n",
    "print(t.a)"
   ]
  },
  {
   "cell_type": "code",
   "execution_count": 14,
   "metadata": {},
   "outputs": [
    {
     "name": "stdout",
     "output_type": "stream",
     "text": [
      "50\n",
      "50\n",
      "60\n"
     ]
    }
   ],
   "source": [
    "# CORRECT MODIFIATON USINF CLS VARIABLE\n",
    "class test:\n",
    "    a=10\n",
    "    def __init__(self):\n",
    "        test.a=20 # here a will become 20 ww have  modified the static varivable\n",
    "    \n",
    "    \n",
    "    @classmethod\n",
    "    def m1(cls):\n",
    "        cls.a=30 # this will update the value of a from 20 to 30\n",
    "        test.a=40\n",
    "        \n",
    "    @staticmethod\n",
    "    def m2():\n",
    "        test.a=50\n",
    "        \n",
    "t=test()\n",
    "t.m1()  # this will modify value from 30 to 40 \n",
    "t.m2()  # this will modify value from 40 to 50 \n",
    "print(test.a)\n",
    "print(t.a)\n",
    "\n",
    "# modifying from outside\n",
    "\n",
    "test.a=60\n",
    "print(test.a)\n",
    "\n",
    "# t.a=60  this is wrong as it creates new instance variable for variable t"
   ]
  },
  {
   "cell_type": "markdown",
   "metadata": {},
   "source": [
    "### DELETE STATIC VARIABLES"
   ]
  },
  {
   "cell_type": "code",
   "execution_count": 26,
   "metadata": {},
   "outputs": [
    {
     "name": "stdout",
     "output_type": "stream",
     "text": [
      "{'__module__': '__main__', 'a': 10, 'b': 20, '__init__': <function test.__init__ at 0x00000296E46D39D8>, 'm1': <classmethod object at 0x00000296E46D4C88>, '__dict__': <attribute '__dict__' of 'test' objects>, '__weakref__': <attribute '__weakref__' of 'test' objects>, '__doc__': None}\n",
      "{'__module__': '__main__', '__init__': <function test.__init__ at 0x00000296E46D39D8>, 'm1': <classmethod object at 0x00000296E46D4C88>, '__dict__': <attribute '__dict__' of 'test' objects>, '__weakref__': <attribute '__weakref__' of 'test' objects>, '__doc__': None}\n"
     ]
    }
   ],
   "source": [
    "class test:\n",
    "    a=10\n",
    "    b=20\n",
    "    def __init__(self):\n",
    "        del test.a   # deelting inside constructor\n",
    "    @classmethod    \n",
    "    def m1(cls):\n",
    "        del cls.b        # delerting inside class method \n",
    "print(test.__dict__)        \n",
    "t=test()\n",
    "t.m1()\n",
    "print(test.__dict__)\n"
   ]
  },
  {
   "cell_type": "code",
   "execution_count": 29,
   "metadata": {},
   "outputs": [
    {
     "name": "stdout",
     "output_type": "stream",
     "text": [
      "{'__module__': '__main__', '__dict__': <attribute '__dict__' of 'test' objects>, '__weakref__': <attribute '__weakref__' of 'test' objects>, '__doc__': None}\n"
     ]
    }
   ],
   "source": [
    "# deleting outside the class\n",
    "\n",
    "class test:\n",
    "    a=19\n",
    "t=test()\n",
    "del test.a  # here we delted outside the file\n",
    "print(test.__dict__)\n",
    "\n",
    "# del t.a will be wrong"
   ]
  },
  {
   "cell_type": "code",
   "execution_count": 32,
   "metadata": {},
   "outputs": [
    {
     "name": "stdout",
     "output_type": "stream",
     "text": [
      "10\n",
      "888\n"
     ]
    }
   ],
   "source": [
    "# FIND OUTPUT\n",
    "class test:\n",
    "    a=10\n",
    "    def m1(self):\n",
    "        self.a=888\n",
    "t=test()\n",
    "t.m1()\n",
    "print(test.a)\n",
    "print(t.a)"
   ]
  },
  {
   "cell_type": "code",
   "execution_count": 38,
   "metadata": {},
   "outputs": [],
   "source": [
    "# FIND OUTPUT\n",
    "class test:\n",
    "    x=10\n",
    "    def m1(self):\n",
    "        self.y=20\n",
    "\n",
    "t1=test()\n",
    "t2=test()\n",
    "t1.x=888\n",
    "t1.y=999\n",
    "#print(t1.x,t2.y)  this will give 888 999 as answer\n",
    "#print(t2.x,t2.y) # here we will get eroor because the value y is not present"
   ]
  },
  {
   "cell_type": "code",
   "execution_count": 40,
   "metadata": {},
   "outputs": [
    {
     "name": "stdout",
     "output_type": "stream",
     "text": [
      "888 20\n",
      "10 20\n"
     ]
    }
   ],
   "source": [
    "#FIND OUTPUT\n",
    "class test:\n",
    "    x=10\n",
    "    def __init__(self):\n",
    "        self.y=20\n",
    "\n",
    "t1=test()\n",
    "t2=test()\n",
    "t1.x=888\n",
    "t1.y=999\n",
    "print(t1.x,t2.y)  \n",
    "print(t2.x,t2.y)"
   ]
  },
  {
   "cell_type": "code",
   "execution_count": 41,
   "metadata": {},
   "outputs": [
    {
     "name": "stdout",
     "output_type": "stream",
     "text": [
      "888 20\n",
      "888 20\n"
     ]
    }
   ],
   "source": [
    "#FIND OUTPUT\n",
    "#FIND OUTPUT\n",
    "class test:\n",
    "    x=10\n",
    "    def __init__(self):\n",
    "        self.y=20\n",
    "\n",
    "t1=test()\n",
    "t2=test()\n",
    "test.x=888\n",
    "t1.y=999\n",
    "print(t1.x,t2.y)  \n",
    "print(t2.x,t2.y)"
   ]
  },
  {
   "cell_type": "markdown",
   "metadata": {},
   "source": [
    "### LOCAL VARIABLES"
   ]
  },
  {
   "cell_type": "code",
   "execution_count": 51,
   "metadata": {},
   "outputs": [
    {
     "name": "stdout",
     "output_type": "stream",
     "text": [
      "100\n",
      "999\n",
      "100\n"
     ]
    }
   ],
   "source": [
    "class test:\n",
    "    def m1(self):\n",
    "        a=100  # no self used so it is a local variable and it local to m1\n",
    "        print(a)\n",
    "    def m2(self):\n",
    "        b=100\n",
    "        a=999    # here a is local to m2 so we can delcare it as valid \n",
    "        print(a)\n",
    "        print(b)\n",
    "\n",
    "t=test() # object creation\n",
    "t.m1()  # calling m1 on t1\n",
    "t.m2()  # calling m2 on t2"
   ]
  },
  {
   "cell_type": "code",
   "execution_count": 56,
   "metadata": {},
   "outputs": [
    {
     "name": "stdout",
     "output_type": "stream",
     "text": [
      "The AVERAGE VALUE OF LIST ELEMETNS : 30.0\n"
     ]
    }
   ],
   "source": [
    "class test:\n",
    "    def average(self,list):\n",
    "        result=sum(list)/len(list)\n",
    "        print(\"The AVERAGE VALUE OF LIST ELEMETNS :\",result)\n",
    "        \n",
    "        \n",
    "t=test()\n",
    "t.average([10,20,30,40,50])"
   ]
  },
  {
   "cell_type": "markdown",
   "metadata": {},
   "source": [
    "### GLOBAL VARIABLE"
   ]
  },
  {
   "cell_type": "code",
   "execution_count": 58,
   "metadata": {},
   "outputs": [
    {
     "name": "stdout",
     "output_type": "stream",
     "text": [
      "100\n",
      "100\n"
     ]
    }
   ],
   "source": [
    "x=100 # IT IS A GLOBAL VARIABLE CREATED OUTSIDE CLASS AND ACCESABEL INSODE CLASS\n",
    "class test:\n",
    "    def m1(self):\n",
    "        print(x)\n",
    "    def m2(self):\n",
    "        print(x)\n",
    "        \n",
    "t=test()\n",
    "t.m1()\n",
    "t.m2()"
   ]
  },
  {
   "cell_type": "code",
   "execution_count": 60,
   "metadata": {},
   "outputs": [
    {
     "name": "stdout",
     "output_type": "stream",
     "text": [
      "100\n",
      "200\n",
      "100\n",
      "200\n"
     ]
    }
   ],
   "source": [
    "# if out class also have variable x \n",
    "x=100 # IT IS A GLOBAL VARIABLE CREATED OUTSIDE CLASS AND ACCESABEL INSODE CLASS\n",
    "class test:\n",
    "    x=200  # it is a static variable can only be accesed  by slef ot cls vriable\n",
    "    def m1(self):\n",
    "        print(x)\n",
    "        print(test.x) # class static vaariabel x is accesed by self\n",
    "    def m2(self):\n",
    "        print(x)\n",
    "        print(test.x) # class static variabel x is accesed by self\n",
    "        \n",
    "t=test()\n",
    "t.m1()\n",
    "t.m2()"
   ]
  },
  {
   "cell_type": "code",
   "execution_count": 61,
   "metadata": {},
   "outputs": [
    {
     "name": "stdout",
     "output_type": "stream",
     "text": [
      "999\n",
      "200\n",
      "100\n",
      "200\n"
     ]
    }
   ],
   "source": [
    "# IF THE LOCAL VARIABLE IS ALSO PRESENT IN THE M1()\n",
    "\n",
    "# if out class also have variable x \n",
    "x=100 # IT IS A GLOBAL VARIABLE CREATED OUTSIDE CLASS AND ACCESABEL INSODE CLASS\n",
    "class test:\n",
    "    x=200  # it is a static variable can only be accesed  by slef ot cls vriable\n",
    "    def m1(self):\n",
    "        x=999 #this local variable will get priority and will be used and global will be neglected\n",
    "        print(x)\n",
    "        print(test.x) # class static vaariabel x is accesed by self\n",
    "    def m2(self):\n",
    "        print(x)\n",
    "        print(test.x) # class static variabel x is accesed by self\n",
    "        \n",
    "t=test()\n",
    "t.m1()\n",
    "t.m2()"
   ]
  },
  {
   "cell_type": "code",
   "execution_count": 64,
   "metadata": {},
   "outputs": [
    {
     "name": "stdout",
     "output_type": "stream",
     "text": [
      "welcome to  DAVV\n",
      "Enter your name:ISHU\n",
      "d-Deposit\n",
      "w-Withdraw\n",
      "e-Exit\n",
      "Choose your option: D\n",
      "enter the amounnt to deposit: 50000\n",
      "After deosite the balance is : 50000.0\n",
      "d-Deposit\n",
      "w-Withdraw\n",
      "e-Exit\n",
      "Choose your option: W\n",
      "Enter amout to withdraw60000\n",
      "Insufficient funds..cant perform this operation\n"
     ]
    },
    {
     "ename": "SystemExit",
     "evalue": "",
     "output_type": "error",
     "traceback": [
      "An exception has occurred, use %tb to see the full traceback.\n",
      "\u001b[1;31mSystemExit\u001b[0m\n"
     ]
    }
   ],
   "source": [
    "# LITTLE PROJECT\n",
    "import sys\n",
    "class customer:\n",
    "    \"\"\"CUSTOMER CLASS WITH BANK RELAED OPERATIONS\"\"\"\n",
    "    bankname=\"DAVV\"   # STATIC VARIABLE\n",
    "    \n",
    "    def __init__(self,name,balance=0):\n",
    "        self.name=name\n",
    "        self.balance=balance\n",
    "        \n",
    "    def deposit(self,amount):\n",
    "        self.balance=self.balance+amount\n",
    "        print(\"After deosite the balance is :\" , self.balance)\n",
    "    \n",
    "    def withdraw(self,amout):\n",
    "        if amount>self.balance:\n",
    "            print(\"Insufficient funds..cant perform this operation\")\n",
    "        sys.exit() # to stop python virtual machine to stop the program here \n",
    "#        else:\n",
    "#            self.balance=self.balance-amount\n",
    "# we can directly write  self.balance=self.balance-amount as control will come to this if condition fails as we have used sys.exit()\n",
    "        self.balance=self.balance-amount\n",
    "        print(\"After withdraw the balance is :\",self.balance)\n",
    "\n",
    "print(\"welcome to \",customer.bankname) # bankname is the static variable of class so we used customer.banlname\n",
    "name=input(\"Enter your name:\")\n",
    "c=customer(name)\n",
    "while True:\n",
    "    print(\"d-Deposit\\nw-Withdraw\\ne-Exit\")\n",
    "    option=input(\"Choose your option: \")\n",
    "    if option=='d' or option==\"D\":\n",
    "        amount=float(input(\"enter the amounnt to deposit: \"))\n",
    "        c.deposit(amount)  \n",
    "    elif option=='w' or option=='W':\n",
    "        amount=float(input(\"Enter amout to withdraw\"))\n",
    "        c.withdraw(amount)\n",
    "    elif option=='e' or option==\"E\":\n",
    "        print(\"Thanks for banking with us\")\n",
    "        sys.exit()\n",
    "    else: # if input is not w,e,d then,\n",
    "        print(\"Choose valid option\")"
   ]
  },
  {
   "cell_type": "code",
   "execution_count": null,
   "metadata": {},
   "outputs": [],
   "source": []
  },
  {
   "cell_type": "code",
   "execution_count": null,
   "metadata": {},
   "outputs": [],
   "source": []
  },
  {
   "cell_type": "code",
   "execution_count": null,
   "metadata": {},
   "outputs": [],
   "source": []
  },
  {
   "cell_type": "code",
   "execution_count": null,
   "metadata": {},
   "outputs": [],
   "source": []
  },
  {
   "cell_type": "markdown",
   "metadata": {},
   "source": [
    "### TYPE OF METHODS  # THEORY BASICS"
   ]
  },
  {
   "cell_type": "code",
   "execution_count": null,
   "metadata": {},
   "outputs": [],
   "source": [
    "#1.INSTANCE METHOD : methods which acces the instance variable and first arument is self are called instance method\n",
    "# they are also called object related method as they always ask about a particular object like which student what is his name what is his roll no\n",
    "# example : display(self) in class student\n",
    "# ===> IF WE ARE USNG ATLEAST ONE INSTANCE VARIABLE THEN WE CALL IT INSTANCE METHOD\n",
    "# def M1(self):\n",
    "#    self.x\n",
    "# the first object of refrence method is always self poiniting to current object,by using self we can call the variable into a class\n",
    "# outside class we have to call the instance variable by object refrence.\n",
    "\n",
    "#2.CALSS METHOD: Where we ascces only class level data ,here we use decorator to define class method\n",
    "#==> # IF WE ARE USING STATIC VARIABLE BUT NOT THE  INSTANCE VARIBALE THEN IT IS  CLASS METHOD\n",
    "#@classmethod\n",
    "# def m1(cls):\n",
    "#     cls.x\n",
    "#     test.x\n",
    "# calling class method : it can be called directly on class name : studetn.m1()=>> where m1() is class method\n",
    "# m1(cls) is the refrence variable to show curretn class object,it is the refrence variable to class\n",
    "# with cls we can call static variable . EX==> cls.bankname\n",
    "\n",
    "\n",
    "#3.STATIC METHOD: IF WE ARE NOT USING ISNTANCE OR STATIC VARIABLES THEN WE CALL IT  STATIC METHOD\n",
    "# @decorator\n",
    "# def average(x+y):\n",
    "#       print(x+y/2)\n",
    "\n",
    "# these are just helper methods\n",
    "# we can call static method by object refrencce or by class name but class naem is prfered"
   ]
  },
  {
   "cell_type": "markdown",
   "metadata": {},
   "source": [
    "### EXAMPLE FOR DIFFERNT METHODS"
   ]
  },
  {
   "cell_type": "code",
   "execution_count": 21,
   "metadata": {},
   "outputs": [
    {
     "name": "stdout",
     "output_type": "stream",
     "text": [
      "......Constructor Execution.....\n",
      "........Method execution........\n",
      "Hello my name is : Ishu\n",
      "My roll no is :  30\n",
      "SDSF\n",
      "College name is : SDSF\n",
      "AVERAGE: 15.0\n",
      "AVERAGE: 15.0\n"
     ]
    }
   ],
   "source": [
    "class student():\n",
    "    college=\"SDSF\"  # this is the static varibale # this is class level data which is hold by pvm in class object to signify class object we use \"cls\"(we can use any other name  x , y, z ) to show current class variable \n",
    "    def __init__(self,name,rollno):\n",
    "        print(\"......Constructor Execution.....\")\n",
    "        self.name=name  #this is object level data\n",
    "        self.rollno=rollno  # this is object level data\n",
    "    \n",
    "    def display(self):\n",
    "        print(\"........Method execution........\")\n",
    "        print(\"Hello my name is :\",self.name) # inside a class we can access istance vatiable by self so we write self.name\n",
    "        print(\"My roll no is : \",self.rollno)\n",
    "    \n",
    "    @classmethod  # decorator used to define that it is a classs method\n",
    "    def getCollegeName(cls):\n",
    "        print(\"College name is :\",cls.college)\n",
    "    \n",
    "    @staticmethod  # decorator used to define a static method\n",
    "    def find_average(x,y):\n",
    "        print(\"AVERAGE:\",(x+y)/2)\n",
    "        \n",
    "# we can also define the static method without decorator @staticmethod but then we have to call it by class name only ex: student.find_average(10,20)\n",
    "#     def find_average(x,y):\n",
    "#        print(\"AVERAGE:\",(x+y)/2)   \n",
    "\n",
    "\n",
    "\n",
    "\n",
    "\n",
    "#object ceration\n",
    "\n",
    "s1=student(\"Ishu\",30) # here constutor will be executed not the display function\n",
    "# cosntructor will only be executed once even if you create 100 objects\n",
    "\n",
    "s1.display() # here we have called disply method on the object s1 \n",
    "# method will be executed n number of time\n",
    "\n",
    "print(s1.college) # static variable used in this object\n",
    "\n",
    "# calling class method\n",
    "student.getCollegeName()\n",
    "\n",
    "#calling static method, way 1\n",
    "s1.find_average(10,20) # calling static method with objet refrence variable\n",
    "# way 2\n",
    "student.find_average(10,20) # calling static method on class "
   ]
  },
  {
   "cell_type": "code",
   "execution_count": 2,
   "metadata": {},
   "outputs": [
    {
     "name": "stdout",
     "output_type": "stream",
     "text": [
      "ENTER THE NUMBER OF STUDENTS2\n",
      "ENTER STUDENTS NAME: ishu\n",
      "ENTER STUDENTS MARKS: 500\n",
      "Hi ishu\n",
      "Your marks are 500\n",
      "first grade\n",
      "********************\n",
      "ENTER STUDENTS NAME: sunny\n",
      "ENTER STUDENTS MARKS: 52\n",
      "Hi sunny\n",
      "Your marks are 52\n",
      "Second grade\n",
      "********************\n"
     ]
    }
   ],
   "source": [
    "# CLASS SWITH ALL INSTANCE METHODS\n",
    "\n",
    "class student:\n",
    "    \n",
    "    def __init__(self,name,marks):\n",
    "        self.name=name\n",
    "        self.marks=marks\n",
    "    \n",
    "    def display(self):\n",
    "        print(\"Hi\",self.name)\n",
    "        print(\"Your marks are\",self.marks)\n",
    "        \n",
    "    def grade(self):\n",
    "        \n",
    "        if self.marks>=60:\n",
    "            print(\"first grade\")\n",
    "        elif self.marks>=50:\n",
    "            print(\"Second grade\")\n",
    "        elif self.marks>=35:\n",
    "            print(\"you got third grare\")\n",
    "        else:\n",
    "            print(\"you failed the exam\")\n",
    "    \n",
    "n=int(input(\"ENTER THE NUMBER OF STUDENTS\"))\n",
    "for i in range(n):\n",
    "    name=input(\"ENTER STUDENTS NAME: \")\n",
    "    marks=int(input(\"ENTER STUDENTS MARKS: \"))\n",
    "    s=student(name,marks)\n",
    "    s.display()\n",
    "    s.grade()\n",
    "    print(\"*\"*20)"
   ]
  },
  {
   "cell_type": "markdown",
   "metadata": {},
   "source": [
    "### setter & getter methods"
   ]
  },
  {
   "cell_type": "code",
   "execution_count": null,
   "metadata": {},
   "outputs": [],
   "source": [
    "# set is used to set data to the objet\n",
    "# alternative to cosnstructor wecan use set method\n",
    "# syntax:\n",
    "# setVariableName(self,VariableName):\n",
    "#        self.variableName=variableName\n",
    "\n",
    "#  def setMarks(self,marks):\n",
    "#        self.marks=marks\n",
    "\n",
    "# get method is used to get the data\n",
    "# with getter method we can write validation which will lead to securty which cosntructor cant provide\n",
    "# security means we are using encapsulation to hide data inside methods\n",
    "# def getMarks(self):\n",
    "#   return slef.marks\n",
    "\n",
    "\n",
    "\n"
   ]
  },
  {
   "cell_type": "code",
   "execution_count": 7,
   "metadata": {},
   "outputs": [
    {
     "name": "stdout",
     "output_type": "stream",
     "text": [
      "ENTER THE NUMBER OF STUDENTS2\n",
      "ENTER STUDENTS NAME: ishu\n",
      "ENTER STUDENTS MARKS: 80\n",
      "Student name is:  ishu\n",
      "Student marks:  80\n",
      "ENTER STUDENTS NAME: sunny\n",
      "ENTER STUDENTS MARKS: 90\n",
      "Student name is:  sunny\n",
      "Student marks:  90\n"
     ]
    }
   ],
   "source": [
    "# CLASS WITH SETTER AND GETTER METHOD\n",
    "\n",
    "class student:\n",
    "    \n",
    "    def setname(self,name):\n",
    "        self.name=name\n",
    "        \n",
    "    def getname(self):\n",
    "        return self.name\n",
    "    \n",
    "    def setmarks(self,marks):\n",
    "        self.marks=marks \n",
    "        \n",
    "    def getmarks(self):\n",
    "        return self.marks\n",
    "    \n",
    "n=int(input(\"ENTER THE NUMBER OF STUDENTS\"))\n",
    "for i in range(n):\n",
    "    name=input(\"ENTER STUDENTS NAME: \")\n",
    "    marks=int(input(\"ENTER STUDENTS MARKS: \"))\n",
    "    s=student()\n",
    "    s.setname(name)\n",
    "    s.setmarks(marks)\n",
    "\n",
    "    print(\"Student name is: \",s.getname())\n",
    "    print(\"Student marks: \",s.getmarks())\n",
    "    \n",
    "\n",
    "# setnamemarks(self,name,marks) this is also valid but not industry standard"
   ]
  },
  {
   "cell_type": "code",
   "execution_count": null,
   "metadata": {},
   "outputs": [],
   "source": [
    "# INSTANCE VS CLASS METHOD\n",
    "\n",
    "# 1. inside mehtod body if we are using atleast one instance variable then cumpolsary  we shpuld declare that method as instance method\n",
    "# 2. inside method bodyif we are using only static variabel it is highly recmmened to delcare that methdo as class method\n",
    "# 3.first argument to isntance method should be self,which is  refrecence to  current object  and by using self we can  access instance variable inside methdo.\n",
    "# 4.the first argument to class method should be cls,which is refrence variable current class object adn by using that we can access only static variables\n",
    "# 5. inside isntance method we can acces both instance and static varibale.Inside class methdo we can use only static variable and cannpt acces isntance varibales\n",
    "# 6. we can call instnace method by object refrence.we can call class method eiter by using object refrence ot bu using clss name but recomende to use class name to differentiate class method with istance method\n",
    "\n",
    "\n",
    "\n",
    "\n",
    "\n",
    "# if we are  not using any decorator:\n",
    "#__________________________________________________________\n",
    "# for class method @classmethod decorator is mandatory\n",
    "# for staticmethods @staticmethod decorator is optional\n",
    "# if we dont use ant decorator it is either static or instance method we can identify it:\n",
    "# if we are calling by using object refrence then it is static method\n",
    "# if we are calling using class name the it is static method"
   ]
  },
  {
   "cell_type": "code",
   "execution_count": 9,
   "metadata": {},
   "outputs": [
    {
     "name": "stdout",
     "output_type": "stream",
     "text": [
      "dogs walks with 4 legs\n",
      "cat walks with 4 legs\n"
     ]
    }
   ],
   "source": [
    "# Example of class method\n",
    "\n",
    "class animal:\n",
    "    legs=4 # this is a staic varibale ,not defined inside any method\n",
    "    \n",
    "    @classmethod\n",
    "    def walk(cls,name):\n",
    "        print(\"{} walks with {} legs\".format(name,cls.legs))\n",
    "        \n",
    "animal.walk(\"dogs\")\n",
    "animal.walk(\"cat\")"
   ]
  },
  {
   "cell_type": "code",
   "execution_count": 14,
   "metadata": {
    "scrolled": false
   },
   "outputs": [
    {
     "name": "stdout",
     "output_type": "stream",
     "text": [
      "the number of objects created  4\n"
     ]
    }
   ],
   "source": [
    "# write a program to track no of objects created for a class\n",
    "\n",
    "class test:\n",
    "    \n",
    "    count=0 # definig static varible count \n",
    "    \n",
    "    def __init__(self):\n",
    "        test.count=test.count+1 # using static varible inside constructor using class name\n",
    "    \n",
    "    @classmethod\n",
    "    def getnoofobjects(cls):\n",
    "        print(\"the number of objects created \",cls.count)\n",
    "\n",
    "\n",
    "t1=test()\n",
    "t2=test()\n",
    "t3=test()\n",
    "t4=test()\n",
    "test.getnoofobjects()"
   ]
  },
  {
   "cell_type": "code",
   "execution_count": 16,
   "metadata": {},
   "outputs": [
    {
     "name": "stdout",
     "output_type": "stream",
     "text": [
      "the instance clss is : 10 ishu\n"
     ]
    }
   ],
   "source": [
    "# can i define a class with both cls and self\n",
    "\n",
    "class test:\n",
    "    \n",
    "     def m1(cls,self): # the first argumetn is always self so cls is treated as self & second argument self is treaet as a  normal argumment\n",
    "            cls.x=10\n",
    "            print(\"the instance clss is :\",cls.x,self)\n",
    "# inside this is a instance mehtod\n",
    "t=test()\n",
    "t.m1(\"ishu\")"
   ]
  },
  {
   "cell_type": "markdown",
   "metadata": {},
   "source": [
    "### static method"
   ]
  },
  {
   "cell_type": "code",
   "execution_count": 19,
   "metadata": {},
   "outputs": [
    {
     "name": "stdout",
     "output_type": "stream",
     "text": [
      "the addition is : 12\n",
      "the multiplication is : 15\n",
      "the average is : 15.0\n"
     ]
    }
   ],
   "source": [
    "class ishu_math:\n",
    "    \n",
    "    \n",
    "    @staticmethod\n",
    "    def add(x,y):\n",
    "        print(\"the addition is :\",x+y)\n",
    "    @staticmethod\n",
    "    def product(x,y):\n",
    "        print(\"the multiplication is :\",x*y)\n",
    "    def average(x,y):\n",
    "        print(\"the average is :\",(x+y)/2)\n",
    "        \n",
    "ishu_math.add(10,2)\n",
    "ishu_math.product(3,5)\n",
    "ishu_math.average(10,20)"
   ]
  },
  {
   "cell_type": "code",
   "execution_count": 20,
   "metadata": {},
   "outputs": [
    {
     "name": "stdout",
     "output_type": "stream",
     "text": [
      "Some method\n"
     ]
    }
   ],
   "source": [
    "# to check static and isntance method\n",
    "\n",
    "#class test:\n",
    "#    def m1():\n",
    "#        print(\"Some method\")\n",
    "#t=test() \n",
    "#t.m1()\n",
    "\n",
    "# the above example will give error because we are calling by object refercene\n",
    "# and if we calling by object refrence then it is instance method\n",
    "# and if its instance mehod we have not provided self argumnet which will give error\n",
    "\n",
    "# correct \n",
    "class test:\n",
    "    def m1(self):\n",
    "        print(\"Some method\")\n",
    "t=test() \n",
    "t.m1()"
   ]
  },
  {
   "cell_type": "code",
   "execution_count": 21,
   "metadata": {},
   "outputs": [
    {
     "name": "stdout",
     "output_type": "stream",
     "text": [
      "Some method\n"
     ]
    }
   ],
   "source": [
    "# example 2\n",
    "\n",
    "class test:\n",
    "    def m1():\n",
    "        print(\"Some method\")\n",
    "        \n",
    "test.m1()\n",
    "\n",
    "# here this is a static method as we have used class name to call it and it can take any numbr of arguments including zero"
   ]
  },
  {
   "cell_type": "code",
   "execution_count": null,
   "metadata": {},
   "outputs": [],
   "source": [
    "write or wrong \n",
    "class test:\n",
    "    def m1(x):\n",
    "        print(\"Some method\",x)\n",
    "t=test() \n",
    "t.m1(10)\n",
    "\n",
    "# this is worng as we are caliling by object refrence so it is a isntance method \n",
    "# we have to provide self which will be as it is first argumetn\n",
    "# but in t.m1(10) we are providing extra value other than self  which is wrong adn not provided in m1 definition"
   ]
  },
  {
   "cell_type": "markdown",
   "metadata": {},
   "source": [
    "### HOW TO ACCESS MEMBER OF ONE CLASS INTO OTHER CLASS"
   ]
  },
  {
   "cell_type": "code",
   "execution_count": 23,
   "metadata": {},
   "outputs": [
    {
     "name": "stdout",
     "output_type": "stream",
     "text": [
      "employee no:  1\n",
      "employee name: ISHU\n",
      "employee salary: 20000\n"
     ]
    }
   ],
   "source": [
    "class employee:\n",
    "    def __init__(self,eno,ename,esal):\n",
    "        self.eno=eno\n",
    "        self.ename=ename\n",
    "        self.esal=esal\n",
    "        \n",
    "    def display(self):\n",
    "        print(\"employee no: \",self.eno)\n",
    "        print(\"employee name:\",self.ename)\n",
    "        print(\"employee salary:\",self.esal)\n",
    "\n",
    "class  test:\n",
    "    def modify(emp):     # static method \n",
    "        emp.esal=emp.esal+10000  # here we calleg the employee variables using emp variable\n",
    "        emp.display()\n",
    "        \n",
    "e=employee(1,\"ISHU\",10000)  # employee object \n",
    "test.modify(e) # calling static method "
   ]
  },
  {
   "cell_type": "markdown",
   "metadata": {},
   "source": [
    "### INNER CLASS\n"
   ]
  },
  {
   "cell_type": "code",
   "execution_count": null,
   "metadata": {},
   "outputs": [],
   "source": [
    "# THE CLASS WHICH ARE DEFINED INSIEDE ANOTHER CLASS ARE CALLED  INNER CLASS\n",
    "# WITH EXISTING ONE TYPE OF OBJECT THERE IS NO CHANCE OF EXISITIG ANOTHER TYPE OF OBJECT TEHN WE SHOULD GO FOR INNER CLASSES\n",
    "# EX:\n",
    " #  class university:\n",
    "#       class department:\n",
    "\n",
    "# without exisitng of outer class object there is no chance of existing inner class object .inner class object is always associated with outer class object.\n"
   ]
  },
  {
   "cell_type": "markdown",
   "metadata": {},
   "source": [
    "### EXAMPLE"
   ]
  },
  {
   "cell_type": "code",
   "execution_count": 24,
   "metadata": {},
   "outputs": [
    {
     "name": "stdout",
     "output_type": "stream",
     "text": [
      "outer class object creation...\n",
      "inner class object creation..\n",
      "inner class object\n"
     ]
    }
   ],
   "source": [
    "class outer:\n",
    "    \n",
    "    def __init__(slef):\n",
    "        print(\"outer class object creation...\")\n",
    "        \n",
    "    class inner:\n",
    "        \n",
    "        def __init__(self):\n",
    "            print(\"inner class object creation..\")\n",
    "            \n",
    "        def m1(self):\n",
    "            print(\"inner class object\")\n",
    "            \n",
    "            \n",
    "o=outer()  # we are creatig outer class object first beacuse inner class depends on it ,absence of outer variable leads to disfunction of inner class\n",
    "i=o.inner() # this is how we define inner class object \n",
    "i.m1() # callinf inner class instance method in inner class object (can only be called if the inner object is creted beforhand)\n",
    "\n",
    "\n",
    "\n"
   ]
  },
  {
   "cell_type": "code",
   "execution_count": 25,
   "metadata": {},
   "outputs": [
    {
     "name": "stdout",
     "output_type": "stream",
     "text": [
      "outer class object creation...\n",
      "inner class object creation..\n",
      "inner class object\n",
      "outer class object creation...\n",
      "inner class object creation..\n",
      "inner class object\n"
     ]
    }
   ],
   "source": [
    "# shortcut to object creation \n",
    "class outer:\n",
    "    \n",
    "    def __init__(slef):\n",
    "        print(\"outer class object creation...\")\n",
    "        \n",
    "    class inner:\n",
    "        \n",
    "        def __init__(self):\n",
    "            print(\"inner class object creation..\")\n",
    "            \n",
    "        def m1(self):\n",
    "            print(\"inner class object\")\n",
    "            \n",
    "            \n",
    "i=outer().inner() # first creating outer object and then creating inner object \n",
    "i.m1() \n",
    "\n",
    "# second methos\n",
    "outer().inner().m1()  # no need of i "
   ]
  },
  {
   "cell_type": "code",
   "execution_count": 39,
   "metadata": {},
   "outputs": [
    {
     "name": "stdout",
     "output_type": "stream",
     "text": [
      "name is :  ISHU\n",
      "DOB=24/11/1998\n"
     ]
    }
   ],
   "source": [
    "class person:\n",
    "    def __init__(self,name,dd,mm,yyyy):\n",
    "        self.name=name\n",
    "        self.dob=self.DOB(dd,mm,yyyy)\n",
    "        \n",
    "    def display(self):\n",
    "        print(\"name is : \",self.name)\n",
    "        self.dob.display()\n",
    "        \n",
    "    class DOB:\n",
    "        def __init__(self,dd,mm,yyyy):\n",
    "            self.dd=dd\n",
    "            self.mm=mm\n",
    "            self.yyyy=yyyy\n",
    "        def display(self):\n",
    "            print(\"DOB={}/{}/{}\".format(self.dd,self.mm,self.yyyy))\n",
    "            \n",
    "p=person(\"ISHU\",24,11,1998)\n",
    "p.display()"
   ]
  },
  {
   "cell_type": "code",
   "execution_count": 45,
   "metadata": {},
   "outputs": [
    {
     "name": "stdout",
     "output_type": "stream",
     "text": [
      "Name is  ishu\n",
      "Talking...\n",
      "thinking\n"
     ]
    }
   ],
   "source": [
    "class human:\n",
    "    def __init__(self):\n",
    "        self.name=\"ishu\"\n",
    "        self.head=self.HEAD()\n",
    "        \n",
    "    def display(self):\n",
    "        print(\"Name is \",self.name)\n",
    "        self.head.talk()\n",
    "        self.head.brain.think()\n",
    "        \n",
    "    class HEAD:\n",
    "        def __init__(self):\n",
    "            self.brain=self.Brain()\n",
    "    \n",
    "        def talk(self):\n",
    "            print(\"Talking...\")\n",
    "\n",
    "        class Brain:\n",
    "            def think(self):\n",
    "                print(\"thinking\")\n",
    "        \n",
    "        \n",
    "h=human()\n",
    "h.display()"
   ]
  },
  {
   "cell_type": "markdown",
   "metadata": {},
   "source": [
    "### NESTED METHODS"
   ]
  },
  {
   "cell_type": "code",
   "execution_count": 50,
   "metadata": {},
   "outputs": [
    {
     "name": "stdout",
     "output_type": "stream",
     "text": [
      "first argument 10\n",
      "second argument 20\n",
      "sum is:  30\n",
      "the product is:  200\n",
      "********************\n",
      "first argument 100\n",
      "second argument 200\n",
      "sum is:  300\n",
      "the product is:  20000\n",
      "********************\n",
      "first argument 4000\n",
      "second argument 10000000\n",
      "sum is:  10004000\n",
      "the product is:  40000000000\n",
      "********************\n"
     ]
    }
   ],
   "source": [
    "# def m1():\n",
    "# xxxxx\n",
    "# xxxx\n",
    "# 1000 lines of code\n",
    "\n",
    "# the mehtod m1() have thousand line of code and we need to use it multiple times so we use nested methods\n",
    "# we define 1000 lines that we want as method m2() inside m1() and use m2 whenever code is required\n",
    "\n",
    "\n",
    "# def m1():\n",
    "#    def m2():\n",
    "#        xxxxx\n",
    "#        xxxx\n",
    "#        1000 lines of code\n",
    "#  m2()\n",
    "#  m2()\n",
    "\n",
    "# so inside a method we can declare one more method\n",
    "\n",
    "\n",
    "# example \n",
    "\n",
    "\n",
    "class test:\n",
    "    def m1(self):  # method 1\n",
    "        def sum(a,b):  # method 2\n",
    "            print(\"first argument\",a)\n",
    "            print(\"second argument\",b)\n",
    "            print(\"sum is: \",a+b)\n",
    "            print(\"the product is: \",a*b)\n",
    "            print(\"*\"*20)\n",
    "            \n",
    "        sum(10,20)\n",
    "        sum(100,200)\n",
    "        sum(4000,10000000)\n",
    "        \n",
    "t=test()\n",
    "t.m1()"
   ]
  },
  {
   "cell_type": "markdown",
   "metadata": {},
   "source": [
    "### GARBAGE COLLECTOR  # COMPLETE FROM YOUTUBE"
   ]
  },
  {
   "cell_type": "code",
   "execution_count": null,
   "metadata": {},
   "outputs": [],
   "source": [
    "# WITH OUR REQUREMET WE CAN ENABLE OR DISABLE THE GARBAGE COLLECTOR\n",
    "# by default GC is always enabled\n",
    "# Garbage collection is best example of demon thread (threads that always run in background)"
   ]
  },
  {
   "cell_type": "code",
   "execution_count": 59,
   "metadata": {},
   "outputs": [
    {
     "name": "stdout",
     "output_type": "stream",
     "text": [
      "True\n",
      "False\n",
      "True\n"
     ]
    }
   ],
   "source": [
    "import gc\n",
    "print(gc.isenabled())\n",
    "gc.disable()\n",
    "print(gc.isenabled())\n",
    "gc.enable()\n",
    "print(gc.isenabled())"
   ]
  },
  {
   "cell_type": "markdown",
   "metadata": {},
   "source": [
    "### DESTRUCTOR"
   ]
  },
  {
   "cell_type": "code",
   "execution_count": null,
   "metadata": {},
   "outputs": [],
   "source": [
    "# garbage collector calls destructor to perform cleanup activities\n",
    "#       __del__(self):    # this is a destructor\n",
    "     #close DB connection\n",
    "     # close network connection\n",
    "# wiht the help of destructior, GC before destroying the object it will ask destructor to colse the connections,do cleanup activities to save the program\n",
    "# called before objecr destruction\n",
    "# used to perform cleanup or resource deallocation activities\n",
    "# the purose of destructor is to destroy useless objects\n",
    "\n",
    "##### once destructor execution is complete then GC will destroy the object.\n",
    "#### if we are not writing destructor then what will happen\n",
    "#### if we are not writing destructor then object class destructor will be executed which will not do anything\n",
    "#### at the end of exectution all the objects that you created even of you didnt set some  objects for descructors the GC will destory all the object presnt in the program"
   ]
  },
  {
   "cell_type": "code",
   "execution_count": 62,
   "metadata": {},
   "outputs": [
    {
     "name": "stdout",
     "output_type": "stream",
     "text": [
      "object initialization....\n",
      "fulfilling last wish and performing cleanup activities...\n",
      "fulfilling last wish and performing cleanup activities...\n",
      "End of application\n"
     ]
    }
   ],
   "source": [
    "# example\n",
    "import time\n",
    "class test:\n",
    "    def __init__(self):\n",
    "        print(\"object initialization....\")\n",
    "    def __del__(self):\n",
    "        print(\"fulfilling last wish and performing cleanup activities...\")\n",
    "        \n",
    "t1=test()  # after this line GC will not delete t1 object\n",
    "t1=None  # after this line  gc will execute destructor and end the program\n",
    "time.sleep(10)\n",
    "print(\"End of application\")"
   ]
  },
  {
   "cell_type": "code",
   "execution_count": 63,
   "metadata": {},
   "outputs": [
    {
     "name": "stdout",
     "output_type": "stream",
     "text": [
      "object initialization....\n",
      "End of application\n"
     ]
    }
   ],
   "source": [
    "# example\n",
    "import time\n",
    "class test:\n",
    "    def __init__(self):\n",
    "        print(\"object initialization....\")\n",
    "    def __del__(self):\n",
    "        print(\"fulfilling last wish and performing cleanup activities...\")\n",
    "        \n",
    "t1=test()  # after this line GC will not delete t1 object\n",
    "\n",
    "time.sleep(10)\n",
    "print(\"End of application\")"
   ]
  },
  {
   "cell_type": "code",
   "execution_count": null,
   "metadata": {},
   "outputs": [],
   "source": []
  },
  {
   "cell_type": "code",
   "execution_count": null,
   "metadata": {},
   "outputs": [],
   "source": []
  },
  {
   "cell_type": "code",
   "execution_count": null,
   "metadata": {},
   "outputs": [],
   "source": []
  },
  {
   "cell_type": "code",
   "execution_count": null,
   "metadata": {},
   "outputs": [],
   "source": []
  },
  {
   "cell_type": "code",
   "execution_count": null,
   "metadata": {},
   "outputs": [],
   "source": []
  },
  {
   "cell_type": "code",
   "execution_count": null,
   "metadata": {},
   "outputs": [],
   "source": []
  },
  {
   "cell_type": "code",
   "execution_count": null,
   "metadata": {},
   "outputs": [],
   "source": []
  },
  {
   "cell_type": "code",
   "execution_count": null,
   "metadata": {},
   "outputs": [],
   "source": []
  }
 ],
 "metadata": {
  "kernelspec": {
   "display_name": "Python 3",
   "language": "python",
   "name": "python3"
  },
  "language_info": {
   "codemirror_mode": {
    "name": "ipython",
    "version": 3
   },
   "file_extension": ".py",
   "mimetype": "text/x-python",
   "name": "python",
   "nbconvert_exporter": "python",
   "pygments_lexer": "ipython3",
   "version": "3.7.1"
  }
 },
 "nbformat": 4,
 "nbformat_minor": 2
}
