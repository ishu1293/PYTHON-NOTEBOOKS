{
 "cells": [
  {
   "cell_type": "code",
   "execution_count": null,
   "metadata": {},
   "outputs": [],
   "source": [
    "#VOLTER RESGISTRATION SYSTEM\n",
    "NAME: STRING\n",
    "AGE:INTEGER\n",
    "DOB: STRING\n",
    "FATHER :STRING\n",
    "MOTHER:STRING\n",
    "ADDRESS:STRING\n",
    "HOUSE.NO: INTEGER\n",
    "STREET:STRING\n",
    "VILLAGE :STRING\n",
    "CITY:STRING\n",
    "MANDAL:STRING\n",
    "DISTRICT:STRING\n",
    "STATE:STRING\n",
    "AADHAR NO.:STRING\n",
    "\n",
    "IDENTIFICATION MARK1:STRING\n",
    "IDENTIFICATIONMARK 2:STRING\n",
    "#HERE WE HAVE 10 STRING OBJECT AND ONLY 2 NON STRING OBJECTS\n",
    "\n"
   ]
  },
  {
   "cell_type": "code",
   "execution_count": 1,
   "metadata": {},
   "outputs": [],
   "source": [
    "#STRING: ANY SEQUENCE OF CHARCATER IN SINGLE QUOTES IR DOUBLE QUOTES\n",
    "S='ISHU'\n",
    "S=\"ISHU\""
   ]
  },
  {
   "cell_type": "code",
   "execution_count": 8,
   "metadata": {},
   "outputs": [
    {
     "name": "stdout",
     "output_type": "stream",
     "text": [
      "<class 'str'>\n"
     ]
    }
   ],
   "source": [
    "#NOTE: #there is no char data type in python\n",
    "\n",
    "ch=\"a\"# in java single charcter is considered as char data type\n",
    "# but in python \"a\" is treated as string data type only\n",
    "print(type(ch))"
   ]
  },
  {
   "cell_type": "code",
   "execution_count": 2,
   "metadata": {},
   "outputs": [
    {
     "name": "stdout",
     "output_type": "stream",
     "text": [
      "MBA COURSE\n",
      "IS REALLY GOOD\n"
     ]
    }
   ],
   "source": [
    "#MULTILINE STRING LATERALS \n",
    "#WE NEED TO USE TRIPLE QUOTES TO MAKE MULTI-LINE STRING VALUES\n",
    " # WE CAN USE TRIPLE SINGLE QUOTES OR TRIPLE DOULE QUOTES TO MAKE MULTILINE STRING\n",
    "S=\"\"\"MBA COURSE\n",
    "IS REALLY GOOD\"\"\"\n",
    "print(S)"
   ]
  },
  {
   "cell_type": "code",
   "execution_count": 13,
   "metadata": {},
   "outputs": [
    {
     "ename": "SyntaxError",
     "evalue": "invalid syntax (<ipython-input-13-196a2c329e3d>, line 1)",
     "output_type": "error",
     "traceback": [
      "\u001b[1;36m  File \u001b[1;32m\"<ipython-input-13-196a2c329e3d>\"\u001b[1;36m, line \u001b[1;32m1\u001b[0m\n\u001b[1;33m    s='this is ' single quote symbol'\u001b[0m\n\u001b[1;37m                      ^\u001b[0m\n\u001b[1;31mSyntaxError\u001b[0m\u001b[1;31m:\u001b[0m invalid syntax\n"
     ]
    }
   ],
   "source": [
    "s='this is ' single quote symbol'\n",
    "print(s) "
   ]
  },
  {
   "cell_type": "code",
   "execution_count": null,
   "metadata": {},
   "outputs": [],
   "source": [
    "s=\"this is ' single quote symbol\" #use double quotes to enclose single quote\n",
    "print(s) "
   ]
  },
  {
   "cell_type": "code",
   "execution_count": null,
   "metadata": {},
   "outputs": [],
   "source": [
    "s='this is \\' single quote symbol'# use back slash to consider double quotes as symbol\n",
    "print(s) "
   ]
  },
  {
   "cell_type": "code",
   "execution_count": 14,
   "metadata": {},
   "outputs": [
    {
     "ename": "SyntaxError",
     "evalue": "invalid syntax (<ipython-input-14-94cb239c3dea>, line 1)",
     "output_type": "error",
     "traceback": [
      "\u001b[1;36m  File \u001b[1;32m\"<ipython-input-14-94cb239c3dea>\"\u001b[1;36m, line \u001b[1;32m1\u001b[0m\n\u001b[1;33m    s=\"this is \" double quote symbol\"\u001b[0m\n\u001b[1;37m                      ^\u001b[0m\n\u001b[1;31mSyntaxError\u001b[0m\u001b[1;31m:\u001b[0m invalid syntax\n"
     ]
    }
   ],
   "source": [
    "s=\"this is \" double quote symbol\"\n",
    "print(s)"
   ]
  },
  {
   "cell_type": "code",
   "execution_count": null,
   "metadata": {},
   "outputs": [],
   "source": [
    "s='this is \" double quote symbol'# use sinle quotes to enclose double quotes\n",
    "print(s)"
   ]
  },
  {
   "cell_type": "code",
   "execution_count": null,
   "metadata": {},
   "outputs": [],
   "source": [
    "s=\"this is \\\" double quote symbol\"# use \\ to enclose double quotes as symbol\n",
    "print(s)"
   ]
  },
  {
   "cell_type": "code",
   "execution_count": 15,
   "metadata": {},
   "outputs": [
    {
     "ename": "SyntaxError",
     "evalue": "invalid syntax (<ipython-input-15-3bcd0fb72e79>, line 1)",
     "output_type": "error",
     "traceback": [
      "\u001b[1;36m  File \u001b[1;32m\"<ipython-input-15-3bcd0fb72e79>\"\u001b[1;36m, line \u001b[1;32m1\u001b[0m\n\u001b[1;33m    s=\"this is \" double quotes symbol\"\u001b[0m\n\u001b[1;37m                      ^\u001b[0m\n\u001b[1;31mSyntaxError\u001b[0m\u001b[1;31m:\u001b[0m invalid syntax\n"
     ]
    }
   ],
   "source": [
    "s=\"this is \" double quotes symbol\"\n",
    "print(s)"
   ]
  },
  {
   "cell_type": "code",
   "execution_count": 16,
   "metadata": {},
   "outputs": [
    {
     "name": "stdout",
     "output_type": "stream",
     "text": [
      "this is \" double quotes symbol\n"
     ]
    }
   ],
   "source": [
    "s=\"\"\"this is ' double \" quotes symbol\"\"\" #we can use triple quotes to add doble and single quote in string\n",
    "print(s)"
   ]
  },
  {
   "cell_type": "code",
   "execution_count": 23,
   "metadata": {},
   "outputs": [
    {
     "name": "stdout",
     "output_type": "stream",
     "text": [
      "p\n",
      "y\n",
      "t\n",
      "h\n",
      "o\n",
      "n\n"
     ]
    }
   ],
   "source": [
    "#how to access character of the string\n",
    "#there sare two ways\n",
    "# 1.by using index\n",
    "#2.by using slice operator\n",
    "\n",
    "s=\"python\"\n",
    "print(s[0])\n",
    "print(s[-5])\n",
    "print(s[-4])\n",
    "print(s[-3])\n",
    "print(s[4])\n",
    "print(s[5])\n",
    "#positicve index is from left to right\n",
    "# negative index is from right to left\n",
    "\n",
    "# out of indexing we are gooing to get string index error\n"
   ]
  },
  {
   "cell_type": "code",
   "execution_count": 3,
   "metadata": {},
   "outputs": [
    {
     "name": "stdout",
     "output_type": "stream",
     "text": [
      "enter some string: ISHU\n",
      "the charcter present at positive index 0 and at negative index -4 is :I\n",
      "the charcter present at positive index 1 and at negative index -3 is :S\n",
      "the charcter present at positive index 2 and at negative index -2 is :H\n",
      "the charcter present at positive index 3 and at negative index -1 is :U\n"
     ]
    }
   ],
   "source": [
    "#write a program to accept some string from the keyboard and print all charcters with index alsp\n",
    "\n",
    "# how i can be able to do that ?\n",
    "\n",
    "# the charcater at +ve index is ths and at negative is this\n",
    "\n",
    "s=input(\"enter some string: \")\n",
    "i=0\n",
    "for x in s:\n",
    "    print(\"the charcter present at positive index {} and at negative index {} is :{}\".format(i,i-len(s),x))\n",
    "    i+=1"
   ]
  },
  {
   "cell_type": "code",
   "execution_count": 34,
   "metadata": {},
   "outputs": [
    {
     "name": "stdout",
     "output_type": "stream",
     "text": [
      "ishuloves python\n",
      "ishu ishu ishu ishu ishu \n"
     ]
    }
   ],
   "source": [
    "# slice operatorr\n",
    "#s[begin:end:step]\n",
    "\n",
    "#step value can be either postive or negative\n",
    "#if step value is positive==> forward direction\n",
    "#if steo value is begative==> backward direction\n",
    "#begin to end+1 the oly we get the last value\n",
    "\n",
    "#MATHEMATICAL OPERATORS FOR STRINGS\n",
    "#1.+,*\n",
    "\n",
    "s=\"ishu\"+\"loves python\"\n",
    "print(s)\n",
    "\n",
    "# for plus operator both arguments should be string only\n",
    "\n",
    "s=\"ishu \"*5\n",
    "print(s)# for star operator one argument should be int type"
   ]
  },
  {
   "cell_type": "code",
   "execution_count": 36,
   "metadata": {},
   "outputs": [
    {
     "data": {
      "text/plain": [
       "4"
      ]
     },
     "execution_count": 36,
     "metadata": {},
     "output_type": "execute_result"
    }
   ],
   "source": [
    "# how many cahrcters present in the string ,we can use inbuilt length function\n",
    "s=\"ishu\"\n",
    "len(s) # length function\n"
   ]
  },
  {
   "cell_type": "code",
   "execution_count": 9,
   "metadata": {},
   "outputs": [
    {
     "name": "stdout",
     "output_type": "stream",
     "text": [
      "enter some string: python\n",
      "data in foward direction\n",
      "pythondata in backward direction is\n",
      "nohtyp"
     ]
    }
   ],
   "source": [
    "# write a program to accesss each char of string in forward directiona BY USNG WHILE LOOP\n",
    "#  s=\"ishu\"\n",
    "#  s[:] ==> FORWARD DIRECTION\n",
    "#  S[:] ==> BACKWARD DIRECTION\n",
    "s=input(\"enter some string: \")\n",
    "n=len(s)\n",
    "i=0\n",
    "print(\"data in foward direction\")\n",
    "while i<n:\n",
    "    print(s[i],end='')\n",
    "    i+=1\n",
    "print(\"data in backward direction is\")\n",
    "i=n-1\n",
    "while i>=0:\n",
    "    print(s[i],end=\"\")\n",
    "    i=i-1"
   ]
  },
  {
   "cell_type": "code",
   "execution_count": 5,
   "metadata": {},
   "outputs": [
    {
     "name": "stdout",
     "output_type": "stream",
     "text": [
      "enter some stringpython\n",
      "data in foward direction\n",
      "python data in backward direction is\n",
      "nohtypnohtyp"
     ]
    }
   ],
   "source": [
    "s=input(\"enter some string\")\n",
    "n=len(s)\n",
    "i=0\n",
    "print(\"data in foward direction\")\n",
    "while i<n:\n",
    "    print(s[i],end='')\n",
    "    i+=1\n",
    "print(\" data in backward direction is\")\n",
    "i=n-1\n",
    "while i>=0:\n",
    "    print(s[i],end=\"\")\n",
    "    i=i-1\n",
    "    print(end=\"\")\n",
    "while i>=-n:\n",
    "    print(s[i],end='')\n",
    "    i=i-1"
   ]
  },
  {
   "cell_type": "code",
   "execution_count": null,
   "metadata": {},
   "outputs": [],
   "source": [
    "# to remove duplicate character from string\n",
    "#s=\"missisipi\"\n",
    "#output=misp\n",
    "\n",
    "# each cahrcater how many time its presenting\n",
    "m==>1\n",
    "i==>4\n",
    "s==>4\n",
    "p==>2\n",
    "\n",
    "3.Durga Software Solutons\n",
    "\n",
    "reverse:agruD erawtfoS snotuloS"
   ]
  },
  {
   "cell_type": "code",
   "execution_count": 7,
   "metadata": {},
   "outputs": [
    {
     "name": "stdout",
     "output_type": "stream",
     "text": [
      "True\n",
      "False\n"
     ]
    }
   ],
   "source": [
    "# membership operators\n",
    "## in and not in\n",
    "\n",
    "s=\"durga\"\n",
    "print(\"d\" in s)\n",
    "print(\"z\" in s)"
   ]
  },
  {
   "cell_type": "code",
   "execution_count": 9,
   "metadata": {},
   "outputs": [
    {
     "name": "stdout",
     "output_type": "stream",
     "text": [
      "enter main stringi love python\n",
      "enter substring to search:pyt\n",
      "pyt is found in main string\n"
     ]
    }
   ],
   "source": [
    "#write  aprogram to read mainstring and substring alsoi and program have to check weatehr it is available or not\n",
    "\n",
    "s=input(\"enter main string\")\n",
    "subs=input(\"enter substring to search:\")\n",
    "if subs in s:\n",
    "    print(subs,\"is found in main string\")\n",
    "else:\n",
    "    print(subs,\"is not found in main string\")"
   ]
  },
  {
   "cell_type": "code",
   "execution_count": null,
   "metadata": {},
   "outputs": [],
   "source": [
    "# comparasion oprators\n",
    "\n",
    ">,>=,<,<=\n",
    "\n",
    "#equality operators we can apply\n",
    "==,!=\n",
    "\n",
    "# these operators alyways going to check alphabetical order \n",
    "# or unicode\n",
    "\n",
    "#a==> 97\n",
    "#A==>65\n",
    "# so by unicode a>A .\n",
    "\n"
   ]
  },
  {
   "cell_type": "code",
   "execution_count": 1,
   "metadata": {},
   "outputs": [
    {
     "name": "stdout",
     "output_type": "stream",
     "text": [
      "enter first stringdurga\n",
      "enter second stringnaseer\n",
      "first string is smaller\n"
     ]
    }
   ],
   "source": [
    "# Write a program to check if the given two string is equal or not\n",
    "#if not equal which is bigger which one is smaller\n",
    "##\"durga\" =\"durga\"\n",
    "####\"zeenu\" >\"durga\"\n",
    "\n",
    "s1=input(\"enter first string\")\n",
    "s2=input(\"enter second string\")\n",
    "if s1==s2:         ## == is used for \"content comparison\" is operator is used for address comparison \"refrence comrasion\"          \n",
    "    print(\"both the string are EQUAL\")\n",
    "elif s1<s2:\n",
    "    print(\"FIRST string is SMALLER\")\n",
    "else:\n",
    "    print(\"SECOND strign is BIGGER\")\n",
    "    "
   ]
  },
  {
   "cell_type": "code",
   "execution_count": 4,
   "metadata": {},
   "outputs": [
    {
     "name": "stdout",
     "output_type": "stream",
     "text": [
      "enter first string: zeenu\n",
      "enter second string: durga\n",
      "SECOND strign is BIGGER\n"
     ]
    }
   ],
   "source": [
    "\n",
    "s1=input(\"enter first string: \")\n",
    "s2=input(\"enter second string: \")\n",
    "if s1==s2:         ## == is used for \"content comparison\" is operator is used for address comparison \"refrence comrasion\"          \n",
    "    print(\"both the string are EQUAL\")\n",
    "elif s1<s2:\n",
    "    print(\"FIRST string is SMALLER\")\n",
    "else:\n",
    "    print(\"SECOND strign is BIGGER\")\n",
    "    "
   ]
  },
  {
   "cell_type": "code",
   "execution_count": 5,
   "metadata": {},
   "outputs": [
    {
     "name": "stdout",
     "output_type": "stream",
     "text": [
      "enter first string DUrga\n",
      "enter second string durga\n",
      "FIRST string is SMALLER\n"
     ]
    }
   ],
   "source": [
    "\n",
    "s1=input(\"enter first string \")\n",
    "s2=input(\"enter second string \")\n",
    "if s1==s2:         ## == is used for \"content comparison\" is operator is used for address comparison \"refrence comrasion\"          \n",
    "    print(\"both the string are EQUAL\")\n",
    "elif s1<s2:\n",
    "    print(\"FIRST string is SMALLER\")\n",
    "else:\n",
    "    print(\"SECOND strign is BIGGER\")\n",
    "    "
   ]
  },
  {
   "cell_type": "code",
   "execution_count": 6,
   "metadata": {},
   "outputs": [
    {
     "name": "stdout",
     "output_type": "stream",
     "text": [
      "enter first string: ramaya\n",
      "enter second string: ramulamma\n",
      "FIRST string is SMALLER\n"
     ]
    }
   ],
   "source": [
    "s1=input(\"enter first string: \")\n",
    "s2=input(\"enter second string: \")\n",
    "if s1==s2:         ## == is used for \"content comparison\" is operator is used for address comparison \"refrence comrasion\"          \n",
    "    print(\"both the string are EQUAL\")\n",
    "elif s1<s2:\n",
    "    print(\"FIRST string is SMALLER\")\n",
    "else:\n",
    "    print(\"SECOND strign is BIGGER\")"
   ]
  },
  {
   "cell_type": "code",
   "execution_count": 17,
   "metadata": {},
   "outputs": [
    {
     "name": "stdout",
     "output_type": "stream",
     "text": [
      "False\n",
      "2890189359304\n",
      "2890190811336\n",
      "True\n",
      "2890190811336\n",
      "2890190811336\n",
      "False\n",
      "True\n"
     ]
    }
   ],
   "source": [
    "#  == operator and is operator\n",
    "\n",
    "l1=[\"A\",\"B\",\"C\"]\n",
    "l2=[\"A\",\"B\",\"C\"]\n",
    "\n",
    "print(l1 is l2) ## answer is false beacuse only undametal datatype use same obkect for multiple refrence other than that it use differnt object\n",
    "print(id(l1))\n",
    "print(id(l2))\n",
    "\n",
    "print(l1==l2)  #true because content is same\n",
    "\n",
    "l3=l2\n",
    "print(id(l2))\n",
    "print(id(l3))\n",
    "print(l1 is l2)\n",
    "print(l2 is l3) ## Answer is True"
   ]
  },
  {
   "cell_type": "code",
   "execution_count": 14,
   "metadata": {},
   "outputs": [
    {
     "name": "stdout",
     "output_type": "stream",
     "text": [
      "Enter your city name:Hyderabad\n",
      "Your city is available\n"
     ]
    }
   ],
   "source": [
    "city=input(\"Enter your city name:\")\n",
    "list=[\"Hyderabad\",\"Delhi\",\"Mumbai\",\"Banglore\"]\n",
    "if city in list:\n",
    "    print(\"Your city is available\")\n",
    "else:\n",
    "    print(\"City name not valid\")## here we added input with two spaces in beginning"
   ]
  },
  {
   "cell_type": "code",
   "execution_count": 21,
   "metadata": {},
   "outputs": [
    {
     "name": "stdout",
     "output_type": "stream",
     "text": [
      "Enter your city name:  Hyderabad\n",
      "Your city is available\n"
     ]
    }
   ],
   "source": [
    "############# TO REMOVE SPACES IN STRING ############\n",
    "\n",
    "\n",
    "##strip() method   # removes space at start &  at end of string.\n",
    "##rstrip() method  # r means right this removes space at right of the string.\n",
    "##lstrip() method  # l means left this removes spaces at beginning of string.\n",
    "\n",
    "\n",
    "city=input(\"Enter your city name:\")\n",
    "list=[\"Hyderabad\",\"Delhi\",\"Mumbai\",\"Banglore\"]\n",
    "if city.lstrip() in list:\n",
    "    print(\"Your city is available\")\n",
    "else:\n",
    "    print(\"City name not valid\")"
   ]
  },
  {
   "cell_type": "code",
   "execution_count": 6,
   "metadata": {},
   "outputs": [
    {
     "name": "stdout",
     "output_type": "stream",
     "text": [
      "enter main string:godislove\n",
      "enter substring:love\n",
      "Found at index: 5\n",
      "the number of occurance 1\n"
     ]
    }
   ],
   "source": [
    "s=input(\"enter main string:\")\n",
    "subs=input(\"enter substring:\")\n",
    "flag=False\n",
    "pos=-1\n",
    "n=len(s)\n",
    "count=0\n",
    "while True:\n",
    "    pos=s.find(subs,pos+1,n)\n",
    "    if pos==-1:\n",
    "        break\n",
    "    print(\"Found at index:\",pos)\n",
    "    flag=True\n",
    "    count=count+1\n",
    "if flag==False:\n",
    "    print(\"not found\")\n",
    "print(\"the number of occurance\",count)"
   ]
  },
  {
   "cell_type": "code",
   "execution_count": 10,
   "metadata": {},
   "outputs": [
    {
     "name": "stdout",
     "output_type": "stream",
     "text": [
      "13\n",
      "10\n",
      "29\n"
     ]
    }
   ],
   "source": [
    "#count substring in given string  \n",
    "#1 s.count(\"substring\")\n",
    "#2 s.count(\"substring\",begin,end-1)\n",
    "a=\"abbabbabbbbabbbabaabaaaaaabbb\"\n",
    "print(a.count(\"a\"))  ## count method to count  substring\n",
    "\n",
    "print(a.count(\"a\",8,len(a)))\n",
    "print(len(a))"
   ]
  },
  {
   "cell_type": "code",
   "execution_count": 11,
   "metadata": {},
   "outputs": [
    {
     "name": "stdout",
     "output_type": "stream",
     "text": [
      "learning python is very difficult\n",
      "learning python is very easy\n"
     ]
    }
   ],
   "source": [
    "#REPLACING SUBSTRING WITH ANOTHER STRING\n",
    "#s.replace(oldstring,newstring)\n",
    "\n",
    "s=\"learning python is very difficult\"\n",
    "print(s)\n",
    "s=s.replace(\"difficult\",\"easy\")\n",
    "print(s)\n",
    "\n",
    "#whenever we are calling replace function existing oject will not be converted new object will be created and it will be changed"
   ]
  },
  {
   "cell_type": "code",
   "execution_count": 27,
   "metadata": {},
   "outputs": [
    {
     "name": "stdout",
     "output_type": "stream",
     "text": [
      "['learning', 'python', 'is', 'very', 'difficult']\n"
     ]
    }
   ],
   "source": [
    "#SPLITITNG THE STRING ACCORDING TO GIVEN OPERATOR\n",
    "s=\"learning python is very difficult\"\n",
    "print(s.split()) ## return form is list"
   ]
  },
  {
   "cell_type": "code",
   "execution_count": 19,
   "metadata": {},
   "outputs": [
    {
     "name": "stdout",
     "output_type": "stream",
     "text": [
      "learning\n",
      "python\n",
      "is\n",
      "very\n",
      "difficult\n",
      "['learning', 'python', 'is', 'very difficult']\n",
      "['learning python', 'is', 'very', 'difficult']\n"
     ]
    }
   ],
   "source": [
    "s=\"learning python is very difficult\"\n",
    "l=s.split()\n",
    "for x in l:\n",
    "    print(x)## output one by one\n",
    "m=s.split(\" \",3)\n",
    "n=s.rsplit(\" \",3)\n",
    "print(m)\n",
    "print(n)\n"
   ]
  },
  {
   "cell_type": "code",
   "execution_count": 16,
   "metadata": {},
   "outputs": [
    {
     "name": "stdout",
     "output_type": "stream",
     "text": [
      "02\n",
      "21\n",
      "2018\n"
     ]
    }
   ],
   "source": [
    "s=\"02-21-2018\"\n",
    "l=s.split(\"-\")  #operator as split input\n",
    "for x in l:\n",
    "    print(x)"
   ]
  },
  {
   "cell_type": "code",
   "execution_count": 23,
   "metadata": {},
   "outputs": [
    {
     "name": "stdout",
     "output_type": "stream",
     "text": [
      "python-is-love\n"
     ]
    }
   ],
   "source": [
    "##join() only used for list or tuple \n",
    "\n",
    "l=[\"python\",\"is\",\"love\"]\n",
    "s=\"-\".join(l)\n",
    "print(s)"
   ]
  },
  {
   "cell_type": "code",
   "execution_count": 46,
   "metadata": {},
   "outputs": [
    {
     "name": "stdout",
     "output_type": "stream",
     "text": [
      "THE PYTON CLASS IN MBA ARE GREAT\n",
      "the pyton class in mba are great\n",
      "tHE pYTON cLASS iN mba aRE gREAT\n",
      "The Pyton Class In Mba Are Great\n",
      "The pyton class in mba are great\n",
      "True\n",
      "True\n",
      "taerG erA ABM nI ssalC notyP ehT\n",
      "4\n"
     ]
    }
   ],
   "source": [
    "s=\"The Pyton Class In MBA Are Great\"\n",
    "print(s.upper())\n",
    "print(s.lower())\n",
    "print(s.swapcase())\n",
    "print(s.title())\n",
    "print(s.capitalize())\n",
    "print(s.startswith(\"The\"))\n",
    "print(s.endswith(\"Great\"))\n",
    "print(s[::-1])\n",
    "print(s.index(\"P\"))"
   ]
  },
  {
   "cell_type": "markdown",
   "metadata": {},
   "source": [
    "CAHRACATERS AT EVEN OR ODD PISITON"
   ]
  },
  {
   "cell_type": "code",
   "execution_count": 1,
   "metadata": {},
   "outputs": [
    {
     "name": "stdout",
     "output_type": "stream",
     "text": [
      "Enter a String:ishu\n",
      "Characaters at Even Position: ih\n",
      "Characaters at odd position: su\n"
     ]
    }
   ],
   "source": [
    "s=input(\"Enter a String:\")\n",
    "print(\"Characaters at Even Position:\",s[::2])\n",
    "print(\"Characaters at odd position:\",s[1::2])"
   ]
  },
  {
   "cell_type": "code",
   "execution_count": 5,
   "metadata": {},
   "outputs": [
    {
     "name": "stdout",
     "output_type": "stream",
     "text": [
      "enter the string:ishu\n",
      "The Chatacters at Even Position:\n",
      "i,h,The Chatacters at ODD Position:\n",
      "s,u,"
     ]
    }
   ],
   "source": [
    "s=input(\"enter the string:\")\n",
    "i=0\n",
    "print(\"The Chatacters at Even Position:\")\n",
    "while i<len(s):\n",
    "    print(s[i],end=\",\")\n",
    "    i=i+2\n",
    "print(\"The Chatacters at ODD Position:\")\n",
    "i=1\n",
    "while i<len(s):\n",
    "    print(s[i],end=\",\")\n",
    "    i=i+2"
   ]
  },
  {
   "cell_type": "code",
   "execution_count": 11,
   "metadata": {},
   "outputs": [
    {
     "name": "stdout",
     "output_type": "stream",
     "text": [
      "Enter some String:3a5r6y\n",
      "ary356\n"
     ]
    }
   ],
   "source": [
    "# INPUT:B4A1D3\n",
    "# OUTPUT:ABD134\n",
    "\n",
    "s=input(\"Enter some String:\")\n",
    "s1=s2=output=\"\"\n",
    "for i in s:\n",
    "    if i.isalpha():\n",
    "        s1=s1+i\n",
    "    else:\n",
    "        s2=s2+i\n",
    "for x in sorted(s1):\n",
    "    output=output+x\n",
    "for x in sorted(s2):\n",
    "    output=output+x\n",
    "print(output)"
   ]
  },
  {
   "cell_type": "code",
   "execution_count": 16,
   "metadata": {},
   "outputs": [
    {
     "name": "stdout",
     "output_type": "stream",
     "text": [
      "enter some string:a4\n",
      "aaaa\n"
     ]
    }
   ],
   "source": [
    "# input a2b4c5\n",
    "# output aabbbbccccc\n",
    "s=input(\"enter some string:\")\n",
    "output=\"\"\n",
    "for x in s:\n",
    "    if x.isalpha():\n",
    "        output=output+x\n",
    "        previous=x\n",
    "    else:\n",
    "        output=output+previous*(int(x)-1)\n",
    "print(output)"
   ]
  },
  {
   "cell_type": "code",
   "execution_count": 18,
   "metadata": {},
   "outputs": [
    {
     "name": "stdout",
     "output_type": "stream",
     "text": [
      "Enter some string:a2d4\n",
      "acdh\n"
     ]
    }
   ],
   "source": [
    "s=input(\"Enter some string:\")\n",
    "output=\"\"\n",
    "for x in s:\n",
    "    if x.isalpha():\n",
    "        output=output+x\n",
    "        previous=x\n",
    "    else:\n",
    "        newchar=chr(ord(previous)+int(x))\n",
    "        output=output+newchar\n",
    "print(output)"
   ]
  },
  {
   "cell_type": "code",
   "execution_count": 19,
   "metadata": {},
   "outputs": [
    {
     "name": "stdout",
     "output_type": "stream",
     "text": [
      "enter first string:ravi\n",
      "enter second string:teja\n",
      "rtaevjia\n"
     ]
    }
   ],
   "source": [
    "#inptu :RAVI ,TEJA\n",
    "#OUTPUT:RTAECJIA\n",
    "\n",
    "s1=input(\"enter first string:\")\n",
    "s2=input(\"enter second string:\")\n",
    "output=\"\"\n",
    "i=j=0\n",
    "while i<len(s1) or j<len(s2):\n",
    "    output=output+s1[i]+s2[j]\n",
    "    i=i+1\n",
    "    j=j+1\n",
    "print(output)"
   ]
  },
  {
   "cell_type": "code",
   "execution_count": 21,
   "metadata": {},
   "outputs": [
    {
     "name": "stdout",
     "output_type": "stream",
     "text": [
      "enter first string:ravisolution\n",
      "enter second string:teja\n",
      "rt\n",
      "rtae\n",
      "rtaevj\n",
      "rtaevjia\n",
      "rtaevjias\n",
      "rtaevjiaso\n",
      "rtaevjiasol\n",
      "rtaevjiasolu\n",
      "rtaevjiasolut\n",
      "rtaevjiasoluti\n",
      "rtaevjiasolutio\n",
      "rtaevjiasolution\n"
     ]
    }
   ],
   "source": [
    "s1=input(\"enter first string:\")\n",
    "s2=input(\"enter second string:\")\n",
    "output=\"\"\n",
    "i=j=0\n",
    "while i<len(s1) or j<len(s2):\n",
    "    if i<len(s1):\n",
    "        output=output+s1[i]\n",
    "        i=i+1\n",
    "    if j<len(s2):\n",
    "        output=output+s2[j]\n",
    "        j=j+1\n",
    "    print(output)"
   ]
  }
 ],
 "metadata": {
  "kernelspec": {
   "display_name": "Python 3",
   "language": "python",
   "name": "python3"
  },
  "language_info": {
   "codemirror_mode": {
    "name": "ipython",
    "version": 3
   },
   "file_extension": ".py",
   "mimetype": "text/x-python",
   "name": "python",
   "nbconvert_exporter": "python",
   "pygments_lexer": "ipython3",
   "version": "3.7.1"
  }
 },
 "nbformat": 4,
 "nbformat_minor": 2
}
